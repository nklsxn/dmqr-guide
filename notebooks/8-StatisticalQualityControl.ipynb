{
 "cells": [
  {
   "attachments": {
    "index.png": {
     "image/png": "[encoded data removed]"
    }
   },
   "cell_type": "markdown",
   "id": "db362c43",
   "metadata": {},
   "source": [
    "<center>\n",
    "<div style=\"max-width:400px;\">\n",
    "\n",
    "![index.png](attachment:index.png)\n",
    "\n",
    "</div>\n",
    "</center>\n",
    "\n",
    "# Statistical Process Control Notebook\n",
    "\n",
    "**Prof. Kevin Otto and Nikolas Crossan**  \n",
    "The University of Melbourne  \n",
    "Department of Mechanical Engineering\n",
    "\n",
    "----------------------------------------------------------------------------\n",
    "\n",
    "This notebook demonstrates computing statistical process control charts.  \n",
    "\n",
    "This notebook relies on the `mqrpy` code library, found at https://pypi.org/project/mqrpy/"
   ]
  },
  {
   "cell_type": "code",
   "execution_count": null,
   "id": "414337e5",
   "metadata": {},
   "outputs": [],
   "source": [
    "import numpy as np\n",
    "import pandas as pd\n",
    "import scipy\n",
    "import matplotlib.pyplot as plt\n",
    "\n",
    "import mqr\n",
    "from mqr.plot import Figure\n",
    "\n",
    "from importlib.metadata import version\n",
    "print('MQR version', version('mqrpy'))\n",
    "print('Numpy version ', version('numpy'))\n",
    "print('Scipy version ', version('scipy'))\n",
    "print('Pandas version ', version('pandas'))"
   ]
  },
  {
   "cell_type": "markdown",
   "id": "fa42111d",
   "metadata": {},
   "source": [
    "---------------------------------------------------------------------------------------------------------------------\n",
    "## 1. Xbar R-Charts\n",
    "\n",
    "Read in time series samples of measurements.  "
   ]
  },
  {
   "cell_type": "code",
   "execution_count": null,
   "id": "67fe9151",
   "metadata": {},
   "outputs": [],
   "source": [
    "df = pd.read_csv(mqr.sample_data('spc.csv'))\n",
    "n_samples, sample_size = df.shape\n",
    "print('Number of SPC samples:', n_samples)\n",
    "print('Sample size:', sample_size)\n",
    "df.head()"
   ]
  },
  {
   "cell_type": "markdown",
   "id": "baee5112",
   "metadata": {},
   "source": [
    "Define the mean and range averages to be used.  If unknown, use the data means.  If known, enter as constants.  \n",
    "\n",
    "Typically they are known, and now you are checking for a shift in production with a new sample you want to add to the SPC chart.  \n",
    "\n",
    "Atypically, you do not know as this is a new production startup and so data is collected to initialize.  This should be for a large number of samples.  \n",
    "\n",
    "If the historical range $\\bar{R}$ for a sample size is not know but the standard deviation $s$ is, the historical range for a sample size of $n$ is\n",
    "$$\n",
    "    \\bar{R} = s * d2[n]\n",
    "$$\n"
   ]
  },
  {
   "cell_type": "markdown",
   "id": "a49b510f",
   "metadata": {},
   "source": [
    "Compute upper and lower control limits."
   ]
  },
  {
   "cell_type": "code",
   "execution_count": null,
   "id": "3f7cdc4c-da2f-4c8a-a9c3-d9a43836fb5c",
   "metadata": {},
   "outputs": [],
   "source": [
    "mean_hist = 10.0\n",
    "std_hist = 0.002\n",
    "range_hist = 0.002 * mqr.spc.util.d2(sample_size)\n",
    "\n",
    "x_params = mqr.spc.XBarParams.from_range(mean_hist, range_hist, sample_size)\n",
    "r_params = mqr.spc.RParams.from_range(range_hist, sample_size)\n",
    "\n",
    "# If using stddev:\n",
    "# x_params = mqr.spc.XBarParams(mean_hist, std_hist)\n",
    "# s_params = mqr.spc.SParams(std_hist)\n",
    "\n",
    "# If the historical mean and sigma are unknown, create the params from data\n",
    "# x_params = mqr.spc.XBarParams.from_data(df)\n",
    "# s_params = mqr.spc.SParams.from_data(df)"
   ]
  },
  {
   "cell_type": "markdown",
   "id": "2a901d50",
   "metadata": {},
   "source": [
    "Now create the graphs."
   ]
  },
  {
   "cell_type": "code",
   "execution_count": null,
   "id": "42e9519e-e126-4cd5-b98d-21e2aa74c1c0",
   "metadata": {},
   "outputs": [],
   "source": [
    "with Figure(6, 5, 2, 1) as (fig, axs):\n",
    "    mqr.plot.spc.chart(x_params.statistic(df), x_params, ax=axs[0])\n",
    "    mqr.plot.spc.chart(r_params.statistic(df), r_params, ax=axs[1])"
   ]
  },
  {
   "attachments": {},
   "cell_type": "markdown",
   "id": "c2d11c40",
   "metadata": {},
   "source": [
    "Now suppose another datapoint is added, the sample:\n",
    "\n",
    "10.0019\t10.0027\t10.0038\t10.0036\t9.9973\t10.0037\t10.0028\t10.0017\n",
    "\n",
    "Append this as a row and recalculate the charts. Note that the historical values have not changed."
   ]
  },
  {
   "cell_type": "code",
   "execution_count": null,
   "id": "a9d32c2d-149c-4404-8e54-7ba03d75e7d2",
   "metadata": {},
   "outputs": [],
   "source": [
    "df.loc[len(df)] = [10.0019, 10.0027, 10.0038, 10.0036, 9.9973, 10.0037, 10.0028, 10.0017]"
   ]
  },
  {
   "cell_type": "markdown",
   "id": "b66e8bad",
   "metadata": {},
   "source": [
    "Now redo."
   ]
  },
  {
   "cell_type": "code",
   "execution_count": null,
   "id": "b695d891",
   "metadata": {},
   "outputs": [],
   "source": [
    "sample_size, n_samples = df.shape\n",
    "print('Number of SPC samples:', n_samples)\n",
    "print('Sample size:', sample_size)"
   ]
  },
  {
   "cell_type": "code",
   "execution_count": null,
   "id": "734defe3",
   "metadata": {},
   "outputs": [],
   "source": [
    "with Figure(6, 5, 2, 1) as (fig, axs):\n",
    "    mqr.plot.spc.chart(x_params.statistic(df), x_params, ax=axs[0])\n",
    "    mqr.plot.spc.chart(r_params.statistic(df), r_params, ax=axs[1])"
   ]
  },
  {
   "cell_type": "markdown",
   "id": "a93b5ed3-a275-43b0-9ab4-1f8b7e721696",
   "metadata": {},
   "source": [
    "Here we see the $\\bar{x}$ chart has gone out of control for one data point.\n",
    "\n",
    "---------------------------------------------------------------------------------------------------\n",
    "\n",
    "## 2. Adding alarms to the plots\n",
    "\n",
    "Use the `mqr.plot.spc.alarms` to add alarms to the chart when out of control.  Alarm points are marked two ways:\n",
    "- a marker (a red dot by default) drawn over the statistic point, and\n",
    "- a region of colour (red by default) showing the span of alarmed points.\n"
   ]
  },
  {
   "cell_type": "code",
   "execution_count": null,
   "id": "4150df80-fefa-4fd8-b7d2-ce094e81c7d9",
   "metadata": {},
   "outputs": [],
   "source": [
    "with Figure(6, 5, 2, 1) as (fig, axs):\n",
    "    mqr.plot.spc.chart(x_params.statistic(df), x_params, ax=axs[0])\n",
    "    mqr.plot.spc.chart(r_params.statistic(df), r_params, ax=axs[1])\n",
    "\n",
    "    # Alarms - note the range data does not trigger an alarm\n",
    "    mqr.plot.spc.alarms(x_params.statistic(df), x_params, mqr.spc.rules.limits(), ax=axs[0])\n",
    "    mqr.plot.spc.alarms(r_params.statistic(df), r_params, mqr.spc.rules.limits(), ax=axs[1])"
   ]
  }
 ],
 "metadata": {
  "kernelspec": {
   "display_name": "Python 3 (ipykernel)",
   "language": "python",
   "name": "python3"
  },
  "language_info": {
   "codemirror_mode": {
    "name": "ipython",
    "version": 3
   },
   "file_extension": ".py",
   "mimetype": "text/x-python",
   "name": "python",
   "nbconvert_exporter": "python",
   "pygments_lexer": "ipython3",
   "version": "3.12.4"
  }
 },
 "nbformat": 4,
 "nbformat_minor": 5
}
