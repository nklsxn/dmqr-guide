{
 "cells": [
  {
   "attachments": {
    "index.png": {
     "image/png": "[encoded data removed]"
    }
   },
   "cell_type": "markdown",
   "id": "503b09f6",
   "metadata": {},
   "source": [
    "<center>\n",
    "<div style=\"max-width:400px;\">\n",
    "\n",
    "![index.png](attachment:index.png)\n",
    "\n",
    "</div>\n",
    "</center>\n",
    "\n",
    "# Hypothesis Testing Notebook\n",
    "\n",
    "**Prof. Kevin Otto and Nikolas Crossan**  \n",
    "The University of Melbourne  \n",
    "Department of Mechanical Engineering\n",
    "\n",
    "----------------------------------------------------------------------------\n",
    "\n",
    "Herein are code blocks on hypothesis tests.  This includes \n",
    "1. parametric hypothesis tests,\n",
    "2. sample size calculators, and\n",
    "3. non-parametric statistical tests.\n",
    "\n",
    "This notebook relies on the `mqr-quality` code library, found at https://pypi.org/project/mqr-quality/"
   ]
  },
  {
   "cell_type": "code",
   "execution_count": null,
   "id": "ee5d10a3-34ec-4fab-b990-24d6e468751d",
   "metadata": {},
   "outputs": [],
   "source": [
    "import mqr\n",
    "from mqr.plot import Figure\n",
    "import mqr.nbtools as nb\n",
    "from mqr.nbtools import hstack, vstack, Line\n",
    "\n",
    "import numpy as np\n",
    "import pandas as pd\n",
    "import seaborn as sns\n",
    "\n",
    "\n",
    "from importlib.metadata import version\n",
    "print('MQR version', version('mqr-quality'))\n",
    "print('Numpy version ', version('numpy'))\n",
    "print('Scipy version ', version('scipy'))\n",
    "print('Pandas version ', version('pandas'))\n",
    "print('Seaborn version ', version('seaborn'))"
   ]
  },
  {
   "cell_type": "markdown",
   "id": "60041bb0",
   "metadata": {},
   "source": [
    "# 1.0 Hypothesis Tests\n",
    "\n",
    "The following hypothesis tests are demonstrated.\n",
    "\n",
    "\n",
    "| Test        | Purpose | Null | MQR Library                |\n",
    "|-------------|:-------:|:----:|:---------------------------|\n",
    "| Anderson Darling | Data follows a distribution | follows | mqr.inference.dist.test_1sample |\n",
    "| One Sample Z-test | Mean vs a target | $$ \\mu = \\mu_0 $$ | mqr.inference.mean.test_1sample |\n",
    "| One Sample t-test | Mean vs a target | $$ \\mu = \\mu_0 $$ | mqr.inference.mean.test_1sample |\n",
    "| One Sample $\\chi^2$-test | Sigma vs a target | $$ \\sigma = \\sigma_0 $$ | mqr.inference.variance.test_1sample |\n",
    "| Two Sample $F$-test | Two variances | $$ \\sigma^2_1 = \\sigma^2_2 $$ | mqr.inference.variance.test_2sample |\n",
    "| Paired $t$-test | Two means of paired data | $$ \\mu = \\mu' $$ | mqr.inference.mean.test_paired |\n",
    "| Two Sample $t$-test | Two means | $$ \\mu_1 = \\mu_2 $$ | mqr.inference.mean.test_2sample |\n",
    "| One Sample Proportion test | Proportion vs a target | $$ \\pi = \\pi_0 $$ | mqr.inference.proportion.test_1sample |\n",
    "| Two Sample Proportion test | Two Proportions | $$ \\pi_1 = \\pi_2 $$ | mqr.inference.proportion.test_2sample |\n",
    "| One Sample Rate test | Rate vs a target | $$ \\rho = \\rho_0 $$ | mqr.inference.rate.test_1sample |\n",
    "| Two Sample Rate test | Two Rates | $$ \\rho_1 = \\rho_2 $$ | mqr.inference.rate.test_1sample |\n"
   ]
  },
  {
   "cell_type": "markdown",
   "id": "d3c1d595",
   "metadata": {},
   "source": [
    "---------------------------------------------------------------------------------------------------\n",
    "## 1.1 Normality Test\n",
    "\n",
    "Computes the Anderson Darling normality test.  Below is lamp efficiency data from a sample of electric lamps.  Is the population from which the sample is draw normally distributed?  The `mqr.inference.dist` has the code for testing distributions."
   ]
  },
  {
   "cell_type": "code",
   "execution_count": null,
   "id": "bf4b5abc-eb85-4c08-8357-087b5f82be3c",
   "metadata": {},
   "outputs": [],
   "source": [
    "data = np.array([\n",
    "    86.4, 86.3, 86.8, 86.4, 86.6, 86.7, 86.0, 86.6, 86.2, 86.3\n",
    "    ])\n",
    "\n",
    "mqr.inference.dist.test_1sample(data, 'ad-norm')"
   ]
  },
  {
   "cell_type": "markdown",
   "id": "ff083152-709f-450a-81ac-c1908bb7a328",
   "metadata": {},
   "source": [
    "A different approach is to use the statistical summary function `mqr.summary` where the AD statistic and p-value is computed.  We can do a normal probability plot to see how normal the data appears, and show it side-by-side with the sample data summary.  "
   ]
  },
  {
   "cell_type": "code",
   "execution_count": null,
   "id": "cbb3e53c",
   "metadata": {},
   "outputs": [],
   "source": [
    "data = np.array([\n",
    "    86.4, 86.3, 86.8, 86.4, 86.6, 86.7, 86.0, 86.6, 86.2, 86.3\n",
    "    ])\n",
    "\n",
    "sample = mqr.summary.Sample(data)\n",
    "\n",
    "# `reliability` is a great library, but doesn't allow much flexibility in plotting.\n",
    "# Here, let `reliability` create the figure, then adjust it for our purposes.\n",
    "# `fig.set_size_inches(...)` has the same arguments as `matplotlib.pyplot.subplots(figsize=...)` and `mqr.plot.Figure(...)`\n",
    "from reliability.Probability_plotting import Normal_probability_plot\n",
    "fig = Normal_probability_plot(failures=data)\n",
    "fig.set_size_inches(5, 5)\n",
    "ax = fig.get_axes()[0]\n",
    "ax.set_xlabel('Lamp Efficiency')\n",
    "ax.set_ylabel('quantile')\n",
    "plot = mqr.nbtools.grab_figure(fig)\n",
    "\n",
    "hstack(plot, sample)"
   ]
  },
  {
   "cell_type": "markdown",
   "id": "6e2106ff",
   "metadata": {},
   "source": [
    "-----------------------------------------------------------------------------------------------\n",
    "## 1.2 One Sample t-test\n",
    "\n",
    "The next code block computes a one-sided t-test for whether the population mean from which the sample is drawn is 86.5, with an alternative that the population mean is less than 86.5.  Recall the data must be normal to use the t-test, which we confirmed above. For this one sample t-test, we use the code `mqr.inference.mean.test_1sample`:"
   ]
  },
  {
   "cell_type": "code",
   "execution_count": null,
   "id": "ad318121",
   "metadata": {},
   "outputs": [],
   "source": [
    "data = np.array([\n",
    "    86.4, 86.3, 86.8, 86.4, 86.6, 86.7, 86.0, 86.6, 86.2, 86.3\n",
    "    ])\n",
    "hyp = 86.5 # hypothesized mean\n",
    "\n",
    "mqr.inference.mean.test_1sample(data, H0_mean=hyp, method='t', alternative='less')"
   ]
  },
  {
   "cell_type": "markdown",
   "id": "ddaf2a0b-97f2-43e9-ad22-fccb864bb22f",
   "metadata": {},
   "source": [
    "Ther result is $p=0.195 > 0.05$, the p-value is not low, so we cannot reject the null hypothesis.  This sample of data indicates the population average is not significantly different that 86.5.  An interesting view of this result is to plot the confidence interval, the hypothesized value and the sample histogram."
   ]
  },
  {
   "cell_type": "code",
   "execution_count": null,
   "id": "baa3feec-e846-49f1-a707-df0a3ebcb1ef",
   "metadata": {},
   "outputs": [],
   "source": [
    "ci = mqr.inference.mean.confint_1sample(data, conf=0.95, bounded='above')\n",
    "\n",
    "with Figure(4, 4, 2, sharex=True, height_ratios=[4, 1]) as (fig, ax):\n",
    "    sns.histplot(data, ax=ax[0])\n",
    "    mqr.plot.confint(ci, ax=ax[1], hyp_value=86.5)\n",
    "    ax[1].set_xlabel('Lamp efficiency')\n",
    "    plot = nb.grab_figure(fig)\n",
    "\n",
    "nb.hstack(plot, ci)"
   ]
  },
  {
   "cell_type": "markdown",
   "id": "2c5b97c9-eff6-4720-8129-2c5027f6a85e",
   "metadata": {},
   "source": [
    "What this shows is the sample average blue dot, the confidence interval for the population average, and the hypothesized value red dot. It confirms that we cannot reject the null hypothesis that the population mean, which is anywhere within the confidence interval, is different from the hyopothesized mean red dot. \n",
    "\n",
    "The red dot hypothesized value (86.5) is in the confidence interval, indicating a p-value greater than $\\alpha$ and to not reject the null, there is no significant difference between the red dot and the population average.  If the hypothesized value red dot were on the confidence limit, the p-value would be exactly $\\alpha$. If the hypothesized value red dot were larger than the upper confidence limit, the p-value would be less than $\\alpha$ indicating to reject the null, there is a significant difference between the hypothesized mean red dot and the population average which is within the confidence interval. \n",
    "\n",
    "--------------------------------------\n",
    "\n",
    "Now lets consider a two-sided confidence interval t-test on one sample of data.  Here we have a sample of data.  First we should confirm the data is drawn from a normally distributed population, left as an exercise to the student.  Then, we seek to confirm whether the population mean is 0.5. To do this, we use the function `mqr.inference.mean.test_1sample`"
   ]
  },
  {
   "cell_type": "code",
   "execution_count": null,
   "id": "fa087109",
   "metadata": {},
   "outputs": [],
   "source": [
    "data = np.array([\n",
    "    0.48,0.46,0.64,0.54,0.69,0.64,0.44,0.71,0.37,0.63,0.61,0.71,0.41,0.68,0.52,0.62,0.55,0.58,0.66,0.64\n",
    "    ])\n",
    "\n",
    "mqr.inference.mean.test_1sample(\n",
    "    data,\n",
    "    H0_mean=0.5,\n",
    "    alternative='two-sided',\n",
    "    method='t')"
   ]
  },
  {
   "cell_type": "markdown",
   "id": "ccd73e9a",
   "metadata": {},
   "source": [
    "This results in a p-value of $p=0.003 < 0.05$, indicating we should reject the null hypothesis. That is, the population mean from which this sample is drawn is significantly different than the hypothesized mean of 0.5.  \n",
    "\n",
    "Next we compare the t-test to the confidence interval for the mean graphically."
   ]
  },
  {
   "cell_type": "code",
   "execution_count": null,
   "id": "2aa8bab5-45e7-443e-a3f8-80c685256188",
   "metadata": {},
   "outputs": [],
   "source": [
    "ci = mqr.inference.mean.confint_1sample(data, conf=0.95, bounded='both')\n",
    "\n",
    "with Figure(4, 4, 2, sharex=True, height_ratios=[4, 1]) as (fig, ax):\n",
    "   sns.histplot(data, ax=ax[0])\n",
    "   mqr.plot.confint(ci, ax=ax[1], hyp_value=0.5),\n",
    "   plot = nb.grab_figure(fig)\n",
    "\n",
    "nb.hstack(plot, ci)"
   ]
  },
  {
   "cell_type": "markdown",
   "id": "f35c41be-05ad-4286-8e72-f3a020fd96cc",
   "metadata": {},
   "source": [
    "Here we see the hypothesized mean red dot is not within the confidence interval for the population mean, it is significantly different.  "
   ]
  },
  {
   "cell_type": "markdown",
   "id": "fc1ba9ee",
   "metadata": {},
   "source": [
    "-----------------------------------------------------------------------------------\n",
    "## 1.3 One Sample Variance Test\n",
    "\n",
    "The next set of cells computes a one sample variance test.  First the data is ensured to be normally distributed."
   ]
  },
  {
   "cell_type": "code",
   "execution_count": null,
   "id": "81863289",
   "metadata": {},
   "outputs": [],
   "source": [
    "data = np.array([\n",
    "    36.1, 35.4, 34.2, 33.9, 33.5, 34.5, 35.4, 34.3, 34.0, 36.5\n",
    "])\n",
    "\n",
    "mqr.inference.dist.test_1sample(data, 'ad-norm')"
   ]
  },
  {
   "cell_type": "markdown",
   "id": "bf349ff1-7d36-499d-b32b-3fe7b8486152",
   "metadata": {},
   "source": [
    "This results in a $p=0.3 > 0.05$ indicating the sample data is not enough evidence that the distribution is significantly different from normal.  To understand the data, a confidence interval for the standard deviation is also calculated first."
   ]
  },
  {
   "cell_type": "code",
   "execution_count": null,
   "id": "491fbee8-a1dc-4033-bc0f-8ff0cc5c164b",
   "metadata": {},
   "outputs": [],
   "source": [
    "data = np.array([\n",
    "    0.48,0.46,0.64,0.54,0.69,0.64,0.44,0.71,0.37,0.63,0.61,0.71,0.41,0.68,0.52,0.62,0.55,0.58,0.66,0.64\n",
    "    ])\n",
    "\n",
    "data = np.array([\n",
    "    36.1, 35.4, 34.2, 33.9, 33.5, 34.5, 35.4, 34.3, 34.0, 36.5\n",
    "])\n",
    "\n",
    "ci = mqr.inference.stddev.confint_1sample(data, conf=0.95)\n",
    "ci"
   ]
  },
  {
   "cell_type": "markdown",
   "id": "51103fb2-de53-475b-a32a-72c404ee38d9",
   "metadata": {},
   "source": [
    "Notice the value $\\sigma = 1.0$ is within this confidence interval for the population standard deviation, so we would expect a large p-value for the hypothesis test.  Next a one sample variance test is defined and applied.  We wish to determine if the standard deviation is different from $1.0$, or that the variance is different from $1.0^2 = 1.0$. The code `mqr.inference.variance.test_1sample` is used. "
   ]
  },
  {
   "cell_type": "code",
   "execution_count": null,
   "id": "7355a04f",
   "metadata": {},
   "outputs": [],
   "source": [
    "hyp = 1.0         # hypothesized variance\n",
    "alt = 'greater'  # 'less', 'two-sided', 'greater'\n",
    "\n",
    "mqr.inference.variance.test_1sample(data, H0_var=hyp, alternative=alt)"
   ]
  },
  {
   "cell_type": "markdown",
   "id": "5937f212-a559-40cc-abde-398a5e5a40b8",
   "metadata": {},
   "source": [
    "Indeed, the p-value result is $p = 0.42 > 0.05$ and so we fail to reject the null hypothesis, this sample provides no evidence to reject the null hypothesis.  We \"accept\" there is no difference between the population standard deviation and 0.1.  "
   ]
  },
  {
   "cell_type": "markdown",
   "id": "ddfec218",
   "metadata": {},
   "source": [
    "-------------------------------------------------------------------------------\n",
    "## 1.4 Two Sample Variance Test\n",
    "\n",
    "The next cells compute a two sample variance test. First the two samples are checked for normality. "
   ]
  },
  {
   "cell_type": "code",
   "execution_count": null,
   "id": "5def3600",
   "metadata": {},
   "outputs": [],
   "source": [
    "data1 = np.array([\n",
    "    5.4, 5.7, 7.0, 9.1, 7.9, 6.9, 6.6, 6.2, 6.6, 8.4])\n",
    "data2 = np.array([\n",
    "    4.3, 4.8, 5.9, 7.9, 6.8, 6.1, 5.5, 5.0, 5.7, 7.1])\n",
    "\n",
    "hstack(\n",
    "    mqr.inference.dist.test_1sample(data1, test='ad-norm'),\n",
    "    mqr.inference.dist.test_1sample(data2, test='ad-norm'))"
   ]
  },
  {
   "cell_type": "markdown",
   "id": "3f0b117e-1ae8-4ddc-b23f-fa755325548d",
   "metadata": {},
   "source": [
    "The distributions cannot be distinguished from normal by the test of the sample data.  Next, a test of whether the standard deviations are significantly different is take.  Three tests for equal variances are shown, an F-test which assumes normal data, as well as the Bartlett and Levene tests are computed.  The F-test can accept 1-sided arguments, but the bartlett and levene test can only be done currently as a 2-sided test. The code `mqr.inference.variance.test_2sample` is used. "
   ]
  },
  {
   "cell_type": "code",
   "execution_count": null,
   "id": "81ef610c",
   "metadata": {},
   "outputs": [],
   "source": [
    "print('Sample sigma of sample 1 = ', np.std(data1, ddof=1))\n",
    "print('Sample sigma of sample 2 = ', np.std(data2, ddof=1))\n",
    "\n",
    "hstack(\n",
    "    mqr.inference.stddev.test_2sample(data1, data2, alternative='two-sided'),\n",
    "    mqr.inference.variance.test_2sample(data1, data2, alternative='two-sided'),  \n",
    "    mqr.inference.variance.test_2sample(data1, data2, method='bartlett'),\n",
    "    mqr.inference.variance.test_2sample(data1, data2, method='levene'))"
   ]
  },
  {
   "cell_type": "markdown",
   "id": "51a3d248-c0a1-4a4f-99ce-83c9f594b952",
   "metadata": {},
   "source": [
    "The result from all tests is large p-values, indicating an inability to reject the null. The population variances cannot be said to be significantly different based on this data. "
   ]
  },
  {
   "cell_type": "markdown",
   "id": "a991bdf8",
   "metadata": {},
   "source": [
    "----------------------------------------------------------------\n",
    "## 1.5 Two Sample t-test\n",
    "\n",
    "Next we compute a two sample t-test to determine if the samples have different population means. Here the two samples are independent.\n",
    "\n",
    "The samples must first be tested for equal variances or not (done above), and set the input `ev` accordingly.  Also set the alternative hypothesis.  "
   ]
  },
  {
   "cell_type": "code",
   "execution_count": null,
   "id": "02f7e9bc",
   "metadata": {},
   "outputs": [],
   "source": [
    "print(f'Sample mean of sample 1 = {np.mean(data1):.4} with sample standade deviation of {np.std(data1, ddof=1):.4}.')\n",
    "print(f'Sample mean of sample 2 = {np.mean(data2):.4} with sample standade deviation of {np.std(data2, ddof=1):.4}.')\n",
    "print(f'The difference in sample means = {np.mean(data1)-np.mean(data2):.4}.')\n",
    "\n",
    "alt = 'two-sided'   # 'less', 'two-sided', 'greater'\n",
    "ev = True           # True for equal variances\n",
    "method = 't'        # t-test\n",
    "\n",
    "mqr.inference.mean.test_2sample(data1, data2, pooled=ev, alternative=alt, method=method)"
   ]
  },
  {
   "cell_type": "markdown",
   "id": "b2b23fef-f6c4-4b16-8393-2a3822aac926",
   "metadata": {},
   "source": [
    "This results in $p = 0.051 < 0.05$ and so we cannot reject the null hypothesis.  The population means of the two samples cannot be said to be significantly different, based on these samples. Likely a slightly larger sample size would indicate so. "
   ]
  },
  {
   "cell_type": "markdown",
   "id": "dfa8c3c9",
   "metadata": {},
   "source": [
    "--------------------------------------------------------------------------------------\n",
    "## 1.6 Paired t-test\n",
    "\n",
    "A paired t-test is a two sample test but where the samples 1,...,n are the same sample but before and after a treatment.  Below is code to perform a two sample t-test, where the two samples are element-wise paired.\n",
    "\n",
    "Set the alternative hypothesis.  "
   ]
  },
  {
   "cell_type": "code",
   "execution_count": null,
   "id": "f072a0ee",
   "metadata": {},
   "outputs": [],
   "source": [
    "alt = 'two-sided'   # 'less', 'two-sided', 'greater'\n",
    "mqr.inference.mean.test_paired(data1, data2, alternative=alt)"
   ]
  },
  {
   "cell_type": "markdown",
   "id": "1bf194c7",
   "metadata": {},
   "source": [
    "Here we get a very small p-value, and so we can reject the null hypothesis of no difference, and the means are different, the treatment did affect the mean, the mean significantly shifted.  Notice this result from the exact same numerical data values in the previous 2 sample test where the different could not be rejected.  \n",
    "\n",
    "----------------------------------------------------------------------------------\n",
    "## 1.7 One Sample Defect Rate Test\n",
    "\n",
    "A process may be monitored by counting the number of defects on each part or per unit length or per unit area, etc. The average defect rate $\\lambda$ is a statistic of interest.  A one sample rate test considers whether the defect rate has changed.  Typically there may be zero, one, two, ... defects per sample, and each sample is $L$ big, such as 100m or 10m$^2$ etc.  Then the average defect rate is $\\lambda = \\frac{c}{n L}$.\n",
    "\n",
    "Below is code to perform a one sample rate-test to compare sample defect rate versus a hypothesized (perhaps historical) defect rate.\n",
    "\n",
    "Define the number of defects in the sample $c$, the number of samples $n$, the 'length' $L$ of each sample, and the alternative hypothesis.\n",
    "\n",
    "Suppose the historical defect rate is 0.1 defects per unit.  Suppose today we observed 13 defects (sometimes none, sometimes one per unit, sometimes 2 per unit) total over 100 units built.  Has the defect rate gone up? "
   ]
  },
  {
   "cell_type": "code",
   "execution_count": null,
   "id": "8dd0ca2f",
   "metadata": {},
   "outputs": [],
   "source": [
    "trate = 0.1      # target or reference defect rate (defects per ...)\n",
    "c = 13           # observed defects\n",
    "n = 100          # number of samples\n",
    "L = 1            # 'length' of the observation. length, area, ...\n",
    "\n",
    "mqr.inference.rate.test_1sample(\n",
    "    count=c,\n",
    "    n=n,\n",
    "    meas=L,\n",
    "    H0_rate=trate,\n",
    "    alternative='greater')"
   ]
  },
  {
   "cell_type": "markdown",
   "id": "e487a2c0-a0f8-466d-af1d-67c9caee0b18",
   "metadata": {},
   "source": [
    "We see the p-value of the test is $p = 0.2 > 0.05$ and so we cannot reject the null hypothesis, we 'accept' there is no difference between the sample data and a defect rate of 0.1 defects per unit.  "
   ]
  },
  {
   "cell_type": "markdown",
   "id": "d0b22816",
   "metadata": {},
   "source": [
    "------------------------------------------------------------------------------------\n",
    "## 1.8 Two Samples Defect Rates Test\n",
    "\n",
    "Below is an example of performing a two samples rate-test to determine whether the defect rate of one sample is different from the defect rate of another sample. Define the number of defects in each sample, the number of samples, the 'length' of each sample, and the alternative hypothesis.  \n",
    "\n",
    "For example, suppose in a sample of 150 parts, each of length 1.0, there were 20 total defects observed (some parts had zero defects, some had 1 defect, some had 2 defects, etc., and the sum of defects over all 150 parts was 20 defects).  Suppose in a second sample of 150 parts, each of length 1.0, there were 39 total defects.  Is there a difference in average defect rate in the populations from which the samples were drawn?  \n",
    "\n",
    "Below is code to compute the test using the exact and normal-approximation approaches."
   ]
  },
  {
   "cell_type": "code",
   "execution_count": null,
   "id": "383aae5e",
   "metadata": {},
   "outputs": [],
   "source": [
    "n1 = 150         # sample size one\n",
    "c1 = 20          # observed defects sample 1\n",
    "L1 = 1.0         # 'length' of the observation. length, area, ...\n",
    "n2 = 150         # sample size one\n",
    "c2 = 39          # observed defects sample 1\n",
    "L2 = 1.0         # 'length' of the observation. length, area, ...\n",
    "\n",
    "hstack(\n",
    "    # Equivalent to manual code\n",
    "    mqr.inference.rate.test_2sample(c1, n1, c2, n2, L1, L2, alternative='two-sided', compare='ratio', method='exact-cond'),\n",
    "    # statsmodels defaults\n",
    "    mqr.inference.rate.test_2sample(c1, n1, c2, n2, L1, L2, alternative='two-sided'))"
   ]
  },
  {
   "cell_type": "markdown",
   "id": "35f640d0",
   "metadata": {},
   "source": [
    "Using either test, the p-values are low.  The defect rates are different. \n",
    "\n",
    "--------------------------------------------------------------------------------------\n",
    "## 1.9 One Proportion Test\n",
    "\n",
    "An example of a test of a sample proportion defective versus a hypothesized (historical) defective rate.  Define the sample size, number of defectives in the sample, the hypothesized defective proportion, and the alternative hypothesis.  \n",
    "\n",
    "For example, suppose in a sample of 100 parts, 3 defectives were observed.  The historical defective proportion is 1%. Has the defective proportion increased?  "
   ]
  },
  {
   "cell_type": "code",
   "execution_count": null,
   "id": "cdb09190",
   "metadata": {},
   "outputs": [],
   "source": [
    "count = 3      # number of observed defectives in the sample\n",
    "nobs = 100     # sample size\n",
    "prop = 0.01    # Hypothesized proportion\n",
    "alt = 'greater' # 'less', 'two-sided', 'greater'\n",
    "\n",
    "print('Sample estimate of the proportion:', count/nobs)\n",
    "mqr.inference.proportion.test_1sample(count, nobs, H0_prop=prop, alternative=alt)"
   ]
  },
  {
   "cell_type": "markdown",
   "id": "f89163a4",
   "metadata": {},
   "source": [
    "Here we see that, despite the defective proportion being 3X larger than the historical defective proportion, the p-value remains high, $p = 0.8 > 0.05$, and we cannot reject the null hypothesis. We cannot say the defective proportion has increased, the sample size is too small.\n",
    "\n",
    "-----------------------------------------------------------------------------------------------\n",
    "## 1.10 Two Proportion Test\n",
    "\n",
    "Next is a test of two defective proportions, one sample defective proportion versus another independent sample.\n",
    "Define the sample sizes, number of defectives in each sample, and the alternative hypothesis.\n",
    "\n",
    "Here suppose one sample of 100 units has 3 defective, and another later sample has 0 defective.  Has the defective proportion changed?  "
   ]
  },
  {
   "cell_type": "code",
   "execution_count": null,
   "id": "2e08ae7a",
   "metadata": {},
   "outputs": [],
   "source": [
    "count1 = 3\n",
    "nobs1 = 100\n",
    "count2 = 0\n",
    "nobs2 = 100\n",
    "alt = 'two-sided'   # 'less', 'two-sided', 'greater'\n",
    "method = 'agresti-caffo'     # 'wald', 'agresti-caffo', 'score'\n",
    "\n",
    "print('Sample estimate of the first proportion:', count1/nobs1)\n",
    "print('Sample estimate of the second proportion:', count2/nobs2)\n",
    "print('Sample estimate of the proportion difference:', count1/nobs1-count2/nobs2)\n",
    "\n",
    "mqr.inference.proportion.test_2sample(count1, nobs1, count2, nobs2, alternative=alt, method=method)"
   ]
  },
  {
   "cell_type": "markdown",
   "id": "3f7b4541",
   "metadata": {},
   "source": [
    "We see the p-value is large and so we cannot reject the null, we do not have evidence to say the defective proportion has changed.  \n",
    "\n",
    "****************************************************************************\n",
    "# 2.0 Sample Size Calculators\n",
    "\n",
    "Sample size calculators are provided for the following hypothesis tests of means.\n",
    "\n",
    "\n",
    "| Test              | Purpose | Math           | Python                     |\n",
    "|-------------------|:-------:|:--------------:|:---------------------------|\n",
    "| One sample t-test | Compare mean, $\\sigma$ unknown | $$ n = \\frac{(t_{1-\\alpha,n-1}+t_{1-\\beta,n-1})^2 s^2}{\\delta^2} $$ | mqr.inference.mean.size_1sample |\n",
    "| Two sample t-test | Compare means two independent samples | $$ n = \\frac{2(t_{1-\\alpha,n-1}+t_{1-\\beta,n-1})^2 s^2}{\\delta^2} $$ | mqr.inference.mean.size_2sample |\n",
    "| Paired t-test | Compare means paired data  | $$ n = \\frac{(t_{1-\\alpha,n-1}+t_{1-\\beta,n-1})^2 s_d^2}{\\delta^2} $$ | mqr.inference.mean.size_paired |\n",
    "| One sample $\\chi^2$-test | Compare $\\sigma$ | $$ n: \\chi^2_{1-\\alpha,n} = r^2 \\chi^2_{\\beta,n} $$ | mqr.inference.stddev.size_1sample |\n",
    "| Two sample F-test | Compare two $\\sigma$'s | $$ n: F_{1-\\alpha,n_1,n_2} = r^2 F_{\\beta,n_1,n_2} $$ | mqr.inference.stddev.size_2sample |\n",
    "| One sample rate test | Compare $\\rho$ | $$ n= \\frac{\\chi^2_{1-\\alpha,M}}{2R_A}, \\chi^2_{\\alpha,M} = (\\frac{R_A}{R_0})^2 \\chi^2_{1-\\beta,M} $$ | mqr.inference.rate.size_1sample |\n",
    "| Two sample rate test | Compare $\\rho$'s | $$ n= \\frac{2(Z_\\alpha \\sqrt{R_1}+Z_\\beta \\sqrt{R_2})^2}{(R_1-R_2)^2} $$ | mqr.inference.rate.size_2sample |\n",
    "| One sample proportion test | Compare $\\pi$ | $$ n= \\frac{(Z_\\alpha +Z_\\beta)^2}{4(\\sin^{-1}\\sqrt{\\pi_0} - \\sin^{-1}\\sqrt{\\pi_A})^2} $$ | mqr.inference.proportion.size_1sample |\n",
    "| Two sample proportion test | Compare $\\pi$'s | $$ n= \\frac{2(Z_\\alpha +Z_\\beta)^2}{4(\\sin^{-1}\\sqrt{\\pi_0} - \\sin^{-1}\\sqrt{\\pi_A})^2} $$ | mqr.inference.proportion.size_2sample |\n",
    "\n"
   ]
  },
  {
   "cell_type": "markdown",
   "id": "674280cd",
   "metadata": {},
   "source": [
    "-------------------------------------------------------------------------------------------------\n",
    "## 2.1 One Sample t-test Sample Size\n",
    "\n",
    "Performs a sample size calculation needed to achieve power and confidence levels to detect a specified difference in mean."
   ]
  },
  {
   "cell_type": "code",
   "execution_count": null,
   "id": "1cad2a94",
   "metadata": {},
   "outputs": [],
   "source": [
    "beta = 0.05    # 1 - Power\n",
    "alpha = 0.05   # Significance level\n",
    "effect = 1.0   # difference to detect in comparison to sigma (eg effect = delta/sigma)\n",
    "alt = 'two-sided' # 'less', 'two-sided', 'greater'\n",
    "\n",
    "mqr.inference.mean.size_1sample(\n",
    "    effect=effect,\n",
    "    alpha=alpha,\n",
    "    beta=beta,\n",
    "    alternative=alt)"
   ]
  },
  {
   "cell_type": "markdown",
   "id": "1aaa7eed",
   "metadata": {},
   "source": [
    "Rounding up, 16 samples are needed to detect a mean shift of 1 sigma.  A reasonably small number of samples are needed to see if a process has shifted.\n",
    "\n",
    "------------------------------------------------------------------------------------------------------------\n",
    "## 2.2 Two Sample t-test Sample Size\n",
    "\n",
    "Performs a sample size calculation needed to achieve power and confidence levels to detect a specified difference in means."
   ]
  },
  {
   "cell_type": "code",
   "execution_count": null,
   "id": "3f1bcd1f",
   "metadata": {},
   "outputs": [],
   "source": [
    "beta = 0.05    # 1 - Power\n",
    "alpha = 0.05   # Significance level\n",
    "effect = 0.2   # difference to detect in comparison to sigma (eg effect = delta/sigma)\n",
    "alt = 'two-sided' # 'less', 'two-sided', 'greater'\n",
    "\n",
    "mqr.inference.mean.size_2sample(\n",
    "    effect=effect,\n",
    "    alpha=alpha,\n",
    "    beta=beta,\n",
    "    alternative=alt)"
   ]
  },
  {
   "cell_type": "markdown",
   "id": "176350ee",
   "metadata": {},
   "source": [
    "Rounding up, 651 samples are needed to detect a mean shift of 0.2 sigma from one sample to another.  650 in each sample.  This large number is required since such as small shift is attempting to be detected, only 0.2 sigma, this is unreasonable.  Replace the 0.2 effect with a 1.0 effect, a 1-sigma difference in means, and compute the required sample size.\n",
    "\n",
    "------------------------------------------------------------------------------------------------------\n",
    "## 2.3 Two Sample Paired t-test Sample Size\n",
    "\n",
    "Performs a sample size calculation needed to achieve power and confidence levels to detect a specified difference in means."
   ]
  },
  {
   "cell_type": "code",
   "execution_count": null,
   "id": "d3092805",
   "metadata": {},
   "outputs": [],
   "source": [
    "beta = 0.05    # 1 - Power\n",
    "alpha = 0.05   # Significance level\n",
    "effect = 0.2   # difference to detect in comparison to sigma (eg effect = delta/sigma)\n",
    "alt = 'two-sided' # 'less', 'two-sided', 'greater'\n",
    "\n",
    "display('NB: the sample size is the number of pairs to measure. That is, take sample_size samples from each population.')\n",
    "mqr.inference.mean.size_paired(effect, alpha, beta, alt)"
   ]
  },
  {
   "cell_type": "markdown",
   "id": "05be28df",
   "metadata": {},
   "source": [
    "That is, 327 samples are needed to detect a 0.2 sigma shift if the data is paired.  The paired and single t-tests require about half as many samples as a two sample t-test.\n",
    "\n",
    "-------------------------------------------------------------------------------------------------\n",
    "## 2.4 One Sample Standard Deviation Sample Size\n",
    "\n",
    "Performs a sample size calculation needed to achieve power and confidence levels to detect a specified difference in standard deviation."
   ]
  },
  {
   "cell_type": "code",
   "execution_count": null,
   "id": "bf61eb1f",
   "metadata": {},
   "outputs": [],
   "source": [
    "ratio = 1.2     # ratio of standard deviation from a reference target (s_0/s)\n",
    "alt = 'greater' # 'less', 'two-sided', 'greater'  The alternative hypothesis\n",
    "alpha = 0.05    # significance\n",
    "beta = 0.05     # 1 - power\n",
    "\n",
    "mqr.inference.stddev.size_1sample(ratio, alpha, beta, alt)"
   ]
  },
  {
   "cell_type": "markdown",
   "id": "1af7ea68",
   "metadata": {},
   "source": [
    "This indicates 165 samples are needed to detect if the standard deviation has grown by 20%.  Detecting variance shifts are more difficult with roughly 10X more samples than a mean shift.  Statistical control of random variability is difficult.  \n",
    "\n",
    "----------------------------------------------------------------------------------------\n",
    "## 2.5 Two Sample Standard Deviation Sample Size\n",
    "\n",
    "Performs a sample size calculation needed to achieve power and confidence levels to detect a specified difference in standard deviation."
   ]
  },
  {
   "cell_type": "code",
   "execution_count": null,
   "id": "6be5b36c",
   "metadata": {},
   "outputs": [],
   "source": [
    "ratio = 2.5/3.5    # Ratio of s1/s2\n",
    "alpha = 0.05   # significance\n",
    "beta = 0.05    # 1 - power\n",
    "alt = 'less'\n",
    "\n",
    "mqr.inference.stddev.size_2sample(ratio, alpha, beta, alt)"
   ]
  },
  {
   "cell_type": "markdown",
   "id": "af36ef2e",
   "metadata": {},
   "source": [
    "This indicates 98 samples are needed to detect if the standard deviation has significantly changed by 1.0 in a new sample from a sample where it was 2.5.  Again, detecting variability differences is difficult, requiring 5-10X more samples than mean difference.  \n",
    "\n",
    "-----------------------------------------------------------------------------------------\n",
    "## 2.6 One Sample Rate Sample Size\n",
    "\n",
    "Calculate the sample size needed for determining a defect rate."
   ]
  },
  {
   "cell_type": "code",
   "execution_count": null,
   "id": "90227f41-5c51-44bd-a70b-fe949cc6f770",
   "metadata": {},
   "outputs": [],
   "source": [
    "rate = 3.0      \n",
    "H0_rate = 2.5    \n",
    "alpha = 0.05  \n",
    "beta = 0.05  \n",
    "alt = 'greater'\n",
    "\n",
    "mqr.inference.rate.size_1sample(rate,H0_rate,alpha,beta,alternative=alt)"
   ]
  },
  {
   "cell_type": "markdown",
   "id": "6b3e48aa",
   "metadata": {},
   "source": [
    "This indicates a sample size of 119 parts are needed to detect if the average defect rate has grown by 0.5 defects per unit from 2.5 defects per unit.\n",
    "\n",
    "--------------------------------------------------------------------------------------------\n",
    "## 2.7 Two Sample Rate Sample Size\n",
    "\n",
    "Calculate the sample size needed for determining a defect rate."
   ]
  },
  {
   "cell_type": "code",
   "execution_count": null,
   "id": "084573da",
   "metadata": {},
   "outputs": [],
   "source": [
    "ra = 2.5      # Alternative rate at which to reject  # defects/(length * nobs)\n",
    "r0 = 3.0      # Nominal rate to test against\n",
    "alpha = 0.05  # significance\n",
    "beta = 0.05    # 1 - power\n",
    "alt = 'less'\n",
    "\n",
    "mqr.inference.rate.size_2sample(\n",
    "    r1=ra,\n",
    "    r2=r0,\n",
    "    alpha=alpha,\n",
    "    beta=beta,\n",
    "    H0_value=0.0,\n",
    "    alternative=alt)"
   ]
  },
  {
   "cell_type": "markdown",
   "id": "c88e7eb3",
   "metadata": {},
   "source": [
    "This indicates 238 parts are needed in each sample to determine if the average defect rate has grown by 0.5 defects per unit from a defect rate of 2.5 defects per unit.\n",
    "\n",
    "--------------------------------------------------------------------------------------------------\n",
    "## 2.8 One Proportion Sample Size\n",
    "\n",
    "Calculates the sample size needed to detect a difference in a proportion from a target."
   ]
  },
  {
   "cell_type": "code",
   "execution_count": null,
   "id": "3aaa9348",
   "metadata": {},
   "outputs": [],
   "source": [
    "pa = 0.02    # Larger rate at which point you reject the null\n",
    "p0 = 0.03   # Hypothesized rate\n",
    "alpha = 0.1 # significance\n",
    "beta = 0.1  # 1 - power\n",
    "alt = 'less'    # 'less', 'greater', 'two-sided'  Alternative Hypothesis\n",
    "\n",
    "mqr.inference.proportion.size_1sample(\n",
    "    pa=pa,\n",
    "    H0_prop=p0,\n",
    "    alpha=alpha,\n",
    "    beta=beta,\n",
    "    alternative=alt)"
   ]
  },
  {
   "cell_type": "markdown",
   "id": "40eb4c91",
   "metadata": {},
   "source": [
    "This indicates 1585 parts are needed to determine if the defective proportion has grown by 1% from a historical 2% defective proportion.  Counting defectives requires an unreasonably large sample size for detecting changes in defective proportion. \n",
    "\n",
    "----------------------------------------------------------------------------------------------------\n",
    "## 2.9 Two Proportion Sample Size\n",
    "\n",
    "Defines and calculates sample sizes needed to compare defective rates of two populations."
   ]
  },
  {
   "cell_type": "code",
   "execution_count": null,
   "id": "b9db5284",
   "metadata": {},
   "outputs": [],
   "source": [
    "p1 = 0.02         # Hypothesized rate\n",
    "p2 = 0.03         # Larger rate at which point you reject the null\n",
    "alpha = 0.1      # significance\n",
    "beta = 0.1       # 1 - power\n",
    "alt = 'less' # 'less', 'greater', 'two-sided'  Alternative Hypothesis\n",
    "method = 'norm-approx' # 'norm-approx' (same as minitab/statsmodels) or 'z'\n",
    "\n",
    "mqr.inference.proportion.size_2sample(\n",
    "    p1=p1,\n",
    "    p2=p2,\n",
    "    alpha=alpha,\n",
    "    beta=beta,\n",
    "    alternative=alt,\n",
    "    method=method)"
   ]
  },
  {
   "cell_type": "markdown",
   "id": "cbda8b44",
   "metadata": {},
   "source": [
    "This indicates 3200 parts in each sample is needed to determine if the defect rate has changed by 1% from a 2% defective rate. As before, two sample tests require twice as many units as a one sample test.\n",
    "\n",
    "**********************************************************************************\n",
    "\n",
    "# 3.0 Nonparametric Tests\n",
    "\n",
    "The following non-parametric tests are demonstrated.  \n",
    "\n",
    "\n",
    "| Test        | Purpose | Parametric Equivalent | Python                     |\n",
    "|-------------|:-------:|:---------------------:|:---------------------------|\n",
    "| Runs test | Test for randomness | Anderson-Darling | mqr.inference.nonparametric.dist.test_1sample |\n",
    "| Sign test | Test for median | t-test | mqr.inference.nonparametric.median.test_1sample |\n",
    "| Wlicoxon test | Test for median | t-test | mqr.inference.nonparametric.median.test_1sample |\n",
    "| Levene's test | Test for equal variances | F-test | mqr.inference.nonparametric.median.test_1sample |\n",
    "| Mann-Whitney test | Test for two medians | t-test | mqr.inference.nonparametric.median.test_nsample |\n",
    "| Kruskal-Wallace test | Test for multiple medians | ANOVA | mqr.inference.nonparametric.median.test_nsample |\n",
    "\n",
    "\n"
   ]
  },
  {
   "cell_type": "markdown",
   "id": "57f68a2e",
   "metadata": {},
   "source": [
    "--------------------------------------------------------------------------------------------------------\n",
    "## 3.1 Runs Test\n",
    "\n",
    "The next cell performs a runs test for randomness.  This test must suceed for the subsequent non-parametric tests to be used.  "
   ]
  },
  {
   "cell_type": "code",
   "execution_count": null,
   "id": "72992fe8",
   "metadata": {},
   "outputs": [],
   "source": [
    "data = np.array([\n",
    "    12.62, 9.71, 8.59, 11.42,\n",
    "    5.90, 17.86, 9.90, 16.25, 15.77, 9.45, 23.23, \n",
    "    7.60, 4.23, 6.59, 4.38, 8.60, 20.91, 6.05,\n",
    "    10.90, 6.89, 8.72, 7.52, 5.64, 4.22, 4.01\n",
    "    ])\n",
    "\n",
    "co = 'median' # 'mean', 'median' the cutoff midpoint for the runs test\n",
    "\n",
    "mqr.inference.nonparametric.dist.test_1sample(data, cutoff=co)"
   ]
  },
  {
   "cell_type": "markdown",
   "id": "68bbc16b",
   "metadata": {},
   "source": [
    "Also do an Anderson Darling test to confirm the data is not normal and so non-parametric tests are needed."
   ]
  },
  {
   "cell_type": "code",
   "execution_count": null,
   "id": "3fe7012d",
   "metadata": {},
   "outputs": [],
   "source": [
    "data = np.array([\n",
    "    12.62, 9.71, 8.59, 11.42,\n",
    "    5.90, 17.86, 9.90, 16.25, 15.77, 9.45, 23.23, \n",
    "    7.60, 4.23, 6.59, 4.38, 8.60, 20.91, 6.05,\n",
    "    10.90, 6.89, 8.72, 7.52, 5.64, 4.22, 4.01\n",
    "    ])\n",
    "\n",
    "print(f'Sample mean: {data.mean():.3f}')\n",
    "print(f'Sample sigma: {data.std(ddof=1):.3f}')\n",
    "mqr.inference.dist.test_1sample(data)"
   ]
  },
  {
   "cell_type": "markdown",
   "id": "4d0995cc",
   "metadata": {},
   "source": [
    "Here is an example of non-random data, from NIST.  It is time series deflection data during a stress test.  The data is not purely random but rather each adjacent data point are close to each other.  \n",
    "\n",
    "A histogram of the data shows it is very non-normal.  But it is not clear that it is not random from the histogram. The runs test, on the other hand, shows that the data is very unlikely to be independent and identically distributed."
   ]
  },
  {
   "cell_type": "code",
   "execution_count": null,
   "id": "18350fad",
   "metadata": {},
   "outputs": [],
   "source": [
    "url ='https://www.itl.nist.gov/div898/handbook/datasets/LEW.DAT'\n",
    "df = pd.read_csv(url, skiprows=24, header=0, names=['Deflection'], dtype=np.float64)\n",
    "\n",
    "with Figure(4, 3) as (fig, ax):\n",
    "    sns.histplot(df, ax=ax)\n",
    "    plot = mqr.nbtools.grab_figure(fig)\n",
    "\n",
    "hstack(\n",
    "    plot,\n",
    "    mqr.inference.nonparametric.dist.test_1sample(df['Deflection'], cutoff='mean', method='runs'))"
   ]
  },
  {
   "cell_type": "markdown",
   "id": "c1c21057",
   "metadata": {},
   "source": [
    "Another plot is to plot each point vs the next point.  Here you can see the generally circular displacements undergone during the test, with random movement around the circular motion.  A transformation could be used to seperate the circular motion from the random variation around it, but that is a more advanced topic.  For our purposes, the data is not random and so cannot be hypothesis tested as is."
   ]
  },
  {
   "cell_type": "code",
   "execution_count": null,
   "id": "35a8db18",
   "metadata": {},
   "outputs": [],
   "source": [
    "with Figure(5, 4) as (fig, ax):\n",
    "    pd.plotting.lag_plot(df, alpha=0.5, ax=ax)"
   ]
  },
  {
   "cell_type": "markdown",
   "id": "3b8c352c",
   "metadata": {},
   "source": [
    "--------------------------------------------------------------------------------------------\n",
    "## 3.2 Sign Test\n",
    "\n",
    "Below is code to do a sign test using the statsModels sign_test function.  The null hypothesis is the two population medians are the same.  The alternative hypothesis is not equal.  \n",
    "\n",
    "For multiple histograms on one plot, gather the samples into a dataframe and pass `multiple=dodge` to seaborn, which shows the bins side-by-side, rather than super-imposed."
   ]
  },
  {
   "cell_type": "code",
   "execution_count": null,
   "id": "94f855e6",
   "metadata": {},
   "outputs": [],
   "source": [
    "sample1 = np.array([2.0, 2.0, 1.0, 1.0, 3.0, 4.0, 5.0, 3.0, 1.0, 5.0])\n",
    "sample2 = np.array([2.0, 1.0, 2.0, 1.0, 1.0, 2.0, 3.0, 2.0, 1.0, 1.0])\n",
    "df = pd.DataFrame(data={'sample1': sample1, 'sample2': sample2})\n",
    "\n",
    "with Figure(5, 4) as (fig, ax):\n",
    "    sns.histplot(df, multiple='dodge', ax=ax)\n",
    "    plot = mqr.nbtools.grab_figure(fig)\n",
    "\n",
    "# Display the medians alongside the plot and hypothesis test below.\n",
    "# The stacking functions will render markdown, including a table.\n",
    "medians_markdown = f'''\n",
    "### Medians\n",
    "| | |\n",
    "|--- | ---:|\n",
    "| sample1 | **{np.median(sample1)}** |\n",
    "| sample2 | **{np.median(sample2)}** |\n",
    "| delta  | **{np.median(sample1-sample2)}** |\n",
    "'''\n",
    "\n",
    "hstack(\n",
    "    plot,\n",
    "    hstack(\n",
    "        vstack(\n",
    "            mqr.inference.nonparametric.median.test_1sample(sample1-sample2, method='sign'),\n",
    "            mqr.inference.nonparametric.median.test_nsample(sample1, sample2)),\n",
    "        medians_markdown\n",
    "    ))"
   ]
  },
  {
   "cell_type": "markdown",
   "id": "64355846",
   "metadata": {},
   "source": [
    "-----------------------------------------------------------------------------------\n",
    "## 3.3 One Sample Wilcoxon Test\n",
    "\n",
    "This cell performs a one sample Wilcoxon test that a population median equals a reference. "
   ]
  },
  {
   "cell_type": "code",
   "execution_count": null,
   "id": "9764bde4",
   "metadata": {},
   "outputs": [],
   "source": [
    "data1 = np.array([\n",
    "    0.0, -1.0, 1.0, 0.0, -2.0, -2.0, -2.0, -1.0, 0.0, -4.0\n",
    "    ])\n",
    "hyp = -1.0   # the hypothesized median.\n",
    "alt = 'less' # 'less', 'two-sided', 'greater'\n",
    "\n",
    "with Figure(4, 3) as (fig, ax):\n",
    "    sns.histplot(data1, ax=ax)\n",
    "    plot = mqr.nbtools.grab_figure(fig)\n",
    "\n",
    "hstack(\n",
    "    plot,\n",
    "    mqr.inference.nonparametric.median.test_1sample(x=data1, H0_median=hyp, alternative=alt, method='wilcoxon'))"
   ]
  },
  {
   "cell_type": "markdown",
   "id": "a9da94dc",
   "metadata": {},
   "source": [
    "-----------------------------------------------------------------------------------\n",
    "## 3.4 Two Sample Mann-Whitney Test\n",
    "\n",
    "Performs a test of equal medians from two independent populations."
   ]
  },
  {
   "cell_type": "code",
   "execution_count": null,
   "id": "dba984ce",
   "metadata": {},
   "outputs": [],
   "source": [
    "live = np.array([\n",
    "    0.8, 1.65, 35.54, 8.41, 4.15, 6.57, 1.12, 0.32, 1.16, 11.6,\n",
    "    4.81, 12.54, 0.34, 1.85, 2.16, 0.87, 24.36, 3.65, 13.31, 3.88,\n",
    "    0.34, 12.31, 0.4, 0.69, 3.13, 2.66, 5.85, 5.99, 0.36, 2.7,\n",
    "    0.38, 2.04, 6.5, 6.32, 5.12, 4.74, 28.3, 3.5, 4.17, 2.45,\n",
    "    2.44, 1.27, 0.33, 1.54, 13.34, 5.18, 19.83, 0.51, 0.33, 10.41,\n",
    "    2.74, 29.95, 1.81, 1.45, 6.22, 6.15, 10.34, 1.59, 7.75, 9.76,\n",
    "    4.16, 2.86, 1.38, 8.57, 0.3, 1, 3.89, 5.79, 6.01, 4.99,\n",
    "    21.34, 12.34, 0.6, 1.28, 8.78, 23.36, 0.36, 5.55, 2.73, 2.6,\n",
    "    0.86, 4.38, 5.09, 10.46, 1.73, 7.32, 9.3, 2.72, 3.51, 4.68,\n",
    "    8.96, 9.63, 2.29, 5.48, 11.46, 6.29])\n",
    "web = np.array([\n",
    "    0.56, 0.36, 6.48, 13.59, 7.69, 3.96, 0.34, 0.41, 0.48, 3.6,\n",
    "    20.48, 5.97, 15.08, 13.96, 10.26, 4.33, 5.36, 25.89, 0.3, 1.59,\n",
    "    12.44, 0.86, 2.6, 5.76, 62.37, 5.95, 38.94, 33.61, 0.7, 4.71,\n",
    "    2.56, 0.31, 8.13, 32.87, 2.03, 0.59, 0.31, 39.68, 1.28, 1.74,\n",
    "    2.55, 0.32, 1.21, 10.57, 0.63, 0.31, 0.32, 4.22, 0.33, 7.12,\n",
    "    2.9, 2.84, 33.42, 0.38, 4.28, 0.37, 0.96, 0.85, 22.91, 13.61,\n",
    "    2.42, 0.34, 36.58, 13.38, 21.12, 3.93, 2.22, 0.31, 1.13, 2.77,\n",
    "    6.42, 1.67, 2.54, 0.3, 36.07, 39.45, 39.03, 5.88, 21.32, 1.91,\n",
    "    1.91, 0.33, 0.3, 0.37, 8.68, 53.94, 18.34, 0.35, 0.39, 4.24,\n",
    "    1.09, 5.8, 3.09, 0.77, 59.68, 5.76\n",
    "    ])\n",
    "alt = 'two-sided'  # 'less', 'two-sided', 'greater'\n",
    "\n",
    "mqr.inference.nonparametric.median.test_nsample(live, web, alternative=alt, method='mann-whitney')"
   ]
  },
  {
   "cell_type": "markdown",
   "id": "474c33c9",
   "metadata": {},
   "source": [
    "-----------------------------------------------------------------------------------\n",
    "## 3.5 Multiple Sample Kruskal Wallace Test\n",
    "\n",
    "Performs a test of equal medians from several independent populations.  "
   ]
  },
  {
   "cell_type": "code",
   "execution_count": null,
   "id": "e255d66e",
   "metadata": {},
   "outputs": [],
   "source": [
    "x = np.array([4, 2, 3, 6, 8, 2])\n",
    "y = np.array([6, 3, 4, 5, 2])\n",
    "z = np.array([5, 2, 6, 1, 8])\n",
    "\n",
    "samples = [x, y, z]\n",
    "names = ['x', 'y', 'z']\n",
    "colors = ['C0', 'C1', 'C2']\n",
    "\n",
    "with Figure(4, 4, len(samples), sharex=True) as (fig, axes):\n",
    "    # NB: the tuple of corresponding list elements is unpacked into \"data\", \"name\", \"color\" and \"ax\"\n",
    "    for sample, name, color, ax in zip(samples, names, colors, axes):\n",
    "        sns.histplot(data=sample, binwidth=1.5, color=color, ax=ax)\n",
    "        ax.legend(name)\n",
    "        ax.set_yticks([0, 1, 2, 3])\n",
    "        ax.axvline(np.median(sample), color=color)\n",
    "\n",
    "    plot = mqr.nbtools.grab_figure(fig)\n",
    "\n",
    "medians = f'''\n",
    "|    | Medians        |\n",
    "|--- |---             |\n",
    "| x  | {np.median(x)} |\n",
    "| y  | {np.median(y)} |\n",
    "| z  | {np.median(z)} |\n",
    "'''\n",
    "\n",
    "hyptest = mqr.inference.nonparametric.median.test_nsample(x, y, z, method='kruskal-wallis')\n",
    "\n",
    "hstack(plot, medians, hyptest)"
   ]
  },
  {
   "cell_type": "markdown",
   "id": "fe9dec28-8419-4713-8c6d-845ac3b1aecc",
   "metadata": {},
   "source": [
    "### Notes on the `for-loop` in the last example\n",
    "The `zip` function iterates over lists, producing tuples of corresponding elements.\n",
    "For example:  \n",
    "```\n",
    "zip(['a', 'b', 'c'],\n",
    "    [ 1,   2,   3])\n",
    "```\n",
    "produces an iterable equivalent to  \n",
    "```\n",
    "[('a', 1),\n",
    " ('b', 2),\n",
    " ('c', 3)]\n",
    "```\n",
    "\n",
    "In the previous example, `zip(samples, names, colors, axes)` produces an iterable of tuples like `(sample, name, color, ax)`,\n",
    "making it easy to plot the corresponding samples, names and colors into sequential axes."
   ]
  }
 ],
 "metadata": {
  "kernelspec": {
   "display_name": "Python 3 (ipykernel)",
   "language": "python",
   "name": "python3"
  },
  "language_info": {
   "codemirror_mode": {
    "name": "ipython",
    "version": 3
   },
   "file_extension": ".py",
   "mimetype": "text/x-python",
   "name": "python",
   "nbconvert_exporter": "python",
   "pygments_lexer": "ipython3",
   "version": "3.12.4"
  }
 },
 "nbformat": 4,
 "nbformat_minor": 5
}
