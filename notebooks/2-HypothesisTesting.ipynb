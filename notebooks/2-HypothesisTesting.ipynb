{
 "cells": [
  {
   "attachments": {
    "index.png": {
     "image/png": "[encoded data removed]"
    }
   },
   "cell_type": "markdown",
   "id": "503b09f6",
   "metadata": {},
   "source": [
    "<center>\n",
    "<div style=\"max-width:400px;\">\n",
    "\n",
    "![index.png](attachment:index.png)\n",
    "\n",
    "</div>\n",
    "</center>\n",
    "\n",
    "# Hypothesis Testing Notebook\n",
    "\n",
    "**Prof. Kevin Otto and Nikolas Crossan**  \n",
    "The University of Melbourne  \n",
    "Department of Mechanical Engineering\n",
    "\n",
    "----------------------------------------------------------------------------\n",
    "\n",
    "Herein are code blocks on hypothesis tests.  This includes \n",
    "1. parametric hypothesis tests,\n",
    "2. sample size calculators, and\n",
    "3. non-parametric statistical tests.\n",
    "\n",
    "This notebook relies on the `mqrpy` code library, found at https://pypi.org/project/mqrpy/"
   ]
  },
  {
   "cell_type": "code",
   "execution_count": 1,
   "id": "ee5d10a3-34ec-4fab-b990-24d6e468751d",
   "metadata": {},
   "outputs": [
    {
     "name": "stdout",
     "output_type": "stream",
     "text": [
      "MQR version 0.6.0\n",
      "Numpy version  1.26.4\n",
      "Scipy version  1.13.1\n",
      "Pandas version  2.2.2\n",
      "Seaborn version  0.13.2\n"
     ]
    }
   ],
   "source": [
    "import mqr\n",
    "from mqr.plot import Figure\n",
    "import mqr.nbtools as nb\n",
    "from mqr.nbtools import hstack, vstack, Line\n",
    "\n",
    "import numpy as np\n",
    "import pandas as pd\n",
    "import seaborn as sns\n",
    "\n",
    "\n",
    "from importlib.metadata import version\n",
    "print('MQR version', version('mqrpy'))\n",
    "print('Numpy version ', version('numpy'))\n",
    "print('Scipy version ', version('scipy'))\n",
    "print('Pandas version ', version('pandas'))\n",
    "print('Seaborn version ', version('seaborn'))"
   ]
  },
  {
   "cell_type": "markdown",
   "id": "60041bb0",
   "metadata": {},
   "source": [
    "# 1.0 Hypothesis Tests\n",
    "\n",
    "The following hypothesis tests are demonstrated.\n",
    "\n",
    "\n",
    "| Test        | Purpose | Null | MQR Library                |\n",
    "|-------------|:-------:|:----:|:---------------------------|\n",
    "| Anderson Darling | Data follows a distribution | follows | mqr.inference.dist.test_1sample |\n",
    "| One Sample Z-test | Mean vs a target | $$ \\mu = \\mu_0 $$ | mqr.inference.mean.test_1sample |\n",
    "| One Sample t-test | Mean vs a target | $$ \\mu = \\mu_0 $$ | mqr.inference.mean.test_1sample |\n",
    "| One Sample $\\chi^2$-test | Sigma vs a target | $$ \\sigma = \\sigma_0 $$ | mqr.inference.variance.test_1sample |\n",
    "| Two Sample $F$-test | Two variances | $$ \\sigma^2_1 = \\sigma^2_2 $$ | mqr.inference.variance.test_2sample |\n",
    "| Paired $t$-test | Two means of paired data | $$ \\mu = \\mu' $$ | mqr.inference.mean.test_paired |\n",
    "| Two Sample $t$-test | Two means | $$ \\mu_1 = \\mu_2 $$ | mqr.inference.mean.test_2sample |\n",
    "| One Sample Proportion test | Proportion vs a target | $$ \\pi = \\pi_0 $$ | mqr.inference.proportion.test_1sample |\n",
    "| Two Sample Proportion test | Two Proportions | $$ \\pi_1 = \\pi_2 $$ | mqr.inference.proportion.test_2sample |\n",
    "| One Sample Rate test | Rate vs a target | $$ \\rho = \\rho_0 $$ | mqr.inference.rate.test_1sample |\n",
    "| Two Sample Rate test | Two Rates | $$ \\rho_1 = \\rho_2 $$ | mqr.inference.rate.test_1sample |\n"
   ]
  },
  {
   "cell_type": "markdown",
   "id": "d3c1d595",
   "metadata": {},
   "source": [
    "---------------------------------------------------------------------------------------------------\n",
    "## 1.1 Normality Test\n",
    "\n",
    "Computes the Anderson Darling normality test.  Below is lamp efficiency data from a sample of electric lamps.  Is the population from which the sample is draw normally distributed?  The `mqr.inference.dist` has the code for testing distributions."
   ]
  },
  {
   "cell_type": "code",
   "execution_count": 2,
   "id": "bf4b5abc-eb85-4c08-8357-087b5f82be3c",
   "metadata": {},
   "outputs": [
    {
     "data": {
      "text/html": [
       "\n",
       "        <table>\n",
       "        <thead>\n",
       "            <tr>\n",
       "                <th scope=\"col\" colspan=2 style=\"text-align: left; padding-bottom: 0px;\">Hypothesis Test</th>\n",
       "            </tr>\n",
       "            <tr style='padding-top: 0px;'>\n",
       "                <td colspan=2 style='text-align: left; padding-top: 0px'>non-normality</td>\n",
       "            </tr>\n",
       "        </thead>\n",
       "        <tbody>\n",
       "            <tr>\n",
       "                <th scope=\"row\">method</th>\n",
       "                <td>anderson-darling</th>\n",
       "            </tr>\n",
       "            <tr>\n",
       "                <th scope=\"row\">H<sub>0</sub></th>\n",
       "                <td>distribution == normal</td>\n",
       "            </tr>\n",
       "            <tr>\n",
       "                <th scope=\"row\">H<sub>1</sub></th>\n",
       "                <td>distribution != normal</td>\n",
       "            </tr>\n",
       "            <thead><tr/></thead>\n",
       "            <tr>\n",
       "                <th scope=\"row\">statistic</th>\n",
       "                <td>0.208752</td>\n",
       "            </tr>\n",
       "            <tr>\n",
       "                <th scope=\"row\">p-value</th>\n",
       "                <td>0.809729</td>\n",
       "            </tr>\n",
       "        </tbody>\n",
       "        </table>\n",
       "        "
      ],
      "text/plain": [
       "HypothesisTest(description='non-normality', alternative='two-sided', method='anderson-darling', sample_stat='distribution', sample_stat_target='normal', sample_stat_value=None, stat=0.20875218848600596, pvalue=0.8097290327703399, null='distribution == normal', alt='distribution != normal')"
      ]
     },
     "execution_count": 2,
     "metadata": {},
     "output_type": "execute_result"
    }
   ],
   "source": [
    "data = np.array([\n",
    "    86.4, 86.3, 86.8, 86.4, 86.6, 86.7, 86.0, 86.6, 86.2, 86.3\n",
    "    ])\n",
    "\n",
    "mqr.inference.dist.test_1sample(data, 'ad-norm')"
   ]
  },
  {
   "cell_type": "markdown",
   "id": "ff083152-709f-450a-81ac-c1908bb7a328",
   "metadata": {},
   "source": [
    "A different approach is to use the statistical summary function `mqr.summary` where the AD statistic and p-value is computed.  We can do a normal probability plot to see how normal the data appears, and show it side-by-side with the sample data summary.  "
   ]
  },
  {
   "cell_type": "code",
   "execution_count": 3,
   "id": "cbb3e53c",
   "metadata": {},
   "outputs": [
    {
     "data": {
      "text/html": [
       "<div style=\"display:flex;flex-direction:row;justify-content:stretch;justify-items:center;align-content:start;align-items:start;\"><div style=\"margin:5px 10px 5px 10px;\"><img src=\"data:image/png;base64,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\" /></div><div style=\"margin:5px 10px 5px 10px;\">\n",
       "    <table>\n",
       "        <thead>\n",
       "            <tr>\n",
       "                <th scope=\"col\"></th>\n",
       "                <th scope=\"col\">data</th>\n",
       "            </tr>\n",
       "        </thead>\n",
       "        <tbody>\n",
       "            <tr>\n",
       "                <th colspan=2 style=\"text-align:left;\">Normality (Anderson-Darling)</th>\n",
       "            </tr>\n",
       "            <tr>\n",
       "                <th scope=\"row\">Stat</th>\n",
       "                <td>0.20875</td>\n",
       "            </tr>\n",
       "            <tr>\n",
       "                <th scope=\"row\">P-value</th>\n",
       "                <td>0.80973</td>\n",
       "            </tr>\n",
       "\n",
       "            <thead><tr></tr></thead>\n",
       "            <tr>\n",
       "                <th scope=\"row\">N</th>\n",
       "                <td>10</td>\n",
       "            </tr>\n",
       "\n",
       "            <thead><tr></tr></thead>\n",
       "            <tr>\n",
       "                <th scope=\"row\">Mean</th>\n",
       "                <td>86.430</td>\n",
       "            </tr>\n",
       "            <tr>\n",
       "                <th scope=\"row\">StdDev</th>\n",
       "                <td>0.24518</td>\n",
       "            </tr>\n",
       "            <tr>\n",
       "                <th scope=\"row\">Variance</th>\n",
       "                <td>0.060111</td>\n",
       "            </tr>\n",
       "            <tr>\n",
       "                <th scope=\"row\">Skewness</th>\n",
       "                <td>-0.12683</td>\n",
       "            </tr>\n",
       "            <tr>\n",
       "                <th scope=\"row\">Kurtosis</th>\n",
       "                <td>-0.83772</td>\n",
       "            </tr>\n",
       "\n",
       "            <thead><tr></tr></thead>\n",
       "            <tr>\n",
       "                <th scope=\"row\">Minimum</th>\n",
       "                <td>86.000</td>\n",
       "            </tr>\n",
       "            <tr>\n",
       "                <th scope=\"row\">1st Quartile</th>\n",
       "                <td>86.300</td>\n",
       "            </tr>\n",
       "            <tr>\n",
       "                <th scope=\"row\">Median</th>\n",
       "                <td>86.400</td>\n",
       "            </tr>\n",
       "            <tr>\n",
       "                <th scope=\"row\">3rd Quartile</th>\n",
       "                <td>86.600</td>\n",
       "            </tr>\n",
       "            <tr>\n",
       "                <th scope=\"row\">Maximum</th>\n",
       "                <td>86.800</td>\n",
       "            </tr>\n",
       "\n",
       "            <thead><tr></tr></thead>\n",
       "            <tr>\n",
       "                <th scope=\"row\">N Outliers</th>\n",
       "                <td>0</td>\n",
       "            </tr>\n",
       "        </tbody>\n",
       "        <tfoot>\n",
       "        </tfoot>\n",
       "    </table>\n",
       "    </div></div>"
      ],
      "text/plain": [
       "<IPython.core.display.HTML object>"
      ]
     },
     "execution_count": 3,
     "metadata": {},
     "output_type": "execute_result"
    }
   ],
   "source": [
    "data = np.array([\n",
    "    86.4, 86.3, 86.8, 86.4, 86.6, 86.7, 86.0, 86.6, 86.2, 86.3\n",
    "    ])\n",
    "\n",
    "sample = mqr.process.Sample(data)\n",
    "\n",
    "# `reliability` is a great library, but doesn't allow much flexibility in plotting.\n",
    "# Here, let `reliability` create the figure, then adjust it for our purposes.\n",
    "# `fig.set_size_inches(...)` has the same arguments as `matplotlib.pyplot.subplots(figsize=...)` and `mqr.plot.Figure(...)`\n",
    "from reliability.Probability_plotting import Normal_probability_plot\n",
    "fig = Normal_probability_plot(failures=data)\n",
    "fig.set_size_inches(5, 5)\n",
    "ax = fig.get_axes()[0]\n",
    "ax.set_xlabel('Lamp Efficiency')\n",
    "ax.set_ylabel('quantile')\n",
    "plot = mqr.nbtools.grab_figure(fig)\n",
    "\n",
    "hstack(plot, sample)"
   ]
  },
  {
   "cell_type": "markdown",
   "id": "6e2106ff",
   "metadata": {},
   "source": [
    "-----------------------------------------------------------------------------------------------\n",
    "## 1.2 One Sample t-test\n",
    "\n",
    "The next code block computes a one-sided t-test for whether the population mean from which the sample is drawn is 86.5, with an alternative that the population mean is less than 86.5.  Recall the data must be normal to use the t-test, which we confirmed above. For this one sample t-test, we use the code `mqr.inference.mean.test_1sample`:"
   ]
  },
  {
   "cell_type": "code",
   "execution_count": 4,
   "id": "ad318121",
   "metadata": {},
   "outputs": [
    {
     "data": {
      "text/html": [
       "\n",
       "        <table>\n",
       "        <thead>\n",
       "            <tr>\n",
       "                <th scope=\"col\" colspan=2 style=\"text-align: left; padding-bottom: 0px;\">Hypothesis Test</th>\n",
       "            </tr>\n",
       "            <tr style='padding-top: 0px;'>\n",
       "                <td colspan=2 style='text-align: left; padding-top: 0px'>mean</td>\n",
       "            </tr>\n",
       "        </thead>\n",
       "        <tbody>\n",
       "            <tr>\n",
       "                <th scope=\"row\">method</th>\n",
       "                <td>t</th>\n",
       "            </tr>\n",
       "            <tr>\n",
       "                <th scope=\"row\">H<sub>0</sub></th>\n",
       "                <td>mean(x) == 86.5</td>\n",
       "            </tr>\n",
       "            <tr>\n",
       "                <th scope=\"row\">H<sub>1</sub></th>\n",
       "                <td>mean(x) < 86.5</td>\n",
       "            </tr>\n",
       "            <thead><tr/></thead>\n",
       "            <tr>\n",
       "                <th scope=\"row\">statistic</th>\n",
       "                <td>-0.902861</td>\n",
       "            </tr>\n",
       "            <tr>\n",
       "                <th scope=\"row\">p-value</th>\n",
       "                <td>0.195062</td>\n",
       "            </tr>\n",
       "        </tbody>\n",
       "        </table>\n",
       "        "
      ],
      "text/plain": [
       "HypothesisTest(description='mean', alternative='less', method='t', sample_stat='mean(x)', sample_stat_target=86.5, sample_stat_value=86.42999999999999, stat=-0.9028605188240298, pvalue=0.19506219349001586, null='mean(x) == 86.5', alt='mean(x) < 86.5')"
      ]
     },
     "execution_count": 4,
     "metadata": {},
     "output_type": "execute_result"
    }
   ],
   "source": [
    "data = np.array([\n",
    "    86.4, 86.3, 86.8, 86.4, 86.6, 86.7, 86.0, 86.6, 86.2, 86.3\n",
    "    ])\n",
    "hyp = 86.5 # hypothesized mean\n",
    "\n",
    "mqr.inference.mean.test_1sample(data, H0_mean=hyp, method='t', alternative='less')"
   ]
  },
  {
   "cell_type": "markdown",
   "id": "ddaf2a0b-97f2-43e9-ad22-fccb864bb22f",
   "metadata": {},
   "source": [
    "Ther result is $p=0.195 > 0.05$, the p-value is not low, so we cannot reject the null hypothesis.  This sample of data indicates the population average is not significantly different that 86.5.  An interesting view of this result is to plot the confidence interval, the hypothesized value and the sample histogram."
   ]
  },
  {
   "cell_type": "code",
   "execution_count": 5,
   "id": "baa3feec-e846-49f1-a707-df0a3ebcb1ef",
   "metadata": {},
   "outputs": [
    {
     "data": {
      "text/html": [
       "<div style=\"display:flex;flex-direction:row;justify-content:stretch;justify-items:center;align-content:start;align-items:start;\"><div style=\"margin:5px 10px 5px 10px;\"><img src=\"data:image/png;base64,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\" /></div><div style=\"margin:5px 10px 5px 10px;\">\n",
       "        <table>\n",
       "        <thead>\n",
       "            <tr style='padding-bottom:0px;'>\n",
       "                <th scope=\"col\" colspan=3 style=\"text-align:left; padding-bottom:0px;\">Confidence Interval</th>\n",
       "            </tr>\n",
       "            <tr style='padding-top:0px; padding-bottom:0px;'>\n",
       "                <td colspan=3 style='text-align: left; padding-top:0px; padding-bottom:0px;'>mean</td>\n",
       "            </tr>\n",
       "            <tr style='padding-top:0px;'>\n",
       "                <td style='text-align:left; padding-top:0px' colspan=3>95% (t)</td>\n",
       "            </tr>\n",
       "        </thead>\n",
       "        <tbody>\n",
       "            <tr>\n",
       "                <th scope='col' style='text-align: left;'>value</th>\n",
       "                <th scope='col' style='text-align: left;'>lower</th>\n",
       "                <th scope='col' style='text-align: left;'>upper</th>\n",
       "            </tr>\n",
       "            <tr>\n",
       "                <td style='text-align: left;'>86.43</td>\n",
       "                <td style='text-align: left;'>-inf</td>\n",
       "                <td style='text-align: left;'>86.5721</td>\n",
       "            </tr>\n",
       "        </tbody>\n",
       "        </table>\n",
       "        </div></div>"
      ],
      "text/plain": [
       "<IPython.core.display.HTML object>"
      ]
     },
     "execution_count": 5,
     "metadata": {},
     "output_type": "execute_result"
    }
   ],
   "source": [
    "ci = mqr.inference.mean.confint_1sample(data, conf=0.95, bounded='above')\n",
    "\n",
    "with Figure(4, 4, 2, sharex=True, height_ratios=[4, 1]) as (fig, ax):\n",
    "    sns.histplot(data, ax=ax[0])\n",
    "    mqr.plot.confint(ci, ax=ax[1], hyp_value=86.5)\n",
    "    ax[1].set_xlabel('Lamp efficiency')\n",
    "    plot = nb.grab_figure(fig)\n",
    "\n",
    "nb.hstack(plot, ci)"
   ]
  },
  {
   "cell_type": "markdown",
   "id": "2c5b97c9-eff6-4720-8129-2c5027f6a85e",
   "metadata": {},
   "source": [
    "What this shows is the sample average blue dot, the confidence interval for the population average, and the hypothesized value red dot. It confirms that we cannot reject the null hypothesis that the population mean, which is anywhere within the confidence interval, is different from the hyopothesized mean red dot. \n",
    "\n",
    "The red dot hypothesized value (86.5) is in the confidence interval, indicating a p-value greater than $\\alpha$ and to not reject the null, there is no significant difference between the red dot and the population average.  If the hypothesized value red dot were on the confidence limit, the p-value would be exactly $\\alpha$. If the hypothesized value red dot were larger than the upper confidence limit, the p-value would be less than $\\alpha$ indicating to reject the null, there is a significant difference between the hypothesized mean red dot and the population average which is within the confidence interval. \n",
    "\n",
    "--------------------------------------\n",
    "\n",
    "Now lets consider a two-sided confidence interval t-test on one sample of data.  Here we have a sample of data.  First we should confirm the data is drawn from a normally distributed population, left as an exercise to the student.  Then, we seek to confirm whether the population mean is 0.5. To do this, we use the function `mqr.inference.mean.test_1sample`"
   ]
  },
  {
   "cell_type": "code",
   "execution_count": 6,
   "id": "fa087109",
   "metadata": {},
   "outputs": [
    {
     "data": {
      "text/html": [
       "\n",
       "        <table>\n",
       "        <thead>\n",
       "            <tr>\n",
       "                <th scope=\"col\" colspan=2 style=\"text-align: left; padding-bottom: 0px;\">Hypothesis Test</th>\n",
       "            </tr>\n",
       "            <tr style='padding-top: 0px;'>\n",
       "                <td colspan=2 style='text-align: left; padding-top: 0px'>mean</td>\n",
       "            </tr>\n",
       "        </thead>\n",
       "        <tbody>\n",
       "            <tr>\n",
       "                <th scope=\"row\">method</th>\n",
       "                <td>t</th>\n",
       "            </tr>\n",
       "            <tr>\n",
       "                <th scope=\"row\">H<sub>0</sub></th>\n",
       "                <td>mean(x) == 0.5</td>\n",
       "            </tr>\n",
       "            <tr>\n",
       "                <th scope=\"row\">H<sub>1</sub></th>\n",
       "                <td>mean(x) != 0.5</td>\n",
       "            </tr>\n",
       "            <thead><tr/></thead>\n",
       "            <tr>\n",
       "                <th scope=\"row\">statistic</th>\n",
       "                <td>3.43342</td>\n",
       "            </tr>\n",
       "            <tr>\n",
       "                <th scope=\"row\">p-value</th>\n",
       "                <td>0.00278562</td>\n",
       "            </tr>\n",
       "        </tbody>\n",
       "        </table>\n",
       "        "
      ],
      "text/plain": [
       "HypothesisTest(description='mean', alternative='two-sided', method='t', sample_stat='mean(x)', sample_stat_target=0.5, sample_stat_value=0.579, stat=3.433416482517044, pvalue=0.0027856237078697573, null='mean(x) == 0.5', alt='mean(x) != 0.5')"
      ]
     },
     "execution_count": 6,
     "metadata": {},
     "output_type": "execute_result"
    }
   ],
   "source": [
    "data = np.array([\n",
    "    0.48,0.46,0.64,0.54,0.69,0.64,0.44,0.71,0.37,0.63,0.61,0.71,0.41,0.68,0.52,0.62,0.55,0.58,0.66,0.64\n",
    "    ])\n",
    "\n",
    "mqr.inference.mean.test_1sample(\n",
    "    data,\n",
    "    H0_mean=0.5,\n",
    "    alternative='two-sided',\n",
    "    method='t')"
   ]
  },
  {
   "cell_type": "markdown",
   "id": "ccd73e9a",
   "metadata": {},
   "source": [
    "This results in a p-value of $p=0.003 < 0.05$, indicating we should reject the null hypothesis. That is, the population mean from which this sample is drawn is significantly different than the hypothesized mean of 0.5.  \n",
    "\n",
    "Next we compare the t-test to the confidence interval for the mean graphically."
   ]
  },
  {
   "cell_type": "code",
   "execution_count": 7,
   "id": "2aa8bab5-45e7-443e-a3f8-80c685256188",
   "metadata": {},
   "outputs": [
    {
     "data": {
      "text/html": [
       "<div style=\"display:flex;flex-direction:row;justify-content:stretch;justify-items:center;align-content:start;align-items:start;\"><div style=\"margin:5px 10px 5px 10px;\"><img src=\"data:image/png;base64,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\" /></div><div style=\"margin:5px 10px 5px 10px;\">\n",
       "        <table>\n",
       "        <thead>\n",
       "            <tr style='padding-bottom:0px;'>\n",
       "                <th scope=\"col\" colspan=3 style=\"text-align:left; padding-bottom:0px;\">Confidence Interval</th>\n",
       "            </tr>\n",
       "            <tr style='padding-top:0px; padding-bottom:0px;'>\n",
       "                <td colspan=3 style='text-align: left; padding-top:0px; padding-bottom:0px;'>mean</td>\n",
       "            </tr>\n",
       "            <tr style='padding-top:0px;'>\n",
       "                <td style='text-align:left; padding-top:0px' colspan=3>95% (t)</td>\n",
       "            </tr>\n",
       "        </thead>\n",
       "        <tbody>\n",
       "            <tr>\n",
       "                <th scope='col' style='text-align: left;'>value</th>\n",
       "                <th scope='col' style='text-align: left;'>lower</th>\n",
       "                <th scope='col' style='text-align: left;'>upper</th>\n",
       "            </tr>\n",
       "            <tr>\n",
       "                <td style='text-align: left;'>0.579</td>\n",
       "                <td style='text-align: left;'>0.530841</td>\n",
       "                <td style='text-align: left;'>0.627159</td>\n",
       "            </tr>\n",
       "        </tbody>\n",
       "        </table>\n",
       "        </div></div>"
      ],
      "text/plain": [
       "<IPython.core.display.HTML object>"
      ]
     },
     "execution_count": 7,
     "metadata": {},
     "output_type": "execute_result"
    }
   ],
   "source": [
    "ci = mqr.inference.mean.confint_1sample(data, conf=0.95, bounded='both')\n",
    "\n",
    "with Figure(4, 4, 2, sharex=True, height_ratios=[4, 1]) as (fig, ax):\n",
    "   sns.histplot(data, ax=ax[0])\n",
    "   mqr.plot.confint(ci, ax=ax[1], hyp_value=0.5),\n",
    "   plot = nb.grab_figure(fig)\n",
    "\n",
    "nb.hstack(plot, ci)"
   ]
  },
  {
   "cell_type": "markdown",
   "id": "f35c41be-05ad-4286-8e72-f3a020fd96cc",
   "metadata": {},
   "source": [
    "Here we see the hypothesized mean red dot is not within the confidence interval for the population mean, it is significantly different.  "
   ]
  },
  {
   "cell_type": "markdown",
   "id": "fc1ba9ee",
   "metadata": {},
   "source": [
    "-----------------------------------------------------------------------------------\n",
    "## 1.3 One Sample Variance Test\n",
    "\n",
    "The next set of cells computes a one sample variance test.  First the data is ensured to be normally distributed."
   ]
  },
  {
   "cell_type": "code",
   "execution_count": 8,
   "id": "81863289",
   "metadata": {},
   "outputs": [
    {
     "data": {
      "text/html": [
       "\n",
       "        <table>\n",
       "        <thead>\n",
       "            <tr>\n",
       "                <th scope=\"col\" colspan=2 style=\"text-align: left; padding-bottom: 0px;\">Hypothesis Test</th>\n",
       "            </tr>\n",
       "            <tr style='padding-top: 0px;'>\n",
       "                <td colspan=2 style='text-align: left; padding-top: 0px'>non-normality</td>\n",
       "            </tr>\n",
       "        </thead>\n",
       "        <tbody>\n",
       "            <tr>\n",
       "                <th scope=\"row\">method</th>\n",
       "                <td>anderson-darling</th>\n",
       "            </tr>\n",
       "            <tr>\n",
       "                <th scope=\"row\">H<sub>0</sub></th>\n",
       "                <td>distribution == normal</td>\n",
       "            </tr>\n",
       "            <tr>\n",
       "                <th scope=\"row\">H<sub>1</sub></th>\n",
       "                <td>distribution != normal</td>\n",
       "            </tr>\n",
       "            <thead><tr/></thead>\n",
       "            <tr>\n",
       "                <th scope=\"row\">statistic</th>\n",
       "                <td>0.396137</td>\n",
       "            </tr>\n",
       "            <tr>\n",
       "                <th scope=\"row\">p-value</th>\n",
       "                <td>0.300148</td>\n",
       "            </tr>\n",
       "        </tbody>\n",
       "        </table>\n",
       "        "
      ],
      "text/plain": [
       "HypothesisTest(description='non-normality', alternative='two-sided', method='anderson-darling', sample_stat='distribution', sample_stat_target='normal', sample_stat_value=None, stat=0.39613676083124894, pvalue=0.30014757876870024, null='distribution == normal', alt='distribution != normal')"
      ]
     },
     "execution_count": 8,
     "metadata": {},
     "output_type": "execute_result"
    }
   ],
   "source": [
    "data = np.array([\n",
    "    36.1, 35.4, 34.2, 33.9, 33.5, 34.5, 35.4, 34.3, 34.0, 36.5\n",
    "])\n",
    "\n",
    "mqr.inference.dist.test_1sample(data, 'ad-norm')"
   ]
  },
  {
   "cell_type": "markdown",
   "id": "bf349ff1-7d36-499d-b32b-3fe7b8486152",
   "metadata": {},
   "source": [
    "This results in a $p=0.3 > 0.05$ indicating the sample data is not enough evidence that the distribution is significantly different from normal.  To understand the data, a confidence interval for the standard deviation is also calculated first."
   ]
  },
  {
   "cell_type": "code",
   "execution_count": 9,
   "id": "491fbee8-a1dc-4033-bc0f-8ff0cc5c164b",
   "metadata": {},
   "outputs": [
    {
     "data": {
      "text/html": [
       "\n",
       "        <table>\n",
       "        <thead>\n",
       "            <tr style='padding-bottom:0px;'>\n",
       "                <th scope=\"col\" colspan=3 style=\"text-align:left; padding-bottom:0px;\">Confidence Interval</th>\n",
       "            </tr>\n",
       "            <tr style='padding-top:0px; padding-bottom:0px;'>\n",
       "                <td colspan=3 style='text-align: left; padding-top:0px; padding-bottom:0px;'>standard deviation</td>\n",
       "            </tr>\n",
       "            <tr style='padding-top:0px;'>\n",
       "                <td style='text-align:left; padding-top:0px' colspan=3>95% (chi2)</td>\n",
       "            </tr>\n",
       "        </thead>\n",
       "        <tbody>\n",
       "            <tr>\n",
       "                <th scope='col' style='text-align: left;'>value</th>\n",
       "                <th scope='col' style='text-align: left;'>lower</th>\n",
       "                <th scope='col' style='text-align: left;'>upper</th>\n",
       "            </tr>\n",
       "            <tr>\n",
       "                <td style='text-align: left;'>1.00753</td>\n",
       "                <td style='text-align: left;'>0.693013</td>\n",
       "                <td style='text-align: left;'>1.83935</td>\n",
       "            </tr>\n",
       "        </tbody>\n",
       "        </table>\n",
       "        "
      ],
      "text/plain": [
       "ConfidenceInterval(name='standard deviation', method='chi2', value=1.0075272259900034, lower=0.6930126977940801, upper=1.83935196293305, conf=0.95, bounded='both')"
      ]
     },
     "execution_count": 9,
     "metadata": {},
     "output_type": "execute_result"
    }
   ],
   "source": [
    "data = np.array([\n",
    "    0.48,0.46,0.64,0.54,0.69,0.64,0.44,0.71,0.37,0.63,0.61,0.71,0.41,0.68,0.52,0.62,0.55,0.58,0.66,0.64\n",
    "    ])\n",
    "\n",
    "data = np.array([\n",
    "    36.1, 35.4, 34.2, 33.9, 33.5, 34.5, 35.4, 34.3, 34.0, 36.5\n",
    "])\n",
    "\n",
    "ci = mqr.inference.stddev.confint_1sample(data, conf=0.95)\n",
    "ci"
   ]
  },
  {
   "cell_type": "markdown",
   "id": "51103fb2-de53-475b-a32a-72c404ee38d9",
   "metadata": {},
   "source": [
    "Notice the value $\\sigma = 1.0$ is within this confidence interval for the population standard deviation, so we would expect a large p-value for the hypothesis test.  Next a one sample variance test is defined and applied.  We wish to determine if the standard deviation is different from $1.0$, or that the variance is different from $1.0^2 = 1.0$. The code `mqr.inference.variance.test_1sample` is used. "
   ]
  },
  {
   "cell_type": "code",
   "execution_count": 10,
   "id": "7355a04f",
   "metadata": {},
   "outputs": [
    {
     "data": {
      "text/html": [
       "\n",
       "        <table>\n",
       "        <thead>\n",
       "            <tr>\n",
       "                <th scope=\"col\" colspan=2 style=\"text-align: left; padding-bottom: 0px;\">Hypothesis Test</th>\n",
       "            </tr>\n",
       "            <tr style='padding-top: 0px;'>\n",
       "                <td colspan=2 style='text-align: left; padding-top: 0px'>variance</td>\n",
       "            </tr>\n",
       "        </thead>\n",
       "        <tbody>\n",
       "            <tr>\n",
       "                <th scope=\"row\">method</th>\n",
       "                <td>chi2</th>\n",
       "            </tr>\n",
       "            <tr>\n",
       "                <th scope=\"row\">H<sub>0</sub></th>\n",
       "                <td>var(x) == 1</td>\n",
       "            </tr>\n",
       "            <tr>\n",
       "                <th scope=\"row\">H<sub>1</sub></th>\n",
       "                <td>var(x) > 1</td>\n",
       "            </tr>\n",
       "            <thead><tr/></thead>\n",
       "            <tr>\n",
       "                <th scope=\"row\">statistic</th>\n",
       "                <td>1.01511</td>\n",
       "            </tr>\n",
       "            <tr>\n",
       "                <th scope=\"row\">p-value</th>\n",
       "                <td>0.424816</td>\n",
       "            </tr>\n",
       "        </tbody>\n",
       "        </table>\n",
       "        "
      ],
      "text/plain": [
       "HypothesisTest(description='variance', alternative='greater', method='chi2', sample_stat='var(x)', sample_stat_target=1.0, sample_stat_value=1.0151111111111115, stat=1.0151111111111115, pvalue=0.42481617276616856, null='var(x) == 1', alt='var(x) > 1')"
      ]
     },
     "execution_count": 10,
     "metadata": {},
     "output_type": "execute_result"
    }
   ],
   "source": [
    "hyp = 1.0         # hypothesized variance\n",
    "alt = 'greater'  # 'less', 'two-sided', 'greater'\n",
    "\n",
    "mqr.inference.variance.test_1sample(data, H0_var=hyp, alternative=alt)"
   ]
  },
  {
   "cell_type": "markdown",
   "id": "5937f212-a559-40cc-abde-398a5e5a40b8",
   "metadata": {},
   "source": [
    "Indeed, the p-value result is $p = 0.42 > 0.05$ and so we fail to reject the null hypothesis, this sample provides no evidence to reject the null hypothesis.  We \"accept\" there is no difference between the population standard deviation and 0.1.  "
   ]
  },
  {
   "cell_type": "markdown",
   "id": "ddfec218",
   "metadata": {},
   "source": [
    "-------------------------------------------------------------------------------\n",
    "## 1.4 Two Sample Variance Test\n",
    "\n",
    "The next cells compute a two sample variance test. First the two samples are checked for normality. "
   ]
  },
  {
   "cell_type": "code",
   "execution_count": 11,
   "id": "5def3600",
   "metadata": {},
   "outputs": [
    {
     "data": {
      "text/html": [
       "<div style=\"display:flex;flex-direction:row;justify-content:stretch;justify-items:center;align-content:start;align-items:start;\"><div style=\"margin:5px 10px 5px 10px;\">\n",
       "        <table>\n",
       "        <thead>\n",
       "            <tr>\n",
       "                <th scope=\"col\" colspan=2 style=\"text-align: left; padding-bottom: 0px;\">Hypothesis Test</th>\n",
       "            </tr>\n",
       "            <tr style='padding-top: 0px;'>\n",
       "                <td colspan=2 style='text-align: left; padding-top: 0px'>non-normality</td>\n",
       "            </tr>\n",
       "        </thead>\n",
       "        <tbody>\n",
       "            <tr>\n",
       "                <th scope=\"row\">method</th>\n",
       "                <td>anderson-darling</th>\n",
       "            </tr>\n",
       "            <tr>\n",
       "                <th scope=\"row\">H<sub>0</sub></th>\n",
       "                <td>distribution == normal</td>\n",
       "            </tr>\n",
       "            <tr>\n",
       "                <th scope=\"row\">H<sub>1</sub></th>\n",
       "                <td>distribution != normal</td>\n",
       "            </tr>\n",
       "            <thead><tr/></thead>\n",
       "            <tr>\n",
       "                <th scope=\"row\">statistic</th>\n",
       "                <td>0.258604</td>\n",
       "            </tr>\n",
       "            <tr>\n",
       "                <th scope=\"row\">p-value</th>\n",
       "                <td>0.632082</td>\n",
       "            </tr>\n",
       "        </tbody>\n",
       "        </table>\n",
       "        </div><div style=\"margin:5px 10px 5px 10px;\">\n",
       "        <table>\n",
       "        <thead>\n",
       "            <tr>\n",
       "                <th scope=\"col\" colspan=2 style=\"text-align: left; padding-bottom: 0px;\">Hypothesis Test</th>\n",
       "            </tr>\n",
       "            <tr style='padding-top: 0px;'>\n",
       "                <td colspan=2 style='text-align: left; padding-top: 0px'>non-normality</td>\n",
       "            </tr>\n",
       "        </thead>\n",
       "        <tbody>\n",
       "            <tr>\n",
       "                <th scope=\"row\">method</th>\n",
       "                <td>anderson-darling</th>\n",
       "            </tr>\n",
       "            <tr>\n",
       "                <th scope=\"row\">H<sub>0</sub></th>\n",
       "                <td>distribution == normal</td>\n",
       "            </tr>\n",
       "            <tr>\n",
       "                <th scope=\"row\">H<sub>1</sub></th>\n",
       "                <td>distribution != normal</td>\n",
       "            </tr>\n",
       "            <thead><tr/></thead>\n",
       "            <tr>\n",
       "                <th scope=\"row\">statistic</th>\n",
       "                <td>0.153542</td>\n",
       "            </tr>\n",
       "            <tr>\n",
       "                <th scope=\"row\">p-value</th>\n",
       "                <td>0.935803</td>\n",
       "            </tr>\n",
       "        </tbody>\n",
       "        </table>\n",
       "        </div></div>"
      ],
      "text/plain": [
       "<IPython.core.display.HTML object>"
      ]
     },
     "execution_count": 11,
     "metadata": {},
     "output_type": "execute_result"
    }
   ],
   "source": [
    "data1 = np.array([\n",
    "    5.4, 5.7, 7.0, 9.1, 7.9, 6.9, 6.6, 6.2, 6.6, 8.4])\n",
    "data2 = np.array([\n",
    "    4.3, 4.8, 5.9, 7.9, 6.8, 6.1, 5.5, 5.0, 5.7, 7.1])\n",
    "\n",
    "hstack(\n",
    "    mqr.inference.dist.test_1sample(data1, test='ad-norm'),\n",
    "    mqr.inference.dist.test_1sample(data2, test='ad-norm'))"
   ]
  },
  {
   "cell_type": "markdown",
   "id": "3f0b117e-1ae8-4ddc-b23f-fa755325548d",
   "metadata": {},
   "source": [
    "The distributions cannot be distinguished from normal by the test of the sample data.  Next, a test of whether the standard deviations are significantly different is take.  Three tests for equal variances are shown, an F-test which assumes normal data, as well as the Bartlett and Levene tests are computed.  The F-test can accept 1-sided arguments, but the bartlett and levene test can only be done currently as a 2-sided test. The code `mqr.inference.variance.test_2sample` is used. "
   ]
  },
  {
   "cell_type": "code",
   "execution_count": 12,
   "id": "81ef610c",
   "metadata": {},
   "outputs": [
    {
     "name": "stdout",
     "output_type": "stream",
     "text": [
      "Sample sigma of sample 1 =  1.173598454895597\n",
      "Sample sigma of sample 2 =  1.1090035567521364\n"
     ]
    },
    {
     "data": {
      "text/html": [
       "<div style=\"display:flex;flex-direction:row;justify-content:stretch;justify-items:center;align-content:start;align-items:start;\"><div style=\"margin:5px 10px 5px 10px;\">\n",
       "        <table>\n",
       "        <thead>\n",
       "            <tr>\n",
       "                <th scope=\"col\" colspan=2 style=\"text-align: left; padding-bottom: 0px;\">Hypothesis Test</th>\n",
       "            </tr>\n",
       "            <tr style='padding-top: 0px;'>\n",
       "                <td colspan=2 style='text-align: left; padding-top: 0px'>ratio of standard deviations</td>\n",
       "            </tr>\n",
       "        </thead>\n",
       "        <tbody>\n",
       "            <tr>\n",
       "                <th scope=\"row\">method</th>\n",
       "                <td>f</th>\n",
       "            </tr>\n",
       "            <tr>\n",
       "                <th scope=\"row\">H<sub>0</sub></th>\n",
       "                <td>std(x) / std(y) == 1</td>\n",
       "            </tr>\n",
       "            <tr>\n",
       "                <th scope=\"row\">H<sub>1</sub></th>\n",
       "                <td>std(x) / std(y) != 1</td>\n",
       "            </tr>\n",
       "            <thead><tr/></thead>\n",
       "            <tr>\n",
       "                <th scope=\"row\">statistic</th>\n",
       "                <td>1.11988</td>\n",
       "            </tr>\n",
       "            <tr>\n",
       "                <th scope=\"row\">p-value</th>\n",
       "                <td>0.868824</td>\n",
       "            </tr>\n",
       "        </tbody>\n",
       "        </table>\n",
       "        </div><div style=\"margin:5px 10px 5px 10px;\">\n",
       "        <table>\n",
       "        <thead>\n",
       "            <tr>\n",
       "                <th scope=\"col\" colspan=2 style=\"text-align: left; padding-bottom: 0px;\">Hypothesis Test</th>\n",
       "            </tr>\n",
       "            <tr style='padding-top: 0px;'>\n",
       "                <td colspan=2 style='text-align: left; padding-top: 0px'>ratio of variances</td>\n",
       "            </tr>\n",
       "        </thead>\n",
       "        <tbody>\n",
       "            <tr>\n",
       "                <th scope=\"row\">method</th>\n",
       "                <td>f</th>\n",
       "            </tr>\n",
       "            <tr>\n",
       "                <th scope=\"row\">H<sub>0</sub></th>\n",
       "                <td>var(x) / var(y) == 1</td>\n",
       "            </tr>\n",
       "            <tr>\n",
       "                <th scope=\"row\">H<sub>1</sub></th>\n",
       "                <td>var(x) / var(y) != 1</td>\n",
       "            </tr>\n",
       "            <thead><tr/></thead>\n",
       "            <tr>\n",
       "                <th scope=\"row\">statistic</th>\n",
       "                <td>1.11988</td>\n",
       "            </tr>\n",
       "            <tr>\n",
       "                <th scope=\"row\">p-value</th>\n",
       "                <td>0.868824</td>\n",
       "            </tr>\n",
       "        </tbody>\n",
       "        </table>\n",
       "        </div><div style=\"margin:5px 10px 5px 10px;\">\n",
       "        <table>\n",
       "        <thead>\n",
       "            <tr>\n",
       "                <th scope=\"col\" colspan=2 style=\"text-align: left; padding-bottom: 0px;\">Hypothesis Test</th>\n",
       "            </tr>\n",
       "            <tr style='padding-top: 0px;'>\n",
       "                <td colspan=2 style='text-align: left; padding-top: 0px'>equality of variances</td>\n",
       "            </tr>\n",
       "        </thead>\n",
       "        <tbody>\n",
       "            <tr>\n",
       "                <th scope=\"row\">method</th>\n",
       "                <td>bartlett</th>\n",
       "            </tr>\n",
       "            <tr>\n",
       "                <th scope=\"row\">H<sub>0</sub></th>\n",
       "                <td>var(x) - var(y) == 0</td>\n",
       "            </tr>\n",
       "            <tr>\n",
       "                <th scope=\"row\">H<sub>1</sub></th>\n",
       "                <td>var(x) - var(y) != 0</td>\n",
       "            </tr>\n",
       "            <thead><tr/></thead>\n",
       "            <tr>\n",
       "                <th scope=\"row\">statistic</th>\n",
       "                <td>0.0273123</td>\n",
       "            </tr>\n",
       "            <tr>\n",
       "                <th scope=\"row\">p-value</th>\n",
       "                <td>0.868736</td>\n",
       "            </tr>\n",
       "        </tbody>\n",
       "        </table>\n",
       "        </div><div style=\"margin:5px 10px 5px 10px;\">\n",
       "        <table>\n",
       "        <thead>\n",
       "            <tr>\n",
       "                <th scope=\"col\" colspan=2 style=\"text-align: left; padding-bottom: 0px;\">Hypothesis Test</th>\n",
       "            </tr>\n",
       "            <tr style='padding-top: 0px;'>\n",
       "                <td colspan=2 style='text-align: left; padding-top: 0px'>equality of variances</td>\n",
       "            </tr>\n",
       "        </thead>\n",
       "        <tbody>\n",
       "            <tr>\n",
       "                <th scope=\"row\">method</th>\n",
       "                <td>levene</th>\n",
       "            </tr>\n",
       "            <tr>\n",
       "                <th scope=\"row\">H<sub>0</sub></th>\n",
       "                <td>var(x) - var(y) == 0</td>\n",
       "            </tr>\n",
       "            <tr>\n",
       "                <th scope=\"row\">H<sub>1</sub></th>\n",
       "                <td>var(x) - var(y) != 0</td>\n",
       "            </tr>\n",
       "            <thead><tr/></thead>\n",
       "            <tr>\n",
       "                <th scope=\"row\">statistic</th>\n",
       "                <td>0.00885633</td>\n",
       "            </tr>\n",
       "            <tr>\n",
       "                <th scope=\"row\">p-value</th>\n",
       "                <td>0.926063</td>\n",
       "            </tr>\n",
       "        </tbody>\n",
       "        </table>\n",
       "        </div></div>"
      ],
      "text/plain": [
       "<IPython.core.display.HTML object>"
      ]
     },
     "execution_count": 12,
     "metadata": {},
     "output_type": "execute_result"
    }
   ],
   "source": [
    "print('Sample sigma of sample 1 = ', np.std(data1, ddof=1))\n",
    "print('Sample sigma of sample 2 = ', np.std(data2, ddof=1))\n",
    "\n",
    "hstack(\n",
    "    mqr.inference.stddev.test_2sample(data1, data2, alternative='two-sided'),\n",
    "    mqr.inference.variance.test_2sample(data1, data2, alternative='two-sided'),  \n",
    "    mqr.inference.variance.test_2sample(data1, data2, method='bartlett'),\n",
    "    mqr.inference.variance.test_2sample(data1, data2, method='levene'))"
   ]
  },
  {
   "cell_type": "markdown",
   "id": "51a3d248-c0a1-4a4f-99ce-83c9f594b952",
   "metadata": {},
   "source": [
    "The result from all tests is large p-values, indicating an inability to reject the null. The population variances cannot be said to be significantly different based on this data. "
   ]
  },
  {
   "cell_type": "markdown",
   "id": "a991bdf8",
   "metadata": {},
   "source": [
    "----------------------------------------------------------------\n",
    "## 1.5 Two Sample t-test\n",
    "\n",
    "Next we compute a two sample t-test to determine if the samples have different population means. Here the two samples are independent.\n",
    "\n",
    "The samples must first be tested for equal variances or not (done above), and set the input `ev` accordingly.  Also set the alternative hypothesis.  "
   ]
  },
  {
   "cell_type": "code",
   "execution_count": 13,
   "id": "02f7e9bc",
   "metadata": {},
   "outputs": [
    {
     "name": "stdout",
     "output_type": "stream",
     "text": [
      "Sample mean of sample 1 = 6.98 with sample standade deviation of 1.174.\n",
      "Sample mean of sample 2 = 5.91 with sample standade deviation of 1.109.\n",
      "The difference in sample means = 1.07.\n"
     ]
    },
    {
     "data": {
      "text/html": [
       "\n",
       "        <table>\n",
       "        <thead>\n",
       "            <tr>\n",
       "                <th scope=\"col\" colspan=2 style=\"text-align: left; padding-bottom: 0px;\">Hypothesis Test</th>\n",
       "            </tr>\n",
       "            <tr style='padding-top: 0px;'>\n",
       "                <td colspan=2 style='text-align: left; padding-top: 0px'>difference between means (independent)</td>\n",
       "            </tr>\n",
       "        </thead>\n",
       "        <tbody>\n",
       "            <tr>\n",
       "                <th scope=\"row\">method</th>\n",
       "                <td>t</th>\n",
       "            </tr>\n",
       "            <tr>\n",
       "                <th scope=\"row\">H<sub>0</sub></th>\n",
       "                <td>mean(x) - mean(y) == 0</td>\n",
       "            </tr>\n",
       "            <tr>\n",
       "                <th scope=\"row\">H<sub>1</sub></th>\n",
       "                <td>mean(x) - mean(y) != 0</td>\n",
       "            </tr>\n",
       "            <thead><tr/></thead>\n",
       "            <tr>\n",
       "                <th scope=\"row\">statistic</th>\n",
       "                <td>2.09553</td>\n",
       "            </tr>\n",
       "            <tr>\n",
       "                <th scope=\"row\">p-value</th>\n",
       "                <td>0.0505304</td>\n",
       "            </tr>\n",
       "        </tbody>\n",
       "        </table>\n",
       "        "
      ],
      "text/plain": [
       "HypothesisTest(description='difference between means (independent)', alternative='two-sided', method='t', sample_stat='mean(x) - mean(y)', sample_stat_target=0.0, sample_stat_value=1.0700000000000012, stat=2.0955342001650505, pvalue=0.05053038138965355, null='mean(x) - mean(y) == 0', alt='mean(x) - mean(y) != 0')"
      ]
     },
     "execution_count": 13,
     "metadata": {},
     "output_type": "execute_result"
    }
   ],
   "source": [
    "print(f'Sample mean of sample 1 = {np.mean(data1):.4} with sample standade deviation of {np.std(data1, ddof=1):.4}.')\n",
    "print(f'Sample mean of sample 2 = {np.mean(data2):.4} with sample standade deviation of {np.std(data2, ddof=1):.4}.')\n",
    "print(f'The difference in sample means = {np.mean(data1)-np.mean(data2):.4}.')\n",
    "\n",
    "alt = 'two-sided'   # 'less', 'two-sided', 'greater'\n",
    "ev = True           # True for equal variances\n",
    "method = 't'        # t-test\n",
    "\n",
    "mqr.inference.mean.test_2sample(data1, data2, pooled=ev, alternative=alt, method=method)"
   ]
  },
  {
   "cell_type": "markdown",
   "id": "b2b23fef-f6c4-4b16-8393-2a3822aac926",
   "metadata": {},
   "source": [
    "This results in $p = 0.051 < 0.05$ and so we cannot reject the null hypothesis.  The population means of the two samples cannot be said to be significantly different, based on these samples. Likely a slightly larger sample size would indicate so. "
   ]
  },
  {
   "cell_type": "markdown",
   "id": "dfa8c3c9",
   "metadata": {},
   "source": [
    "--------------------------------------------------------------------------------------\n",
    "## 1.6 Paired t-test\n",
    "\n",
    "A paired t-test is a two sample test but where the samples 1,...,n are the same sample but before and after a treatment.  Below is code to perform a two sample t-test, where the two samples are element-wise paired.\n",
    "\n",
    "Set the alternative hypothesis.  "
   ]
  },
  {
   "cell_type": "code",
   "execution_count": 14,
   "id": "f072a0ee",
   "metadata": {},
   "outputs": [
    {
     "data": {
      "text/html": [
       "\n",
       "        <table>\n",
       "        <thead>\n",
       "            <tr>\n",
       "                <th scope=\"col\" colspan=2 style=\"text-align: left; padding-bottom: 0px;\">Hypothesis Test</th>\n",
       "            </tr>\n",
       "            <tr style='padding-top: 0px;'>\n",
       "                <td colspan=2 style='text-align: left; padding-top: 0px'>difference between means (paired)</td>\n",
       "            </tr>\n",
       "        </thead>\n",
       "        <tbody>\n",
       "            <tr>\n",
       "                <th scope=\"row\">method</th>\n",
       "                <td>t</th>\n",
       "            </tr>\n",
       "            <tr>\n",
       "                <th scope=\"row\">H<sub>0</sub></th>\n",
       "                <td>mean(x) - mean(y) == 0</td>\n",
       "            </tr>\n",
       "            <tr>\n",
       "                <th scope=\"row\">H<sub>1</sub></th>\n",
       "                <td>mean(x) - mean(y) != 0</td>\n",
       "            </tr>\n",
       "            <thead><tr/></thead>\n",
       "            <tr>\n",
       "                <th scope=\"row\">statistic</th>\n",
       "                <td>21.5928</td>\n",
       "            </tr>\n",
       "            <tr>\n",
       "                <th scope=\"row\">p-value</th>\n",
       "                <td>4.61443e-09</td>\n",
       "            </tr>\n",
       "        </tbody>\n",
       "        </table>\n",
       "        "
      ],
      "text/plain": [
       "HypothesisTest(description='difference between means (paired)', alternative='two-sided', method='t', sample_stat='mean(x) - mean(y)', sample_stat_target=0, sample_stat_value=1.0700000000000012, stat=21.59279668728163, pvalue=4.614431150294316e-09, null='mean(x) - mean(y) == 0', alt='mean(x) - mean(y) != 0')"
      ]
     },
     "execution_count": 14,
     "metadata": {},
     "output_type": "execute_result"
    }
   ],
   "source": [
    "alt = 'two-sided'   # 'less', 'two-sided', 'greater'\n",
    "mqr.inference.mean.test_paired(data1, data2, alternative=alt)"
   ]
  },
  {
   "cell_type": "markdown",
   "id": "1bf194c7",
   "metadata": {},
   "source": [
    "Here we get a very small p-value, and so we can reject the null hypothesis of no difference, and the means are different, the treatment did affect the mean, the mean significantly shifted.  Notice this result from the exact same numerical data values in the previous 2 sample test where the different could not be rejected.  \n",
    "\n",
    "----------------------------------------------------------------------------------\n",
    "## 1.7 One Sample Defect Rate Test\n",
    "\n",
    "A process may be monitored by counting the number of defects on each part or per unit length or per unit area, etc. The average defect rate $\\lambda$ is a statistic of interest.  A one sample rate test considers whether the defect rate has changed.  Typically there may be zero, one, two, ... defects per sample, and each sample is $L$ big, such as 100m or 10m$^2$ etc.  Then the average defect rate is $\\lambda = \\frac{c}{n L}$.\n",
    "\n",
    "Below is code to perform a one sample rate-test to compare sample defect rate versus a hypothesized (perhaps historical) defect rate.\n",
    "\n",
    "Define the number of defects in the sample $c$, the number of samples $n$, the 'length' $L$ of each sample, and the alternative hypothesis.\n",
    "\n",
    "Suppose the historical defect rate is 0.1 defects per unit.  Suppose today we observed 13 defects (sometimes none, sometimes one per unit, sometimes 2 per unit) total over 100 units built.  Has the defect rate gone up? "
   ]
  },
  {
   "cell_type": "code",
   "execution_count": 15,
   "id": "8dd0ca2f",
   "metadata": {},
   "outputs": [
    {
     "data": {
      "text/html": [
       "\n",
       "        <table>\n",
       "        <thead>\n",
       "            <tr>\n",
       "                <th scope=\"col\" colspan=2 style=\"text-align: left; padding-bottom: 0px;\">Hypothesis Test</th>\n",
       "            </tr>\n",
       "            <tr style='padding-top: 0px;'>\n",
       "                <td colspan=2 style='text-align: left; padding-top: 0px'>rate of events</td>\n",
       "            </tr>\n",
       "        </thead>\n",
       "        <tbody>\n",
       "            <tr>\n",
       "                <th scope=\"row\">method</th>\n",
       "                <td>exact-c</th>\n",
       "            </tr>\n",
       "            <tr>\n",
       "                <th scope=\"row\">H<sub>0</sub></th>\n",
       "                <td>rate == 0.1</td>\n",
       "            </tr>\n",
       "            <tr>\n",
       "                <th scope=\"row\">H<sub>1</sub></th>\n",
       "                <td>rate > 0.1</td>\n",
       "            </tr>\n",
       "            <thead><tr/></thead>\n",
       "            <tr>\n",
       "                <th scope=\"row\">statistic</th>\n",
       "                <td>nan</td>\n",
       "            </tr>\n",
       "            <tr>\n",
       "                <th scope=\"row\">p-value</th>\n",
       "                <td>0.208444</td>\n",
       "            </tr>\n",
       "        </tbody>\n",
       "        </table>\n",
       "        "
      ],
      "text/plain": [
       "HypothesisTest(description='rate of events', alternative='greater', method='exact-c', sample_stat='rate', sample_stat_target=0.1, sample_stat_value=0.13, stat=nan, pvalue=0.20844352360512552, null='rate == 0.1', alt='rate > 0.1')"
      ]
     },
     "execution_count": 15,
     "metadata": {},
     "output_type": "execute_result"
    }
   ],
   "source": [
    "trate = 0.1      # target or reference defect rate (defects per ...)\n",
    "c = 13           # observed defects\n",
    "n = 100          # number of samples\n",
    "L = 1            # 'length' of the observation. length, area, ...\n",
    "\n",
    "mqr.inference.rate.test_1sample(\n",
    "    count=c,\n",
    "    n=n,\n",
    "    meas=L,\n",
    "    H0_rate=trate,\n",
    "    alternative='greater')"
   ]
  },
  {
   "cell_type": "markdown",
   "id": "e487a2c0-a0f8-466d-af1d-67c9caee0b18",
   "metadata": {},
   "source": [
    "We see the p-value of the test is $p = 0.2 > 0.05$ and so we cannot reject the null hypothesis, we 'accept' there is no difference between the sample data and a defect rate of 0.1 defects per unit.  "
   ]
  },
  {
   "cell_type": "markdown",
   "id": "d0b22816",
   "metadata": {},
   "source": [
    "------------------------------------------------------------------------------------\n",
    "## 1.8 Two Samples Defect Rates Test\n",
    "\n",
    "Below is an example of performing a two samples rate-test to determine whether the defect rate of one sample is different from the defect rate of another sample. Define the number of defects in each sample, the number of samples, the 'length' of each sample, and the alternative hypothesis.  \n",
    "\n",
    "For example, suppose in a sample of 150 parts, each of length 1.0, there were 20 total defects observed (some parts had zero defects, some had 1 defect, some had 2 defects, etc., and the sum of defects over all 150 parts was 20 defects).  Suppose in a second sample of 150 parts, each of length 1.0, there were 39 total defects.  Is there a difference in average defect rate in the populations from which the samples were drawn?  \n",
    "\n",
    "Below is code to compute the test using the exact and normal-approximation approaches."
   ]
  },
  {
   "cell_type": "code",
   "execution_count": 16,
   "id": "383aae5e",
   "metadata": {},
   "outputs": [
    {
     "data": {
      "text/html": [
       "<div style=\"display:flex;flex-direction:row;justify-content:stretch;justify-items:center;align-content:start;align-items:start;\"><div style=\"margin:5px 10px 5px 10px;\">\n",
       "        <table>\n",
       "        <thead>\n",
       "            <tr>\n",
       "                <th scope=\"col\" colspan=2 style=\"text-align: left; padding-bottom: 0px;\">Hypothesis Test</th>\n",
       "            </tr>\n",
       "            <tr style='padding-top: 0px;'>\n",
       "                <td colspan=2 style='text-align: left; padding-top: 0px'>ratio of rates of events</td>\n",
       "            </tr>\n",
       "        </thead>\n",
       "        <tbody>\n",
       "            <tr>\n",
       "                <th scope=\"row\">method</th>\n",
       "                <td>exact-cond</th>\n",
       "            </tr>\n",
       "            <tr>\n",
       "                <th scope=\"row\">H<sub>0</sub></th>\n",
       "                <td>rate1 / rate2 == 1</td>\n",
       "            </tr>\n",
       "            <tr>\n",
       "                <th scope=\"row\">H<sub>1</sub></th>\n",
       "                <td>rate1 / rate2 != 1</td>\n",
       "            </tr>\n",
       "            <thead><tr/></thead>\n",
       "            <tr>\n",
       "                <th scope=\"row\">statistic</th>\n",
       "                <td>nan</td>\n",
       "            </tr>\n",
       "            <tr>\n",
       "                <th scope=\"row\">p-value</th>\n",
       "                <td>0.0183371</td>\n",
       "            </tr>\n",
       "        </tbody>\n",
       "        </table>\n",
       "        </div><div style=\"margin:5px 10px 5px 10px;\">\n",
       "        <table>\n",
       "        <thead>\n",
       "            <tr>\n",
       "                <th scope=\"col\" colspan=2 style=\"text-align: left; padding-bottom: 0px;\">Hypothesis Test</th>\n",
       "            </tr>\n",
       "            <tr style='padding-top: 0px;'>\n",
       "                <td colspan=2 style='text-align: left; padding-top: 0px'>difference between rates of events</td>\n",
       "            </tr>\n",
       "        </thead>\n",
       "        <tbody>\n",
       "            <tr>\n",
       "                <th scope=\"row\">method</th>\n",
       "                <td>score</th>\n",
       "            </tr>\n",
       "            <tr>\n",
       "                <th scope=\"row\">H<sub>0</sub></th>\n",
       "                <td>rate1 - rate2 == 0</td>\n",
       "            </tr>\n",
       "            <tr>\n",
       "                <th scope=\"row\">H<sub>1</sub></th>\n",
       "                <td>rate1 - rate2 != 0</td>\n",
       "            </tr>\n",
       "            <thead><tr/></thead>\n",
       "            <tr>\n",
       "                <th scope=\"row\">statistic</th>\n",
       "                <td>-2.47359</td>\n",
       "            </tr>\n",
       "            <tr>\n",
       "                <th scope=\"row\">p-value</th>\n",
       "                <td>0.0133763</td>\n",
       "            </tr>\n",
       "        </tbody>\n",
       "        </table>\n",
       "        </div></div>"
      ],
      "text/plain": [
       "<IPython.core.display.HTML object>"
      ]
     },
     "execution_count": 16,
     "metadata": {},
     "output_type": "execute_result"
    }
   ],
   "source": [
    "n1 = 150         # sample size one\n",
    "c1 = 20          # observed defects sample 1\n",
    "L1 = 1.0         # 'length' of the observation. length, area, ...\n",
    "n2 = 150         # sample size one\n",
    "c2 = 39          # observed defects sample 1\n",
    "L2 = 1.0         # 'length' of the observation. length, area, ...\n",
    "\n",
    "hstack(\n",
    "    # Equivalent to manual code\n",
    "    mqr.inference.rate.test_2sample(c1, n1, c2, n2, L1, L2, alternative='two-sided', compare='ratio', method='exact-cond'),\n",
    "    # statsmodels defaults\n",
    "    mqr.inference.rate.test_2sample(c1, n1, c2, n2, L1, L2, alternative='two-sided'))"
   ]
  },
  {
   "cell_type": "markdown",
   "id": "35f640d0",
   "metadata": {},
   "source": [
    "Using either test, the p-values are low.  The defect rates are different. \n",
    "\n",
    "--------------------------------------------------------------------------------------\n",
    "## 1.9 One Proportion Test\n",
    "\n",
    "An example of a test of a sample proportion defective versus a hypothesized (historical) defective rate.  Define the sample size, number of defectives in the sample, the hypothesized defective proportion, and the alternative hypothesis.  \n",
    "\n",
    "For example, suppose in a sample of 100 parts, 3 defectives were observed.  The historical defective proportion is 1%. Has the defective proportion increased?  "
   ]
  },
  {
   "cell_type": "code",
   "execution_count": 17,
   "id": "cdb09190",
   "metadata": {},
   "outputs": [
    {
     "name": "stdout",
     "output_type": "stream",
     "text": [
      "Sample estimate of the proportion: 0.03\n"
     ]
    },
    {
     "data": {
      "text/html": [
       "\n",
       "        <table>\n",
       "        <thead>\n",
       "            <tr>\n",
       "                <th scope=\"col\" colspan=2 style=\"text-align: left; padding-bottom: 0px;\">Hypothesis Test</th>\n",
       "            </tr>\n",
       "            <tr style='padding-top: 0px;'>\n",
       "                <td colspan=2 style='text-align: left; padding-top: 0px'>proportion of \"true\" elements</td>\n",
       "            </tr>\n",
       "        </thead>\n",
       "        <tbody>\n",
       "            <tr>\n",
       "                <th scope=\"row\">method</th>\n",
       "                <td>binom</th>\n",
       "            </tr>\n",
       "            <tr>\n",
       "                <th scope=\"row\">H<sub>0</sub></th>\n",
       "                <td>count / nobs == 0.01</td>\n",
       "            </tr>\n",
       "            <tr>\n",
       "                <th scope=\"row\">H<sub>1</sub></th>\n",
       "                <td>count / nobs > 0.01</td>\n",
       "            </tr>\n",
       "            <thead><tr/></thead>\n",
       "            <tr>\n",
       "                <th scope=\"row\">statistic</th>\n",
       "                <td>nan</td>\n",
       "            </tr>\n",
       "            <tr>\n",
       "                <th scope=\"row\">p-value</th>\n",
       "                <td>0.0793732</td>\n",
       "            </tr>\n",
       "        </tbody>\n",
       "        </table>\n",
       "        "
      ],
      "text/plain": [
       "HypothesisTest(description='proportion of \"true\" elements', alternative='greater', method='binom', sample_stat='count / nobs', sample_stat_target=0.01, sample_stat_value=0.03, stat=nan, pvalue=0.07937320225218046, null='count / nobs == 0.01', alt='count / nobs > 0.01')"
      ]
     },
     "execution_count": 17,
     "metadata": {},
     "output_type": "execute_result"
    }
   ],
   "source": [
    "count = 3      # number of observed defectives in the sample\n",
    "nobs = 100     # sample size\n",
    "prop = 0.01    # Hypothesized proportion\n",
    "alt = 'greater' # 'less', 'two-sided', 'greater'\n",
    "\n",
    "print('Sample estimate of the proportion:', count/nobs)\n",
    "mqr.inference.proportion.test_1sample(count, nobs, H0_prop=prop, alternative=alt)"
   ]
  },
  {
   "cell_type": "markdown",
   "id": "f89163a4",
   "metadata": {},
   "source": [
    "Here we see that, despite the defective proportion being 3X larger than the historical defective proportion, the p-value remains high, $p = 0.8 > 0.05$, and we cannot reject the null hypothesis. We cannot say the defective proportion has increased, the sample size is too small.\n",
    "\n",
    "-----------------------------------------------------------------------------------------------\n",
    "## 1.10 Two Proportion Test\n",
    "\n",
    "Next is a test of two defective proportions, one sample defective proportion versus another independent sample.\n",
    "Define the sample sizes, number of defectives in each sample, and the alternative hypothesis.\n",
    "\n",
    "Here suppose one sample of 100 units has 3 defective, and another later sample has 0 defective.  Has the defective proportion changed?  "
   ]
  },
  {
   "cell_type": "code",
   "execution_count": 18,
   "id": "2e08ae7a",
   "metadata": {},
   "outputs": [
    {
     "name": "stdout",
     "output_type": "stream",
     "text": [
      "Sample estimate of the first proportion: 0.03\n",
      "Sample estimate of the second proportion: 0.0\n",
      "Sample estimate of the proportion difference: 0.03\n"
     ]
    },
    {
     "data": {
      "text/html": [
       "\n",
       "        <table>\n",
       "        <thead>\n",
       "            <tr>\n",
       "                <th scope=\"col\" colspan=2 style=\"text-align: left; padding-bottom: 0px;\">Hypothesis Test</th>\n",
       "            </tr>\n",
       "            <tr style='padding-top: 0px;'>\n",
       "                <td colspan=2 style='text-align: left; padding-top: 0px'>difference between proportions of \"true\" elements</td>\n",
       "            </tr>\n",
       "        </thead>\n",
       "        <tbody>\n",
       "            <tr>\n",
       "                <th scope=\"row\">method</th>\n",
       "                <td>agresti-caffo</th>\n",
       "            </tr>\n",
       "            <tr>\n",
       "                <th scope=\"row\">H<sub>0</sub></th>\n",
       "                <td>count1 / nobs1 - count2 / nobs2 == 0</td>\n",
       "            </tr>\n",
       "            <tr>\n",
       "                <th scope=\"row\">H<sub>1</sub></th>\n",
       "                <td>count1 / nobs1 - count2 / nobs2 != 0</td>\n",
       "            </tr>\n",
       "            <thead><tr/></thead>\n",
       "            <tr>\n",
       "                <th scope=\"row\">statistic</th>\n",
       "                <td>1.36458</td>\n",
       "            </tr>\n",
       "            <tr>\n",
       "                <th scope=\"row\">p-value</th>\n",
       "                <td>0.172386</td>\n",
       "            </tr>\n",
       "        </tbody>\n",
       "        </table>\n",
       "        "
      ],
      "text/plain": [
       "HypothesisTest(description='difference between proportions of \"true\" elements', alternative='two-sided', method='agresti-caffo', sample_stat='count1 / nobs1 - count2 / nobs2', sample_stat_target=0.0, sample_stat_value=0.03, stat=1.364576478442026, pvalue=0.17238620178886022, null='count1 / nobs1 - count2 / nobs2 == 0', alt='count1 / nobs1 - count2 / nobs2 != 0')"
      ]
     },
     "execution_count": 18,
     "metadata": {},
     "output_type": "execute_result"
    }
   ],
   "source": [
    "count1 = 3\n",
    "nobs1 = 100\n",
    "count2 = 0\n",
    "nobs2 = 100\n",
    "alt = 'two-sided'   # 'less', 'two-sided', 'greater'\n",
    "method = 'agresti-caffo'     # 'wald', 'agresti-caffo', 'score'\n",
    "\n",
    "print('Sample estimate of the first proportion:', count1/nobs1)\n",
    "print('Sample estimate of the second proportion:', count2/nobs2)\n",
    "print('Sample estimate of the proportion difference:', count1/nobs1-count2/nobs2)\n",
    "\n",
    "mqr.inference.proportion.test_2sample(count1, nobs1, count2, nobs2, alternative=alt, method=method)"
   ]
  },
  {
   "cell_type": "markdown",
   "id": "3f7b4541",
   "metadata": {},
   "source": [
    "We see the p-value is large and so we cannot reject the null, we do not have evidence to say the defective proportion has changed.  \n",
    "\n",
    "****************************************************************************\n",
    "# 2.0 Sample Size Calculators\n",
    "\n",
    "Sample size calculators are provided for the following hypothesis tests of means.\n",
    "\n",
    "\n",
    "| Test              | Purpose | Math           | Python                     |\n",
    "|-------------------|:-------:|:--------------:|:---------------------------|\n",
    "| One sample t-test | Compare mean, $\\sigma$ unknown | $$ n = \\frac{(t_{1-\\alpha,n-1}+t_{1-\\beta,n-1})^2 s^2}{\\delta^2} $$ | mqr.inference.mean.size_1sample |\n",
    "| Two sample t-test | Compare means two independent samples | $$ n = \\frac{2(t_{1-\\alpha,n-1}+t_{1-\\beta,n-1})^2 s^2}{\\delta^2} $$ | mqr.inference.mean.size_2sample |\n",
    "| Paired t-test | Compare means paired data  | $$ n = \\frac{(t_{1-\\alpha,n-1}+t_{1-\\beta,n-1})^2 s_d^2}{\\delta^2} $$ | mqr.inference.mean.size_paired |\n",
    "| One sample $\\chi^2$-test | Compare $\\sigma$ | $$ n: \\chi^2_{1-\\alpha,n} = r^2 \\chi^2_{\\beta,n} $$ | mqr.inference.stddev.size_1sample |\n",
    "| Two sample F-test | Compare two $\\sigma$'s | $$ n: F_{1-\\alpha,n_1,n_2} = r^2 F_{\\beta,n_1,n_2} $$ | mqr.inference.stddev.size_2sample |\n",
    "| One sample rate test | Compare $\\rho$ | $$ n= \\frac{\\chi^2_{1-\\alpha,M}}{2R_A}, \\chi^2_{\\alpha,M} = (\\frac{R_A}{R_0})^2 \\chi^2_{1-\\beta,M} $$ | mqr.inference.rate.size_1sample |\n",
    "| Two sample rate test | Compare $\\rho$'s | $$ n= \\frac{2(Z_\\alpha \\sqrt{R_1}+Z_\\beta \\sqrt{R_2})^2}{(R_1-R_2)^2} $$ | mqr.inference.rate.size_2sample |\n",
    "| One sample proportion test | Compare $\\pi$ | $$ n= \\frac{(Z_\\alpha +Z_\\beta)^2}{4(\\sin^{-1}\\sqrt{\\pi_0} - \\sin^{-1}\\sqrt{\\pi_A})^2} $$ | mqr.inference.proportion.size_1sample |\n",
    "| Two sample proportion test | Compare $\\pi$'s | $$ n= \\frac{2(Z_\\alpha +Z_\\beta)^2}{4(\\sin^{-1}\\sqrt{\\pi_0} - \\sin^{-1}\\sqrt{\\pi_A})^2} $$ | mqr.inference.proportion.size_2sample |\n",
    "\n"
   ]
  },
  {
   "cell_type": "markdown",
   "id": "674280cd",
   "metadata": {},
   "source": [
    "-------------------------------------------------------------------------------------------------\n",
    "## 2.1 One Sample t-test Sample Size\n",
    "\n",
    "Performs a sample size calculation needed to achieve power and confidence levels to detect a specified difference in mean."
   ]
  },
  {
   "cell_type": "code",
   "execution_count": 19,
   "id": "1cad2a94",
   "metadata": {},
   "outputs": [
    {
     "data": {
      "text/html": [
       "\n",
       "        <table>\n",
       "        <thead>\n",
       "            <tr>\n",
       "                <th scope=\"col\" colspan=2 style=\"text-align: left; padding-bottom: 0px;\">Test Power</th>\n",
       "            </tr>\n",
       "            <tr style='padding-top: 0px;'>\n",
       "                <td colspan=2 style='text-align: left; padding-top: 0px'>mean</td>\n",
       "            </tr>\n",
       "        </thead>\n",
       "        <tbody>\n",
       "            <tr>\n",
       "                <th scope='row' style='text-align: left;'>alpha</td>\n",
       "                <td style='text-align: left;'>0.05</td>\n",
       "            </tr>\n",
       "            <tr>\n",
       "                <th scope='row' style='text-align: left;'>beta</td>\n",
       "                <td style='text-align: left;'>0.05</td>\n",
       "            </tr>\n",
       "            <tr>\n",
       "                <th scope='row' style='text-align: left;'>effect</td>\n",
       "                <td style='text-align: left;'>1</td>\n",
       "            </tr>\n",
       "            <tr>\n",
       "                <th scope='row' style='text-align: left;'>alternative</td>\n",
       "                <td style='text-align: left;'>two-sided</td>\n",
       "            </tr>\n",
       "            <tr>\n",
       "                <th scope='row' style='text-align: left;'>method</td>\n",
       "                <td style='text-align: left;'>t</td>\n",
       "            </tr>\n",
       "            <thead><tr/></thead>\n",
       "            <tr>\n",
       "                <th scope='row' style='text-align: left;'>sample size</td>\n",
       "                <td style='text-align: left;'>15.0631</td>\n",
       "            </tr>\n",
       "        </tbody>\n",
       "        </table>\n",
       "        "
      ],
      "text/plain": [
       "TestPower(name='mean', alpha=0.05, beta=0.05, effect=1.0, alternative='two-sided', method='t', sample_size=15.063090384408234)"
      ]
     },
     "execution_count": 19,
     "metadata": {},
     "output_type": "execute_result"
    }
   ],
   "source": [
    "beta = 0.05    # 1 - Power\n",
    "alpha = 0.05   # Significance level\n",
    "effect = 1.0   # difference to detect in comparison to sigma (eg effect = delta/sigma)\n",
    "alt = 'two-sided' # 'less', 'two-sided', 'greater'\n",
    "\n",
    "mqr.inference.mean.size_1sample(\n",
    "    effect=effect,\n",
    "    alpha=alpha,\n",
    "    beta=beta,\n",
    "    alternative=alt)"
   ]
  },
  {
   "cell_type": "markdown",
   "id": "1aaa7eed",
   "metadata": {},
   "source": [
    "Rounding up, 16 samples are needed to detect a mean shift of 1 sigma.  A reasonably small number of samples are needed to see if a process has shifted.\n",
    "\n",
    "------------------------------------------------------------------------------------------------------------\n",
    "## 2.2 Two Sample t-test Sample Size\n",
    "\n",
    "Performs a sample size calculation needed to achieve power and confidence levels to detect a specified difference in means."
   ]
  },
  {
   "cell_type": "code",
   "execution_count": 20,
   "id": "3f1bcd1f",
   "metadata": {},
   "outputs": [
    {
     "data": {
      "text/html": [
       "\n",
       "        <table>\n",
       "        <thead>\n",
       "            <tr>\n",
       "                <th scope=\"col\" colspan=2 style=\"text-align: left; padding-bottom: 0px;\">Test Power</th>\n",
       "            </tr>\n",
       "            <tr style='padding-top: 0px;'>\n",
       "                <td colspan=2 style='text-align: left; padding-top: 0px'>difference between means (independent)</td>\n",
       "            </tr>\n",
       "        </thead>\n",
       "        <tbody>\n",
       "            <tr>\n",
       "                <th scope='row' style='text-align: left;'>alpha</td>\n",
       "                <td style='text-align: left;'>0.05</td>\n",
       "            </tr>\n",
       "            <tr>\n",
       "                <th scope='row' style='text-align: left;'>beta</td>\n",
       "                <td style='text-align: left;'>0.05</td>\n",
       "            </tr>\n",
       "            <tr>\n",
       "                <th scope='row' style='text-align: left;'>effect</td>\n",
       "                <td style='text-align: left;'>0.2</td>\n",
       "            </tr>\n",
       "            <tr>\n",
       "                <th scope='row' style='text-align: left;'>alternative</td>\n",
       "                <td style='text-align: left;'>two-sided</td>\n",
       "            </tr>\n",
       "            <tr>\n",
       "                <th scope='row' style='text-align: left;'>method</td>\n",
       "                <td style='text-align: left;'>t</td>\n",
       "            </tr>\n",
       "            <thead><tr/></thead>\n",
       "            <tr>\n",
       "                <th scope='row' style='text-align: left;'>sample size</td>\n",
       "                <td style='text-align: left;'>650.697</td>\n",
       "            </tr>\n",
       "        </tbody>\n",
       "        </table>\n",
       "        "
      ],
      "text/plain": [
       "TestPower(name='difference between means (independent)', alpha=0.05, beta=0.05, effect=0.2, alternative='two-sided', method='t', sample_size=650.6974252102946)"
      ]
     },
     "execution_count": 20,
     "metadata": {},
     "output_type": "execute_result"
    }
   ],
   "source": [
    "beta = 0.05    # 1 - Power\n",
    "alpha = 0.05   # Significance level\n",
    "effect = 0.2   # difference to detect in comparison to sigma (eg effect = delta/sigma)\n",
    "alt = 'two-sided' # 'less', 'two-sided', 'greater'\n",
    "\n",
    "mqr.inference.mean.size_2sample(\n",
    "    effect=effect,\n",
    "    alpha=alpha,\n",
    "    beta=beta,\n",
    "    alternative=alt)"
   ]
  },
  {
   "cell_type": "markdown",
   "id": "176350ee",
   "metadata": {},
   "source": [
    "Rounding up, 651 samples are needed to detect a mean shift of 0.2 sigma from one sample to another.  650 in each sample.  This large number is required since such as small shift is attempting to be detected, only 0.2 sigma, this is unreasonable.  Replace the 0.2 effect with a 1.0 effect, a 1-sigma difference in means, and compute the required sample size.\n",
    "\n",
    "------------------------------------------------------------------------------------------------------\n",
    "## 2.3 Two Sample Paired t-test Sample Size\n",
    "\n",
    "Performs a sample size calculation needed to achieve power and confidence levels to detect a specified difference in means."
   ]
  },
  {
   "cell_type": "code",
   "execution_count": 21,
   "id": "d3092805",
   "metadata": {},
   "outputs": [
    {
     "data": {
      "text/plain": [
       "'NB: the sample size is the number of pairs to measure. That is, take sample_size samples from each population.'"
      ]
     },
     "metadata": {},
     "output_type": "display_data"
    },
    {
     "data": {
      "text/html": [
       "\n",
       "        <table>\n",
       "        <thead>\n",
       "            <tr>\n",
       "                <th scope=\"col\" colspan=2 style=\"text-align: left; padding-bottom: 0px;\">Test Power</th>\n",
       "            </tr>\n",
       "            <tr style='padding-top: 0px;'>\n",
       "                <td colspan=2 style='text-align: left; padding-top: 0px'>difference between means (paired)</td>\n",
       "            </tr>\n",
       "        </thead>\n",
       "        <tbody>\n",
       "            <tr>\n",
       "                <th scope='row' style='text-align: left;'>alpha</td>\n",
       "                <td style='text-align: left;'>0.05</td>\n",
       "            </tr>\n",
       "            <tr>\n",
       "                <th scope='row' style='text-align: left;'>beta</td>\n",
       "                <td style='text-align: left;'>0.05</td>\n",
       "            </tr>\n",
       "            <tr>\n",
       "                <th scope='row' style='text-align: left;'>effect</td>\n",
       "                <td style='text-align: left;'>0.2</td>\n",
       "            </tr>\n",
       "            <tr>\n",
       "                <th scope='row' style='text-align: left;'>alternative</td>\n",
       "                <td style='text-align: left;'>two-sided</td>\n",
       "            </tr>\n",
       "            <tr>\n",
       "                <th scope='row' style='text-align: left;'>method</td>\n",
       "                <td style='text-align: left;'>t</td>\n",
       "            </tr>\n",
       "            <thead><tr/></thead>\n",
       "            <tr>\n",
       "                <th scope='row' style='text-align: left;'>sample size</td>\n",
       "                <td style='text-align: left;'>326.795</td>\n",
       "            </tr>\n",
       "        </tbody>\n",
       "        </table>\n",
       "        "
      ],
      "text/plain": [
       "TestPower(name='difference between means (paired)', alpha=0.05, beta=0.05, effect=0.2, alternative='two-sided', method='t', sample_size=326.7952154095739)"
      ]
     },
     "execution_count": 21,
     "metadata": {},
     "output_type": "execute_result"
    }
   ],
   "source": [
    "beta = 0.05    # 1 - Power\n",
    "alpha = 0.05   # Significance level\n",
    "effect = 0.2   # difference to detect in comparison to sigma (eg effect = delta/sigma)\n",
    "alt = 'two-sided' # 'less', 'two-sided', 'greater'\n",
    "\n",
    "display('NB: the sample size is the number of pairs to measure. That is, take sample_size samples from each population.')\n",
    "mqr.inference.mean.size_paired(effect, alpha, beta, alt)"
   ]
  },
  {
   "cell_type": "markdown",
   "id": "05be28df",
   "metadata": {},
   "source": [
    "That is, 327 samples are needed to detect a 0.2 sigma shift if the data is paired.  The paired and single t-tests require about half as many samples as a two sample t-test.\n",
    "\n",
    "-------------------------------------------------------------------------------------------------\n",
    "## 2.4 One Sample Standard Deviation Sample Size\n",
    "\n",
    "Performs a sample size calculation needed to achieve power and confidence levels to detect a specified difference in standard deviation."
   ]
  },
  {
   "cell_type": "code",
   "execution_count": 22,
   "id": "bf61eb1f",
   "metadata": {},
   "outputs": [
    {
     "data": {
      "text/html": [
       "\n",
       "        <table>\n",
       "        <thead>\n",
       "            <tr>\n",
       "                <th scope=\"col\" colspan=2 style=\"text-align: left; padding-bottom: 0px;\">Test Power</th>\n",
       "            </tr>\n",
       "            <tr style='padding-top: 0px;'>\n",
       "                <td colspan=2 style='text-align: left; padding-top: 0px'>standard deviation</td>\n",
       "            </tr>\n",
       "        </thead>\n",
       "        <tbody>\n",
       "            <tr>\n",
       "                <th scope='row' style='text-align: left;'>alpha</td>\n",
       "                <td style='text-align: left;'>0.05</td>\n",
       "            </tr>\n",
       "            <tr>\n",
       "                <th scope='row' style='text-align: left;'>beta</td>\n",
       "                <td style='text-align: left;'>0.05</td>\n",
       "            </tr>\n",
       "            <tr>\n",
       "                <th scope='row' style='text-align: left;'>effect</td>\n",
       "                <td style='text-align: left;'>1.2</td>\n",
       "            </tr>\n",
       "            <tr>\n",
       "                <th scope='row' style='text-align: left;'>alternative</td>\n",
       "                <td style='text-align: left;'>greater</td>\n",
       "            </tr>\n",
       "            <tr>\n",
       "                <th scope='row' style='text-align: left;'>method</td>\n",
       "                <td style='text-align: left;'>chi2</td>\n",
       "            </tr>\n",
       "            <thead><tr/></thead>\n",
       "            <tr>\n",
       "                <th scope='row' style='text-align: left;'>sample size</td>\n",
       "                <td style='text-align: left;'>164.637</td>\n",
       "            </tr>\n",
       "        </tbody>\n",
       "        </table>\n",
       "        "
      ],
      "text/plain": [
       "TestPower(name='standard deviation', alpha=0.05, beta=0.05, effect=1.2, alternative='greater', method='chi2', sample_size=164.6372137721485)"
      ]
     },
     "execution_count": 22,
     "metadata": {},
     "output_type": "execute_result"
    }
   ],
   "source": [
    "ratio = 1.2     # ratio of standard deviation from a reference target (s_0/s)\n",
    "alt = 'greater' # 'less', 'two-sided', 'greater'  The alternative hypothesis\n",
    "alpha = 0.05    # significance\n",
    "beta = 0.05     # 1 - power\n",
    "\n",
    "mqr.inference.stddev.size_1sample(ratio, alpha, beta, alt)"
   ]
  },
  {
   "cell_type": "markdown",
   "id": "1af7ea68",
   "metadata": {},
   "source": [
    "This indicates 165 samples are needed to detect if the standard deviation has grown by 20%.  Detecting variance shifts are more difficult with roughly 10X more samples than a mean shift.  Statistical control of random variability is difficult.  \n",
    "\n",
    "----------------------------------------------------------------------------------------\n",
    "## 2.5 Two Sample Standard Deviation Sample Size\n",
    "\n",
    "Performs a sample size calculation needed to achieve power and confidence levels to detect a specified difference in standard deviation."
   ]
  },
  {
   "cell_type": "code",
   "execution_count": 23,
   "id": "6be5b36c",
   "metadata": {},
   "outputs": [
    {
     "data": {
      "text/html": [
       "\n",
       "        <table>\n",
       "        <thead>\n",
       "            <tr>\n",
       "                <th scope=\"col\" colspan=2 style=\"text-align: left; padding-bottom: 0px;\">Test Power</th>\n",
       "            </tr>\n",
       "            <tr style='padding-top: 0px;'>\n",
       "                <td colspan=2 style='text-align: left; padding-top: 0px'>ratio of standard deviations</td>\n",
       "            </tr>\n",
       "        </thead>\n",
       "        <tbody>\n",
       "            <tr>\n",
       "                <th scope='row' style='text-align: left;'>alpha</td>\n",
       "                <td style='text-align: left;'>0.05</td>\n",
       "            </tr>\n",
       "            <tr>\n",
       "                <th scope='row' style='text-align: left;'>beta</td>\n",
       "                <td style='text-align: left;'>0.05</td>\n",
       "            </tr>\n",
       "            <tr>\n",
       "                <th scope='row' style='text-align: left;'>effect</td>\n",
       "                <td style='text-align: left;'>0.714286</td>\n",
       "            </tr>\n",
       "            <tr>\n",
       "                <th scope='row' style='text-align: left;'>alternative</td>\n",
       "                <td style='text-align: left;'>less</td>\n",
       "            </tr>\n",
       "            <tr>\n",
       "                <th scope='row' style='text-align: left;'>method</td>\n",
       "                <td style='text-align: left;'>f</td>\n",
       "            </tr>\n",
       "            <thead><tr/></thead>\n",
       "            <tr>\n",
       "                <th scope='row' style='text-align: left;'>sample size</td>\n",
       "                <td style='text-align: left;'>97.538</td>\n",
       "            </tr>\n",
       "        </tbody>\n",
       "        </table>\n",
       "        "
      ],
      "text/plain": [
       "TestPower(name='ratio of standard deviations', alpha=0.05, beta=0.05, effect=0.7142857142857143, alternative='less', method='f', sample_size=97.53796605114529)"
      ]
     },
     "execution_count": 23,
     "metadata": {},
     "output_type": "execute_result"
    }
   ],
   "source": [
    "ratio = 2.5/3.5    # Ratio of s1/s2\n",
    "alpha = 0.05   # significance\n",
    "beta = 0.05    # 1 - power\n",
    "alt = 'less'\n",
    "\n",
    "mqr.inference.stddev.size_2sample(ratio, alpha, beta, alt)"
   ]
  },
  {
   "cell_type": "markdown",
   "id": "af36ef2e",
   "metadata": {},
   "source": [
    "This indicates 98 samples are needed to detect if the standard deviation has significantly changed by 1.0 in a new sample from a sample where it was 2.5.  Again, detecting variability differences is difficult, requiring 5-10X more samples than mean difference.  \n",
    "\n",
    "-----------------------------------------------------------------------------------------\n",
    "## 2.6 One Sample Rate Sample Size\n",
    "\n",
    "Calculate the sample size needed for determining a defect rate."
   ]
  },
  {
   "cell_type": "code",
   "execution_count": 24,
   "id": "90227f41-5c51-44bd-a70b-fe949cc6f770",
   "metadata": {},
   "outputs": [
    {
     "data": {
      "text/html": [
       "\n",
       "        <table>\n",
       "        <thead>\n",
       "            <tr>\n",
       "                <th scope=\"col\" colspan=2 style=\"text-align: left; padding-bottom: 0px;\">Test Power</th>\n",
       "            </tr>\n",
       "            <tr style='padding-top: 0px;'>\n",
       "                <td colspan=2 style='text-align: left; padding-top: 0px'>rate of events</td>\n",
       "            </tr>\n",
       "        </thead>\n",
       "        <tbody>\n",
       "            <tr>\n",
       "                <th scope='row' style='text-align: left;'>alpha</td>\n",
       "                <td style='text-align: left;'>0.05</td>\n",
       "            </tr>\n",
       "            <tr>\n",
       "                <th scope='row' style='text-align: left;'>beta</td>\n",
       "                <td style='text-align: left;'>0.05</td>\n",
       "            </tr>\n",
       "            <tr>\n",
       "                <th scope='row' style='text-align: left;'>effect</td>\n",
       "                <td style='text-align: left;'>3 / 2.5 = 1.2</td>\n",
       "            </tr>\n",
       "            <tr>\n",
       "                <th scope='row' style='text-align: left;'>alternative</td>\n",
       "                <td style='text-align: left;'>greater</td>\n",
       "            </tr>\n",
       "            <tr>\n",
       "                <th scope='row' style='text-align: left;'>method</td>\n",
       "                <td style='text-align: left;'>norm-approx</td>\n",
       "            </tr>\n",
       "            <thead><tr/></thead>\n",
       "            <tr>\n",
       "                <th scope='row' style='text-align: left;'>sample size</td>\n",
       "                <td style='text-align: left;'>118.797</td>\n",
       "            </tr>\n",
       "        </tbody>\n",
       "        </table>\n",
       "        "
      ],
      "text/plain": [
       "TestPower(name='rate of events', alpha=0.05, beta=0.05, effect='3 / 2.5 = 1.2', alternative='greater', method='norm-approx', sample_size=118.79744319483905)"
      ]
     },
     "execution_count": 24,
     "metadata": {},
     "output_type": "execute_result"
    }
   ],
   "source": [
    "rate = 3.0      \n",
    "H0_rate = 2.5    \n",
    "alpha = 0.05  \n",
    "beta = 0.05  \n",
    "alt = 'greater'\n",
    "\n",
    "mqr.inference.rate.size_1sample(rate,H0_rate,alpha,beta,alternative=alt)"
   ]
  },
  {
   "cell_type": "markdown",
   "id": "6b3e48aa",
   "metadata": {},
   "source": [
    "This indicates a sample size of 119 parts are needed to detect if the average defect rate has grown by 0.5 defects per unit from 2.5 defects per unit.\n",
    "\n",
    "--------------------------------------------------------------------------------------------\n",
    "## 2.7 Two Sample Rate Sample Size\n",
    "\n",
    "Calculate the sample size needed for determining a defect rate."
   ]
  },
  {
   "cell_type": "code",
   "execution_count": 25,
   "id": "084573da",
   "metadata": {},
   "outputs": [
    {
     "data": {
      "text/html": [
       "\n",
       "        <table>\n",
       "        <thead>\n",
       "            <tr>\n",
       "                <th scope=\"col\" colspan=2 style=\"text-align: left; padding-bottom: 0px;\">Test Power</th>\n",
       "            </tr>\n",
       "            <tr style='padding-top: 0px;'>\n",
       "                <td colspan=2 style='text-align: left; padding-top: 0px'>difference between rates of events</td>\n",
       "            </tr>\n",
       "        </thead>\n",
       "        <tbody>\n",
       "            <tr>\n",
       "                <th scope='row' style='text-align: left;'>alpha</td>\n",
       "                <td style='text-align: left;'>0.05</td>\n",
       "            </tr>\n",
       "            <tr>\n",
       "                <th scope='row' style='text-align: left;'>beta</td>\n",
       "                <td style='text-align: left;'>0.05</td>\n",
       "            </tr>\n",
       "            <tr>\n",
       "                <th scope='row' style='text-align: left;'>effect</td>\n",
       "                <td style='text-align: left;'>2.5 - 3 = -0.5</td>\n",
       "            </tr>\n",
       "            <tr>\n",
       "                <th scope='row' style='text-align: left;'>alternative</td>\n",
       "                <td style='text-align: left;'>less</td>\n",
       "            </tr>\n",
       "            <tr>\n",
       "                <th scope='row' style='text-align: left;'>method</td>\n",
       "                <td style='text-align: left;'>score</td>\n",
       "            </tr>\n",
       "            <thead><tr/></thead>\n",
       "            <tr>\n",
       "                <th scope='row' style='text-align: left;'>sample size</td>\n",
       "                <td style='text-align: left;'>238.088</td>\n",
       "            </tr>\n",
       "        </tbody>\n",
       "        </table>\n",
       "        "
      ],
      "text/plain": [
       "TestPower(name='difference between rates of events', alpha=0.05, beta=0.05, effect='2.5 - 3 = -0.5', alternative='less', method='score', sample_size=238.08782396037472)"
      ]
     },
     "execution_count": 25,
     "metadata": {},
     "output_type": "execute_result"
    }
   ],
   "source": [
    "ra = 2.5      # Alternative rate at which to reject  # defects/(length * nobs)\n",
    "r0 = 3.0      # Nominal rate to test against\n",
    "alpha = 0.05  # significance\n",
    "beta = 0.05    # 1 - power\n",
    "alt = 'less'\n",
    "\n",
    "mqr.inference.rate.size_2sample(\n",
    "    r1=ra,\n",
    "    r2=r0,\n",
    "    alpha=alpha,\n",
    "    beta=beta,\n",
    "    H0_value=0.0,\n",
    "    alternative=alt)"
   ]
  },
  {
   "cell_type": "markdown",
   "id": "c88e7eb3",
   "metadata": {},
   "source": [
    "This indicates 238 parts are needed in each sample to determine if the average defect rate has grown by 0.5 defects per unit from a defect rate of 2.5 defects per unit.\n",
    "\n",
    "--------------------------------------------------------------------------------------------------\n",
    "## 2.8 One Proportion Sample Size\n",
    "\n",
    "Calculates the sample size needed to detect a difference in a proportion from a target."
   ]
  },
  {
   "cell_type": "code",
   "execution_count": 26,
   "id": "3aaa9348",
   "metadata": {},
   "outputs": [
    {
     "data": {
      "text/html": [
       "\n",
       "        <table>\n",
       "        <thead>\n",
       "            <tr>\n",
       "                <th scope=\"col\" colspan=2 style=\"text-align: left; padding-bottom: 0px;\">Test Power</th>\n",
       "            </tr>\n",
       "            <tr style='padding-top: 0px;'>\n",
       "                <td colspan=2 style='text-align: left; padding-top: 0px'>proportion</td>\n",
       "            </tr>\n",
       "        </thead>\n",
       "        <tbody>\n",
       "            <tr>\n",
       "                <th scope='row' style='text-align: left;'>alpha</td>\n",
       "                <td style='text-align: left;'>0.1</td>\n",
       "            </tr>\n",
       "            <tr>\n",
       "                <th scope='row' style='text-align: left;'>beta</td>\n",
       "                <td style='text-align: left;'>0.1</td>\n",
       "            </tr>\n",
       "            <tr>\n",
       "                <th scope='row' style='text-align: left;'>effect</td>\n",
       "                <td style='text-align: left;'>0.02 - 0.03 = -0.01</td>\n",
       "            </tr>\n",
       "            <tr>\n",
       "                <th scope='row' style='text-align: left;'>alternative</td>\n",
       "                <td style='text-align: left;'>less</td>\n",
       "            </tr>\n",
       "            <tr>\n",
       "                <th scope='row' style='text-align: left;'>method</td>\n",
       "                <td style='text-align: left;'>norm-approx</td>\n",
       "            </tr>\n",
       "            <thead><tr/></thead>\n",
       "            <tr>\n",
       "                <th scope='row' style='text-align: left;'>sample size</td>\n",
       "                <td style='text-align: left;'>1584.31</td>\n",
       "            </tr>\n",
       "        </tbody>\n",
       "        </table>\n",
       "        "
      ],
      "text/plain": [
       "TestPower(name='proportion', alpha=0.1, beta=0.1, effect='0.02 - 0.03 = -0.01', alternative='less', method='norm-approx', sample_size=1584.3069851038479)"
      ]
     },
     "execution_count": 26,
     "metadata": {},
     "output_type": "execute_result"
    }
   ],
   "source": [
    "pa = 0.02    # Larger rate at which point you reject the null\n",
    "p0 = 0.03   # Hypothesized rate\n",
    "alpha = 0.1 # significance\n",
    "beta = 0.1  # 1 - power\n",
    "alt = 'less'    # 'less', 'greater', 'two-sided'  Alternative Hypothesis\n",
    "\n",
    "mqr.inference.proportion.size_1sample(\n",
    "    pa=pa,\n",
    "    H0_prop=p0,\n",
    "    alpha=alpha,\n",
    "    beta=beta,\n",
    "    alternative=alt)"
   ]
  },
  {
   "cell_type": "markdown",
   "id": "40eb4c91",
   "metadata": {},
   "source": [
    "This indicates 1585 parts are needed to determine if the defective proportion has grown by 1% from a historical 2% defective proportion.  Counting defectives requires an unreasonably large sample size for detecting changes in defective proportion. \n",
    "\n",
    "----------------------------------------------------------------------------------------------------\n",
    "## 2.9 Two Proportion Sample Size\n",
    "\n",
    "Defines and calculates sample sizes needed to compare defective rates of two populations."
   ]
  },
  {
   "cell_type": "code",
   "execution_count": 27,
   "id": "b9db5284",
   "metadata": {},
   "outputs": [
    {
     "data": {
      "text/html": [
       "\n",
       "        <table>\n",
       "        <thead>\n",
       "            <tr>\n",
       "                <th scope=\"col\" colspan=2 style=\"text-align: left; padding-bottom: 0px;\">Test Power</th>\n",
       "            </tr>\n",
       "            <tr style='padding-top: 0px;'>\n",
       "                <td colspan=2 style='text-align: left; padding-top: 0px'>proportion</td>\n",
       "            </tr>\n",
       "        </thead>\n",
       "        <tbody>\n",
       "            <tr>\n",
       "                <th scope='row' style='text-align: left;'>alpha</td>\n",
       "                <td style='text-align: left;'>0.1</td>\n",
       "            </tr>\n",
       "            <tr>\n",
       "                <th scope='row' style='text-align: left;'>beta</td>\n",
       "                <td style='text-align: left;'>0.1</td>\n",
       "            </tr>\n",
       "            <tr>\n",
       "                <th scope='row' style='text-align: left;'>effect</td>\n",
       "                <td style='text-align: left;'>0.02 - 0.03 = -0.01</td>\n",
       "            </tr>\n",
       "            <tr>\n",
       "                <th scope='row' style='text-align: left;'>alternative</td>\n",
       "                <td style='text-align: left;'>less</td>\n",
       "            </tr>\n",
       "            <tr>\n",
       "                <th scope='row' style='text-align: left;'>method</td>\n",
       "                <td style='text-align: left;'>norm-approx</td>\n",
       "            </tr>\n",
       "            <thead><tr/></thead>\n",
       "            <tr>\n",
       "                <th scope='row' style='text-align: left;'>sample size</td>\n",
       "                <td style='text-align: left;'>3200.99</td>\n",
       "            </tr>\n",
       "        </tbody>\n",
       "        </table>\n",
       "        "
      ],
      "text/plain": [
       "TestPower(name='proportion', alpha=0.1, beta=0.1, effect='0.02 - 0.03 = -0.01', alternative='less', method='norm-approx', sample_size=3200.9875244581217)"
      ]
     },
     "execution_count": 27,
     "metadata": {},
     "output_type": "execute_result"
    }
   ],
   "source": [
    "p1 = 0.02         # Hypothesized rate\n",
    "p2 = 0.03         # Larger rate at which point you reject the null\n",
    "alpha = 0.1      # significance\n",
    "beta = 0.1       # 1 - power\n",
    "alt = 'less' # 'less', 'greater', 'two-sided'  Alternative Hypothesis\n",
    "method = 'norm-approx' # 'norm-approx' (same as minitab/statsmodels) or 'z'\n",
    "\n",
    "mqr.inference.proportion.size_2sample(\n",
    "    p1=p1,\n",
    "    p2=p2,\n",
    "    alpha=alpha,\n",
    "    beta=beta,\n",
    "    alternative=alt,\n",
    "    method=method)"
   ]
  },
  {
   "cell_type": "markdown",
   "id": "cbda8b44",
   "metadata": {},
   "source": [
    "This indicates 3200 parts in each sample is needed to determine if the defect rate has changed by 1% from a 2% defective rate. As before, two sample tests require twice as many units as a one sample test.\n",
    "\n",
    "**********************************************************************************\n",
    "\n",
    "# 3.0 Nonparametric Tests\n",
    "\n",
    "The following non-parametric tests are demonstrated.  \n",
    "\n",
    "\n",
    "| Test        | Purpose | Parametric Equivalent | Python                     |\n",
    "|-------------|:-------:|:---------------------:|:---------------------------|\n",
    "| Runs test | Test for randomness | Anderson-Darling | mqr.inference.nonparametric.dist.test_1sample |\n",
    "| Sign test | Test for median | t-test | mqr.inference.nonparametric.median.test_1sample |\n",
    "| Wlicoxon test | Test for median | t-test | mqr.inference.nonparametric.median.test_1sample |\n",
    "| Levene's test | Test for equal variances | F-test | mqr.inference.nonparametric.median.test_1sample |\n",
    "| Mann-Whitney test | Test for two medians | t-test | mqr.inference.nonparametric.median.test_nsample |\n",
    "| Kruskal-Wallace test | Test for multiple medians | ANOVA | mqr.inference.nonparametric.median.test_nsample |\n",
    "\n",
    "\n"
   ]
  },
  {
   "cell_type": "markdown",
   "id": "57f68a2e",
   "metadata": {},
   "source": [
    "--------------------------------------------------------------------------------------------------------\n",
    "## 3.1 Runs Test\n",
    "\n",
    "The next cell performs a runs test for randomness.  This test must suceed for the subsequent non-parametric tests to be used.  "
   ]
  },
  {
   "cell_type": "code",
   "execution_count": 28,
   "id": "72992fe8",
   "metadata": {},
   "outputs": [
    {
     "data": {
      "text/html": [
       "\n",
       "        <table>\n",
       "        <thead>\n",
       "            <tr>\n",
       "                <th scope=\"col\" colspan=2 style=\"text-align: left; padding-bottom: 0px;\">Hypothesis Test</th>\n",
       "            </tr>\n",
       "            <tr style='padding-top: 0px;'>\n",
       "                <td colspan=2 style='text-align: left; padding-top: 0px'>randomness</td>\n",
       "            </tr>\n",
       "        </thead>\n",
       "        <tbody>\n",
       "            <tr>\n",
       "                <th scope=\"row\">method</th>\n",
       "                <td>runs</th>\n",
       "            </tr>\n",
       "            <tr>\n",
       "                <th scope=\"row\">H<sub>0</sub></th>\n",
       "                <td>dist(x) == iid</td>\n",
       "            </tr>\n",
       "            <tr>\n",
       "                <th scope=\"row\">H<sub>1</sub></th>\n",
       "                <td>dist(x) != iid</td>\n",
       "            </tr>\n",
       "            <thead><tr/></thead>\n",
       "            <tr>\n",
       "                <th scope=\"row\">statistic</th>\n",
       "                <td>-0.401101</td>\n",
       "            </tr>\n",
       "            <tr>\n",
       "                <th scope=\"row\">p-value</th>\n",
       "                <td>0.688346</td>\n",
       "            </tr>\n",
       "        </tbody>\n",
       "        </table>\n",
       "        "
      ],
      "text/plain": [
       "HypothesisTest(description='randomness', alternative='two-sided', method='runs', sample_stat='dist(x)', sample_stat_target='iid', sample_stat_value=None, stat=-0.40110073688003084, pvalue=0.6883459583479656, null='dist(x) == iid', alt='dist(x) != iid')"
      ]
     },
     "execution_count": 28,
     "metadata": {},
     "output_type": "execute_result"
    }
   ],
   "source": [
    "data = np.array([\n",
    "    12.62, 9.71, 8.59, 11.42,\n",
    "    5.90, 17.86, 9.90, 16.25, 15.77, 9.45, 23.23, \n",
    "    7.60, 4.23, 6.59, 4.38, 8.60, 20.91, 6.05,\n",
    "    10.90, 6.89, 8.72, 7.52, 5.64, 4.22, 4.01\n",
    "    ])\n",
    "\n",
    "co = 'median' # 'mean', 'median' the cutoff midpoint for the runs test\n",
    "\n",
    "mqr.inference.nonparametric.dist.test_1sample(data, cutoff=co)"
   ]
  },
  {
   "cell_type": "markdown",
   "id": "68bbc16b",
   "metadata": {},
   "source": [
    "Also do an Anderson Darling test to confirm the data is not normal and so non-parametric tests are needed."
   ]
  },
  {
   "cell_type": "code",
   "execution_count": 29,
   "id": "3fe7012d",
   "metadata": {},
   "outputs": [
    {
     "name": "stdout",
     "output_type": "stream",
     "text": [
      "Sample mean: 9.878\n",
      "Sample sigma: 5.253\n"
     ]
    },
    {
     "data": {
      "text/html": [
       "\n",
       "        <table>\n",
       "        <thead>\n",
       "            <tr>\n",
       "                <th scope=\"col\" colspan=2 style=\"text-align: left; padding-bottom: 0px;\">Hypothesis Test</th>\n",
       "            </tr>\n",
       "            <tr style='padding-top: 0px;'>\n",
       "                <td colspan=2 style='text-align: left; padding-top: 0px'>non-normality</td>\n",
       "            </tr>\n",
       "        </thead>\n",
       "        <tbody>\n",
       "            <tr>\n",
       "                <th scope=\"row\">method</th>\n",
       "                <td>anderson-darling</th>\n",
       "            </tr>\n",
       "            <tr>\n",
       "                <th scope=\"row\">H<sub>0</sub></th>\n",
       "                <td>distribution == normal</td>\n",
       "            </tr>\n",
       "            <tr>\n",
       "                <th scope=\"row\">H<sub>1</sub></th>\n",
       "                <td>distribution != normal</td>\n",
       "            </tr>\n",
       "            <thead><tr/></thead>\n",
       "            <tr>\n",
       "                <th scope=\"row\">statistic</th>\n",
       "                <td>0.994647</td>\n",
       "            </tr>\n",
       "            <tr>\n",
       "                <th scope=\"row\">p-value</th>\n",
       "                <td>0.0105053</td>\n",
       "            </tr>\n",
       "        </tbody>\n",
       "        </table>\n",
       "        "
      ],
      "text/plain": [
       "HypothesisTest(description='non-normality', alternative='two-sided', method='anderson-darling', sample_stat='distribution', sample_stat_target='normal', sample_stat_value=None, stat=0.9946468859909139, pvalue=0.010505294829350406, null='distribution == normal', alt='distribution != normal')"
      ]
     },
     "execution_count": 29,
     "metadata": {},
     "output_type": "execute_result"
    }
   ],
   "source": [
    "data = np.array([\n",
    "    12.62, 9.71, 8.59, 11.42,\n",
    "    5.90, 17.86, 9.90, 16.25, 15.77, 9.45, 23.23, \n",
    "    7.60, 4.23, 6.59, 4.38, 8.60, 20.91, 6.05,\n",
    "    10.90, 6.89, 8.72, 7.52, 5.64, 4.22, 4.01\n",
    "    ])\n",
    "\n",
    "print(f'Sample mean: {data.mean():.3f}')\n",
    "print(f'Sample sigma: {data.std(ddof=1):.3f}')\n",
    "mqr.inference.dist.test_1sample(data)"
   ]
  },
  {
   "cell_type": "markdown",
   "id": "4d0995cc",
   "metadata": {},
   "source": [
    "Here is an example of non-random data, from NIST.  It is time series deflection data during a stress test.  The data is not purely random but rather each adjacent data point are close to each other.  \n",
    "\n",
    "A histogram of the data shows it is very non-normal.  But it is not clear that it is not random from the histogram. The runs test, on the other hand, shows that the data is very unlikely to be independent and identically distributed."
   ]
  },
  {
   "cell_type": "code",
   "execution_count": 30,
   "id": "18350fad",
   "metadata": {},
   "outputs": [
    {
     "data": {
      "text/html": [
       "<div style=\"display:flex;flex-direction:row;justify-content:stretch;justify-items:center;align-content:start;align-items:start;\"><div style=\"margin:5px 10px 5px 10px;\"><img src=\"data:image/png;base64,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\" /></div><div style=\"margin:5px 10px 5px 10px;\">\n",
       "        <table>\n",
       "        <thead>\n",
       "            <tr>\n",
       "                <th scope=\"col\" colspan=2 style=\"text-align: left; padding-bottom: 0px;\">Hypothesis Test</th>\n",
       "            </tr>\n",
       "            <tr style='padding-top: 0px;'>\n",
       "                <td colspan=2 style='text-align: left; padding-top: 0px'>randomness</td>\n",
       "            </tr>\n",
       "        </thead>\n",
       "        <tbody>\n",
       "            <tr>\n",
       "                <th scope=\"row\">method</th>\n",
       "                <td>runs</th>\n",
       "            </tr>\n",
       "            <tr>\n",
       "                <th scope=\"row\">H<sub>0</sub></th>\n",
       "                <td>dist(x) == iid</td>\n",
       "            </tr>\n",
       "            <tr>\n",
       "                <th scope=\"row\">H<sub>1</sub></th>\n",
       "                <td>dist(x) != iid</td>\n",
       "            </tr>\n",
       "            <thead><tr/></thead>\n",
       "            <tr>\n",
       "                <th scope=\"row\">statistic</th>\n",
       "                <td>2.70054</td>\n",
       "            </tr>\n",
       "            <tr>\n",
       "                <th scope=\"row\">p-value</th>\n",
       "                <td>0.00692271</td>\n",
       "            </tr>\n",
       "        </tbody>\n",
       "        </table>\n",
       "        </div></div>"
      ],
      "text/plain": [
       "<IPython.core.display.HTML object>"
      ]
     },
     "execution_count": 30,
     "metadata": {},
     "output_type": "execute_result"
    }
   ],
   "source": [
    "url ='https://www.itl.nist.gov/div898/handbook/datasets/LEW.DAT'\n",
    "df = pd.read_csv(url, skiprows=24, header=0, names=['Deflection'], dtype=np.float64)\n",
    "\n",
    "with Figure(4, 3) as (fig, ax):\n",
    "    sns.histplot(df, ax=ax)\n",
    "    plot = mqr.nbtools.grab_figure(fig)\n",
    "\n",
    "hstack(\n",
    "    plot,\n",
    "    mqr.inference.nonparametric.dist.test_1sample(df['Deflection'], cutoff='mean', method='runs'))"
   ]
  },
  {
   "cell_type": "markdown",
   "id": "c1c21057",
   "metadata": {},
   "source": [
    "Another plot is to plot each point vs the next point.  Here you can see the generally circular displacements undergone during the test, with random movement around the circular motion.  A transformation could be used to seperate the circular motion from the random variation around it, but that is a more advanced topic.  For our purposes, the data is not random and so cannot be hypothesis tested as is."
   ]
  },
  {
   "cell_type": "code",
   "execution_count": 31,
   "id": "35a8db18",
   "metadata": {},
   "outputs": [
    {
     "data": {
      "image/png": "[encoded data removed]",
      "text/plain": [
       "<Figure size 500x400 with 1 Axes>"
      ]
     },
     "metadata": {},
     "output_type": "display_data"
    }
   ],
   "source": [
    "with Figure(5, 4) as (fig, ax):\n",
    "    pd.plotting.lag_plot(df, alpha=0.5, ax=ax)"
   ]
  },
  {
   "cell_type": "markdown",
   "id": "3b8c352c",
   "metadata": {},
   "source": [
    "--------------------------------------------------------------------------------------------\n",
    "## 3.2 Sign Test\n",
    "\n",
    "Below is code to do a sign test using the statsModels sign_test function.  The null hypothesis is the two population medians are the same.  The alternative hypothesis is not equal.  \n",
    "\n",
    "For multiple histograms on one plot, gather the samples into a dataframe and pass `multiple=dodge` to seaborn, which shows the bins side-by-side, rather than super-imposed."
   ]
  },
  {
   "cell_type": "code",
   "execution_count": 32,
   "id": "94f855e6",
   "metadata": {},
   "outputs": [
    {
     "data": {
      "text/html": [
       "<div style=\"display:flex;flex-direction:row;justify-content:stretch;justify-items:center;align-content:start;align-items:start;\"><div style=\"margin:5px 10px 5px 10px;\"><img src=\"data:image/png;base64,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\" /></div><div style=\"margin:5px 10px 5px 10px;\"><div style=\"display:flex;flex-direction:row;justify-content:stretch;justify-items:center;align-content:start;align-items:start;\"><div style=\"margin:5px 10px 5px 10px;\"><div style=\"display:flex;flex-direction:column;justify-content:start;justify-items:start;align-content:start;align-items:start;\"><div style=\"margin:5px 10px 5px 10px;\">\n",
       "        <table>\n",
       "        <thead>\n",
       "            <tr>\n",
       "                <th scope=\"col\" colspan=2 style=\"text-align: left; padding-bottom: 0px;\">Hypothesis Test</th>\n",
       "            </tr>\n",
       "            <tr style='padding-top: 0px;'>\n",
       "                <td colspan=2 style='text-align: left; padding-top: 0px'>median</td>\n",
       "            </tr>\n",
       "        </thead>\n",
       "        <tbody>\n",
       "            <tr>\n",
       "                <th scope=\"row\">method</th>\n",
       "                <td>sign</th>\n",
       "            </tr>\n",
       "            <tr>\n",
       "                <th scope=\"row\">H<sub>0</sub></th>\n",
       "                <td>median(x) == 0</td>\n",
       "            </tr>\n",
       "            <tr>\n",
       "                <th scope=\"row\">H<sub>1</sub></th>\n",
       "                <td>median(x) != 0</td>\n",
       "            </tr>\n",
       "            <thead><tr/></thead>\n",
       "            <tr>\n",
       "                <th scope=\"row\">statistic</th>\n",
       "                <td>2.5</td>\n",
       "            </tr>\n",
       "            <tr>\n",
       "                <th scope=\"row\">p-value</th>\n",
       "                <td>0.125</td>\n",
       "            </tr>\n",
       "        </tbody>\n",
       "        </table>\n",
       "        </div><div style=\"margin:5px 10px 5px 10px;\">\n",
       "        <table>\n",
       "        <thead>\n",
       "            <tr>\n",
       "                <th scope=\"col\" colspan=2 style=\"text-align: left; padding-bottom: 0px;\">Hypothesis Test</th>\n",
       "            </tr>\n",
       "            <tr style='padding-top: 0px;'>\n",
       "                <td colspan=2 style='text-align: left; padding-top: 0px'>equality of medians</td>\n",
       "            </tr>\n",
       "        </thead>\n",
       "        <tbody>\n",
       "            <tr>\n",
       "                <th scope=\"row\">method</th>\n",
       "                <td>kruskal-wallis</th>\n",
       "            </tr>\n",
       "            <tr>\n",
       "                <th scope=\"row\">H<sub>0</sub></th>\n",
       "                <td>median(x_i) == median(x_j)</td>\n",
       "            </tr>\n",
       "            <tr>\n",
       "                <th scope=\"row\">H<sub>1</sub></th>\n",
       "                <td>median(x_i) != median(x_j)</td>\n",
       "            </tr>\n",
       "            <thead><tr/></thead>\n",
       "            <tr>\n",
       "                <th scope=\"row\">statistic</th>\n",
       "                <td>2.64834</td>\n",
       "            </tr>\n",
       "            <tr>\n",
       "                <th scope=\"row\">p-value</th>\n",
       "                <td>0.103658</td>\n",
       "            </tr>\n",
       "        </tbody>\n",
       "        </table>\n",
       "        </div></div></div><div style=\"margin:5px 10px 5px 10px;\"><h3>Medians</h3>\n",
       "<table>\n",
       "<thead>\n",
       "<tr>\n",
       "<th></th>\n",
       "<th style=\"text-align: right;\"></th>\n",
       "</tr>\n",
       "</thead>\n",
       "<tbody>\n",
       "<tr>\n",
       "<td>sample1</td>\n",
       "<td style=\"text-align: right;\"><strong>2.5</strong></td>\n",
       "</tr>\n",
       "<tr>\n",
       "<td>sample2</td>\n",
       "<td style=\"text-align: right;\"><strong>1.5</strong></td>\n",
       "</tr>\n",
       "<tr>\n",
       "<td>delta</td>\n",
       "<td style=\"text-align: right;\"><strong>1.0</strong></td>\n",
       "</tr>\n",
       "</tbody>\n",
       "</table></div></div></div></div>"
      ],
      "text/plain": [
       "<IPython.core.display.HTML object>"
      ]
     },
     "execution_count": 32,
     "metadata": {},
     "output_type": "execute_result"
    }
   ],
   "source": [
    "sample1 = np.array([2.0, 2.0, 1.0, 1.0, 3.0, 4.0, 5.0, 3.0, 1.0, 5.0])\n",
    "sample2 = np.array([2.0, 1.0, 2.0, 1.0, 1.0, 2.0, 3.0, 2.0, 1.0, 1.0])\n",
    "df = pd.DataFrame(data={'sample1': sample1, 'sample2': sample2})\n",
    "\n",
    "with Figure(5, 4) as (fig, ax):\n",
    "    sns.histplot(df, multiple='dodge', ax=ax)\n",
    "    plot = mqr.nbtools.grab_figure(fig)\n",
    "\n",
    "# Display the medians alongside the plot and hypothesis test below.\n",
    "# The stacking functions will render markdown, including a table.\n",
    "medians_markdown = f'''\n",
    "### Medians\n",
    "| | |\n",
    "|--- | ---:|\n",
    "| sample1 | **{np.median(sample1)}** |\n",
    "| sample2 | **{np.median(sample2)}** |\n",
    "| delta  | **{np.median(sample1-sample2)}** |\n",
    "'''\n",
    "\n",
    "hstack(\n",
    "    plot,\n",
    "    hstack(\n",
    "        vstack(\n",
    "            mqr.inference.nonparametric.median.test_1sample(sample1-sample2, method='sign'),\n",
    "            mqr.inference.nonparametric.median.test_nsample(sample1, sample2)),\n",
    "        medians_markdown\n",
    "    ))"
   ]
  },
  {
   "cell_type": "markdown",
   "id": "64355846",
   "metadata": {},
   "source": [
    "-----------------------------------------------------------------------------------\n",
    "## 3.3 One Sample Wilcoxon Test\n",
    "\n",
    "This cell performs a one sample Wilcoxon test that a population median equals a reference. "
   ]
  },
  {
   "cell_type": "code",
   "execution_count": 33,
   "id": "9764bde4",
   "metadata": {},
   "outputs": [
    {
     "data": {
      "text/html": [
       "<div style=\"display:flex;flex-direction:row;justify-content:stretch;justify-items:center;align-content:start;align-items:start;\"><div style=\"margin:5px 10px 5px 10px;\"><img src=\"data:image/png;base64,iVBORw0KGgoAAAANSUhEUgAAAZsAAAE3CAYAAAB8RuxtAAAAOXRFWHRTb2Z0d2FyZQBNYXRwbG90bGliIHZlcnNpb24zLjguMCwgaHR0cHM6Ly9tYXRwbG90bGliLm9yZy81sbWrAAAACXBIWXMAAA9hAAAPYQGoP6dpAAAhU0lEQVR4nO3df3RU9Z3/8deUwCRWEoRIMlkSEvwRQjgom7h1OILQ1FCyS3WX7WnPsUBb8TQtgjKHTRvcLcWWk7YntSmCRHYDKcta3Z4BtceUkipJbMUjgWRBNuGoG52YH6SjKwOIEwizf/hlvo75QTLMZy6ZPB/n3HP6+dzP5877IzQv7o/csQUCgYAAADDoc1YXAACIfYQNAMA4wgYAYBxhAwAwjrABABhH2AAAjCNsAADGxVldQLRdunRJnZ2dmjhxomw2m9XlAMCoFggEdObMGaWlpelznxv8/GXMhU1nZ6fS09OtLgMAYkp7e7umTZs26P4xFzYTJ06U9Ml/mMTERIurAYDRzefzKT09PfizdTBjLmwuXzpLTEwkbAAgQq50W4IHBAAAxhE2AADjCBsAgHGEDQDAOMIGAGAcYQMAMO6aCZuysjLZbDY98sgjQ46rr69XXl6e4uPjNWPGDFVWVkanQABA2K6JsDl8+LB27NihOXPmDDmura1NRUVFmj9/vpqamrRhwwatXbtWbrc7SpUCAMJhedicPXtW999/v/71X/9VN9xww5BjKysrlZGRoYqKCuXk5GjVqlX69re/rfLy8ihVCwAIh+VvEFi9erX+9m//Vl/60pf0k5/8ZMixhw4dUmFhYUjf4sWLVVVVpQsXLmj8+PH95vj9fvn9/mDb5/NFpnAAMcfj8cjr9VpdRtQlJycrIyPD6GdYGjbPPPOMjh49qsOHDw9rfHd3t1JSUkL6UlJSdPHiRXm9Xjkcjn5zysrKtGnTpojUCyB2eTwezZyZo/PnP7K6lKhLSLhOra0tRgPHsrBpb2/Xww8/rAMHDig+Pn7Y8z77/p1AIDBg/2WlpaVyuVzB9uWXxgHAp3m9Xp0//5G+8kCpklPN/iv/WuLt9uiFqjJ5vd7YDJsjR46op6dHeXl5wb6+vj41NDRo69at8vv9GjduXMic1NRUdXd3h/T19PQoLi5OU6ZMGfBz7Ha77HZ75BcAICYlp2YodfqtVpcRcywLm4KCAh0/fjyk71vf+pZmzpyp73//+/2CRpKcTqd+97vfhfQdOHBA+fn5A96vAQBcGywLm4kTJ2r27NkhfZ///Oc1ZcqUYH9paak6Ojq0e/duSVJxcbG2bt0ql8ulBx98UIcOHVJVVZV+85vfRL1+AMDwWf7o81C6urrk8XiC7aysLNXU1Kiurk633367fvzjH2vLli1atmyZhVUCAK7E8kefP62uri6kXV1d3W/M3XffraNHj0anIABARFzTZzYAgNhA2AAAjCNsAADGETYAAOMIGwCAcYQNAMA4wgYAYBxhAwAwjrABABhH2AAAjCNsAADGETYAAOMIGwCAcYQNAMA4wgYAYBxhAwAwjrABABhH2AAAjCNsAADGETYAAOMIGwCAcZaGzfbt2zVnzhwlJiYqMTFRTqdTv//97wcdX1dXJ5vN1m9rbW2NYtUAgJGKs/LDp02bpp/+9Ke6+eabJUm//vWvde+996qpqUm5ubmDzjt58qQSExOD7RtvvNF4rQCA8FkaNkuXLg1pb968Wdu3b9drr702ZNhMnTpVkyZNMlwdACBSrpl7Nn19fXrmmWd07tw5OZ3OIcfOnTtXDodDBQUFOnjw4JBj/X6/fD5fyAYAiC7Lw+b48eO6/vrrZbfbVVxcrH379mnWrFkDjnU4HNqxY4fcbrf27t2r7OxsFRQUqKGhYdDjl5WVKSkpKbilp6ebWgoAYBCWXkaTpOzsbDU3N+vDDz+U2+3WypUrVV9fP2DgZGdnKzs7O9h2Op1qb29XeXm5FixYMODxS0tL5XK5gm2fz0fgAECUWR42EyZMCD4gkJ+fr8OHD+tXv/qVnnrqqWHNv/POO7Vnz55B99vtdtnt9ojUCgAIj+WX0T4rEAjI7/cPe3xTU5McDofBigAAV8vSM5sNGzZoyZIlSk9P15kzZ/TMM8+orq5O+/fvl/TJJbCOjg7t3r1bklRRUaHMzEzl5uaqt7dXe/bskdvtltvttnIZAIArsDRsTp06peXLl6urq0tJSUmaM2eO9u/fr3vuuUeS1NXVJY/HExzf29ur9evXq6OjQwkJCcrNzdWLL76ooqIiq5YAABgGS8OmqqpqyP3V1dUh7ZKSEpWUlBisCABgwjV3zwYAEHsIGwCAcYQNAMA4wgYAYBxhAwAwjrABABhH2AAAjCNsAADGETYAAOMIGwCAcYQNAMA4wgYAYBxhAwAwjrABABhH2AAAjCNsAADGETYAAOMIGwCAcYQNAMA4wgYAYBxhAwAwztKw2b59u+bMmaPExEQlJibK6XTq97///ZBz6uvrlZeXp/j4eM2YMUOVlZVRqhYAEC5Lw2batGn66U9/qsbGRjU2NuqLX/yi7r33Xp04cWLA8W1tbSoqKtL8+fPV1NSkDRs2aO3atXK73VGuHAAwEnFWfvjSpUtD2ps3b9b27dv12muvKTc3t9/4yspKZWRkqKKiQpKUk5OjxsZGlZeXa9myZdEoGQAQBkvD5tP6+vr029/+VufOnZPT6RxwzKFDh1RYWBjSt3jxYlVVVenChQsaP358vzl+v19+vz/Y9vl8kS0cMc/j8cjr9VpdRlQlJycrIyPD6jIQQywPm+PHj8vpdOrjjz/W9ddfr3379mnWrFkDju3u7lZKSkpIX0pKii5evCiv1yuHw9FvTllZmTZt2mSkdsQ+j8ejmTNzdP78R1aXElUJCdeptbWFwEHEWB422dnZam5u1ocffii3262VK1eqvr5+0MCx2Wwh7UAgMGD/ZaWlpXK5XMG2z+dTenp6hKpHrPN6vTp//iN95YFSJaeOjR+83m6PXqgqk9frJWwQMZaHzYQJE3TzzTdLkvLz83X48GH96le/0lNPPdVvbGpqqrq7u0P6enp6FBcXpylTpgx4fLvdLrvdHvnCMaYkp2YodfqtVpcBjFrX3O/ZBAKBkHssn+Z0OlVbWxvSd+DAAeXn5w94vwYAcG2wNGw2bNigV155Re+8846OHz+uRx99VHV1dbr//vslfXIJbMWKFcHxxcXFevfdd+VyudTS0qKdO3eqqqpK69evt2oJAIBhsPQy2qlTp7R8+XJ1dXUpKSlJc+bM0f79+3XPPfdIkrq6uuTxeILjs7KyVFNTo3Xr1mnbtm1KS0vTli1beOwZAK5xloZNVVXVkPurq6v79d199906evSooYoAACZcc/dsAACxh7ABABhH2AAAjCNsAADGETYAAOMIGwCAcYQNAMA4wgYAYBxhAwAwjrABABhH2AAAjCNsAADGETYAAOMIGwCAcYQNAMA4wgYAYBxhAwAwjrABABhH2AAAjCNsAADGETYAAOMsDZuysjLdcccdmjhxoqZOnar77rtPJ0+eHHJOXV2dbDZbv621tTVKVQMARsrSsKmvr9fq1av12muvqba2VhcvXlRhYaHOnTt3xbknT55UV1dXcLvllluiUDEAIBxxVn74/v37Q9q7du3S1KlTdeTIES1YsGDIuVOnTtWkSZMMVgcAiJRr6p7N6dOnJUmTJ0++4ti5c+fK4XCooKBABw8eHHSc3++Xz+cL2QAA0XXNhE0gEJDL5dJdd92l2bNnDzrO4XBox44dcrvd2rt3r7Kzs1VQUKCGhoYBx5eVlSkpKSm4paenm1oCAGAQll5G+7SHHnpIx44d05/+9Kchx2VnZys7OzvYdjqdam9vV3l5+YCX3kpLS+VyuYJtn89H4ABAlF0TZzZr1qzRCy+8oIMHD2ratGkjnn/nnXfqzTffHHCf3W5XYmJiyAYAiC5Lz2wCgYDWrFmjffv2qa6uTllZWWEdp6mpSQ6HI8LVAQAixdKwWb16tZ5++mk9//zzmjhxorq7uyVJSUlJSkhIkPTJZbCOjg7t3r1bklRRUaHMzEzl5uaqt7dXe/bskdvtltvttmwdAIChWRo227dvlyQtXLgwpH/Xrl365je/KUnq6uqSx+MJ7uvt7dX69evV0dGhhIQE5ebm6sUXX1RRUVG0ygYAjJDll9GupLq6OqRdUlKikpISQxUBAEy4Jh4QAADEtrDCZsaMGXr//ff79X/44YeaMWPGVRcFAIgtYYXNO++8o76+vn79fr9fHR0dV10UACC2jOiezQsvvBD833/4wx+UlJQUbPf19emll15SZmZmxIoDAMSGEYXNfffdJ0my2WxauXJlyL7x48crMzNTv/jFLyJWHAAgNowobC5duiRJysrK0uHDh5WcnGykKABAbAnr0ee2trZI1wEAiGFh/57NSy+9pJdeekk9PT3BM57Ldu7cedWFAQBiR1hhs2nTJj322GPKz8+Xw+GQzWaLdF0AgBgSVthUVlaqurpay5cvj3Q9AIAYFNbv2fT29mrevHmRrgUAEKPCCptVq1bp6aefjnQtAIAYFdZltI8//lg7duzQH//4R82ZM0fjx48P2f/4449HpDgAQGwIK2yOHTum22+/XZL0xhtvhOzjYQEAwGeFFTYHDx6MdB0AgBjGVwwAAIwL68xm0aJFQ14ue/nll8MuCAAQe8IKm8v3ay67cOGCmpub9cYbb/R7QScAAGGFzS9/+csB+3/0ox/p7NmzV1UQACD2RPSezTe+8Q3eiwYA6CeiYXPo0CHFx8dH8pAAgBgQ1mW0f/iHfwhpBwIBdXV1qbGxUf/yL/8y7OOUlZVp7969am1tVUJCgubNm6ef/exnys7OHnJefX29XC6XTpw4obS0NJWUlKi4uDicpQAAoiCsM5ukpKSQbfLkyVq4cKFqamq0cePGYR+nvr5eq1ev1muvvaba2lpdvHhRhYWFOnfu3KBz2traVFRUpPnz56upqUkbNmzQ2rVr5Xa7w1kKACAKwjqz2bVrV0Q+fP/+/f2OO3XqVB05ckQLFiwYcE5lZaUyMjJUUVEhScrJyVFjY6PKy8u1bNmyiNQFAIissL88TZKOHDmilpYW2Ww2zZo1S3Pnzr2qYk6fPi1Jmjx58qBjDh06pMLCwpC+xYsXq6qqShcuXOj3nja/3y+/3x9s+3y+q6oRGCtaWlqsLiGqxtp6oy2ssOnp6dHXv/511dXVadKkSQoEAjp9+rQWLVqkZ555RjfeeOOIjxkIBORyuXTXXXdp9uzZg47r7u5WSkpKSF9KSoouXrwor9crh8MRsq+srEybNm0acT3AWHX29AeSbPrGN75hdSmW6L3Qa3UJMSmssFmzZo18Pp9OnDihnJwcSdJ///d/a+XKlVq7dq1+85vfjPiYDz30kI4dO6Y//elPVxz72bcXBAKBAfslqbS0VC6XK9j2+XxKT08fcX3AWPHxR2clBVR4/zpNy7zV6nKi5q03XlfD87t08eJFq0uJSWGFzf79+/XHP/4xGDSSNGvWLG3btq3fJa7hWLNmjV544QU1NDRo2rRpQ45NTU1Vd3d3SF9PT4/i4uI0ZcqUfuPtdrvsdvuIawLGuskp05Q6feyEjbfLY3UJMS2sp9EuXbrU796IJI0fP16XLl0a9nECgYAeeugh7d27Vy+//LKysrKuOMfpdKq2tjak78CBA8rPzx+wJgCA9cIKmy9+8Yt6+OGH1dnZGezr6OjQunXrVFBQMOzjrF69Wnv27NHTTz+tiRMnqru7W93d3Tp//nxwTGlpqVasWBFsFxcX691335XL5VJLS4t27typqqoqrV+/PpylAACiIKyw2bp1q86cOaPMzEzddNNNuvnmm5WVlaUzZ87oiSeeGPZxtm/frtOnT2vhwoVyOBzB7dlnnw2O6erqksfz/09vs7KyVFNTo7q6Ot1+++368Y9/rC1btvDYMwBcw8K6Z5Oenq6jR4+qtrZWra2tCgQCmjVrlr70pS+N6DiXb+wPpbq6ul/f3XffraNHj47oswAA1hnRmc3LL7+sWbNmBX9X5Z577tGaNWu0du1a3XHHHcrNzdUrr7xipFAAwOg1orCpqKjQgw8+qMTExH77kpKS9J3vfEePP/54xIoDAMSGEYXNf/3Xf+nLX/7yoPsLCwt15MiRqy4KABBbRhQ2p06dGvLx4ri4OP3lL3+56qIAALFlRGHzV3/1Vzp+/Pig+48dO9bvdTEAAIwobIqKivTDH/5QH3/8cb9958+f18aNG/V3f/d3ESsOABAbRvTo8z//8z9r7969uvXWW/XQQw8pOztbNptNLS0t2rZtm/r6+vToo4+aqhUAMEqNKGxSUlL06quv6rvf/a5KS0tDXoC5ePFiPfnkk/3eyAwAwIh/qXP69OmqqanR//7v/+qtt95SIBDQLbfcohtuuMFEfQCAGBD2l6fdcMMNuuOOOyJZCwAgRoX1bjQAAEaCsAEAGEfYAACMI2wAAMYRNgAA4wgbAIBxhA0AwDjCBgBgHGEDADCOsAEAGEfYAACMszRsGhoatHTpUqWlpclms+m5554bcnxdXZ1sNlu/rbW1NToFAwDCEvaLOCPh3Llzuu222/Stb31Ly5YtG/a8kydPKjExMdi+8cYbTZQHAIgQS8NmyZIlWrJkyYjnTZ06VZMmTYp8QQAAI0blPZu5c+fK4XCooKBABw8eHHKs3++Xz+cL2QAA0TWqwsbhcGjHjh1yu93au3evsrOzVVBQoIaGhkHnlJWVKSkpKbilp6dHsWIAgGTxZbSRys7OVnZ2drDtdDrV3t6u8vJyLViwYMA5paWlcrlcwbbP5yNwACDKRtWZzUDuvPNOvfnmm4Put9vtSkxMDNkAANE16sOmqalJDofD6jIAAEOw9DLa2bNn9dZbbwXbbW1tam5u1uTJk5WRkaHS0lJ1dHRo9+7dkqSKigplZmYqNzdXvb292rNnj9xut9xut1VLAAAMg6Vh09jYqEWLFgXbl++trFy5UtXV1erq6pLH4wnu7+3t1fr169XR0aGEhATl5ubqxRdfVFFRUdRrBwAMn6Vhs3DhQgUCgUH3V1dXh7RLSkpUUlJiuCoAQKSN+ns2AIBrH2EDADCOsAEAGEfYAACMI2wAAMYRNgAA4wgbAIBxhA0AwDjCBgBgHGEDADCOsAEAGEfYAACMI2wAAMYRNgAA4wgbAIBxhA0AwDjCBgBgHGEDADCOsAEAGEfYAACMI2wAAMZZGjYNDQ1aunSp0tLSZLPZ9Nxzz11xTn19vfLy8hQfH68ZM2aosrLSfKEAgKtiadicO3dOt912m7Zu3Tqs8W1tbSoqKtL8+fPV1NSkDRs2aO3atXK73YYrBQBcjTgrP3zJkiVasmTJsMdXVlYqIyNDFRUVkqScnBw1NjaqvLxcy5YtG3CO3++X3+8Ptn0+31XVLEkej0der/eqjzPaJCcnKyMjw+oyAIxClobNSB06dEiFhYUhfYsXL1ZVVZUuXLig8ePH95tTVlamTZs2RawGj8ejmTNzdP78RxE75miRkHCdWltbCBwAIzaqwqa7u1spKSkhfSkpKbp48aK8Xq8cDke/OaWlpXK5XMG2z+dTenp62DV4vV6dP/+RvvJAqZJTx84PXW+3Ry9Ulcnr9RI2AEZsVIWNJNlstpB2IBAYsP8yu90uu90e8TqSUzOUOv3WiB8XAGLRqHr0OTU1Vd3d3SF9PT09iouL05QpUyyqCgBwJaMqbJxOp2pra0P6Dhw4oPz8/AHv1wAArg2Whs3Zs2fV3Nys5uZmSZ882tzc3CyPxyPpk/stK1asCI4vLi7Wu+++K5fLpZaWFu3cuVNVVVVav369FeUDAIbJ0ns2jY2NWrRoUbB9+Ub+ypUrVV1dra6urmDwSFJWVpZqamq0bt06bdu2TWlpadqyZcugjz0DAK4NlobNwoULgzf4B1JdXd2v7+6779bRo0cNVgUAiLRRdc8GADA6ETYAAOMIGwCAcYQNAMA4wgYAYBxhAwAwjrABABhH2AAAjCNsAADGETYAAOMIGwCAcYQNAMA4wgYAYBxhAwAwjrABABhH2AAAjCNsAADGETYAAOMIGwCAcYQNAMA4wgYAYJzlYfPkk08qKytL8fHxysvL0yuvvDLo2Lq6Otlstn5ba2trFCsGAIyUpWHz7LPP6pFHHtGjjz6qpqYmzZ8/X0uWLJHH4xly3smTJ9XV1RXcbrnllihVDAAIh6Vh8/jjj+uBBx7QqlWrlJOTo4qKCqWnp2v79u1Dzps6dapSU1OD27hx4wYd6/f75fP5QjYAQHRZFja9vb06cuSICgsLQ/oLCwv16quvDjl37ty5cjgcKigo0MGDB4ccW1ZWpqSkpOCWnp5+1bUDAEbGsrDxer3q6+tTSkpKSH9KSoq6u7sHnONwOLRjxw653W7t3btX2dnZKigoUENDw6CfU1paqtOnTwe39vb2iK4DAHBlcVYXYLPZQtqBQKBf32XZ2dnKzs4Otp1Op9rb21VeXq4FCxYMOMdut8tut0euYADAiFl2ZpOcnKxx48b1O4vp6enpd7YzlDvvvFNvvvlmpMsDAESQZWEzYcIE5eXlqba2NqS/trZW8+bNG/Zxmpqa5HA4Il0eACCCLL2M5nK5tHz5cuXn58vpdGrHjh3yeDwqLi6W9Mn9lo6ODu3evVuSVFFRoczMTOXm5qq3t1d79uyR2+2W2+22chkAgCuwNGy+9rWv6f3339djjz2mrq4uzZ49WzU1NZo+fbokqaurK+R3bnp7e7V+/Xp1dHQoISFBubm5evHFF1VUVGTVEgAAw2D5AwLf+9739L3vfW/AfdXV1SHtkpISlZSURKEqAEAkWf66GgBA7CNsAADGETYAAOMIGwCAcYQNAMA4wgYAYBxhAwAwjrABABhH2AAAjCNsAADGETYAAOMIGwCAcYQNAMA4wgYAYBxhAwAwjrABABhH2AAAjCNsAADGETYAAOMIGwCAcZaHzZNPPqmsrCzFx8crLy9Pr7zyypDj6+vrlZeXp/j4eM2YMUOVlZVRqhQAEC5Lw+bZZ5/VI488okcffVRNTU2aP3++lixZIo/HM+D4trY2FRUVaf78+WpqatKGDRu0du1aud3uKFcOABgJS8Pm8ccf1wMPPKBVq1YpJydHFRUVSk9P1/bt2wccX1lZqYyMDFVUVCgnJ0erVq3St7/9bZWXl0e5cgDASMRZ9cG9vb06cuSIfvCDH4T0FxYW6tVXXx1wzqFDh1RYWBjSt3jxYlVVVenChQsaP358vzl+v19+vz/YPn36tCTJ5/OFVffZs2clSV2eN9XrPx/WMUaj90+9J0k6cuRI8L/BWHDy5ElJY+vP29v9yZWFnvfeVtznbBZXEz1jdd2X/7999uzZsH4uXp4TCASGHhiwSEdHR0BS4M9//nNI/+bNmwO33nrrgHNuueWWwObNm0P6/vznPwckBTo7Owecs3HjxoAkNjY2NjaDW3t7+5A/8y07s7nMZgv9F0QgEOjXd6XxA/VfVlpaKpfLFWxfunRJH3zwgaZMmTLk5wzG5/MpPT1d7e3tSkxMHPH80Yp1j511j8U1S6w73HUHAgGdOXNGaWlpQ46zLGySk5M1btw4dXd3h/T39PQoJSVlwDmpqakDjo+Li9OUKVMGnGO322W320P6Jk2aFH7h/09iYuKY+gt5GeseO8bimiXWHY6kpKQrjrHsAYEJEyYoLy9PtbW1If21tbWaN2/egHOcTme/8QcOHFB+fv6A92sAANcGS59Gc7lc+rd/+zft3LlTLS0tWrdunTwej4qLiyV9cglsxYoVwfHFxcV699135XK51NLSop07d6qqqkrr16+3agkAgGGw9J7N1772Nb3//vt67LHH1NXVpdmzZ6umpkbTp0+XJHV1dYX8zk1WVpZqamq0bt06bdu2TWlpadqyZYuWLVsWtZrtdrs2btzY79JcrGPdY2fdY3HNEus2vW5bIHCl59UAALg6lr+uBgAQ+wgbAIBxhA0AwDjCBgBgHGEDADCOsIkAv9+v22+/XTabTc3NzVaXY9xXvvIVZWRkKD4+Xg6HQ8uXL1dnZ6fVZRn1zjvv6IEHHlBWVpYSEhJ00003aePGjert7bW6NOM2b96sefPm6brrrovI2zeuVSP9bq3RrqGhQUuXLlVaWppsNpuee+45o59H2ERASUnJFd8LFEsWLVqk//zP/9TJkyfldrv19ttv6x//8R+tLsuo1tZWXbp0SU899ZROnDihX/7yl6qsrNSGDRusLs243t5effWrX9V3v/tdq0sxZqTfrRULzp07p9tuu01bt26NzgcO7x3NGExNTU1g5syZgRMnTgQkBZqamqwuKeqef/75gM1mC/T29lpdSlT9/Oc/D2RlZVldRtTs2rUrkJSUZHUZRvzN3/xNoLi4OKRv5syZgR/84AcWVRRdkgL79u0z+hmc2VyFU6dO6cEHH9S///u/67rrrrO6HEt88MEH+o//+A/NmzdvzL2f7vTp05o8ebLVZeAqXf5urc9+V9ZQ362FkSNswhQIBPTNb35TxcXFys/Pt7qcqPv+97+vz3/+85oyZYo8Ho+ef/55q0uKqrfffltPPPFE8D1+GL28Xq/6+vr6vW0+JSWl31vmET7C5jN+9KMfyWazDbk1NjbqiSeekM/nU2lpqdUlR8Rw133ZP/3TP6mpqUkHDhzQuHHjtGLFiit/U981aKTrlqTOzk59+ctf1le/+lWtWrXKosqvTjjrjnUj/W4tjAzvRvsMr9crr9c75JjMzEx9/etf1+9+97uQv4x9fX0aN26c7r//fv361782XWpEDXfd8fHx/frfe+89paen69VXX5XT6TRVohEjXXdnZ6cWLVqkL3zhC6qurtbnPjc6/70Wzp93dXW1HnnkEX344YeGq4uu3t5eXXfddfrtb3+rv//7vw/2P/zww2publZ9fb2F1UWHzWbTvn37dN999xn7DMu/qfNak5ycrOTk5CuO27Jli37yk58E252dnVq8eLGeffZZfeELXzBZohHDXfdALv97xe/3R7KkqBjJujs6OrRo0SLl5eVp165dozZopKv78441n/5urU+HTW1tre69914LK4sthE2YMjIyQtrXX3+9JOmmm27StGnTrCgpKl5//XW9/vrruuuuu3TDDTfof/7nf/TDH/5QN91006g7qxmJzs5OLVy4UBkZGSovL9df/vKX4L7U1FQLKzPP4/Hogw8+kMfjUV9fX/B3yW6++ebg3/vRzuVyafny5crPz5fT6dSOHTtCvlsrFp09e1ZvvfVWsN3W1qbm5mZNnjy538+3iDD6rNsY0tbWNiYefT527Fhg0aJFgcmTJwfsdnsgMzMzUFxcHHjvvfesLs2oXbt2BSQNuMW6lStXDrjugwcPWl1aRG3bti0wffr0wIQJEwJ//dd/Haivr7e6JKMOHjw44J/rypUrjXwe92wAAMaN3ovOAIBRg7ABABhH2AAAjCNsAADGETYAAOMIGwCAcYQNAMA4wgYAYBxhAwAwjrABABhH2AAAjPs/EZ09ol6W+K8AAAAASUVORK5CYII=\" /></div><div style=\"margin:5px 10px 5px 10px;\">\n",
       "        <table>\n",
       "        <thead>\n",
       "            <tr>\n",
       "                <th scope=\"col\" colspan=2 style=\"text-align: left; padding-bottom: 0px;\">Hypothesis Test</th>\n",
       "            </tr>\n",
       "            <tr style='padding-top: 0px;'>\n",
       "                <td colspan=2 style='text-align: left; padding-top: 0px'>median</td>\n",
       "            </tr>\n",
       "        </thead>\n",
       "        <tbody>\n",
       "            <tr>\n",
       "                <th scope=\"row\">method</th>\n",
       "                <td>wilcoxon</th>\n",
       "            </tr>\n",
       "            <tr>\n",
       "                <th scope=\"row\">H<sub>0</sub></th>\n",
       "                <td>median(x) == -1</td>\n",
       "            </tr>\n",
       "            <tr>\n",
       "                <th scope=\"row\">H<sub>1</sub></th>\n",
       "                <td>median(x) < -1</td>\n",
       "            </tr>\n",
       "            <thead><tr/></thead>\n",
       "            <tr>\n",
       "                <th scope=\"row\">statistic</th>\n",
       "                <td>17.5</td>\n",
       "            </tr>\n",
       "            <tr>\n",
       "                <th scope=\"row\">p-value</th>\n",
       "                <td>0.470813</td>\n",
       "            </tr>\n",
       "        </tbody>\n",
       "        </table>\n",
       "        </div></div>"
      ],
      "text/plain": [
       "<IPython.core.display.HTML object>"
      ]
     },
     "execution_count": 33,
     "metadata": {},
     "output_type": "execute_result"
    }
   ],
   "source": [
    "data1 = np.array([\n",
    "    0.0, -1.0, 1.0, 0.0, -2.0, -2.0, -2.0, -1.0, 0.0, -4.0\n",
    "    ])\n",
    "hyp = -1.0   # the hypothesized median.\n",
    "alt = 'less' # 'less', 'two-sided', 'greater'\n",
    "\n",
    "with Figure(4, 3) as (fig, ax):\n",
    "    sns.histplot(data1, ax=ax)\n",
    "    plot = mqr.nbtools.grab_figure(fig)\n",
    "\n",
    "hstack(\n",
    "    plot,\n",
    "    mqr.inference.nonparametric.median.test_1sample(x=data1, H0_median=hyp, alternative=alt, method='wilcoxon'))"
   ]
  },
  {
   "cell_type": "markdown",
   "id": "a9da94dc",
   "metadata": {},
   "source": [
    "-----------------------------------------------------------------------------------\n",
    "## 3.4 Two Sample Mann-Whitney Test\n",
    "\n",
    "Performs a test of equal medians from two independent populations."
   ]
  },
  {
   "cell_type": "code",
   "execution_count": 34,
   "id": "dba984ce",
   "metadata": {},
   "outputs": [
    {
     "data": {
      "text/html": [
       "\n",
       "        <table>\n",
       "        <thead>\n",
       "            <tr>\n",
       "                <th scope=\"col\" colspan=2 style=\"text-align: left; padding-bottom: 0px;\">Hypothesis Test</th>\n",
       "            </tr>\n",
       "            <tr style='padding-top: 0px;'>\n",
       "                <td colspan=2 style='text-align: left; padding-top: 0px'>equality of medians</td>\n",
       "            </tr>\n",
       "        </thead>\n",
       "        <tbody>\n",
       "            <tr>\n",
       "                <th scope=\"row\">method</th>\n",
       "                <td>mann-whitney</th>\n",
       "            </tr>\n",
       "            <tr>\n",
       "                <th scope=\"row\">H<sub>0</sub></th>\n",
       "                <td>median(x) - median(y) == 0</td>\n",
       "            </tr>\n",
       "            <tr>\n",
       "                <th scope=\"row\">H<sub>1</sub></th>\n",
       "                <td>median(x) - median(y) != 0</td>\n",
       "            </tr>\n",
       "            <thead><tr/></thead>\n",
       "            <tr>\n",
       "                <th scope=\"row\">statistic</th>\n",
       "                <td>4798</td>\n",
       "            </tr>\n",
       "            <tr>\n",
       "                <th scope=\"row\">p-value</th>\n",
       "                <td>0.622563</td>\n",
       "            </tr>\n",
       "        </tbody>\n",
       "        </table>\n",
       "        "
      ],
      "text/plain": [
       "HypothesisTest(description='equality of medians', alternative='two-sided', method='mann-whitney', sample_stat='median(x) - median(y)', sample_stat_target=0.0, sample_stat_value=nan, stat=4798.0, pvalue=0.6225630241043737, null='median(x) - median(y) == 0', alt='median(x) - median(y) != 0')"
      ]
     },
     "execution_count": 34,
     "metadata": {},
     "output_type": "execute_result"
    }
   ],
   "source": [
    "live = np.array([\n",
    "    0.8, 1.65, 35.54, 8.41, 4.15, 6.57, 1.12, 0.32, 1.16, 11.6,\n",
    "    4.81, 12.54, 0.34, 1.85, 2.16, 0.87, 24.36, 3.65, 13.31, 3.88,\n",
    "    0.34, 12.31, 0.4, 0.69, 3.13, 2.66, 5.85, 5.99, 0.36, 2.7,\n",
    "    0.38, 2.04, 6.5, 6.32, 5.12, 4.74, 28.3, 3.5, 4.17, 2.45,\n",
    "    2.44, 1.27, 0.33, 1.54, 13.34, 5.18, 19.83, 0.51, 0.33, 10.41,\n",
    "    2.74, 29.95, 1.81, 1.45, 6.22, 6.15, 10.34, 1.59, 7.75, 9.76,\n",
    "    4.16, 2.86, 1.38, 8.57, 0.3, 1, 3.89, 5.79, 6.01, 4.99,\n",
    "    21.34, 12.34, 0.6, 1.28, 8.78, 23.36, 0.36, 5.55, 2.73, 2.6,\n",
    "    0.86, 4.38, 5.09, 10.46, 1.73, 7.32, 9.3, 2.72, 3.51, 4.68,\n",
    "    8.96, 9.63, 2.29, 5.48, 11.46, 6.29])\n",
    "web = np.array([\n",
    "    0.56, 0.36, 6.48, 13.59, 7.69, 3.96, 0.34, 0.41, 0.48, 3.6,\n",
    "    20.48, 5.97, 15.08, 13.96, 10.26, 4.33, 5.36, 25.89, 0.3, 1.59,\n",
    "    12.44, 0.86, 2.6, 5.76, 62.37, 5.95, 38.94, 33.61, 0.7, 4.71,\n",
    "    2.56, 0.31, 8.13, 32.87, 2.03, 0.59, 0.31, 39.68, 1.28, 1.74,\n",
    "    2.55, 0.32, 1.21, 10.57, 0.63, 0.31, 0.32, 4.22, 0.33, 7.12,\n",
    "    2.9, 2.84, 33.42, 0.38, 4.28, 0.37, 0.96, 0.85, 22.91, 13.61,\n",
    "    2.42, 0.34, 36.58, 13.38, 21.12, 3.93, 2.22, 0.31, 1.13, 2.77,\n",
    "    6.42, 1.67, 2.54, 0.3, 36.07, 39.45, 39.03, 5.88, 21.32, 1.91,\n",
    "    1.91, 0.33, 0.3, 0.37, 8.68, 53.94, 18.34, 0.35, 0.39, 4.24,\n",
    "    1.09, 5.8, 3.09, 0.77, 59.68, 5.76\n",
    "    ])\n",
    "alt = 'two-sided'  # 'less', 'two-sided', 'greater'\n",
    "\n",
    "mqr.inference.nonparametric.median.test_nsample(live, web, alternative=alt, method='mann-whitney')"
   ]
  },
  {
   "cell_type": "markdown",
   "id": "474c33c9",
   "metadata": {},
   "source": [
    "-----------------------------------------------------------------------------------\n",
    "## 3.5 Multiple Sample Kruskal Wallace Test\n",
    "\n",
    "Performs a test of equal medians from several independent populations.  "
   ]
  },
  {
   "cell_type": "code",
   "execution_count": 35,
   "id": "e255d66e",
   "metadata": {},
   "outputs": [
    {
     "data": {
      "text/html": [
       "<div style=\"display:flex;flex-direction:row;justify-content:stretch;justify-items:center;align-content:start;align-items:start;\"><div style=\"margin:5px 10px 5px 10px;\"><img src=\"data:image/png;base64,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\" /></div><div style=\"margin:5px 10px 5px 10px;\"><table>\n",
       "<thead>\n",
       "<tr>\n",
       "<th></th>\n",
       "<th>Medians</th>\n",
       "</tr>\n",
       "</thead>\n",
       "<tbody>\n",
       "<tr>\n",
       "<td>x</td>\n",
       "<td>3.5</td>\n",
       "</tr>\n",
       "<tr>\n",
       "<td>y</td>\n",
       "<td>4.0</td>\n",
       "</tr>\n",
       "<tr>\n",
       "<td>z</td>\n",
       "<td>5.0</td>\n",
       "</tr>\n",
       "</tbody>\n",
       "</table></div><div style=\"margin:5px 10px 5px 10px;\">\n",
       "        <table>\n",
       "        <thead>\n",
       "            <tr>\n",
       "                <th scope=\"col\" colspan=2 style=\"text-align: left; padding-bottom: 0px;\">Hypothesis Test</th>\n",
       "            </tr>\n",
       "            <tr style='padding-top: 0px;'>\n",
       "                <td colspan=2 style='text-align: left; padding-top: 0px'>equality of medians</td>\n",
       "            </tr>\n",
       "        </thead>\n",
       "        <tbody>\n",
       "            <tr>\n",
       "                <th scope=\"row\">method</th>\n",
       "                <td>kruskal-wallis</th>\n",
       "            </tr>\n",
       "            <tr>\n",
       "                <th scope=\"row\">H<sub>0</sub></th>\n",
       "                <td>median(x_i) == median(x_j)</td>\n",
       "            </tr>\n",
       "            <tr>\n",
       "                <th scope=\"row\">H<sub>1</sub></th>\n",
       "                <td>median(x_i) != median(x_j)</td>\n",
       "            </tr>\n",
       "            <thead><tr/></thead>\n",
       "            <tr>\n",
       "                <th scope=\"row\">statistic</th>\n",
       "                <td>0.0132175</td>\n",
       "            </tr>\n",
       "            <tr>\n",
       "                <th scope=\"row\">p-value</th>\n",
       "                <td>0.993413</td>\n",
       "            </tr>\n",
       "        </tbody>\n",
       "        </table>\n",
       "        </div></div>"
      ],
      "text/plain": [
       "<IPython.core.display.HTML object>"
      ]
     },
     "execution_count": 35,
     "metadata": {},
     "output_type": "execute_result"
    }
   ],
   "source": [
    "x = np.array([4, 2, 3, 6, 8, 2])\n",
    "y = np.array([6, 3, 4, 5, 2])\n",
    "z = np.array([5, 2, 6, 1, 8])\n",
    "\n",
    "samples = [x, y, z]\n",
    "names = ['x', 'y', 'z']\n",
    "colors = ['C0', 'C1', 'C2']\n",
    "\n",
    "with Figure(4, 4, len(samples), sharex=True) as (fig, axes):\n",
    "    # NB: the tuple of corresponding list elements is unpacked into \"data\", \"name\", \"color\" and \"ax\"\n",
    "    for sample, name, color, ax in zip(samples, names, colors, axes):\n",
    "        sns.histplot(data=sample, binwidth=1.5, color=color, ax=ax)\n",
    "        ax.legend(name)\n",
    "        ax.set_yticks([0, 1, 2, 3])\n",
    "        ax.axvline(np.median(sample), color=color)\n",
    "\n",
    "    plot = mqr.nbtools.grab_figure(fig)\n",
    "\n",
    "medians = f'''\n",
    "|    | Medians        |\n",
    "|--- |---             |\n",
    "| x  | {np.median(x)} |\n",
    "| y  | {np.median(y)} |\n",
    "| z  | {np.median(z)} |\n",
    "'''\n",
    "\n",
    "hyptest = mqr.inference.nonparametric.median.test_nsample(x, y, z, method='kruskal-wallis')\n",
    "\n",
    "hstack(plot, medians, hyptest)"
   ]
  },
  {
   "cell_type": "markdown",
   "id": "fe9dec28-8419-4713-8c6d-845ac3b1aecc",
   "metadata": {},
   "source": [
    "### Notes on the `for-loop` in the last example\n",
    "The `zip` function iterates over lists, producing tuples of corresponding elements.\n",
    "For example:  \n",
    "```\n",
    "zip(['a', 'b', 'c'],\n",
    "    [ 1,   2,   3])\n",
    "```\n",
    "produces an iterable equivalent to  \n",
    "```\n",
    "[('a', 1),\n",
    " ('b', 2),\n",
    " ('c', 3)]\n",
    "```\n",
    "\n",
    "In the previous example, `zip(samples, names, colors, axes)` produces an iterable of tuples like `(sample, name, color, ax)`,\n",
    "making it easy to plot the corresponding samples, names and colors into sequential axes."
   ]
  }
 ],
 "metadata": {
  "kernelspec": {
   "display_name": "Python 3 (ipykernel)",
   "language": "python",
   "name": "python3"
  },
  "language_info": {
   "codemirror_mode": {
    "name": "ipython",
    "version": 3
   },
   "file_extension": ".py",
   "mimetype": "text/x-python",
   "name": "python",
   "nbconvert_exporter": "python",
   "pygments_lexer": "ipython3",
   "version": "3.12.4"
  }
 },
 "nbformat": 4,
 "nbformat_minor": 5
}
