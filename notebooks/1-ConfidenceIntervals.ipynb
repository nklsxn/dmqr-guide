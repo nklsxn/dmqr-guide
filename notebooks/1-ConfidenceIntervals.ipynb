{
 "cells": [
  {
   "attachments": {
    "index.png": {
     "image/png": "[encoded data removed]"
    }
   },
   "cell_type": "markdown",
   "id": "8546f8b7",
   "metadata": {},
   "source": [
    "<center>\n",
    "<div style=\"max-width:400px;\">\n",
    "\n",
    "![index.png](attachment:index.png)\n",
    "\n",
    "</div>\n",
    "</center>\n",
    "\n",
    "# Probability Distributions and Confidence Intervals Notebook\n",
    "\n",
    "**Prof. Kevin Otto and Nikolas Crossan**  \n",
    "The University of Melbourne  \n",
    "Department of Mechanical Engineering\n",
    "\n",
    "-------------------------------------------------------------------\n",
    "\n",
    "Herein are notes, examples and code blocks to compute various probabilities and confidence intervals.  \n",
    "1. Probability of events\n",
    "2. Confidence intervals\n",
    "The focus is on manufacturing assessments of quality statistics: defective proportions and the binomial distribution, defect counts and the Poisson distribution, and specification limits and the normal distribution.  \n",
    "\n",
    "This notebook relies on the `mqrpy` code library, found at https://pypi.org/project/mqrpy/"
   ]
  },
  {
   "cell_type": "code",
   "execution_count": 1,
   "id": "170a023c-a71b-4aad-bee2-ccbe288cf13a",
   "metadata": {},
   "outputs": [],
   "source": [
    "import numpy as np\n",
    "import pandas as pd\n",
    "import seaborn as sns\n",
    "from IPython.display import display\n",
    "\n",
    "import mqr\n",
    "from mqr.plot import Figure\n",
    "import mqr.nbtools as nb\n",
    "\n",
    "from importlib.metadata import version\n",
    "print('MQR version', version('mqrpy'))\n",
    "print('Numpy version ', version('numpy'))\n",
    "print('Scipy version ', version('scipy'))\n",
    "print('Pandas version ', version('pandas'))\n",
    "print('Seaborn version ', version('seaborn'))"
   ]
  },
  {
   "cell_type": "markdown",
   "id": "e8936420",
   "metadata": {},
   "source": [
    "# 1.0 Distribution Examples\n",
    "\n",
    "This next section demonstrates probability distribution functions and their use in manufacturing quality.  The binomial distribution and its use with yield and defective scrap rate analysis, the Poisson distribution for defect analysis, and the normal distribution for continuous measurement and control types of error analysis.\n",
    "\n",
    "The following distribution functions are demonstrated, using Scipy for statistics.\n",
    "\n",
    "\n",
    "| Distribution | Typical Use            | Math             | Python                     |\n",
    "|--------------|:-----------------------|:----------------:|:---------------------------|\n",
    "| Binomial     | Pass/Fail Data         | $$Pr(X=x)$$      | binom.pdf$(r, N, \\pi)$     |\n",
    "|              |                        | $$Pr(X \\leq x)$$ | binom.pmf$(r, N, \\pi)$     |\n",
    "|              |                        | $$Pr^{-1}(p)$$   | binom.ppf$(p, N, \\pi)$     |\n",
    "| Poisson      | Defect Count Data      | $$Pr(X=x)$$      | poisson.pdf$(r, N, \\pi)$   |\n",
    "|              |                        | $$Pr(X \\leq x)$$ | poisson.pmf$(r, N, \\pi)$   |\n",
    "|              |                        | $$Pr^{-1}(p)$$   | poisson.ppf$(p, N, \\pi)$   |\n",
    "| Normal       | Measurement error data | $$\\phi(x)$$      | norm.pdf$(x, \\mu, \\sigma)$ |\n",
    "|              |                        | $$\\Phi(x)$$      | norm.cdf$(x, \\mu, \\sigma)$ |\n",
    "|              |                        | $$\\Phi^{-1}(p)$$ | norm.ppf$(x, \\mu, \\sigma)$ |\n"
   ]
  },
  {
   "cell_type": "markdown",
   "id": "46d9de7e",
   "metadata": {},
   "source": [
    "## 1.1 Binominal Distribution\n",
    "\n",
    "We start with the binomial distribution, which deals with the probabilities of accumulated chances of a binary outcome probability.  If we have multiple units built, and each has a chance at being made properly or defectively, then one might ask what is the accumulated probability of failures for a set of built parts. The binomial distribution computes these probabilities.  For example, to compute the probability of seeing $r$ defectives in a sample of $n$ units, given a historical defective rate $\\pi$.  \n",
    "\n",
    "We will use the binomial distribution function, where\n",
    "$$\n",
    "Pr = B(r,N,\\pi) = \\left( _{N}^{r} \\right) \\pi^r (1-\\pi)^{N-r}\n",
    "$$\n",
    "is the probability $Pr$ of $r$ defectives in a sample of $N$ units with a historical probability of failure $\\pi$.  \n",
    "\n",
    "Here suppose we consider producing 100 units today in a shift with a historical scrap rate of 0.5\\%. What is the probability of no defective units in today's production?  What is the probability of 1 defective unit?  2 defetives?  3 defectives? 10 defectives?  \n",
    "\n",
    "For our problem, this is a sample of $n=100$ units, and we need to compute the $Pr$ of $r$ defectives for $r = 1, ..., 10$ when $p=0.005$ is the estimate for the historical defective rate $\\pi$. Create a list 1,...,10 and then compute the probability of each.  Then make a bar chart of these probabilities."
   ]
  },
  {
   "cell_type": "code",
   "execution_count": 2,
   "id": "ac77bdb8",
   "metadata": {},
   "outputs": [],
   "source": [
    "from scipy.stats import binom\n",
    "\n",
    "n = 100                    # sample size\n",
    "p = 0.005                  # historical probability of a fail (or pass)\n",
    "r_values = list(range(10)) # define the list of r values to plot as the x-axis, values 0, 1, 2, ...\n",
    "\n",
    "# create distribution and prob mass values\n",
    "dist = binom(n, p)\n",
    "pmf_values = dist.pmf(r_values)\n",
    "\n",
    "# compute the probabilities of each value of r defectives\n",
    "df = pd.DataFrame(\n",
    "    {'Pr(r)': pmf_values},\n",
    "    index=pd.Index(r_values, name='r'))\n",
    "\n",
    "# display table and statistics\n",
    "stats = f'''\n",
    "### Stats\n",
    "mean: {dist.mean():.3g}  \n",
    "variance: {dist.var():.3g}\n",
    "'''\n",
    "\n",
    "# Plot the Probability values against r values\n",
    "with Figure() as (fig, ax):\n",
    "    ax.bar(r_values, pmf_values)\n",
    "    ax.set_xlabel('defectives')\n",
    "    ax.set_ylabel('Probability')\n",
    "    plot = nb.grab_figure(fig)\n",
    "\n",
    "nb.hstack(plot, df, stats)"
   ]
  },
  {
   "cell_type": "markdown",
   "id": "d003c9fd-c323-4487-aacf-e906f300ebcf",
   "metadata": {},
   "source": [
    "So this shows with a historical scrap rate of 0.5\\% defectives, on any give day which produces 100 units, there is only a 60\\% chance of producing zero defectives, a 30\\% chance of producing 1 defective, and so on.  A 0.5\\% scrap rate is really not very good, despite it sounding good.  "
   ]
  },
  {
   "cell_type": "markdown",
   "id": "f8804676",
   "metadata": {},
   "source": [
    "-------------------------------------------------------------------------\n",
    "## 1.2 Poisson Distribution\n",
    "\n",
    "Next we consider the Poisson distribution.  Suppose instead of counting how many defective units are produced, we consider how many defects there are per unit, such as 2 defects per unit, or 5 defects per unit, or zero defects per unit.  This is more informative than simply whether the unit is defective or not.  This is very useful in semiconductor manufacturing and defects per area, or cable and piping systems with defects per length, etc.  \n",
    "\n",
    "Compute the probability $Pr$ of seeing $r$ defects per line/area/part, given a historical defect rate $\\lambda$.  The units are always defects-per-X, where X is a part or a length or an area or a something.   \n",
    "\n",
    "We will use the Poisson distribution function, where\n",
    "$$\n",
    "Pr = P(r,\\lambda) = \\frac{\\lambda^r e^{-r}}{r!}\n",
    "$$\n",
    "is the probability $Pr$ of $r$ defect rate with a historical failure rate of $\\lambda$ defect rate.  \n",
    "\n",
    "\n",
    "Here we consider the probability $Pr$ of seeing $r$ defect rate for $r = 0, ..., 10$ defects per unit, with a historical defect rate of $\\lambda = 0.046$ defects per unit.  Create a list for $r$ from 0,...,10 and compute the probabilities, and then graph them in a bar chart."
   ]
  },
  {
   "cell_type": "code",
   "execution_count": null,
   "id": "47c67a70",
   "metadata": {},
   "outputs": [],
   "source": [
    "from scipy.stats import poisson\n",
    "\n",
    "lam = 0.046                 # the historical defect rate \n",
    "n = 10                      # the range from 0,1,...,n of defects to compute Pr for\n",
    "r_values = list(range(n))   # defining the list of r values\n",
    "\n",
    "# obtaining the mean and variance\n",
    "dist = poisson(lam)\n",
    "pmf_values = dist.pmf(r_values)\n",
    "\n",
    "# compute the probabilities of each value of r defects\n",
    "df = pd.DataFrame(\n",
    "    {'Pr(r)': pmf_values},\n",
    "    index=pd.Index(r_values, name='r'))\n",
    "\n",
    "# display table and statistics\n",
    "stats = f'''\n",
    "### Stats\n",
    "mean: {dist.mean():.3g}  \n",
    "variance: {dist.var():.3g}\n",
    "'''\n",
    "\n",
    "# Plot the Probability values against r values of defects\n",
    "with Figure() as (fig, ax):\n",
    "    df.plot.bar(ax=ax)\n",
    "    ax.set_xlabel('Number of Defects')\n",
    "    ax.set_ylabel('Probability')\n",
    "    plot = nb.grab_figure(fig)\n",
    "\n",
    "nb.hstack(plot, df, stats)"
   ]
  },
  {
   "cell_type": "markdown",
   "id": "9ae83fbf-4415-4ce8-aaea-aed3e20ca20c",
   "metadata": {},
   "source": [
    "With a historical average defect rate of 0.046 defects per unit, there is about a 4.5% chance of one or more defects per unit, and a 4.4% chance of 1 defect per part, a 0.1% chance of 2 defects per part, etc.  \n",
    "\n",
    "Now repeat the calculation when the historical defect rate is $\\lambda = 10$ defects per unit, for up to 19 defects.  "
   ]
  },
  {
   "cell_type": "code",
   "execution_count": null,
   "id": "16bfa8f9",
   "metadata": {},
   "outputs": [],
   "source": [
    "from scipy.stats import poisson\n",
    "\n",
    "lam = 10                    # the historical defect rate \n",
    "n = 20                      # the range from 0,1,...,n of defects to compute Pr for\n",
    "r_values = list(range(n))   # defining the list of r values\n",
    "\n",
    "# obtaining the mean and variance \n",
    "dist = poisson(lam)\n",
    "pmf_values = dist.pmf(r_values)\n",
    "\n",
    "# compute the probabilities of each value of r defects\n",
    "df = pd.DataFrame(\n",
    "    {'Pr(r)': pmf_values},\n",
    "    index=pd.Index(r_values, name='r'))\n",
    "\n",
    "# display table and statistics\n",
    "stats = f'''\n",
    "### Stats\n",
    "mean: {dist.mean():.3g}  \n",
    "variance: {dist.var():.3g}\n",
    "'''\n",
    "\n",
    "# Plot the Probability values against r values of defects\n",
    "with Figure() as (fig, ax):\n",
    "    df.plot.bar(ax=ax)\n",
    "    ax.set_xlabel('Defects')\n",
    "    ax.set_ylabel('Probability')\n",
    "    plot = nb.grab_figure(fig)\n",
    "\n",
    "nb.hstack(plot, df.iloc[5:15], stats)"
   ]
  },
  {
   "cell_type": "markdown",
   "id": "36c31abc",
   "metadata": {},
   "source": [
    "With a historical defect rate of 10 defects per unit, the chance of 0 defects per unit is zero, the chance of 3 or fewer defects per unit is less that 2%, etc.  The chance of more than 20 defects per unit is also again small.  \n",
    "\n",
    "------------------------------------------------------------------------------------------------\n",
    "# 2.0 Central Limit Theorem Example\n",
    "\n",
    "The central limit theorem is foundational to all confidence intervals and statistical inferencing.  The theorem states that the distribution of a sample of means approximates and in the limit becomes a normal distribution, irregardless of the underlying population's distribution.  If a distribution is not normal, for example uniform or triangular or exponential or whatever, if you take a sample and compute the average, and repeat, and repeat, then the distribution of theses averages is normal.  \n",
    "\n",
    "Further, the central limit theorem says the standard deviation of the averages goes down by $\\sqrt{n}$ the sample size $n$.  \n",
    "\n",
    "To consider this, consider a uniform distribution such as from tossing dice.  The possible values are (1,2,3,4,5,6), each equally likely, a uniform distribution.  Consider tossing several dice at once, with a resulting random set of integers between 1 to 6.  Compute the average value of this toss of dice.  The expected value is 3.5 (why?).  \n",
    "\n",
    "Now lets run an experiment and simulate throwing 9 dice 100 times.  The resulting count of 1's, 2's, ..., 6's in the 100 tosses of 9 dice should be about the same in the set of 900 dice tosses.  \n",
    "\n",
    "Next, compute the average and the standard deviation of these 900 individual throws.\n",
    "\n",
    "Then consider computing the averages of 4 dice throws, for 100 averages of 4 dice.  Also compute the standard deviation (across the 100 sets) of these averages.  \n",
    "\n",
    "Then consider computing the averages of 9 dice throws, for 100 averages of the 9 dice.  Also compute the standard deviation (across the 100 sets) of these averages.  \n",
    "\n",
    "The central limit theorem says the standard deviation of these averages should go down from the standard deviation of teh individuals by $sqrt(4) = 2$ and $sqrt(9) = 3$ respectively.\n",
    "\n",
    "To test this, compute a set of 100 rows of 9 columns of random integers from 1 to 6, here use NumPy's `randint` and save into a Pandas dataframe.  Plot these as a bar chart of die values from 1 to 6.  The distribution should be uniform."
   ]
  },
  {
   "cell_type": "code",
   "execution_count": null,
   "id": "7ff586c1",
   "metadata": {},
   "outputs": [],
   "source": [
    "import seaborn as sns\n",
    "\n",
    "# generate 9 samples of 100 random die throws, as integers from 1-6:\n",
    "data = np.random.randint(1, 7, size=(100,9))\n",
    "df = pd.DataFrame(data, columns=list('123456789'))\n",
    "\n",
    "# plot them as histograms. Should be uniform.\n",
    "with Figure() as (fig, ax):\n",
    "    sns.histplot(df.stack(), bins=6)"
   ]
  },
  {
   "cell_type": "markdown",
   "id": "fa19b89d-23b8-4b3d-b96b-31559f979fbb",
   "metadata": {},
   "source": [
    "So the above graph shows each value of the die was tossed about 150 times as expected.  900 total tosses with each of the 6 faces equally likely would be 900/6 = 150 occurances.  The distribution of values from 1 to 6 is a uniform distribution.\n",
    "\n",
    "-------------------------------------------------------------------------\n",
    "\n",
    "Now let's consider what happens to the distribution of averages.  For any toss, the expected value is $(1+2+3+4+5+6)/6 = 3.5$. The data itself is a uniform distribution at each integer value with an average of 3.5.  If we average the data across the 9 dice, we would expect each of the 100 toss averages to begin to look normal, according to the central limit theorem, and have a distribution tighter than the original uniform distribution.  So lets look at the distribution of the average of throwing 4 different dies, and the average of throwing all 9 dies.  "
   ]
  },
  {
   "cell_type": "code",
   "execution_count": null,
   "id": "7b00bdf9-7966-4f98-bc77-21343ba1c0e5",
   "metadata": {},
   "outputs": [],
   "source": [
    "mean9 = df.mean(axis=1)\n",
    "mean4 = df[['1','2','3','4']].mean(axis=1)\n",
    "\n",
    "print(f'Average of all data: {df.stack().mean():.4} and sigma of all data: {df.stack().std():.4}.')\n",
    "print(f'Average of (average of 4 dies): {mean4.mean():.4} and sigma of (average of 4 dies): {mean4.std():.4}.')\n",
    "print(f'Average of (average of 9 dies): {mean9.mean():.4} and sigma of (average of 9 dies): {mean9.std():.4}.')\n",
    "\n",
    "print('\\nCompare these average\\'s sigmas with that determined by dividing the original data\\'s sigma by sqrt(n):')\n",
    "print(f'Sigma of individual toss data: {df.stack().std():.4}.')\n",
    "print(f'Sigma of individual toss data/2: {df.stack().std()/2.0:.4}.')\n",
    "print(f'Sigma of individual toss data/3: {df.stack().std()/3.0:.4}.')\n",
    "\n",
    "with Figure(8, 2, 1, 2) as (fig, ax):\n",
    "    sns.histplot(mean4, ax=ax[0])\n",
    "    ax[0].set_title('mean4')\n",
    "\n",
    "    sns.histplot(mean9, ax=ax[1])\n",
    "    ax[1].set_title('mean9')"
   ]
  },
  {
   "cell_type": "markdown",
   "id": "ca6d0800",
   "metadata": {},
   "source": [
    "Comparing above, the sigma's of the averages decrease by $\\sqrt(n)$ the number of values in the sample being averaged.  Also, the histograms look less like the original data's uniform distribution and more and more like a normal distribution.  The central limit theorem.\n"
   ]
  },
  {
   "cell_type": "markdown",
   "id": "4be1913b-cb56-4fb4-8317-7ba341e983bd",
   "metadata": {},
   "source": [
    "---------------------------------------------------------------------------------\n",
    "\n",
    "# 3.0 Confidence Intervals\n",
    "\n",
    "The following confidence intervals are demonstrated.\n",
    "\n",
    "\n",
    "| Confidence Interval        | Sampling Distribution | Confidence Interval | MQR-Quality Library        |\n",
    "|----------------------------|:---------------------:|:-------------------:|:---------------------------|\n",
    "| Mean $\\mu$, $\\sigma$ known | $Z$            | $$\\bar{x} \\pm Z_{\\alpha/2}\\frac{\\sigma}{\\sqrt{n}}$$ | mqr.inference.mean.confint_1sample |\n",
    "| Mean $\\mu$, $\\sigma$ unknown | $t$          | $$\\bar{x} \\pm t_{\\alpha/2,N-1}\\frac{s}{\\sqrt{n}}$$ | mqr.inference.mean.confint_1sample |\n",
    "| Paired data difference in mean $\\mu - \\mu'$ | $t$ | $$\\bar{d} \\pm t_{\\alpha/2,N-1}\\frac{s_d}{\\sqrt{n}}$$ | mqr.inference.mean.confint_paired |\n",
    "| Difference in two mean $\\mu_1 - \\mu_2$ | $t$ | $$\\bar{x}_1 - \\bar{x}_2 \\pm t_{\\alpha/2,n_1+n_2-1} s_p$$ | mqr.inference.mean.confint_2sample |\n",
    "| Standard Deviation $\\sigma$ | $\\chi^2$   | $$ s \\sqrt{\\frac{n-1}{\\chi^2_{1-\\alpha/2,n-1}}} \\leq \\sigma \\leq s \\sqrt{\\frac{n-1}{\\chi^2_{\\alpha/2,n-1}}} $$ | mqr.inference.stddev.confint_1sample |\n",
    "| Ratio of two variances $\\sigma_1^2 / \\sigma_2^2 $ | $F$   | $$ \\frac{s_1^2}{s_2^2} F_{\\alpha/2,n_1-1,n_2-1} \\leq \\frac{\\sigma_1^2}{\\sigma_2^2} \\leq \\frac{s_1^2}{s_2^2} F_{1-\\alpha/2,n_1-1,n_2-1} $$ | mqr.inference.variance.confint_2sample |\n",
    "| Proportion | $F$ | $$ \\frac{2xF_{\\alpha/2,v_1,v_2}}{2(n-x-1)+2xF_{\\alpha/2,v_1,v_2}} \\leq \\pi \\leq \\frac{2(x+1)F_{\\alpha/2,v_1,v_2}}{2(n-x)+2(x+1)F_{\\alpha/2,v_1,v_2}}  $$  | mqr.inference.proportion.confint_1sample |\n",
    "| Two Proportions | $Z$ | $$ p_1 - p_2 \\pm Z_{\\alpha/2} \\sqrt{\\frac{p_1(1-p_1)}{n_1}+\\frac{p_2(1-p_2)}{n_2}}  $$ | mqr.inference.proportion.confint_2sample |\n",
    "| Rate | $\\chi^2$ | $$ r \\pm \\frac{1}{2nt} \\chi^2_{2s,1-\\alpha/2} $$  | mqr.inference.rate.confint_1sample |\n",
    "| Two Rates | $Z$ | $$ r_1 - r_2 \\pm Z_{\\alpha/2} \\sqrt{\\frac{r_1}{n_1 t_1}+\\frac{r_2}{n_2 t_2}} $$  | mqr.inference.rate.confint_2sample |\n",
    "\n",
    "-----------------------------------------------------------------------------------------------------------------------\n",
    "\n",
    "## 3.1 Confidence Interval of the Mean\n",
    "\n",
    "This computes the confidence interval of the mean for a sample of data."
   ]
  },
  {
   "cell_type": "code",
   "execution_count": null,
   "id": "536468bd",
   "metadata": {},
   "outputs": [],
   "source": [
    "a = np.array([\n",
    "    4.23, 3.98, 4.36, 3.86, 4.12, 4.23, 4.36, 4.44, 3.98, 4.06, 3.79,\n",
    "    4.35,4.20,4.57,4.82,4.44,4.94,4.68,4.57,4.44,4.36,4.82,4.74,5.01,4.45\n",
    "    ])\n",
    "\n",
    "mqr.inference.mean.confint_1sample(a, conf=0.95, bounded='both')"
   ]
  },
  {
   "cell_type": "markdown",
   "id": "498d2c7d",
   "metadata": {},
   "source": [
    "## 3.2 Confidence Interval of the Difference of Two Paired Means\n",
    "\n",
    "This computes the confidence interval of the difference in population means $\\mu_1 - \\mu_2$ from two paired samples.  \n",
    "\n",
    "If zero is in the confidence interval, there is no significant difference in means.  Are the means significantly different in the example below?"
   ]
  },
  {
   "cell_type": "code",
   "execution_count": null,
   "id": "e350c5bc",
   "metadata": {},
   "outputs": [],
   "source": [
    "Sa = np.array([\n",
    "    33.59,33.13,32.84,32.01,36.75,36.41,35.61,33.12,35.26,33.45\n",
    "    ])\n",
    "Sb = np.array([\n",
    "    34.18,33.25,32.68,31.03,40.49,39.81,38.22,33.23,37.52,33.90\n",
    "    ])\n",
    "\n",
    "mqr.inference.mean.confint_paired(Sa, Sb, conf=0.95)"
   ]
  },
  {
   "cell_type": "markdown",
   "id": "651897e5",
   "metadata": {},
   "source": [
    "## 3.3 Confidence Interval of the Difference of Two Means\n",
    "\n",
    "This computes the confidence interval of the difference in means from two independent samples, with equal or unequal variances.  \n",
    "\n",
    "If zero is in the confidence interval, there is no significant difference in means."
   ]
  },
  {
   "cell_type": "code",
   "execution_count": null,
   "id": "88ba0ebb",
   "metadata": {},
   "outputs": [],
   "source": [
    "X1 = np.array([\n",
    "    34.18,33.25,32.68,31.03,40.49,39.81,38.22,33.23,37.52,33.90\n",
    "    ])\n",
    "X2 = np.array([\n",
    "    33.59,33.13,32.84,32.01,36.75,36.41,35.61,33.12,35.26,33.45\n",
    "    ])\n",
    "\n",
    "mqr.inference.mean.confint_2sample(X1, X2, conf=0.95, pooled=False, bounded='both')"
   ]
  },
  {
   "cell_type": "markdown",
   "id": "e4d0360b",
   "metadata": {},
   "source": [
    "## 3.4 Confidence Interval of a Standard Deviation\n",
    "\n",
    "Computes the two sided confidence interval for a population standard deviation."
   ]
  },
  {
   "cell_type": "code",
   "execution_count": null,
   "id": "0c016e05",
   "metadata": {},
   "outputs": [],
   "source": [
    "arr = np.array([\n",
    "    4.23, 3.98, 4.36, 3.86, 4.12, 4.23, 4.36, \n",
    "    4.44, 3.98, 4.06, 3.79, 4.35,4.20,4.57,\n",
    "    4.82,4.44, 4.94,4.68,4.57,4.44,4.36,4.82,\n",
    "    4.74,5.01,4.45\n",
    "    ])\n",
    "\n",
    "ci = mqr.inference.stddev.confint_1sample(arr, conf=0.95, bounded='above')\n",
    "display(ci)\n",
    "ci.lower, ci.upper"
   ]
  },
  {
   "cell_type": "markdown",
   "id": "7d05a2a4",
   "metadata": {},
   "source": [
    "## 3.5 Confidence Interval for the Ratio of Two Variances\n",
    "\n",
    "Computes the confidence interval for the ratio of two population variances.\n",
    "\n",
    "If the ratio 1 is in the confidence interval, there is no significant difference in standard deviations."
   ]
  },
  {
   "cell_type": "code",
   "execution_count": null,
   "id": "c65d2416",
   "metadata": {},
   "outputs": [],
   "source": [
    "sample1 = np.array([\n",
    "    4.23, 3.98, 4.36, 3.86, 4.12, 4.23, 4.36, \n",
    "    4.44, 3.98, 4.06, 3.79, 4.35,4.20,4.57,\n",
    "    4.82,4.44, 4.94,4.68,4.57,4.44,4.36,4.82,\n",
    "    4.74,5.01,4.45\n",
    "    ])\n",
    "sample2 = np.array([\n",
    "    5.84, 5.62, 5.96, 5.51, 5.75, 5.84, 5.96, \n",
    "    6.04, 5.62, 5.69, 5.44, 5.95, 5.82, 6.16,\n",
    "    6.38, 6.04, 6.49, 6.25, 6.16, 6.04, 5.96, 6.38,\n",
    "    6.31, 6.56, 6.05\n",
    "    ])\n",
    "\n",
    "ci = mqr.inference.variance.confint_2sample(sample1, sample2, conf=0.95, bounded = 'both')\n",
    "display(ci)\n",
    "print('The confidence interval of the standard deviation is the sqrt of the variance limits:')\n",
    "np.sqrt(ci.lower), np.sqrt(ci.upper)"
   ]
  },
  {
   "cell_type": "markdown",
   "id": "2280fbd3",
   "metadata": {},
   "source": [
    "## 3.6 Confidence Interval for a Proportion\n",
    "\n",
    "Computes the two sided confidence interval for a defective proportion."
   ]
  },
  {
   "cell_type": "code",
   "execution_count": null,
   "id": "bfbcb359",
   "metadata": {},
   "outputs": [],
   "source": [
    "count = 3      # number of defectives observed in the sample\n",
    "nobs = 100     # sample size\n",
    "alpha = 0.05   # significance level\n",
    "method='agresti-coull'  # 'normal’, 'agresti_coull', 'beta', 'wilson', 'binom_test'\n",
    "\n",
    "mqr.inference.proportion.confint_1sample(count, nobs, 1-alpha, method=method, bounded='both')"
   ]
  },
  {
   "cell_type": "markdown",
   "id": "19fc25b4",
   "metadata": {},
   "source": [
    "## 3.7 Confidence Interval for the Difference Between Two Proportions\n",
    "\n",
    "Computes a two sided confidence interval for the difference in population defective proportions.  \n",
    "\n",
    "If zero is in the confidence interval, there is no significant difference in proportions."
   ]
  },
  {
   "cell_type": "code",
   "execution_count": null,
   "id": "040dbc9b",
   "metadata": {},
   "outputs": [],
   "source": [
    "count1 = 3     # number of defectives observed in sample 1\n",
    "nobs1 = 200    # size of sample 1\n",
    "count2 = 2     # number of defectives observed in sample 2\n",
    "nobs2 = 300    # size of sample 2\n",
    "alpha = 0.05   # significance level\n",
    "method='agresti-caffo'  # 'newcomb', 'agresti-caffo', 'score', 'wald'\n",
    "\n",
    "mqr.inference.proportion.confint_2sample(count1, nobs1, count2, nobs2, 1-alpha, method='agresti-caffo', bounded='both')"
   ]
  },
  {
   "cell_type": "markdown",
   "id": "d3d5557f",
   "metadata": {},
   "source": [
    "## 3.8 Confidence Interval for a Rate\n",
    "\n",
    "Computes a two sided confidence interval for the population defect rate.  "
   ]
  },
  {
   "cell_type": "code",
   "execution_count": null,
   "id": "446f666a",
   "metadata": {},
   "outputs": [],
   "source": [
    "count = 13   # the sum of the number of defects found across all observations\n",
    "t = 1        # the length, area, or unit count\n",
    "nobs = 100   # number of units with a length, area, or unit count\n",
    "alpha = 0.05 # significance level\n",
    "\n",
    "mqr.inference.rate.confint_1sample(count, nobs, meas=t, conf=1-alpha)"
   ]
  },
  {
   "cell_type": "markdown",
   "id": "43cebaab",
   "metadata": {},
   "source": [
    "## 3.9 Confidence Interval for the Difference in Rates\n",
    "\n",
    "Computes a two sided confidence interval for the difference in population defect rates.  \n",
    "\n",
    "If zero is in the confidence interval, there is no significant difference in defect rates."
   ]
  },
  {
   "cell_type": "code",
   "execution_count": null,
   "id": "3211e887",
   "metadata": {},
   "outputs": [],
   "source": [
    "count1 = 13    # the sum of the number of defects observed across all units in sample\n",
    "t1 = 1         # the length/area per unit in the sample\n",
    "nobs1 = 100    # the number of units in the sample\n",
    "count2 = 20    # the sum of the number of defects observed across all units in sample\n",
    "t2 = 1         # the length/area per unit in the sample\n",
    "nobs2 = 100    # the number of units in the sample\n",
    "alpha = 0.05   # Significance level\n",
    "\n",
    "mqr.inference.rate.confint_2sample(\n",
    "    count1, nobs1,\n",
    "    count2, nobs2,\n",
    "    meas1=t1, meas2=t2,\n",
    "    conf=1-alpha)"
   ]
  }
 ],
 "metadata": {
  "kernelspec": {
   "display_name": "Python 3 (ipykernel)",
   "language": "python",
   "name": "python3"
  },
  "language_info": {
   "codemirror_mode": {
    "name": "ipython",
    "version": 3
   },
   "file_extension": ".py",
   "mimetype": "text/x-python",
   "name": "python",
   "nbconvert_exporter": "python",
   "pygments_lexer": "ipython3",
   "version": "3.12.4"
  }
 },
 "nbformat": 4,
 "nbformat_minor": 5
}
