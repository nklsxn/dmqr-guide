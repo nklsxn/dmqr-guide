{
 "cells": [
  {
   "attachments": {
    "index.png": {
     "image/png": "[encoded data removed]"
    }
   },
   "cell_type": "markdown",
   "id": "8546f8b7",
   "metadata": {},
   "source": [
    "<center>\n",
    "<div style=\"max-width:400px;\">\n",
    "\n",
    "![index.png](attachment:index.png)\n",
    "\n",
    "</div>\n",
    "</center>\n",
    "\n",
    "# Probability Distributions and Confidence Intervals Notebook\n",
    "\n",
    "**Prof. Kevin Otto and Nikolas Crossan**  \n",
    "The University of Melbourne  \n",
    "Department of Mechanical Engineering\n",
    "\n",
    "-------------------------------------------------------------------\n",
    "\n",
    "Herein are notes, examples and code blocks to compute various probabilities and confidence intervals.  \n",
    "1. Probability of events\n",
    "2. Confidence intervals\n",
    "The focus is on manufacturing assessments of quality statistics: defective proportions and the binomial distribution, defect counts and the Poisson distribution, and specification limits and the normal distribution.  \n",
    "\n",
    "This notebook relies on the `mqrpy` code library, found at https://pypi.org/project/mqrpy/"
   ]
  },
  {
   "cell_type": "code",
   "execution_count": 1,
   "id": "170a023c-a71b-4aad-bee2-ccbe288cf13a",
   "metadata": {},
   "outputs": [
    {
     "name": "stdout",
     "output_type": "stream",
     "text": [
      "MQR version 0.6.0\n",
      "Numpy version  1.26.4\n",
      "Scipy version  1.13.1\n",
      "Pandas version  2.2.2\n",
      "Seaborn version  0.13.2\n"
     ]
    }
   ],
   "source": [
    "import numpy as np\n",
    "import pandas as pd\n",
    "import seaborn as sns\n",
    "from IPython.display import display\n",
    "\n",
    "import mqr\n",
    "from mqr.plot import Figure\n",
    "import mqr.nbtools as nb\n",
    "\n",
    "from importlib.metadata import version\n",
    "print('MQR version', version('mqrpy'))\n",
    "print('Numpy version ', version('numpy'))\n",
    "print('Scipy version ', version('scipy'))\n",
    "print('Pandas version ', version('pandas'))\n",
    "print('Seaborn version ', version('seaborn'))"
   ]
  },
  {
   "cell_type": "markdown",
   "id": "e8936420",
   "metadata": {},
   "source": [
    "# 1.0 Distribution Examples\n",
    "\n",
    "This next section demonstrates probability distribution functions and their use in manufacturing quality.  The binomial distribution and its use with yield and defective scrap rate analysis, the Poisson distribution for defect analysis, and the normal distribution for continuous measurement and control types of error analysis.\n",
    "\n",
    "The following distribution functions are demonstrated, using Scipy for statistics.\n",
    "\n",
    "\n",
    "| Distribution | Typical Use            | Math             | Python                     |\n",
    "|--------------|:-----------------------|:----------------:|:---------------------------|\n",
    "| Binomial     | Pass/Fail Data         | $$Pr(X=x)$$      | binom.pdf$(r, N, \\pi)$     |\n",
    "|              |                        | $$Pr(X \\leq x)$$ | binom.pmf$(r, N, \\pi)$     |\n",
    "|              |                        | $$Pr^{-1}(p)$$   | binom.ppf$(p, N, \\pi)$     |\n",
    "| Poisson      | Defect Count Data      | $$Pr(X=x)$$      | poisson.pdf$(r, N, \\pi)$   |\n",
    "|              |                        | $$Pr(X \\leq x)$$ | poisson.pmf$(r, N, \\pi)$   |\n",
    "|              |                        | $$Pr^{-1}(p)$$   | poisson.ppf$(p, N, \\pi)$   |\n",
    "| Normal       | Measurement error data | $$\\phi(x)$$      | norm.pdf$(x, \\mu, \\sigma)$ |\n",
    "|              |                        | $$\\Phi(x)$$      | norm.cdf$(x, \\mu, \\sigma)$ |\n",
    "|              |                        | $$\\Phi^{-1}(p)$$ | norm.ppf$(x, \\mu, \\sigma)$ |\n"
   ]
  },
  {
   "cell_type": "markdown",
   "id": "46d9de7e",
   "metadata": {},
   "source": [
    "## 1.1 Binominal Distribution\n",
    "\n",
    "We start with the binomial distribution, which deals with the probabilities of accumulated chances of a binary outcome probability.  If we have multiple units built, and each has a chance at being made properly or defectively, then one might ask what is the accumulated probability of failures for a set of built parts. The binomial distribution computes these probabilities.  For example, to compute the probability of seeing $r$ defectives in a sample of $n$ units, given a historical defective rate $\\pi$.  \n",
    "\n",
    "We will use the binomial distribution function, where\n",
    "$$\n",
    "Pr = B(r,N,\\pi) = \\left( _{N}^{r} \\right) \\pi^r (1-\\pi)^{N-r}\n",
    "$$\n",
    "is the probability $Pr$ of $r$ defectives in a sample of $N$ units with a historical probability of failure $\\pi$.  \n",
    "\n",
    "Here suppose we consider producing 100 units today in a shift with a historical scrap rate of 0.5\\%. What is the probability of no defective units in today's production?  What is the probability of 1 defective unit?  2 defetives?  3 defectives? 10 defectives?  \n",
    "\n",
    "For our problem, this is a sample of $n=100$ units, and we need to compute the $Pr$ of $r$ defectives for $r = 1, ..., 10$ when $p=0.005$ is the estimate for the historical defective rate $\\pi$. Create a list 1,...,10 and then compute the probability of each.  Then make a bar chart of these probabilities."
   ]
  },
  {
   "cell_type": "code",
   "execution_count": 2,
   "id": "ac77bdb8",
   "metadata": {},
   "outputs": [
    {
     "data": {
      "text/html": [
       "<div style=\"display:flex;flex-direction:row;justify-content:stretch;justify-items:center;align-content:start;align-items:start;\"><div style=\"margin:5px 10px 5px 10px;\"><img src=\"data:image/png;base64,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\" /></div><div style=\"margin:5px 10px 5px 10px;\"><div>\n",
       "<style scoped>\n",
       "    .dataframe tbody tr th:only-of-type {\n",
       "        vertical-align: middle;\n",
       "    }\n",
       "\n",
       "    .dataframe tbody tr th {\n",
       "        vertical-align: top;\n",
       "    }\n",
       "\n",
       "    .dataframe thead th {\n",
       "        text-align: right;\n",
       "    }\n",
       "</style>\n",
       "<table border=\"1\" class=\"dataframe\">\n",
       "  <thead>\n",
       "    <tr style=\"text-align: right;\">\n",
       "      <th></th>\n",
       "      <th>Pr(r)</th>\n",
       "    </tr>\n",
       "    <tr>\n",
       "      <th>r</th>\n",
       "      <th></th>\n",
       "    </tr>\n",
       "  </thead>\n",
       "  <tbody>\n",
       "    <tr>\n",
       "      <th>0</th>\n",
       "      <td>6.057704e-01</td>\n",
       "    </tr>\n",
       "    <tr>\n",
       "      <th>1</th>\n",
       "      <td>3.044073e-01</td>\n",
       "    </tr>\n",
       "    <tr>\n",
       "      <th>2</th>\n",
       "      <td>7.571939e-02</td>\n",
       "    </tr>\n",
       "    <tr>\n",
       "      <th>3</th>\n",
       "      <td>1.242965e-02</td>\n",
       "    </tr>\n",
       "    <tr>\n",
       "      <th>4</th>\n",
       "      <td>1.514668e-03</td>\n",
       "    </tr>\n",
       "    <tr>\n",
       "      <th>5</th>\n",
       "      <td>1.461388e-04</td>\n",
       "    </tr>\n",
       "    <tr>\n",
       "      <th>6</th>\n",
       "      <td>1.162746e-05</td>\n",
       "    </tr>\n",
       "    <tr>\n",
       "      <th>7</th>\n",
       "      <td>7.846242e-07</td>\n",
       "    </tr>\n",
       "    <tr>\n",
       "      <th>8</th>\n",
       "      <td>4.583546e-08</td>\n",
       "    </tr>\n",
       "    <tr>\n",
       "      <th>9</th>\n",
       "      <td>2.354474e-09</td>\n",
       "    </tr>\n",
       "  </tbody>\n",
       "</table>\n",
       "</div></div><div style=\"margin:5px 10px 5px 10px;\"><h3>Stats</h3>\n",
       "<p>mean: 0.5<br />\n",
       "variance: 0.497</p></div></div>"
      ],
      "text/plain": [
       "<IPython.core.display.HTML object>"
      ]
     },
     "execution_count": 2,
     "metadata": {},
     "output_type": "execute_result"
    }
   ],
   "source": [
    "from scipy.stats import binom\n",
    "\n",
    "n = 100                    # sample size\n",
    "p = 0.005                  # historical probability of a fail (or pass)\n",
    "r_values = list(range(10)) # define the list of r values to plot as the x-axis, values 0, 1, 2, ...\n",
    "\n",
    "# create distribution and prob mass values\n",
    "dist = binom(n, p)\n",
    "pmf_values = dist.pmf(r_values)\n",
    "\n",
    "# compute the probabilities of each value of r defectives\n",
    "df = pd.DataFrame(\n",
    "    {'Pr(r)': pmf_values},\n",
    "    index=pd.Index(r_values, name='r'))\n",
    "\n",
    "# display table and statistics\n",
    "stats = f'''\n",
    "### Stats\n",
    "mean: {dist.mean():.3g}  \n",
    "variance: {dist.var():.3g}\n",
    "'''\n",
    "\n",
    "# Plot the Probability values against r values\n",
    "with Figure() as (fig, ax):\n",
    "    ax.bar(r_values, pmf_values)\n",
    "    ax.set_xlabel('defectives')\n",
    "    ax.set_ylabel('Probability')\n",
    "    plot = nb.grab_figure(fig)\n",
    "\n",
    "nb.hstack(plot, df, stats)"
   ]
  },
  {
   "cell_type": "markdown",
   "id": "d003c9fd-c323-4487-aacf-e906f300ebcf",
   "metadata": {},
   "source": [
    "So this shows with a historical scrap rate of 0.5\\% defectives, on any give day which produces 100 units, there is only a 60\\% chance of producing zero defectives, a 30\\% chance of producing 1 defective, and so on.  A 0.5\\% scrap rate is really not very good, despite it sounding good.  "
   ]
  },
  {
   "cell_type": "markdown",
   "id": "f8804676",
   "metadata": {},
   "source": [
    "-------------------------------------------------------------------------\n",
    "## 1.2 Poisson Distribution\n",
    "\n",
    "Next we consider the Poisson distribution.  Suppose instead of counting how many defective units are produced, we consider how many defects there are per unit, such as 2 defects per unit, or 5 defects per unit, or zero defects per unit.  This is more informative than simply whether the unit is defective or not.  This is very useful in semiconductor manufacturing and defects per area, or cable and piping systems with defects per length, etc.  \n",
    "\n",
    "Compute the probability $Pr$ of seeing $r$ defects per line/area/part, given a historical defect rate $\\lambda$.  The units are always defects-per-X, where X is a part or a length or an area or a something.   \n",
    "\n",
    "We will use the Poisson distribution function, where\n",
    "$$\n",
    "Pr = P(r,\\lambda) = \\frac{\\lambda^r e^{-r}}{r!}\n",
    "$$\n",
    "is the probability $Pr$ of $r$ defect rate with a historical failure rate of $\\lambda$ defect rate.  \n",
    "\n",
    "\n",
    "Here we consider the probability $Pr$ of seeing $r$ defect rate for $r = 0, ..., 10$ defects per unit, with a historical defect rate of $\\lambda = 0.046$ defects per unit.  Create a list for $r$ from 0,...,10 and compute the probabilities, and then graph them in a bar chart."
   ]
  },
  {
   "cell_type": "code",
   "execution_count": 3,
   "id": "47c67a70",
   "metadata": {},
   "outputs": [
    {
     "data": {
      "text/html": [
       "<div style=\"display:flex;flex-direction:row;justify-content:stretch;justify-items:center;align-content:start;align-items:start;\"><div style=\"margin:5px 10px 5px 10px;\"><img src=\"data:image/png;base64,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\" /></div><div style=\"margin:5px 10px 5px 10px;\"><div>\n",
       "<style scoped>\n",
       "    .dataframe tbody tr th:only-of-type {\n",
       "        vertical-align: middle;\n",
       "    }\n",
       "\n",
       "    .dataframe tbody tr th {\n",
       "        vertical-align: top;\n",
       "    }\n",
       "\n",
       "    .dataframe thead th {\n",
       "        text-align: right;\n",
       "    }\n",
       "</style>\n",
       "<table border=\"1\" class=\"dataframe\">\n",
       "  <thead>\n",
       "    <tr style=\"text-align: right;\">\n",
       "      <th></th>\n",
       "      <th>Pr(r)</th>\n",
       "    </tr>\n",
       "    <tr>\n",
       "      <th>r</th>\n",
       "      <th></th>\n",
       "    </tr>\n",
       "  </thead>\n",
       "  <tbody>\n",
       "    <tr>\n",
       "      <th>0</th>\n",
       "      <td>9.550420e-01</td>\n",
       "    </tr>\n",
       "    <tr>\n",
       "      <th>1</th>\n",
       "      <td>4.393193e-02</td>\n",
       "    </tr>\n",
       "    <tr>\n",
       "      <th>2</th>\n",
       "      <td>1.010434e-03</td>\n",
       "    </tr>\n",
       "    <tr>\n",
       "      <th>3</th>\n",
       "      <td>1.549333e-05</td>\n",
       "    </tr>\n",
       "    <tr>\n",
       "      <th>4</th>\n",
       "      <td>1.781733e-07</td>\n",
       "    </tr>\n",
       "    <tr>\n",
       "      <th>5</th>\n",
       "      <td>1.639194e-09</td>\n",
       "    </tr>\n",
       "    <tr>\n",
       "      <th>6</th>\n",
       "      <td>1.256715e-11</td>\n",
       "    </tr>\n",
       "    <tr>\n",
       "      <th>7</th>\n",
       "      <td>8.258416e-14</td>\n",
       "    </tr>\n",
       "    <tr>\n",
       "      <th>8</th>\n",
       "      <td>4.748589e-16</td>\n",
       "    </tr>\n",
       "    <tr>\n",
       "      <th>9</th>\n",
       "      <td>2.427057e-18</td>\n",
       "    </tr>\n",
       "  </tbody>\n",
       "</table>\n",
       "</div></div><div style=\"margin:5px 10px 5px 10px;\"><h3>Stats</h3>\n",
       "<p>mean: 0.046<br />\n",
       "variance: 0.046</p></div></div>"
      ],
      "text/plain": [
       "<IPython.core.display.HTML object>"
      ]
     },
     "execution_count": 3,
     "metadata": {},
     "output_type": "execute_result"
    }
   ],
   "source": [
    "from scipy.stats import poisson\n",
    "\n",
    "lam = 0.046                 # the historical defect rate \n",
    "n = 10                      # the range from 0,1,...,n of defects to compute Pr for\n",
    "r_values = list(range(n))   # defining the list of r values\n",
    "\n",
    "# obtaining the mean and variance\n",
    "dist = poisson(lam)\n",
    "pmf_values = dist.pmf(r_values)\n",
    "\n",
    "# compute the probabilities of each value of r defects\n",
    "df = pd.DataFrame(\n",
    "    {'Pr(r)': pmf_values},\n",
    "    index=pd.Index(r_values, name='r'))\n",
    "\n",
    "# display table and statistics\n",
    "stats = f'''\n",
    "### Stats\n",
    "mean: {dist.mean():.3g}  \n",
    "variance: {dist.var():.3g}\n",
    "'''\n",
    "\n",
    "# Plot the Probability values against r values of defects\n",
    "with Figure() as (fig, ax):\n",
    "    df.plot.bar(ax=ax)\n",
    "    ax.set_xlabel('Number of Defects')\n",
    "    ax.set_ylabel('Probability')\n",
    "    plot = nb.grab_figure(fig)\n",
    "\n",
    "nb.hstack(plot, df, stats)"
   ]
  },
  {
   "cell_type": "markdown",
   "id": "9ae83fbf-4415-4ce8-aaea-aed3e20ca20c",
   "metadata": {},
   "source": [
    "With a historical average defect rate of 0.046 defects per unit, there is about a 4.5% chance of one or more defects per unit, and a 4.4% chance of 1 defect per part, a 0.1% chance of 2 defects per part, etc.  \n",
    "\n",
    "Now repeat the calculation when the historical defect rate is $\\lambda = 10$ defects per unit, for up to 19 defects.  "
   ]
  },
  {
   "cell_type": "code",
   "execution_count": 4,
   "id": "16bfa8f9",
   "metadata": {},
   "outputs": [
    {
     "data": {
      "text/html": [
       "<div style=\"display:flex;flex-direction:row;justify-content:stretch;justify-items:center;align-content:start;align-items:start;\"><div style=\"margin:5px 10px 5px 10px;\"><img src=\"data:image/png;base64,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\" /></div><div style=\"margin:5px 10px 5px 10px;\"><div>\n",
       "<style scoped>\n",
       "    .dataframe tbody tr th:only-of-type {\n",
       "        vertical-align: middle;\n",
       "    }\n",
       "\n",
       "    .dataframe tbody tr th {\n",
       "        vertical-align: top;\n",
       "    }\n",
       "\n",
       "    .dataframe thead th {\n",
       "        text-align: right;\n",
       "    }\n",
       "</style>\n",
       "<table border=\"1\" class=\"dataframe\">\n",
       "  <thead>\n",
       "    <tr style=\"text-align: right;\">\n",
       "      <th></th>\n",
       "      <th>Pr(r)</th>\n",
       "    </tr>\n",
       "    <tr>\n",
       "      <th>r</th>\n",
       "      <th></th>\n",
       "    </tr>\n",
       "  </thead>\n",
       "  <tbody>\n",
       "    <tr>\n",
       "      <th>5</th>\n",
       "      <td>0.037833</td>\n",
       "    </tr>\n",
       "    <tr>\n",
       "      <th>6</th>\n",
       "      <td>0.063055</td>\n",
       "    </tr>\n",
       "    <tr>\n",
       "      <th>7</th>\n",
       "      <td>0.090079</td>\n",
       "    </tr>\n",
       "    <tr>\n",
       "      <th>8</th>\n",
       "      <td>0.112599</td>\n",
       "    </tr>\n",
       "    <tr>\n",
       "      <th>9</th>\n",
       "      <td>0.125110</td>\n",
       "    </tr>\n",
       "    <tr>\n",
       "      <th>10</th>\n",
       "      <td>0.125110</td>\n",
       "    </tr>\n",
       "    <tr>\n",
       "      <th>11</th>\n",
       "      <td>0.113736</td>\n",
       "    </tr>\n",
       "    <tr>\n",
       "      <th>12</th>\n",
       "      <td>0.094780</td>\n",
       "    </tr>\n",
       "    <tr>\n",
       "      <th>13</th>\n",
       "      <td>0.072908</td>\n",
       "    </tr>\n",
       "    <tr>\n",
       "      <th>14</th>\n",
       "      <td>0.052077</td>\n",
       "    </tr>\n",
       "  </tbody>\n",
       "</table>\n",
       "</div></div><div style=\"margin:5px 10px 5px 10px;\"><h3>Stats</h3>\n",
       "<p>mean: 10<br />\n",
       "variance: 10</p></div></div>"
      ],
      "text/plain": [
       "<IPython.core.display.HTML object>"
      ]
     },
     "execution_count": 4,
     "metadata": {},
     "output_type": "execute_result"
    }
   ],
   "source": [
    "from scipy.stats import poisson\n",
    "\n",
    "lam = 10                    # the historical defect rate \n",
    "n = 20                      # the range from 0,1,...,n of defects to compute Pr for\n",
    "r_values = list(range(n))   # defining the list of r values\n",
    "\n",
    "# obtaining the mean and variance \n",
    "dist = poisson(lam)\n",
    "pmf_values = dist.pmf(r_values)\n",
    "\n",
    "# compute the probabilities of each value of r defects\n",
    "df = pd.DataFrame(\n",
    "    {'Pr(r)': pmf_values},\n",
    "    index=pd.Index(r_values, name='r'))\n",
    "\n",
    "# display table and statistics\n",
    "stats = f'''\n",
    "### Stats\n",
    "mean: {dist.mean():.3g}  \n",
    "variance: {dist.var():.3g}\n",
    "'''\n",
    "\n",
    "# Plot the Probability values against r values of defects\n",
    "with Figure() as (fig, ax):\n",
    "    df.plot.bar(ax=ax)\n",
    "    ax.set_xlabel('Defects')\n",
    "    ax.set_ylabel('Probability')\n",
    "    plot = nb.grab_figure(fig)\n",
    "\n",
    "nb.hstack(plot, df.iloc[5:15], stats)"
   ]
  },
  {
   "cell_type": "markdown",
   "id": "36c31abc",
   "metadata": {},
   "source": [
    "With a historical defect rate of 10 defects per unit, the chance of 0 defects per unit is zero, the chance of 3 or fewer defects per unit is less that 2%, etc.  The chance of more than 20 defects per unit is also again small.  \n",
    "\n",
    "------------------------------------------------------------------------------------------------\n",
    "# 2.0 Central Limit Theorem Example\n",
    "\n",
    "The central limit theorem is foundational to all confidence intervals and statistical inferencing.  The theorem states that the distribution of a sample of means approximates and in the limit becomes a normal distribution, irregardless of the underlying population's distribution.  If a distribution is not normal, for example uniform or triangular or exponential or whatever, if you take a sample and compute the average, and repeat, and repeat, then the distribution of theses averages is normal.  \n",
    "\n",
    "Further, the central limit theorem says the standard deviation of the averages goes down by $\\sqrt{n}$ the sample size $n$.  \n",
    "\n",
    "To consider this, consider a uniform distribution such as from tossing dice.  The possible values are (1,2,3,4,5,6), each equally likely, a uniform distribution.  Consider tossing several dice at once, with a resulting random set of integers between 1 to 6.  Compute the average value of this toss of dice.  The expected value is 3.5 (why?).  \n",
    "\n",
    "Now lets run an experiment and simulate throwing 9 dice 100 times.  The resulting count of 1's, 2's, ..., 6's in the 100 tosses of 9 dice should be about the same in the set of 900 dice tosses.  \n",
    "\n",
    "Next, compute the average and the standard deviation of these 900 individual throws.\n",
    "\n",
    "Then consider computing the averages of 4 dice throws, for 100 averages of 4 dice.  Also compute the standard deviation (across the 100 sets) of these averages.  \n",
    "\n",
    "Then consider computing the averages of 9 dice throws, for 100 averages of the 9 dice.  Also compute the standard deviation (across the 100 sets) of these averages.  \n",
    "\n",
    "The central limit theorem says the standard deviation of these averages should go down from the standard deviation of teh individuals by $sqrt(4) = 2$ and $sqrt(9) = 3$ respectively.\n",
    "\n",
    "To test this, compute a set of 100 rows of 9 columns of random integers from 1 to 6, here use NumPy's `randint` and save into a Pandas dataframe.  Plot these as a bar chart of die values from 1 to 6.  The distribution should be uniform."
   ]
  },
  {
   "cell_type": "code",
   "execution_count": 5,
   "id": "7ff586c1",
   "metadata": {},
   "outputs": [
    {
     "data": {
      "image/png": "[encoded data removed]",
      "text/plain": [
       "<Figure size 600x300 with 1 Axes>"
      ]
     },
     "metadata": {},
     "output_type": "display_data"
    }
   ],
   "source": [
    "import seaborn as sns\n",
    "\n",
    "# generate 9 samples of 100 random die throws, as integers from 1-6:\n",
    "data = np.random.randint(1, 7, size=(100,9))\n",
    "df = pd.DataFrame(data, columns=list('123456789'))\n",
    "\n",
    "# plot them as histograms. Should be uniform.\n",
    "with Figure() as (fig, ax):\n",
    "    sns.histplot(df.stack(), bins=6)"
   ]
  },
  {
   "cell_type": "markdown",
   "id": "fa19b89d-23b8-4b3d-b96b-31559f979fbb",
   "metadata": {},
   "source": [
    "So the above graph shows each value of the die was tossed about 150 times as expected.  900 total tosses with each of the 6 faces equally likely would be 900/6 = 150 occurances.  The distribution of values from 1 to 6 is a uniform distribution.\n",
    "\n",
    "-------------------------------------------------------------------------\n",
    "\n",
    "Now let's consider what happens to the distribution of averages.  For any toss, the expected value is $(1+2+3+4+5+6)/6 = 3.5$. The data itself is a uniform distribution at each integer value with an average of 3.5.  If we average the data across the 9 dice, we would expect each of the 100 toss averages to begin to look normal, according to the central limit theorem, and have a distribution tighter than the original uniform distribution.  So lets look at the distribution of the average of throwing 4 different dies, and the average of throwing all 9 dies.  "
   ]
  },
  {
   "cell_type": "code",
   "execution_count": 6,
   "id": "7b00bdf9-7966-4f98-bc77-21343ba1c0e5",
   "metadata": {},
   "outputs": [
    {
     "name": "stdout",
     "output_type": "stream",
     "text": [
      "Average of all data: 3.482 and sigma of all data: 1.756.\n",
      "Average of (average of 4 dies): 3.462 and sigma of (average of 4 dies): 0.8808.\n",
      "Average of (average of 9 dies): 3.482 and sigma of (average of 9 dies): 0.6151.\n",
      "\n",
      "Compare these average's sigmas with that determined by dividing the original data's sigma by sqrt(n):\n",
      "Sigma of individual toss data: 1.756.\n",
      "Sigma of individual toss data/2: 0.8778.\n",
      "Sigma of individual toss data/3: 0.5852.\n"
     ]
    },
    {
     "data": {
      "image/png": "[encoded data removed]",
      "text/plain": [
       "<Figure size 800x200 with 2 Axes>"
      ]
     },
     "metadata": {},
     "output_type": "display_data"
    }
   ],
   "source": [
    "mean9 = df.mean(axis=1)\n",
    "mean4 = df[['1','2','3','4']].mean(axis=1)\n",
    "\n",
    "print(f'Average of all data: {df.stack().mean():.4} and sigma of all data: {df.stack().std():.4}.')\n",
    "print(f'Average of (average of 4 dies): {mean4.mean():.4} and sigma of (average of 4 dies): {mean4.std():.4}.')\n",
    "print(f'Average of (average of 9 dies): {mean9.mean():.4} and sigma of (average of 9 dies): {mean9.std():.4}.')\n",
    "\n",
    "print('\\nCompare these average\\'s sigmas with that determined by dividing the original data\\'s sigma by sqrt(n):')\n",
    "print(f'Sigma of individual toss data: {df.stack().std():.4}.')\n",
    "print(f'Sigma of individual toss data/2: {df.stack().std()/2.0:.4}.')\n",
    "print(f'Sigma of individual toss data/3: {df.stack().std()/3.0:.4}.')\n",
    "\n",
    "with Figure(8, 2, 1, 2) as (fig, ax):\n",
    "    sns.histplot(mean4, ax=ax[0])\n",
    "    ax[0].set_title('mean4')\n",
    "\n",
    "    sns.histplot(mean9, ax=ax[1])\n",
    "    ax[1].set_title('mean9')"
   ]
  },
  {
   "cell_type": "markdown",
   "id": "ca6d0800",
   "metadata": {},
   "source": [
    "Comparing above, the sigma's of the averages decrease by $\\sqrt(n)$ the number of values in the sample being averaged.  Also, the histograms look less like the original data's uniform distribution and more and more like a normal distribution.  The central limit theorem.\n"
   ]
  },
  {
   "cell_type": "markdown",
   "id": "4be1913b-cb56-4fb4-8317-7ba341e983bd",
   "metadata": {},
   "source": [
    "---------------------------------------------------------------------------------\n",
    "\n",
    "# 3.0 Confidence Intervals\n",
    "\n",
    "The following confidence intervals are demonstrated.\n",
    "\n",
    "\n",
    "| Confidence Interval        | Sampling Distribution | Confidence Interval | MQR-Quality Library        |\n",
    "|----------------------------|:---------------------:|:-------------------:|:---------------------------|\n",
    "| Mean $\\mu$, $\\sigma$ known | $Z$            | $$\\bar{x} \\pm Z_{\\alpha/2}\\frac{\\sigma}{\\sqrt{n}}$$ | mqr.inference.mean.confint_1sample |\n",
    "| Mean $\\mu$, $\\sigma$ unknown | $t$          | $$\\bar{x} \\pm t_{\\alpha/2,N-1}\\frac{s}{\\sqrt{n}}$$ | mqr.inference.mean.confint_1sample |\n",
    "| Paired data difference in mean $\\mu - \\mu'$ | $t$ | $$\\bar{d} \\pm t_{\\alpha/2,N-1}\\frac{s_d}{\\sqrt{n}}$$ | mqr.inference.mean.confint_paired |\n",
    "| Difference in two mean $\\mu_1 - \\mu_2$ | $t$ | $$\\bar{x}_1 - \\bar{x}_2 \\pm t_{\\alpha/2,n_1+n_2-1} s_p$$ | mqr.inference.mean.confint_2sample |\n",
    "| Standard Deviation $\\sigma$ | $\\chi^2$   | $$ s \\sqrt{\\frac{n-1}{\\chi^2_{1-\\alpha/2,n-1}}} \\leq \\sigma \\leq s \\sqrt{\\frac{n-1}{\\chi^2_{\\alpha/2,n-1}}} $$ | mqr.inference.stddev.confint_1sample |\n",
    "| Ratio of two variances $\\sigma_1^2 / \\sigma_2^2 $ | $F$   | $$ \\frac{s_1^2}{s_2^2} F_{\\alpha/2,n_1-1,n_2-1} \\leq \\frac{\\sigma_1^2}{\\sigma_2^2} \\leq \\frac{s_1^2}{s_2^2} F_{1-\\alpha/2,n_1-1,n_2-1} $$ | mqr.inference.variance.confint_2sample |\n",
    "| Proportion | $F$ | $$ \\frac{2xF_{\\alpha/2,v_1,v_2}}{2(n-x-1)+2xF_{\\alpha/2,v_1,v_2}} \\leq \\pi \\leq \\frac{2(x+1)F_{\\alpha/2,v_1,v_2}}{2(n-x)+2(x+1)F_{\\alpha/2,v_1,v_2}}  $$  | mqr.inference.proportion.confint_1sample |\n",
    "| Two Proportions | $Z$ | $$ p_1 - p_2 \\pm Z_{\\alpha/2} \\sqrt{\\frac{p_1(1-p_1)}{n_1}+\\frac{p_2(1-p_2)}{n_2}}  $$ | mqr.inference.proportion.confint_2sample |\n",
    "| Rate | $\\chi^2$ | $$ r \\pm \\frac{1}{2nt} \\chi^2_{2s,1-\\alpha/2} $$  | mqr.inference.rate.confint_1sample |\n",
    "| Two Rates | $Z$ | $$ r_1 - r_2 \\pm Z_{\\alpha/2} \\sqrt{\\frac{r_1}{n_1 t_1}+\\frac{r_2}{n_2 t_2}} $$  | mqr.inference.rate.confint_2sample |\n",
    "\n",
    "-----------------------------------------------------------------------------------------------------------------------\n",
    "\n",
    "## 3.1 Confidence Interval of the Mean\n",
    "\n",
    "This computes the confidence interval of the mean for a sample of data."
   ]
  },
  {
   "cell_type": "code",
   "execution_count": 7,
   "id": "536468bd",
   "metadata": {},
   "outputs": [
    {
     "data": {
      "text/html": [
       "\n",
       "        <table>\n",
       "        <thead>\n",
       "            <tr style='padding-bottom:0px;'>\n",
       "                <th scope=\"col\" colspan=3 style=\"text-align:left; padding-bottom:0px;\">Confidence Interval</th>\n",
       "            </tr>\n",
       "            <tr style='padding-top:0px; padding-bottom:0px;'>\n",
       "                <td colspan=3 style='text-align: left; padding-top:0px; padding-bottom:0px;'>mean</td>\n",
       "            </tr>\n",
       "            <tr style='padding-top:0px;'>\n",
       "                <td style='text-align:left; padding-top:0px' colspan=3>95% (t)</td>\n",
       "            </tr>\n",
       "        </thead>\n",
       "        <tbody>\n",
       "            <tr>\n",
       "                <th scope='col' style='text-align: left;'>value</th>\n",
       "                <th scope='col' style='text-align: left;'>lower</th>\n",
       "                <th scope='col' style='text-align: left;'>upper</th>\n",
       "            </tr>\n",
       "            <tr>\n",
       "                <td style='text-align: left;'>4.392</td>\n",
       "                <td style='text-align: left;'>4.25641</td>\n",
       "                <td style='text-align: left;'>4.52759</td>\n",
       "            </tr>\n",
       "        </tbody>\n",
       "        </table>\n",
       "        "
      ],
      "text/plain": [
       "ConfidenceInterval(name='mean', method='t', value=4.3919999999999995, lower=4.256409561144854, upper=4.527590438855145, conf=0.95, bounded='both')"
      ]
     },
     "execution_count": 7,
     "metadata": {},
     "output_type": "execute_result"
    }
   ],
   "source": [
    "a = np.array([\n",
    "    4.23, 3.98, 4.36, 3.86, 4.12, 4.23, 4.36, 4.44, 3.98, 4.06, 3.79,\n",
    "    4.35,4.20,4.57,4.82,4.44,4.94,4.68,4.57,4.44,4.36,4.82,4.74,5.01,4.45\n",
    "    ])\n",
    "\n",
    "mqr.inference.mean.confint_1sample(a, conf=0.95, bounded='both')"
   ]
  },
  {
   "cell_type": "markdown",
   "id": "498d2c7d",
   "metadata": {},
   "source": [
    "## 3.2 Confidence Interval of the Difference of Two Paired Means\n",
    "\n",
    "This computes the confidence interval of the difference in population means $\\mu_1 - \\mu_2$ from two paired samples.  \n",
    "\n",
    "If zero is in the confidence interval, there is no significant difference in means.  Are the means significantly different in the example below?"
   ]
  },
  {
   "cell_type": "code",
   "execution_count": 8,
   "id": "e350c5bc",
   "metadata": {},
   "outputs": [
    {
     "data": {
      "text/html": [
       "\n",
       "        <table>\n",
       "        <thead>\n",
       "            <tr style='padding-bottom:0px;'>\n",
       "                <th scope=\"col\" colspan=3 style=\"text-align:left; padding-bottom:0px;\">Confidence Interval</th>\n",
       "            </tr>\n",
       "            <tr style='padding-top:0px; padding-bottom:0px;'>\n",
       "                <td colspan=3 style='text-align: left; padding-top:0px; padding-bottom:0px;'>difference between means (paired)</td>\n",
       "            </tr>\n",
       "            <tr style='padding-top:0px;'>\n",
       "                <td style='text-align:left; padding-top:0px' colspan=3>95% (t)</td>\n",
       "            </tr>\n",
       "        </thead>\n",
       "        <tbody>\n",
       "            <tr>\n",
       "                <th scope='col' style='text-align: left;'>value</th>\n",
       "                <th scope='col' style='text-align: left;'>lower</th>\n",
       "                <th scope='col' style='text-align: left;'>upper</th>\n",
       "            </tr>\n",
       "            <tr>\n",
       "                <td style='text-align: left;'>-1.214</td>\n",
       "                <td style='text-align: left;'>-2.38927</td>\n",
       "                <td style='text-align: left;'>-0.0387315</td>\n",
       "            </tr>\n",
       "        </tbody>\n",
       "        </table>\n",
       "        "
      ],
      "text/plain": [
       "ConfidenceInterval(name='difference between means (paired)', method='t', value=-1.214, lower=-2.3892684800204584, upper=-0.03873151997954172, conf=0.95, bounded='both')"
      ]
     },
     "execution_count": 8,
     "metadata": {},
     "output_type": "execute_result"
    }
   ],
   "source": [
    "Sa = np.array([\n",
    "    33.59,33.13,32.84,32.01,36.75,36.41,35.61,33.12,35.26,33.45\n",
    "    ])\n",
    "Sb = np.array([\n",
    "    34.18,33.25,32.68,31.03,40.49,39.81,38.22,33.23,37.52,33.90\n",
    "    ])\n",
    "\n",
    "mqr.inference.mean.confint_paired(Sa, Sb, conf=0.95)"
   ]
  },
  {
   "cell_type": "markdown",
   "id": "651897e5",
   "metadata": {},
   "source": [
    "## 3.3 Confidence Interval of the Difference of Two Means\n",
    "\n",
    "This computes the confidence interval of the difference in means from two independent samples, with equal or unequal variances.  \n",
    "\n",
    "If zero is in the confidence interval, there is no significant difference in means."
   ]
  },
  {
   "cell_type": "code",
   "execution_count": 9,
   "id": "88ba0ebb",
   "metadata": {},
   "outputs": [
    {
     "data": {
      "text/html": [
       "\n",
       "        <table>\n",
       "        <thead>\n",
       "            <tr style='padding-bottom:0px;'>\n",
       "                <th scope=\"col\" colspan=3 style=\"text-align:left; padding-bottom:0px;\">Confidence Interval</th>\n",
       "            </tr>\n",
       "            <tr style='padding-top:0px; padding-bottom:0px;'>\n",
       "                <td colspan=3 style='text-align: left; padding-top:0px; padding-bottom:0px;'>difference between means (independent)</td>\n",
       "            </tr>\n",
       "            <tr style='padding-top:0px;'>\n",
       "                <td style='text-align:left; padding-top:0px' colspan=3>95% (t)</td>\n",
       "            </tr>\n",
       "        </thead>\n",
       "        <tbody>\n",
       "            <tr>\n",
       "                <th scope='col' style='text-align: left;'>value</th>\n",
       "                <th scope='col' style='text-align: left;'>lower</th>\n",
       "                <th scope='col' style='text-align: left;'>upper</th>\n",
       "            </tr>\n",
       "            <tr>\n",
       "                <td style='text-align: left;'>1.214</td>\n",
       "                <td style='text-align: left;'>-1.29399</td>\n",
       "                <td style='text-align: left;'>3.72199</td>\n",
       "            </tr>\n",
       "        </tbody>\n",
       "        </table>\n",
       "        "
      ],
      "text/plain": [
       "ConfidenceInterval(name='difference between means (independent)', method='t', value=1.2139999999999986, lower=-1.2939856502498608, upper=3.721985650249858, conf=0.95, bounded='both')"
      ]
     },
     "execution_count": 9,
     "metadata": {},
     "output_type": "execute_result"
    }
   ],
   "source": [
    "X1 = np.array([\n",
    "    34.18,33.25,32.68,31.03,40.49,39.81,38.22,33.23,37.52,33.90\n",
    "    ])\n",
    "X2 = np.array([\n",
    "    33.59,33.13,32.84,32.01,36.75,36.41,35.61,33.12,35.26,33.45\n",
    "    ])\n",
    "\n",
    "mqr.inference.mean.confint_2sample(X1, X2, conf=0.95, pooled=False, bounded='both')"
   ]
  },
  {
   "cell_type": "markdown",
   "id": "e4d0360b",
   "metadata": {},
   "source": [
    "## 3.4 Confidence Interval of a Standard Deviation\n",
    "\n",
    "Computes the two sided confidence interval for a population standard deviation."
   ]
  },
  {
   "cell_type": "code",
   "execution_count": 10,
   "id": "0c016e05",
   "metadata": {},
   "outputs": [
    {
     "data": {
      "text/html": [
       "\n",
       "        <table>\n",
       "        <thead>\n",
       "            <tr style='padding-bottom:0px;'>\n",
       "                <th scope=\"col\" colspan=3 style=\"text-align:left; padding-bottom:0px;\">Confidence Interval</th>\n",
       "            </tr>\n",
       "            <tr style='padding-top:0px; padding-bottom:0px;'>\n",
       "                <td colspan=3 style='text-align: left; padding-top:0px; padding-bottom:0px;'>standard deviation</td>\n",
       "            </tr>\n",
       "            <tr style='padding-top:0px;'>\n",
       "                <td style='text-align:left; padding-top:0px' colspan=3>95% (chi2)</td>\n",
       "            </tr>\n",
       "        </thead>\n",
       "        <tbody>\n",
       "            <tr>\n",
       "                <th scope='col' style='text-align: left;'>value</th>\n",
       "                <th scope='col' style='text-align: left;'>lower</th>\n",
       "                <th scope='col' style='text-align: left;'>upper</th>\n",
       "            </tr>\n",
       "            <tr>\n",
       "                <td style='text-align: left;'>0.328481</td>\n",
       "                <td style='text-align: left;'>0</td>\n",
       "                <td style='text-align: left;'>0.43243</td>\n",
       "            </tr>\n",
       "        </tbody>\n",
       "        </table>\n",
       "        "
      ],
      "text/plain": [
       "ConfidenceInterval(name='standard deviation', method='chi2', value=0.32848135411313684, lower=0.0, upper=0.4324303339989175, conf=0.95, bounded='above')"
      ]
     },
     "metadata": {},
     "output_type": "display_data"
    },
    {
     "data": {
      "text/plain": [
       "(0.0, 0.4324303339989175)"
      ]
     },
     "execution_count": 10,
     "metadata": {},
     "output_type": "execute_result"
    }
   ],
   "source": [
    "arr = np.array([\n",
    "    4.23, 3.98, 4.36, 3.86, 4.12, 4.23, 4.36, \n",
    "    4.44, 3.98, 4.06, 3.79, 4.35,4.20,4.57,\n",
    "    4.82,4.44, 4.94,4.68,4.57,4.44,4.36,4.82,\n",
    "    4.74,5.01,4.45\n",
    "    ])\n",
    "\n",
    "ci = mqr.inference.stddev.confint_1sample(arr, conf=0.95, bounded='above')\n",
    "display(ci)\n",
    "ci.lower, ci.upper"
   ]
  },
  {
   "cell_type": "markdown",
   "id": "7d05a2a4",
   "metadata": {},
   "source": [
    "## 3.5 Confidence Interval for the Ratio of Two Variances\n",
    "\n",
    "Computes the confidence interval for the ratio of two population variances.\n",
    "\n",
    "If the ratio 1 is in the confidence interval, there is no significant difference in standard deviations."
   ]
  },
  {
   "cell_type": "code",
   "execution_count": 11,
   "id": "c65d2416",
   "metadata": {},
   "outputs": [
    {
     "data": {
      "text/html": [
       "\n",
       "        <table>\n",
       "        <thead>\n",
       "            <tr style='padding-bottom:0px;'>\n",
       "                <th scope=\"col\" colspan=3 style=\"text-align:left; padding-bottom:0px;\">Confidence Interval</th>\n",
       "            </tr>\n",
       "            <tr style='padding-top:0px; padding-bottom:0px;'>\n",
       "                <td colspan=3 style='text-align: left; padding-top:0px; padding-bottom:0px;'>ratio of variances</td>\n",
       "            </tr>\n",
       "            <tr style='padding-top:0px;'>\n",
       "                <td style='text-align:left; padding-top:0px' colspan=3>95% (f)</td>\n",
       "            </tr>\n",
       "        </thead>\n",
       "        <tbody>\n",
       "            <tr>\n",
       "                <th scope='col' style='text-align: left;'>value</th>\n",
       "                <th scope='col' style='text-align: left;'>lower</th>\n",
       "                <th scope='col' style='text-align: left;'>upper</th>\n",
       "            </tr>\n",
       "            <tr>\n",
       "                <td style='text-align: left;'>1.20429</td>\n",
       "                <td style='text-align: left;'>0.530695</td>\n",
       "                <td style='text-align: left;'>2.73288</td>\n",
       "            </tr>\n",
       "        </tbody>\n",
       "        </table>\n",
       "        "
      ],
      "text/plain": [
       "ConfidenceInterval(name='ratio of variances', method='f', value=1.2042948345908309, lower=0.5306953215753031, upper=2.7328789036938264, conf=0.95, bounded='both')"
      ]
     },
     "metadata": {},
     "output_type": "display_data"
    },
    {
     "name": "stdout",
     "output_type": "stream",
     "text": [
      "The confidence interval of the standard deviation is the sqrt of the variance limits:\n"
     ]
    },
    {
     "data": {
      "text/plain": [
       "(0.7284883812218992, 1.653142130518071)"
      ]
     },
     "execution_count": 11,
     "metadata": {},
     "output_type": "execute_result"
    }
   ],
   "source": [
    "sample1 = np.array([\n",
    "    4.23, 3.98, 4.36, 3.86, 4.12, 4.23, 4.36, \n",
    "    4.44, 3.98, 4.06, 3.79, 4.35,4.20,4.57,\n",
    "    4.82,4.44, 4.94,4.68,4.57,4.44,4.36,4.82,\n",
    "    4.74,5.01,4.45\n",
    "    ])\n",
    "sample2 = np.array([\n",
    "    5.84, 5.62, 5.96, 5.51, 5.75, 5.84, 5.96, \n",
    "    6.04, 5.62, 5.69, 5.44, 5.95, 5.82, 6.16,\n",
    "    6.38, 6.04, 6.49, 6.25, 6.16, 6.04, 5.96, 6.38,\n",
    "    6.31, 6.56, 6.05\n",
    "    ])\n",
    "\n",
    "ci = mqr.inference.variance.confint_2sample(sample1, sample2, conf=0.95, bounded = 'both')\n",
    "display(ci)\n",
    "print('The confidence interval of the standard deviation is the sqrt of the variance limits:')\n",
    "np.sqrt(ci.lower), np.sqrt(ci.upper)"
   ]
  },
  {
   "cell_type": "markdown",
   "id": "2280fbd3",
   "metadata": {},
   "source": [
    "## 3.6 Confidence Interval for a Proportion\n",
    "\n",
    "Computes the two sided confidence interval for a defective proportion."
   ]
  },
  {
   "cell_type": "code",
   "execution_count": 12,
   "id": "bfbcb359",
   "metadata": {},
   "outputs": [
    {
     "data": {
      "text/html": [
       "\n",
       "        <table>\n",
       "        <thead>\n",
       "            <tr style='padding-bottom:0px;'>\n",
       "                <th scope=\"col\" colspan=3 style=\"text-align:left; padding-bottom:0px;\">Confidence Interval</th>\n",
       "            </tr>\n",
       "            <tr style='padding-top:0px; padding-bottom:0px;'>\n",
       "                <td colspan=3 style='text-align: left; padding-top:0px; padding-bottom:0px;'>proportion</td>\n",
       "            </tr>\n",
       "            <tr style='padding-top:0px;'>\n",
       "                <td style='text-align:left; padding-top:0px' colspan=3>95% (agresti-coull)</td>\n",
       "            </tr>\n",
       "        </thead>\n",
       "        <tbody>\n",
       "            <tr>\n",
       "                <th scope='col' style='text-align: left;'>value</th>\n",
       "                <th scope='col' style='text-align: left;'>lower</th>\n",
       "                <th scope='col' style='text-align: left;'>upper</th>\n",
       "            </tr>\n",
       "            <tr>\n",
       "                <td style='text-align: left;'>0.03</td>\n",
       "                <td style='text-align: left;'>0.00652206</td>\n",
       "                <td style='text-align: left;'>0.0882518</td>\n",
       "            </tr>\n",
       "        </tbody>\n",
       "        </table>\n",
       "        "
      ],
      "text/plain": [
       "ConfidenceInterval(name='proportion', method='agresti-coull', value=0.03, lower=0.006522055780996003, upper=0.08825183253357054, conf=0.95, bounded='both')"
      ]
     },
     "execution_count": 12,
     "metadata": {},
     "output_type": "execute_result"
    }
   ],
   "source": [
    "count = 3      # number of defectives observed in the sample\n",
    "nobs = 100     # sample size\n",
    "alpha = 0.05   # significance level\n",
    "method='agresti-coull'  # 'normal’, 'agresti_coull', 'beta', 'wilson', 'binom_test'\n",
    "\n",
    "mqr.inference.proportion.confint_1sample(count, nobs, 1-alpha, method=method, bounded='both')"
   ]
  },
  {
   "cell_type": "markdown",
   "id": "19fc25b4",
   "metadata": {},
   "source": [
    "## 3.7 Confidence Interval for the Difference Between Two Proportions\n",
    "\n",
    "Computes a two sided confidence interval for the difference in population defective proportions.  \n",
    "\n",
    "If zero is in the confidence interval, there is no significant difference in proportions."
   ]
  },
  {
   "cell_type": "code",
   "execution_count": 13,
   "id": "040dbc9b",
   "metadata": {},
   "outputs": [
    {
     "data": {
      "text/html": [
       "\n",
       "        <table>\n",
       "        <thead>\n",
       "            <tr style='padding-bottom:0px;'>\n",
       "                <th scope=\"col\" colspan=3 style=\"text-align:left; padding-bottom:0px;\">Confidence Interval</th>\n",
       "            </tr>\n",
       "            <tr style='padding-top:0px; padding-bottom:0px;'>\n",
       "                <td colspan=3 style='text-align: left; padding-top:0px; padding-bottom:0px;'>difference between proportions</td>\n",
       "            </tr>\n",
       "            <tr style='padding-top:0px;'>\n",
       "                <td style='text-align:left; padding-top:0px' colspan=3>95% (agresti-caffo)</td>\n",
       "            </tr>\n",
       "        </thead>\n",
       "        <tbody>\n",
       "            <tr>\n",
       "                <th scope='col' style='text-align: left;'>value</th>\n",
       "                <th scope='col' style='text-align: left;'>lower</th>\n",
       "                <th scope='col' style='text-align: left;'>upper</th>\n",
       "            </tr>\n",
       "            <tr>\n",
       "                <td style='text-align: left;'>0.00833333</td>\n",
       "                <td style='text-align: left;'>-0.0123629</td>\n",
       "                <td style='text-align: left;'>0.0320993</td>\n",
       "            </tr>\n",
       "        </tbody>\n",
       "        </table>\n",
       "        "
      ],
      "text/plain": [
       "ConfidenceInterval(name='difference between proportions', method='agresti-caffo', value=0.008333333333333331, lower=-0.012362915776218652, upper=0.03209932650338408, conf=0.95, bounded='both')"
      ]
     },
     "execution_count": 13,
     "metadata": {},
     "output_type": "execute_result"
    }
   ],
   "source": [
    "count1 = 3     # number of defectives observed in sample 1\n",
    "nobs1 = 200    # size of sample 1\n",
    "count2 = 2     # number of defectives observed in sample 2\n",
    "nobs2 = 300    # size of sample 2\n",
    "alpha = 0.05   # significance level\n",
    "method='agresti-caffo'  # 'newcomb', 'agresti-caffo', 'score', 'wald'\n",
    "\n",
    "mqr.inference.proportion.confint_2sample(count1, nobs1, count2, nobs2, 1-alpha, method='agresti-caffo', bounded='both')"
   ]
  },
  {
   "cell_type": "markdown",
   "id": "d3d5557f",
   "metadata": {},
   "source": [
    "## 3.8 Confidence Interval for a Rate\n",
    "\n",
    "Computes a two sided confidence interval for the population defect rate.  "
   ]
  },
  {
   "cell_type": "code",
   "execution_count": 14,
   "id": "446f666a",
   "metadata": {},
   "outputs": [
    {
     "data": {
      "text/html": [
       "\n",
       "        <table>\n",
       "        <thead>\n",
       "            <tr style='padding-bottom:0px;'>\n",
       "                <th scope=\"col\" colspan=3 style=\"text-align:left; padding-bottom:0px;\">Confidence Interval</th>\n",
       "            </tr>\n",
       "            <tr style='padding-top:0px; padding-bottom:0px;'>\n",
       "                <td colspan=3 style='text-align: left; padding-top:0px; padding-bottom:0px;'>rate of events</td>\n",
       "            </tr>\n",
       "            <tr style='padding-top:0px;'>\n",
       "                <td style='text-align:left; padding-top:0px' colspan=3>95% (wald-cc)</td>\n",
       "            </tr>\n",
       "        </thead>\n",
       "        <tbody>\n",
       "            <tr>\n",
       "                <th scope='col' style='text-align: left;'>value</th>\n",
       "                <th scope='col' style='text-align: left;'>lower</th>\n",
       "                <th scope='col' style='text-align: left;'>upper</th>\n",
       "            </tr>\n",
       "            <tr>\n",
       "                <td style='text-align: left;'>0.13</td>\n",
       "                <td style='text-align: left;'>0.0557048</td>\n",
       "                <td style='text-align: left;'>0.207014</td>\n",
       "            </tr>\n",
       "        </tbody>\n",
       "        </table>\n",
       "        "
      ],
      "text/plain": [
       "ConfidenceInterval(name='rate of events', method='wald-cc', value=0.13, lower=0.05570480878251611, upper=0.20701367514532965, conf=0.95, bounded='both')"
      ]
     },
     "execution_count": 14,
     "metadata": {},
     "output_type": "execute_result"
    }
   ],
   "source": [
    "count = 13   # the sum of the number of defects found across all observations\n",
    "t = 1        # the length, area, or unit count\n",
    "nobs = 100   # number of units with a length, area, or unit count\n",
    "alpha = 0.05 # significance level\n",
    "\n",
    "mqr.inference.rate.confint_1sample(count, nobs, meas=t, conf=1-alpha)"
   ]
  },
  {
   "cell_type": "markdown",
   "id": "43cebaab",
   "metadata": {},
   "source": [
    "## 3.9 Confidence Interval for the Difference in Rates\n",
    "\n",
    "Computes a two sided confidence interval for the difference in population defect rates.  \n",
    "\n",
    "If zero is in the confidence interval, there is no significant difference in defect rates."
   ]
  },
  {
   "cell_type": "code",
   "execution_count": 15,
   "id": "3211e887",
   "metadata": {},
   "outputs": [
    {
     "data": {
      "text/html": [
       "\n",
       "        <table>\n",
       "        <thead>\n",
       "            <tr style='padding-bottom:0px;'>\n",
       "                <th scope=\"col\" colspan=3 style=\"text-align:left; padding-bottom:0px;\">Confidence Interval</th>\n",
       "            </tr>\n",
       "            <tr style='padding-top:0px; padding-bottom:0px;'>\n",
       "                <td colspan=3 style='text-align: left; padding-top:0px; padding-bottom:0px;'>difference between rates of events</td>\n",
       "            </tr>\n",
       "            <tr style='padding-top:0px;'>\n",
       "                <td style='text-align:left; padding-top:0px' colspan=3>95% (wald)</td>\n",
       "            </tr>\n",
       "        </thead>\n",
       "        <tbody>\n",
       "            <tr>\n",
       "                <th scope='col' style='text-align: left;'>value</th>\n",
       "                <th scope='col' style='text-align: left;'>lower</th>\n",
       "                <th scope='col' style='text-align: left;'>upper</th>\n",
       "            </tr>\n",
       "            <tr>\n",
       "                <td style='text-align: left;'>-0.07</td>\n",
       "                <td style='text-align: left;'>-0.182591</td>\n",
       "                <td style='text-align: left;'>0.0425914</td>\n",
       "            </tr>\n",
       "        </tbody>\n",
       "        </table>\n",
       "        "
      ],
      "text/plain": [
       "ConfidenceInterval(name='difference between rates of events', method='wald', value=-0.07, lower=-0.18259135894148634, upper=0.04259135894148633, conf=0.95, bounded='both')"
      ]
     },
     "execution_count": 15,
     "metadata": {},
     "output_type": "execute_result"
    }
   ],
   "source": [
    "count1 = 13    # the sum of the number of defects observed across all units in sample\n",
    "t1 = 1         # the length/area per unit in the sample\n",
    "nobs1 = 100    # the number of units in the sample\n",
    "count2 = 20    # the sum of the number of defects observed across all units in sample\n",
    "t2 = 1         # the length/area per unit in the sample\n",
    "nobs2 = 100    # the number of units in the sample\n",
    "alpha = 0.05   # Significance level\n",
    "\n",
    "mqr.inference.rate.confint_2sample(\n",
    "    count1, nobs1,\n",
    "    count2, nobs2,\n",
    "    meas1=t1, meas2=t2,\n",
    "    conf=1-alpha)"
   ]
  }
 ],
 "metadata": {
  "kernelspec": {
   "display_name": "Python 3 (ipykernel)",
   "language": "python",
   "name": "python3"
  },
  "language_info": {
   "codemirror_mode": {
    "name": "ipython",
    "version": 3
   },
   "file_extension": ".py",
   "mimetype": "text/x-python",
   "name": "python",
   "nbconvert_exporter": "python",
   "pygments_lexer": "ipython3",
   "version": "3.12.4"
  }
 },
 "nbformat": 4,
 "nbformat_minor": 5
}
