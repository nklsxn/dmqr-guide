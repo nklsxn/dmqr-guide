{
 "cells": [
  {
   "attachments": {
    "UM.png": {
     "image/png": "[encoded data removed]"
    }
   },
   "cell_type": "markdown",
   "id": "b2411bd4",
   "metadata": {},
   "source": [
    "<center>\n",
    "<div style=\"max-width:400px;\">\n",
    "\n",
    "![UM.png](attachment:UM.png)\n",
    "\n",
    "</div>\n",
    "</center>\n",
    "\n",
    "# Design of Experiments\n",
    "\n",
    "**Prof. Kevin Otto and Nikolas Crossan**  \n",
    "The University of Melbourne  \n",
    "Department of Mechanical Engineering\n",
    "\n",
    "----------------------------------------------------------------------------\n",
    "\n",
    "This notebook demonstrates creating and analyzing factorial designs\n",
    "1. Full Factorial Designs\n",
    "2. Fractional Factorial Designs\n",
    "3. Center Points\n",
    "4. Central Composite Designs\n",
    "\n",
    "This notebook relies on the `mqrpy` code library, found at https://pypi.org/project/mqrpy/\n"
   ]
  },
  {
   "cell_type": "code",
   "execution_count": null,
   "id": "e6f3bac9",
   "metadata": {},
   "outputs": [],
   "source": [
    "import numpy as np\n",
    "import pandas as pd\n",
    "import scipy.stats as st\n",
    "import statsmodels.api as sm\n",
    "import statsmodels.formula.api as smf\n",
    "import seaborn as sns\n",
    "\n",
    "import mqr\n",
    "from mqr.plot import Figure\n",
    "from mqr.nbtools import hstack, vstack, grab_figure\n",
    "from mqr.doe import Design\n",
    "\n",
    "from importlib.metadata import version\n",
    "print('MQR version', version('mqrpy'))\n",
    "print('Numpy version ', version('numpy'))\n",
    "print('Scipy version ', version('scipy'))\n",
    "print('Pandas version ', version('pandas'))\n",
    "print('Seaborn version ', version('seaborn'))\n",
    "print('StatsModels version ', version('statsmodels'))"
   ]
  },
  {
   "cell_type": "markdown",
   "id": "bca97c31",
   "metadata": {},
   "source": [
    "# 1. Creating Experimental Design Arrays\n",
    "\n",
    "## 1.1 Full Factorial Experiments\n",
    "\n",
    "Next is code to create a full factorial matrix as a Pandas Dataframe. \n",
    "\n",
    "The fullfactorial generates a full factorial using levels on X1, X2, ... as [d, d, ...] where d is the number of levels for each variable respectively. \n",
    "\n",
    "Next is an example to generate a $2^3$ full factorial design in Yates standard form.  "
   ]
  },
  {
   "cell_type": "code",
   "execution_count": null,
   "id": "6446359e-ff10-428c-96d5-490440c98577",
   "metadata": {},
   "outputs": [],
   "source": [
    "var_list = [\"x1\", \"x2\", \"x3\"]\n",
    "levels = [2, 2, 2]\n",
    "\n",
    "Design.from_fullfact(var_list, levels)"
   ]
  },
  {
   "cell_type": "markdown",
   "id": "9056d921",
   "metadata": {},
   "source": [
    "## 1.2 Two Level Fractional Factorial Design\n",
    "\n",
    "Next is code to create a fractional factorial matrix as a Pandas Dataframe.  \n",
    "\n",
    "\n",
    "Next is an example to generate a $2^{n-k}$ fractional factorial design.  \n",
    "\n",
    "Each column's formula is given as a standard letter format such as `'a b c abc'` for four columns, where then there would be (a, b, c) = 3 independent factors and so $2^3=8$ experimental configurations.  \n"
   ]
  },
  {
   "cell_type": "code",
   "execution_count": null,
   "id": "100b621a-1532-4ed0-97bc-38b6e5084733",
   "metadata": {},
   "outputs": [],
   "source": [
    "var_list = [\"x1\", \"x2\", \"x3\", \"x4\", \"x5\", \"x6\", \"x7\"]\n",
    "gen = 'a b c d abcd abc abd'\n",
    "\n",
    "Design.from_fracfact(var_list, gen)"
   ]
  },
  {
   "cell_type": "markdown",
   "id": "ac1d7e25",
   "metadata": {},
   "source": [
    "## 1.3 Center Points\n",
    "\n",
    "Augmenting any factorial design is easy enough by adding rows of zero values to a factorial DataFrame. \n",
    "\n",
    "Now create a Pandas DataFrame which includes a column indicating whether a factorial point or a center point."
   ]
  },
  {
   "cell_type": "code",
   "execution_count": null,
   "id": "69377dfb",
   "metadata": {},
   "outputs": [],
   "source": [
    "var_list = [\"x1\", \"x2\", \"x3\", \"x4\"]\n",
    "gen = 'a b c abc'\n",
    "nc = 3    # number of centerpoints\n",
    "\n",
    "fccd = Design.from_fracfact(var_list, gen)\n",
    "cccd = Design.from_centrepoints(var_list, nc)\n",
    "cfd = fccd + cccd\n",
    "cfd"
   ]
  },
  {
   "cell_type": "markdown",
   "id": "7c1e063f",
   "metadata": {},
   "source": [
    "## 1.4 Central Composite Designs - Full Factorial \n",
    "\n",
    "As  default, most DOE packages only provides a central composite design using a full factorial base.  Here, this code generates a CCD array as a combination of whatever blocks you wish.  \n",
    "\n",
    "The `PointType`is 1 for corner points, 0 for center points, and 2 for axial points. \n",
    "\n",
    "Also add a block variable for the first fractional factorial and the subsequent axial point experiments.  "
   ]
  },
  {
   "cell_type": "code",
   "execution_count": null,
   "id": "ff386e90-113d-47e1-b329-0b287860df4a",
   "metadata": {},
   "outputs": [],
   "source": [
    "var_list = [\"x1\", \"x2\", \"x3\", \"x4\"]\n",
    "nc = 3        # number of center points to use"
   ]
  },
  {
   "cell_type": "code",
   "execution_count": null,
   "id": "585a64bf-a8dc-4ac6-877d-1d6e657285b6",
   "metadata": {},
   "outputs": [],
   "source": [
    "fccd = Design.from_fullfact(var_list, [2, 2, 2, 2])\n",
    "cccd = Design.from_centrepoints(var_list, nc)\n",
    "accd = Design.from_axial(var_list)\n",
    "\n",
    "ccfd = (fccd + cccd).as_block(1) + (accd + cccd).as_block(2)\n",
    "ccfd"
   ]
  },
  {
   "cell_type": "markdown",
   "id": "56992f12",
   "metadata": {},
   "source": [
    "## 1.5 Central Composite Designs - Fractional Factorial \n",
    "\n",
    "As  default, pyDOE provides a central composite design using a full factorial base.  There are parameters alpha and face to define what axial points to generate.  The code below generates this full facotrial CCD, and then replaces the full factorial points with fractional factorial points in the CCD.  \n",
    "\n",
    "This code generates a Pandas DataFrame with additional columns of Point Type and Block indicating corner, axial or center points and how the runs were blocked.  \n"
   ]
  },
  {
   "cell_type": "code",
   "execution_count": null,
   "id": "aea4ed59-9f25-4a56-ae47-64efbf7363d8",
   "metadata": {},
   "outputs": [],
   "source": [
    "var_list = [\"x1\", \"x2\", \"x3\", \"x4\"]\n",
    "gen = 'a b c abc'\n",
    "nc = 3        # number of center points to use\n",
    "\n",
    "ccfrfd = Design.from_fracfact(var_list, gen)\n",
    "ccfrcd = Design.from_centrepoints(var_list, nc)\n",
    "ccfrad = Design.from_axial(var_list)\n",
    "\n",
    "ccfrd = (ccfrfd + ccfrcd).as_block(1) + (ccfrad + ccfrcd).as_block(2)\n",
    "ccfrd"
   ]
  },
  {
   "attachments": {},
   "cell_type": "markdown",
   "id": "e6d848b5-a463-486d-a77a-3ccf4f5c7434",
   "metadata": {},
   "source": [
    "------------------------------------------------------------------------------------------\n",
    "\n",
    "# 2. Analyzing Experimental Designs\n",
    "\n",
    "## 2.1. Factorial Design Analysis\n",
    "\n",
    "The basic analysis is a balanced factorial array with no center points. \n",
    "\n",
    "### 2.1.1 Example 1\n",
    "\n",
    "Below is an example of a $2^3$ factorial design, using the catapult as an example. The same approach would be used for a fractional factorial design.  Corner points only.   \n",
    "\n",
    "Now suppose the experiments were executed at each run. Add the toss results of each run to the dataframe.  "
   ]
  },
  {
   "cell_type": "code",
   "execution_count": null,
   "id": "a76ac589",
   "metadata": {},
   "outputs": [],
   "source": [
    "var_list = ['Ht', 'Theta0', 'Ra']\n",
    "levels = [2, 2, 2]\n",
    "\n",
    "ffd = Design.from_fullfact(var_list, levels)\n",
    "df_ffd = ffd.to_df()\n",
    "df_ffd['Toss'] = [0.323, 0.725, 1.098, 1.632, 0.724, 1.173, 1.663, 2.305]\n",
    "\n",
    "df_ffd"
   ]
  },
  {
   "cell_type": "markdown",
   "id": "28c3812f",
   "metadata": {},
   "source": [
    "Now analyze the data using regression and the StatsModels formula API.  Sequentially drop the insignificant term with highest p-value.  "
   ]
  },
  {
   "cell_type": "code",
   "execution_count": null,
   "id": "7bd0df0d",
   "metadata": {},
   "outputs": [],
   "source": [
    "form = 'Toss ~ Ht + Theta0 + Ra + Ht*Theta0 + Ht*Ra + Theta0*Ra'\n",
    "mod = smf.ols(form, df_ffd)\n",
    "res = mod.fit()\n",
    "\n",
    "mqr.anova.coeffs(res)"
   ]
  },
  {
   "cell_type": "code",
   "execution_count": null,
   "id": "7b4ac4df",
   "metadata": {},
   "outputs": [],
   "source": [
    "form = 'Toss ~ Ht + Theta0 + Ra + Ht*Theta0 + Theta0*Ra'\n",
    "mod = smf.ols(form, df_ffd)\n",
    "res = mod.fit()\n",
    "\n",
    "mqr.anova.coeffs(res)"
   ]
  },
  {
   "cell_type": "code",
   "execution_count": null,
   "id": "4cba56cb",
   "metadata": {},
   "outputs": [],
   "source": [
    "form = 'Toss ~ Ht + Theta0 + Ra + Theta0*Ra'\n",
    "mod = smf.ols(form, df_ffd)\n",
    "res = mod.fit()\n",
    "\n",
    "mqr.anova.coeffs(res)"
   ]
  },
  {
   "cell_type": "code",
   "execution_count": null,
   "id": "66c5d4c1",
   "metadata": {},
   "outputs": [],
   "source": [
    "form = 'Toss ~ Ht + Theta0 + Ra'\n",
    "mod = smf.ols(form, df_ffd)\n",
    "res = mod.fit()\n",
    "\n",
    "mqr.anova.coeffs(res)"
   ]
  },
  {
   "cell_type": "markdown",
   "id": "9af4e1e1",
   "metadata": {},
   "source": [
    "Now we have a model with all significant terms, all p-values and less than 0.05.  Now construct the residuals and create a 4 in 1 plot of the residuals.  "
   ]
  },
  {
   "cell_type": "code",
   "execution_count": null,
   "id": "d37deda6-d0a6-4aee-957f-5c2c77b565b4",
   "metadata": {},
   "outputs": [],
   "source": [
    "with Figure(5, 4, 2, 2) as (fig, ax):\n",
    "    mqr.plot.regression.residuals(res.resid, res.fittedvalues, axs=ax)\n",
    "    plot = grab_figure(fig)\n",
    "\n",
    "hstack(\n",
    "    plot,\n",
    "    vstack(\n",
    "        mqr.anova.adequacy(res),\n",
    "        mqr.inference.dist.test_1sample(res.resid)\n",
    "    )\n",
    ")"
   ]
  },
  {
   "cell_type": "markdown",
   "id": "eccbd09f",
   "metadata": {},
   "source": [
    "The residuals do not look normal, there is a a quadratic look versus value.  Likely this could get solved with a transformation of variables.  It is left as an exercise to the student to try fitting the response $Toss^{0.62}$, where thereby the fit improves and the residuals transform to looking random.  \n",
    "\n",
    "-------------------------------------------------------------------------------------------\n",
    "\n",
    "### 2.1.2 Example 2 - Full Factorial Design\n",
    "\n",
    "Now consider a full factorial design with 4 variables, and a response shown. "
   ]
  },
  {
   "cell_type": "code",
   "execution_count": null,
   "id": "f8a5dd20-b04d-416e-9964-57ddbbf5fd0d",
   "metadata": {},
   "outputs": [],
   "source": [
    "var_list = [\"x1\", \"x2\", \"x3\", \"x4\"]\n",
    "levels = [2, 2, 2, 2]\n",
    "ffd = Design.from_fullfact(var_list, levels)\n",
    "df_ffd = ffd.to_df()\n",
    "df_ffd['Response'] = [6.899, 9.769, 7.931, 8.038, 11.366, 13.824, \n",
    "                 11.540, 11.659, 7.580, 9.845, 7.008, 7.753,\n",
    "                 10.296, 12.306, 10.783, 9.923]\n",
    "df_ffd"
   ]
  },
  {
   "cell_type": "markdown",
   "id": "a4f1e246-09fe-4984-ab30-25897ed852ef",
   "metadata": {},
   "source": [
    "Now fit a parsimonious fit with interactions.  What is the best model?"
   ]
  },
  {
   "cell_type": "code",
   "execution_count": null,
   "id": "2518f725-1761-4cd3-be67-1a104b5fd680",
   "metadata": {},
   "outputs": [],
   "source": [
    "#form = 'Response ~ x1 + x2 + x3 + x4 + x1*x2 + x1*x3 + x1*x4 + x2*x3 + x2*x4 + x3*x4'\n",
    "form = 'Response ~ x1 + x2 + x3 + x4 + x1*x2 + x3*x4'\n",
    "mod = smf.ols(form, df_ffd)\n",
    "res = mod.fit()\n",
    "\n",
    "with Figure(5, 4, 2, 2) as (fig, ax):\n",
    "    mqr.plot.regression.residuals(res.resid, res.fittedvalues, axs=ax)\n",
    "    plot = grab_figure(fig)\n",
    "\n",
    "hstack(\n",
    "    vstack(\n",
    "        mqr.anova.adequacy(res),\n",
    "        mqr.anova.coeffs(res)\n",
    "        ),\n",
    "    plot\n",
    ")"
   ]
  },
  {
   "cell_type": "markdown",
   "id": "b70c4985-6bbd-499b-893c-7fc6a12b88bd",
   "metadata": {},
   "source": [
    "We see the best model is the linear terms plus the x1*x2 interaction.  The residuals look fine.\n",
    "\n",
    "### 2.1.2 Example 2 - Half Fraction Design\n",
    "\n",
    "Now consider the exact same response data, but with a 1/2 fraction design."
   ]
  },
  {
   "cell_type": "code",
   "execution_count": null,
   "id": "69ead667-3773-4562-98d5-e9736a3a8c7a",
   "metadata": {},
   "outputs": [],
   "source": [
    "ar_list = [\"x1\", \"x2\", \"x3\", \"x4\"]\n",
    "gen = 'a b c abc'\n",
    "ffd = Design.from_fracfact(var_list, gen)\n",
    "df_ffd = ffd.to_df()\n",
    "df_ffd['Response'] = [6.899, 9.845, 7.008, 8.038, \n",
    "                      10.296, 13.824, 11.540, 9.923]\n",
    "df_ffd"
   ]
  },
  {
   "cell_type": "code",
   "execution_count": null,
   "id": "17436e08-905a-44e8-a133-053ce5d7df23",
   "metadata": {},
   "outputs": [],
   "source": [
    "form = 'Response ~ x1 + x2 + x3 + x4 + x1*x2 + x3*x4'\n",
    "mod = smf.ols(form, df_ffd)\n",
    "res = mod.fit()\n",
    "\n",
    "with Figure(5, 4, 2, 2) as (fig, ax):\n",
    "    mqr.plot.regression.residuals(res.resid, res.fittedvalues, axs=ax)\n",
    "    plot = grab_figure(fig)\n",
    "\n",
    "hstack(\n",
    "    vstack(\n",
    "        mqr.anova.adequacy(res),\n",
    "        mqr.anova.coeffs(res)\n",
    "        ),\n",
    "    plot\n",
    ")"
   ]
  },
  {
   "cell_type": "markdown",
   "id": "e45044ef-73bf-42ce-bdc7-94b4db4efafa",
   "metadata": {},
   "source": [
    "Notice the result, compare the full factorial and fractional factorial above, they have the same data.  When using the fractional factorial, with the exact same data though a 50% subset, basically the same coefficients result. However, now some of the terms are no longer significant compared to the full factorial result.  The small X2 and X4 coefficients are insignificantly different from 0 when using only 8 runs.  \n",
    "\n",
    "Also, the residuals look strange, they are all equally spaced apart.  This is typical of a fractional factorial design residuals, the fit was placed equally apart from the datapoints and so the residuals are equally spaced.  With fractional factorial designs, the residual often look non-normal.  However, a normality test will result in a \"no difference\" outcome with normality, as there are so few data points that it cannot be clearly stated as not normal.  The only graph to consider with fractional factorial designs is the residual vs fit plot, which should show the same vertical distribution at every fitted value.  These do. "
   ]
  },
  {
   "cell_type": "markdown",
   "id": "4bfcbeb9",
   "metadata": {},
   "source": [
    "------------------------------------------------------------------------------------\n",
    "\n",
    "## 2.2 Center Point Design Analysis\n",
    "\n",
    "Next we look at a two factorial design augmented with center points.  The analysis is different here, the center points are not used in the regression equation, but rather are used for determining any curvature. "
   ]
  },
  {
   "cell_type": "code",
   "execution_count": null,
   "id": "dc371887",
   "metadata": {},
   "outputs": [],
   "source": [
    "var_list = [\"A\", \"B\", \"C\", \"D\"]\n",
    "gen = 'a b c abc'\n",
    "nc = 1    # number of centerpoints\n",
    "\n",
    "cfd = Design.from_fracfact(var_list, gen) + Design.from_centrepoints(var_list, nc)\n",
    "df_cfd = cfd.to_df()"
   ]
  },
  {
   "cell_type": "code",
   "execution_count": null,
   "id": "e09842ea",
   "metadata": {},
   "outputs": [],
   "source": [
    "df_cfd['Y1'] = [100.274, 104.418, 84.956, 99.206, 100.162, 115.706, 96.436, 99.8, 99.527]\n",
    "df_cfd['Y2'] = [100.274, 104.418, 84.956, 99.206, 100.162, 115.706, 96.436, 99.8, 97.527]\n",
    "\n",
    "cornerdata = df_cfd.query('PtType == 1')\n",
    "centerdata = df_cfd.query('PtType == 0')\n",
    "Ncorner = cornerdata.shape[0]\n",
    "Ncenter = centerdata.shape[0]\n",
    "\n",
    "df_cfd"
   ]
  },
  {
   "cell_type": "markdown",
   "id": "37a7899a-7adc-4e2a-b765-b051ac9649a1",
   "metadata": {},
   "source": [
    "Now check if there is curvature"
   ]
  },
  {
   "cell_type": "code",
   "execution_count": null,
   "id": "cef2400e-295d-4bab-a51b-bcc208eb07e2",
   "metadata": {},
   "outputs": [],
   "source": [
    "form = 'Y1 ~ A + B + C + D + PtType'\n",
    "#form = 'Y2 ~ PtType'\n",
    "mod = smf.ols(form, df_cfd)\n",
    "res = mod.fit()\n",
    "ssY1 = mqr.anova.summary(res)\n",
    "effect = 'Y1'\n",
    "with Figure(8, 2, 1, len(var_list)) as (fig, axs):\n",
    "    for name, ax in zip(var_list, axs):\n",
    "        ax.plot(cornerdata.groupby(name).mean()[effect], color='C0')\n",
    "        ax.plot(centerdata.groupby(name).mean()[effect], color='C1', marker='o')\n",
    "        ax.set_xlabel(name)\n",
    "        plot1 = grab_figure(fig)\n",
    "\n",
    "form = 'Y2 ~ A + B + C + D + PtType'\n",
    "#form = 'Y2 ~ PtType'\n",
    "mod = smf.ols(form, df_cfd)\n",
    "res = mod.fit()\n",
    "ssY2 = mqr.anova.summary(res)\n",
    "effect = 'Y2'\n",
    "with Figure(8, 2, 1, len(var_list)) as (fig, axs):\n",
    "    for name, ax in zip(var_list, axs):\n",
    "        ax.plot(cornerdata.groupby(name).mean()[effect], color='C0')\n",
    "        ax.plot(centerdata.groupby(name).mean()[effect], color='C1', marker='o')\n",
    "        ax.set_xlabel(name)\n",
    "        plot2 = grab_figure(fig)\n",
    "\n",
    "vstack(\n",
    "    '#### Y1 Center Point ANOVA',\n",
    "    ssY1,\n",
    "    plot1,\n",
    "    '#### Y2 Center Point ANOVA',\n",
    "    ssY2,\n",
    "    plot2)"
   ]
  },
  {
   "cell_type": "markdown",
   "id": "3d25afd0-f2d9-4b59-b39f-92b9e801775a",
   "metadata": {},
   "source": [
    "From this we seek Y1 has no curvature, as the p-value for PtType was 0.332.  Y1 can be analyzed with the DOE as is.  We also see Y2 does have curvature, the p-value for PtType was 0.014.  Y2 cannot be analyzed with this DOE.\n",
    "\n",
    "Now re-analyze Y1 without the center point.  "
   ]
  },
  {
   "cell_type": "code",
   "execution_count": null,
   "id": "1f436a06-cd01-4df7-b08c-fde551d8a7ea",
   "metadata": {},
   "outputs": [],
   "source": [
    "form = 'Y1 ~ A + B + C + D'\n",
    "mod = smf.ols(form, df_cfd)\n",
    "res = mod.fit()\n",
    "\n",
    "fitY1 =  mqr.anova.adequacy(res)\n",
    "\n",
    "vstack(\n",
    "    fitY1,\n",
    "   hstack(\n",
    "        mqr.anova.summary(res),\n",
    "        mqr.anova.coeffs(res)\n",
    "    ),\n",
    "    plot1\n",
    ")"
   ]
  },
  {
   "cell_type": "markdown",
   "id": "3ac507fa",
   "metadata": {},
   "source": [
    "Checking the residuals"
   ]
  },
  {
   "cell_type": "code",
   "execution_count": null,
   "id": "efad4f03",
   "metadata": {},
   "outputs": [],
   "source": [
    "with Figure(5, 4, 2, 2) as (fig, ax):\n",
    "    mqr.plot.regression.residuals(res.resid, res.fittedvalues, ax)\n",
    "    plot = grab_figure(fig)\n",
    "\n",
    "vstack(\n",
    "    hstack(\n",
    "        plot,\n",
    "        vstack(\n",
    "            mqr.anova.adequacy(res),\n",
    "            mqr.inference.dist.test_1sample(res.resid)\n",
    "        )\n",
    "    )\n",
    ")"
   ]
  },
  {
   "cell_type": "markdown",
   "id": "6b1369f9",
   "metadata": {},
   "source": [
    "The residual plots perhaps look strange, but it is due to the highly fractional factorial design.  The residuals vs fitted value show the same variance across the axis, so they are fine.   \n",
    "\n",
    "Another view to this is to consider the factor plots.  "
   ]
  },
  {
   "cell_type": "code",
   "execution_count": null,
   "id": "26a0dfe9-1df5-4370-8c38-7772b30530f4",
   "metadata": {},
   "outputs": [],
   "source": [
    "effect = 'Y1'\n",
    "\n",
    "with Figure(8, 2, 1, 4, sharey=True) as (fig, axs):\n",
    "    for i, name in enumerate(cfd.names):\n",
    "        axs[i].plot(cornerdata.groupby(name).mean()[effect], color='C0', marker='.')\n",
    "        axs[i].plot(centerdata.groupby(name).mean()[effect], color='C1', marker='o')\n",
    "        axs[i].set_xlabel(name)"
   ]
  },
  {
   "cell_type": "markdown",
   "id": "6a544ccb",
   "metadata": {},
   "source": [
    "As can be seen, the model is not quadratic, and the fit is fine.  "
   ]
  },
  {
   "cell_type": "markdown",
   "id": "9263b551",
   "metadata": {},
   "source": [
    "## 2.3 Central Composite Design - Full Factorial\n",
    "\n",
    "Next we look at the basic central composite design. "
   ]
  },
  {
   "cell_type": "code",
   "execution_count": null,
   "id": "6992fa24-0410-42c0-9e39-7a1344c4c1a1",
   "metadata": {},
   "outputs": [],
   "source": [
    "names = ['Ht', 'Theta0', 'Ra', 'Rc']\n",
    "gen = 'a b c abc'\n",
    "nc = 3\n",
    "\n",
    "blk1 = Design.from_fracfact(names, gen) + Design.from_centrepoints(names, nc)\n",
    "blk2 = Design.from_axial(names) + Design.from_centrepoints(names, nc)\n",
    "ccfrd = blk1.as_block(1) + blk2.as_block(2)"
   ]
  },
  {
   "cell_type": "markdown",
   "id": "ecce61fe",
   "metadata": {},
   "source": [
    "Now suppose the experiments were executed at each run. Add the toss results of each run to the dataframe.  \n",
    "\n",
    "First try to fit the model using $Toss$.  If it doesn't fit well or the residuals are not looking great, another thing to try is a transformation of the response, such as $\\ln()$, $\\sqrt{()}$, etc.  Here we will try the $\\sqrt{(Toss)}$ response. "
   ]
  },
  {
   "cell_type": "code",
   "execution_count": null,
   "id": "772b1f64",
   "metadata": {},
   "outputs": [],
   "source": [
    "df_ccfrd = ccfrd.to_df()\n",
    "df_ccfrd['Toss'] = [0.262, 0.811, 1.279, 1.395, 0.715, 1.039, 3.386, 2.515, 1.349, 1.437, 1.439, \n",
    "                 1.081, 1.712, 0.001, 1.318, 1.125, 1.653, 1.153, 1.569, 1.402, 1.413, 1.429]\n",
    "df_ccfrd['sqrtT'] = np.sqrt(df_ccfrd['Toss'])\n",
    "df_ccfrd"
   ]
  },
  {
   "cell_type": "markdown",
   "id": "539ba771",
   "metadata": {},
   "source": [
    "First test if the two blocks are the same by comparing the means of the center points."
   ]
  },
  {
   "cell_type": "code",
   "execution_count": null,
   "id": "b8d29a99",
   "metadata": {},
   "outputs": [],
   "source": [
    "centers1 = df_ccfrd.query('Block == 1 and PtType == 0')['Toss']\n",
    "centers2 = df_ccfrd.query('Block == 2 and PtType == 0')['Toss']\n",
    "\n",
    "alt = 'two-sided'   # 'less', 'two-sided', 'greater'\n",
    "ev = False           # 'PtType == 1'True for equal variances\n",
    "mqr.inference.mean.test_2sample(\n",
    "    centers1,\n",
    "    centers2,\n",
    "    pooled=ev,\n",
    "    alternative=alt\n",
    ")"
   ]
  },
  {
   "cell_type": "markdown",
   "id": "6d2c30ed",
   "metadata": {},
   "source": [
    "So there is no significant difference between the two blocks. So now treat all the data as one block and fit a quadratic model.  "
   ]
  },
  {
   "cell_type": "code",
   "execution_count": null,
   "id": "77ae2379",
   "metadata": {},
   "outputs": [],
   "source": [
    "form = '''\n",
    "    sqrtT ~\n",
    "    Ht + Theta0 + Ra + Rc +\n",
    "    I(Ht*Theta0) + I(Ht*Ra) + I(Ht*Rc) +\n",
    "    I(Ht**2) + I(Theta0**2) + I(Ra**2) + I(Rc**2)\n",
    "'''\n",
    "model = smf.ols(form, df_ccfrd)\n",
    "res = model.fit()\n",
    "\n",
    "hstack(\n",
    "    mqr.anova.summary(res),\n",
    "    mqr.anova.coeffs(res)\n",
    ")"
   ]
  },
  {
   "cell_type": "code",
   "execution_count": null,
   "id": "17f56ce6",
   "metadata": {},
   "outputs": [],
   "source": [
    "form = 'sqrtT ~ Ht + Theta0 + Ra + Rc + I(Ht*Theta0) + I(Ht*Rc) + I(Theta0*Ra) + I(Theta0**2)'\n",
    "#     + I(Ht*Ra) + I(Theta0*Ra)\n",
    "#    + I(Ht**2) + I(Ra**2) + I(Rc**2)\n",
    "model = smf.ols(form, df_ccfrd)\n",
    "res = model.fit()\n",
    "\n",
    "with Figure(5, 4, 2, 2) as (fig, ax):\n",
    "    mqr.plot.regression.residuals(res.resid, res.fittedvalues, ax)\n",
    "    plot = grab_figure(fig)\n",
    "\n",
    "vstack(\n",
    "    hstack(\n",
    "        mqr.anova.summary(res),\n",
    "        mqr.anova.coeffs(res)\n",
    "    ),\n",
    "    hstack(\n",
    "        plot,\n",
    "        vstack(\n",
    "            mqr.anova.adequacy(res),\n",
    "            mqr.inference.dist.test_1sample(res.resid)\n",
    "        )\n",
    "    )\n",
    ")"
   ]
  },
  {
   "cell_type": "markdown",
   "id": "63851e9e",
   "metadata": {},
   "source": [
    "These results are for the response $T^{0.5}$, a transformation of variables which produced a better fit that simply $Toss$.  The primary significant quadratic terms was $\\theta^2$.  An even simpler model can be had by dropping the $Ht*Rc$ and $Rc$ terms.  \n",
    "\n",
    "Now create Factor Plots of $T^{0.5}$ by plotting lines through the origin on each axis."
   ]
  },
  {
   "cell_type": "code",
   "execution_count": null,
   "id": "aceb7a6a",
   "metadata": {},
   "outputs": [],
   "source": [
    "with Figure(8, 2, 1, 4, sharey=True) as (fig, axs):\n",
    "    for name, ax in zip(ccfrd.names, axs):\n",
    "        df = ccfrd.get_factor_df(name)\n",
    "        ax.plot(df[name], res.predict(df), marker='.')\n",
    "        ax.set_xlabel(name)"
   ]
  }
 ],
 "metadata": {
  "kernelspec": {
   "display_name": "Python 3 (ipykernel)",
   "language": "python",
   "name": "python3"
  },
  "language_info": {
   "codemirror_mode": {
    "name": "ipython",
    "version": 3
   },
   "file_extension": ".py",
   "mimetype": "text/x-python",
   "name": "python",
   "nbconvert_exporter": "python",
   "pygments_lexer": "ipython3",
   "version": "3.12.4"
  }
 },
 "nbformat": 4,
 "nbformat_minor": 5
}
