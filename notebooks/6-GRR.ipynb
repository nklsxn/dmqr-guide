{
 "cells": [
  {
   "attachments": {
    "index.png": {
     "image/png": "[encoded data removed]"
    }
   },
   "cell_type": "markdown",
   "id": "c3614858",
   "metadata": {},
   "source": [
    "<center>\n",
    "<div style=\"max-width:400px;\">\n",
    "\n",
    "![index.png](attachment:index.png)\n",
    "\n",
    "</div>\n",
    "</center>\n",
    "\n",
    "# Measurement Systems Analysis\n",
    "\n",
    "**Prof. Kevin Otto and Nikolas Crossan**  \n",
    "The University of Melbourne  \n",
    "Department of Mechanical Engineering\n",
    "\n",
    "-------------------------------------------------------------------\n",
    "\n",
    "Herein are notes, examples and code to compute a gauge repeatability and reproducibility analysis.  \n",
    "\n",
    "This notebook relies on the `mqrpy` code library, found at https://pypi.org/project/mqrpy/"
   ]
  },
  {
   "cell_type": "code",
   "execution_count": null,
   "id": "155f7919-5903-4d3a-a950-ef9ba821f4d5",
   "metadata": {},
   "outputs": [],
   "source": [
    "import mqr\n",
    "from mqr.plot import Figure\n",
    "from mqr.nbtools import hstack, vstack\n",
    "\n",
    "import numpy as np\n",
    "import pandas as pd\n",
    "\n",
    "from importlib.metadata import version\n",
    "print('MQR version', version('mqrpy'))\n",
    "print('Numpy version', version('numpy'))\n",
    "print('Scipy version', version('scipy'))\n",
    "print('Pandas version', version('pandas'))"
   ]
  },
  {
   "cell_type": "markdown",
   "id": "196bc604",
   "metadata": {},
   "source": [
    "-----------------------------------------------------------------------------------------------------------\n",
    "# 1.0 Import GRR Study Data\n",
    "\n",
    "Read GRR data in from an XLSX file into a Pandas dataframe.  \n",
    "\n",
    "The file's first row must be text labels, typically \"Part\", \"Operator\", and \"NAME\" where NAME is the name for the measured data.\n",
    "\n",
    "One column must be the part number.  Text values are not allowed, data entries must be numbers.\n",
    "\n",
    "Another column must be the operator number.  Text values are not allowed, data entries must be numbers.  \n",
    "\n",
    "A third column must be the measurement. "
   ]
  },
  {
   "cell_type": "code",
   "execution_count": null,
   "id": "eee506eb",
   "metadata": {},
   "outputs": [],
   "source": [
    "data = pd.read_csv(mqr.sample_data('grr.csv'))\n",
    "data.head()"
   ]
  },
  {
   "cell_type": "markdown",
   "id": "3b38fb3f",
   "metadata": {},
   "source": [
    "-----------------------------------------------------------------------------------------------------\n",
    "# 2.0 Study Setup\n",
    "\n",
    "Set the specification limits and the study variation range (typically 6 or 5.15 sigma).  \n",
    "\n",
    "Here the upper specification limit USL = 10.5, and the lower specification limit LSL = 7.5.\n",
    "\n",
    "Set whether to include the Part-Operator interaction term in the analysis or not.\n",
    "\n",
    "Also, you need to tell the MQR GRR fucntion which columns in the Pandas dataframe correspond to parts, opertors, replicates and the measurements.  Using the function `NameMapping` identify which Pandas dataframe column names correspond to measurements, parts, operators, and replicate.  "
   ]
  },
  {
   "cell_type": "code",
   "execution_count": null,
   "id": "052af244",
   "metadata": {},
   "outputs": [],
   "source": [
    "USL = 10.5\n",
    "LSL = 7.5\n",
    "SV = 6.0\n",
    "Include_Interaction = True\n",
    "tol = np.absolute(USL - LSL)\n",
    "\n",
    "name_mapping = mqr.msa.NameMapping(\n",
    "    measurement='Height',\n",
    "    part='Part',\n",
    "    operator='Operator')"
   ]
  },
  {
   "cell_type": "markdown",
   "id": "e349700f-a370-4de8-8975-8121f0dc7243",
   "metadata": {},
   "source": [
    "-------------------------------------------------------------------------------------------\n",
    "# 3.0 GRR ANOVA\n",
    "\n",
    "Compute the GRR ANOVA analysis display the statistics."
   ]
  },
  {
   "cell_type": "code",
   "execution_count": null,
   "id": "97585f9e-f6a0-477f-801e-72920b541e54",
   "metadata": {},
   "outputs": [],
   "source": [
    "grr = mqr.msa.GRR(\n",
    "    data,\n",
    "    tolerance=tol,\n",
    "    names=name_mapping,\n",
    "    include_interaction=True,\n",
    "    nsigma=SV)\n",
    "result = grr.regression_result\n",
    "\n",
    "vstack(\n",
    "    '### GRR Data Input',\n",
    "    grr,\n",
    "    '### GRR ANOVA Summary Statistics',\n",
    "     mqr.anova.adequacy(result),\n",
    "    '### GRR ANOVA Table',\n",
    "    mqr.anova.summary(result))"
   ]
  },
  {
   "cell_type": "markdown",
   "id": "848218cb-56fb-4c59-9ddc-0c1e09827e99",
   "metadata": {},
   "source": [
    "The result is that $r^2$ is rather good.  The ANOVA table show the parts are significantly different compared to the residual error, which is good.  However, it also shows the operators are significantly different as well, not good. Also, there is no significant interaction between parts and operators. Given that last result, we ought go back to block 3 and reset `Include_Interaction` to False.  \n",
    "\n",
    "Now create the residuals analysis to ensure residuals are properly distributed."
   ]
  },
  {
   "cell_type": "code",
   "execution_count": null,
   "id": "d01ad4d5-7645-4952-876b-31ecc2c27312",
   "metadata": {},
   "outputs": [],
   "source": [
    "with Figure(5, 4, 2, 2) as (fig, ax):\n",
    "    mqr.plot.regression.residuals(result.resid, result.fittedvalues, axs=ax)\n",
    "    plot = mqr.nbtools.grab_figure(fig)\n",
    "vstack(\n",
    "   '### GRR Residuals',\n",
    "    hstack(\n",
    "        plot,\n",
    "        mqr.inference.dist.test_1sample(result.resid),\n",
    "    )\n",
    ")"
   ]
  },
  {
   "cell_type": "markdown",
   "id": "fc2c558d-32c4-4ca2-b5df-c1712e9fa175",
   "metadata": {},
   "source": [
    "-----------------------------------------------------------------------------------------------\n",
    "# 4.0 GRR Summary\n",
    "\n",
    "Now create the GRR table and print out."
   ]
  },
  {
   "cell_type": "code",
   "execution_count": null,
   "id": "7ed16306-a118-4432-be5b-ea4c5a323c31",
   "metadata": {},
   "outputs": [],
   "source": [
    "vstack(\n",
    "    '### GRR Table',\n",
    "    mqr.msa.VarianceTable(grr) )"
   ]
  },
  {
   "cell_type": "markdown",
   "id": "11a56bde",
   "metadata": {},
   "source": [
    "These results indicate a study variation of 0.34, or $\\pm$0.17 measurement error (3-sigma).  The P/TV ratio is 27.4%, indicating poor ability to study the process variation. As it is, the measurement system cannot monitor the process for shifts.  The P/T ratio is 11.3%, indicating good ability to study whether or not a part is defective (not in specification).\n",
    "\n",
    "The percent contribution shows 3.2% out of 7.5% is due to operator.  This is too high, the operator-operator contribution ought be scrutinized.  \n",
    "\n",
    "### GRR Graphical Summary\n",
    "\n",
    "Now create the GRR Graphical Summary"
   ]
  },
  {
   "cell_type": "code",
   "execution_count": null,
   "id": "ed81976e-49b3-440d-9d43-87cf0907fad8",
   "metadata": {},
   "outputs": [],
   "source": [
    "# The `mqr` GRR graphs need 6 axes altogether, 3*2 works well.\n",
    "with Figure(10, 6, m=3, n=2) as (fig, axs):\n",
    "    mqr.plot.msa.grr(grr, axs)"
   ]
  },
  {
   "cell_type": "markdown",
   "id": "c24bf79f-5143-46ad-81cc-39c8246411af",
   "metadata": {},
   "source": [
    "The upper left graph shows what the previous table did on contributions.  \n",
    "\n",
    "The upper right graph shows part-to-part variation is large relative to the within-part measurement errors which is good.  \n",
    "\n",
    "The middle left graph shows each operator is measuring the parts similarly in terms of average measurement, which is good.  \n",
    "\n",
    "The middle right graph shows no bias across the operators, which is good.  \n",
    "\n",
    "The lower left graph shows a problem. The first inspection has 2 to 3 times the variability of the second and third inspector.  That is a problem, inspector 1 needs to improve. They should see how inspection 2 works, and follow that process, for example.  \n",
    "\n",
    "The lower right graph shows parallel lines, and so there is no one part that is more difficult to measure, which is good.  "
   ]
  }
 ],
 "metadata": {
  "kernelspec": {
   "display_name": "Python 3 (ipykernel)",
   "language": "python",
   "name": "python3"
  },
  "language_info": {
   "codemirror_mode": {
    "name": "ipython",
    "version": 3
   },
   "file_extension": ".py",
   "mimetype": "text/x-python",
   "name": "python",
   "nbconvert_exporter": "python",
   "pygments_lexer": "ipython3",
   "version": "3.12.4"
  }
 },
 "nbformat": 4,
 "nbformat_minor": 5
}
