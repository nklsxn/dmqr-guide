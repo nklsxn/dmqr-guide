{
 "cells": [
  {
   "attachments": {
    "UM.png": {
     "image/png": "[encoded data removed]"
    }
   },
   "cell_type": "markdown",
   "id": "b2411bd4",
   "metadata": {},
   "source": [
    "<center>\n",
    "<div style=\"max-width:400px;\">\n",
    "\n",
    "![UM.png](attachment:UM.png)\n",
    "\n",
    "</div>\n",
    "</center>\n",
    "\n",
    "# Catapult Design of Experiments\n",
    "\n",
    "**Prof. Kevin Otto and Nikolas Crossan**  \n",
    "The University of Melbourne  \n",
    "Department of Mechanical Engineering\n",
    "\n",
    "----------------------------------------------------------------------------\n",
    "\n",
    "This notebook demonstrates a capstone problem on creating and analyzing factorial designs.  It starts with a fractional factorial design and finishes with a central composite design expansion.\n",
    "\n",
    "This notebook relies on the `mqr-quality` code library, found at https://pypi.org/project/mqr-quality/\n",
    "\n"
   ]
  },
  {
   "cell_type": "code",
   "execution_count": null,
   "id": "9d6b86e7-5ea3-47ac-afef-af322c6350f6",
   "metadata": {},
   "outputs": [],
   "source": [
    "import numpy as np\n",
    "import pandas as pd\n",
    "import scipy\n",
    "import scipy.stats as st\n",
    "import statsmodels.api as sm\n",
    "import statsmodels.formula.api as smf\n",
    "import seaborn as sns\n",
    "\n",
    "import mqr\n",
    "from mqr.plot import Figure\n",
    "from mqr.nbtools import hstack, vstack, grab_figure\n",
    "from mqr.doe import Design\n",
    "\n",
    "from importlib.metadata import version\n",
    "print('MQR version', version('mqr-quality'))\n",
    "print('Numpy version ', version('numpy'))\n",
    "print('Scipy version ', version('scipy'))\n",
    "print('Pandas version ', version('pandas'))\n",
    "print('Seaborn version ', version('seaborn'))\n",
    "print('StatsModels version ', version('statsmodels'))"
   ]
  },
  {
   "cell_type": "markdown",
   "id": "bca97c31",
   "metadata": {},
   "source": [
    "# 1. Create Fractional Factorial Design with Center Points\n"
   ]
  },
  {
   "cell_type": "markdown",
   "id": "9056d921",
   "metadata": {},
   "source": [
    "## 1.1 Fractional Factorial Design\n",
    "\n",
    "Next is code to create a fractional factorial matrix as a Pandas Dataframe.  Here a $2^{4-1}$ fractional factorial design.  \n",
    "\n",
    "Each column's formula is given as a standard letter format such as $\\{a \\  b \\ c \\  abc\\}$ for the four columns. There will be $\\{ a \\  b \\  c\\} = 3$ independent factors and so $2^3=8$ experimental configurations.  \n"
   ]
  },
  {
   "cell_type": "code",
   "execution_count": null,
   "id": "137001fd-1d60-47c8-ba1c-1f5320e165ac",
   "metadata": {},
   "outputs": [],
   "source": [
    "var_list = [\"Ht\", \"Theta0\", \"Ra\", \"Rc\"]\n",
    "var = 'a b c abc'\n",
    "frd = Design.from_fracfact(var_list, var)\n",
    "frd"
   ]
  },
  {
   "cell_type": "markdown",
   "id": "ac1d7e25",
   "metadata": {},
   "source": [
    "## 1.3 Center Points\n",
    "\n",
    "Augmenting any factorial design is easy enough by adding rows of zero values to a factorial DataFrame. \n",
    "\n",
    "Now create a Pandas DataFrame which includes a column indicating whether a factorial point or a center point."
   ]
  },
  {
   "cell_type": "code",
   "execution_count": null,
   "id": "bf74208d-f5e4-4eaf-9acc-b873faf29477",
   "metadata": {},
   "outputs": [],
   "source": [
    "nc = 3    # number of centerpoints\n",
    "cfd = Design.from_fracfact(var_list, var) + Design.from_centrepoints(var_list, nc)\n",
    "cfd"
   ]
  },
  {
   "cell_type": "markdown",
   "id": "1e6aab6b",
   "metadata": {},
   "source": [
    "## 1.3 Catapult Runs\n",
    "\n",
    "Now go and run the catapult at these conditions, tossing several times, such as 4-6, and report back the pull back angle error ($s$) and average toss distance ($d_{bar}$). \n",
    "\n",
    "Enter these into the Pandas dataframe.  "
   ]
  },
  {
   "cell_type": "code",
   "execution_count": null,
   "id": "e09842ea",
   "metadata": {},
   "outputs": [],
   "source": [
    "df_cfd = cfd.to_df()\n",
    "df_cfd['s'] = [0.03933, 0.00775, 0.08559, 0.02442, 0.04389, 0.01330, 0.70346, 0.13574, 0.07319, 0.04056, 0.05514]\n",
    "df_cfd['dbar'] = [0.1303, 0.5980, 0.9433, 0.9585, 0.5633, 0.7920, 1.4740, 1.8148, 1.0333, 1.0275, 1.0115]\n",
    "df_cfd"
   ]
  },
  {
   "cell_type": "markdown",
   "id": "101cf54a",
   "metadata": {},
   "source": [
    "## 1.4 Curvature Analysis\n",
    "\n",
    "Check if there is curvature or not by fitting the model and including a categorical term PtType to test for curvature.\n",
    "\n",
    "The base fractional factorial design is a $2^{4-1}$ design, and so several 2-way interactions are confounded.  It is left to the student to show that \n",
    "$$\n",
    "\\begin{aligned}\n",
    "     ab = cd \\\\\n",
    "     ac = bd \\\\\n",
    "     ad = bc\n",
    "\\end{aligned}\n",
    "$$\n",
    "Therefore, only one of each of these can be fit.  "
   ]
  },
  {
   "cell_type": "code",
   "execution_count": null,
   "id": "cbc54822-ea13-40f7-a33d-3f5ea378a568",
   "metadata": {},
   "outputs": [],
   "source": [
    "f = '''\n",
    "    s ~\n",
    "    Ht + Theta0 + Ra + Rc +\n",
    "    I(Ht*Theta0) + I(Ht*Ra) + I(Ht*Rc) +\n",
    "    + C(PtType)\n",
    "'''\n",
    "model_s = smf.ols(formula=f, data=df_cfd)\n",
    "res_s = model_s.fit()\n",
    "\n",
    "sanova = mqr.anova.coeffs(res_s)\n",
    "\n",
    "effect = 's'\n",
    "cornerdata = df_cfd.query('PtType == 1')\n",
    "centerdata = df_cfd.query('PtType == 0')\n",
    "\n",
    "with Figure(8, 2, 1, len(var_list)) as (fig, axs):\n",
    "    for name, ax in zip(var_list, axs):\n",
    "        ax.plot(cornerdata.groupby(name).mean()[effect], color='C0')\n",
    "        ax.plot(centerdata.groupby(name).mean()[effect], color='C1', marker='o')\n",
    "        ax.set_xlabel(name)\n",
    "        plot = grab_figure(fig)\n",
    "\n",
    "vstack(\n",
    "    plot,\n",
    "    sanova)"
   ]
  },
  {
   "cell_type": "markdown",
   "id": "ef10c245",
   "metadata": {},
   "source": [
    "Here we found curvature in $s$ since the p-value for PtType was 0.021 and was significant, and so a regression analysis is pointless.  Now repeat and check $d_{bar}$ for curvature.  "
   ]
  },
  {
   "cell_type": "code",
   "execution_count": null,
   "id": "f0f3c0c2-423d-4970-8d86-c25d6d828467",
   "metadata": {},
   "outputs": [],
   "source": [
    "f = '''\n",
    "    dbar ~\n",
    "    Ht + Theta0 + Ra + Rc +\n",
    "    I(Ht*Theta0) + I(Ht*Ra) + I(Ht*Rc) +\n",
    "    + C(PtType)\n",
    "'''\n",
    "model_s = smf.ols(formula=f, data=df_cfd)\n",
    "res_s = model_s.fit()\n",
    "\n",
    "danova = mqr.anova.coeffs(res_s)\n",
    "\n",
    "effect = 'dbar'\n",
    "\n",
    "with Figure(8, 2, 1, len(var_list)) as (fig, axs):\n",
    "    for name, ax in zip(var_list, axs):\n",
    "        ax.plot(cornerdata.groupby(name).mean()[effect], color='C0')\n",
    "        ax.plot(centerdata.groupby(name).mean()[effect], color='C1', marker='o')\n",
    "        ax.set_xlabel(name)\n",
    "        ax.set_ylabel('dbar')\n",
    "        plot = grab_figure(fig)\n",
    "\n",
    "vstack(\n",
    "    plot,\n",
    "    danova\n",
    ")"
   ]
  },
  {
   "cell_type": "markdown",
   "id": "9263b551",
   "metadata": {},
   "source": [
    "Again $d_{bar}$ has curvature. From this analysis, both $s$ and $d_{bar}$ have curvature.  A fractional factorial design is inadequate and an expansion to a CCD design is needed.\n",
    "\n",
    "----------------------------------------------------------------------------------\n",
    "\n",
    "# 2. Central Composite Design\n",
    "\n",
    "## 2.1 Central Composite Design Creation\n",
    "\n",
    "We will construct a fractional factorial CCD array with 4 variables.  First we re-create the fractional factorialwith add center points as one block. Then we create an axial point DOE and also add center points, as a second block.  "
   ]
  },
  {
   "cell_type": "code",
   "execution_count": null,
   "id": "6900b919-578e-4c04-8b15-dc75b2587221",
   "metadata": {},
   "outputs": [],
   "source": [
    "ccfrd = (\n",
    "    Design.from_fracfact(var_list, 'a b c abc').as_block(1) +\n",
    "    Design.from_centrepoints(var_list, nc).as_block(1) +\n",
    "    Design.from_axial(var_list, magnitude=np.sqrt(2)).as_block(2) +\n",
    "    Design.from_centrepoints(var_list, nc).as_block(2)\n",
    ")"
   ]
  },
  {
   "cell_type": "markdown",
   "id": "ecce61fe",
   "metadata": {},
   "source": [
    "## 2.2 Augmented Experimental Runs\n",
    "\n",
    "Now suppose the experiments were executed at each run. Add the toss results of each run to the dataframe.  "
   ]
  },
  {
   "cell_type": "code",
   "execution_count": null,
   "id": "772b1f64",
   "metadata": {},
   "outputs": [],
   "source": [
    "df_ccfrd = ccfrd.to_df()\n",
    "df_ccfrd['s'] = [\n",
    "    0.03933, 0.00775, 0.08559, 0.02442, 0.04389, 0.01330, 0.70346, 0.13574, 0.07319, 0.04056, 0.05514,\n",
    "    0.07549, 0.07769, 0.01251, 0.08805, 0.03704, 0.08831, 0.04899, 0.05811, 0.07359, 0.06219, 0.02240]\n",
    "df_ccfrd['dbar'] = [\n",
    "    0.1303, 0.5980, 0.9433, 0.9585, 0.5633, 0.7920, 1.4740, 1.8148, 1.0333, 1.0275, 1.0115,\n",
    "    0.8068, 1.2543, -0.0750, 0.9763, 0.7950, 1.2235, 0.8045, 1.1753, 0.9930, 1.0070, 1.0413]\n",
    "df_ccfrd"
   ]
  },
  {
   "cell_type": "markdown",
   "id": "539ba771",
   "metadata": {},
   "source": [
    "## 2.3 Test for Block Differences\n",
    "\n",
    "First test if the two blocks are the same by comparing the means of the center points."
   ]
  },
  {
   "cell_type": "code",
   "execution_count": null,
   "id": "b8d29a99",
   "metadata": {},
   "outputs": [],
   "source": [
    "block1 = df_ccfrd.query('Block == 1')\n",
    "block2 = df_ccfrd.query('Block == 2')\n",
    "centers1 = block1.query('PtType == 0')['s']\n",
    "centers2 = block2.query('PtType == 0')['s']\n",
    "\n",
    "ev = False           # 'PtType == 1'True for equal variances\n",
    "alt = 'two-sided'    # 'less', 'two-sided', 'greater'\n",
    "mqr.inference.mean.test_2sample(\n",
    "    centers1,\n",
    "    centers2,\n",
    "    pooled=ev,\n",
    "    alternative=alt\n",
    ")"
   ]
  },
  {
   "cell_type": "markdown",
   "id": "6d2c30ed",
   "metadata": {},
   "source": [
    "So there is no significant difference, the blocks are the same, treat as one block.  \n",
    "\n",
    "## 2.4 Quadratic Fit Regression\n",
    "\n",
    "So now treat all the data as one block and fit a quadratic model.  For higher order terms, use numpy forms so less entries are needed in predictions.\n",
    "\n",
    "The base design is again the $2^{4-1}$ and so only half the interactions can be fit, as above."
   ]
  },
  {
   "cell_type": "code",
   "execution_count": null,
   "id": "77ae2379",
   "metadata": {},
   "outputs": [],
   "source": [
    "f = '''\n",
    "    s ~\n",
    "    Ht + Theta0 + Ra + Rc +\n",
    "    I(Ht*Theta0) + I(Ht*Ra) + I(Ht*Rc) +\n",
    "    I(Ht**2) + I(Theta0**2) + I(Ra**2) + I(Rc**2)\n",
    "'''\n",
    "model_s = smf.ols(formula=f, data=df_ccfrd)\n",
    "res_s = model_s.fit()\n",
    "\n",
    "mqr.anova.coeffs(res_s)"
   ]
  },
  {
   "cell_type": "markdown",
   "id": "f0a65122",
   "metadata": {},
   "source": [
    "Now progressively remove the most insignificant terms one at a time, until all terms have acceptably small p-values.  Keep the main effect variable if it is used in any higher order terms."
   ]
  },
  {
   "cell_type": "code",
   "execution_count": null,
   "id": "17f56ce6",
   "metadata": {},
   "outputs": [],
   "source": [
    "f = '''\n",
    "    s ~\n",
    "    Ht + Theta0 + Ra + Rc +\n",
    "    I(Ht*Theta0) + I(Ht*Ra) + I(Ht*Rc)\n",
    "'''\n",
    "\n",
    "model_s = smf.ols(formula=f, data=df_ccfrd)\n",
    "res_s = model_s.fit()\n",
    "\n",
    "mqr.anova.coeffs(res_s)"
   ]
  },
  {
   "cell_type": "code",
   "execution_count": null,
   "id": "a8833f70-7325-41af-a940-828356004427",
   "metadata": {},
   "outputs": [],
   "source": [
    "with Figure(5, 4, 2, 2) as (fig, axs):\n",
    "    mqr.plot.regression.residuals(res_s.resid, res_s.fittedvalues, axs=axs)\n",
    "    plot = grab_figure(fig)\n",
    "\n",
    "hstack(\n",
    "    plot,\n",
    "    vstack(\n",
    "        mqr.anova.adequacy(res_s),\n",
    "        mqr.inference.dist.test_1sample(res_s.resid),\n",
    "    )\n",
    ")"
   ]
  },
  {
   "cell_type": "markdown",
   "id": "92b60b9a",
   "metadata": {},
   "source": [
    "The residuals are not well distributed.  The high outlier is particularly disturbing, which is a corner point in the factorial.  What ought be done is an expansion to more points yet again. The full factorial added runs ought be done to provide more assurance.  This is left as an exercise.  \n",
    "\n",
    "For now we keep this model of $s$, and turn to $d_{bar}$.\n",
    "\n",
    "First try fitting a full quadratic model of all terms, and then drop those which are insignificant."
   ]
  },
  {
   "cell_type": "code",
   "execution_count": null,
   "id": "7917a11d",
   "metadata": {},
   "outputs": [],
   "source": [
    "f = '''\n",
    "    dbar ~\n",
    "    Ht + Theta0 + Ra + Rc +\n",
    "    I(Ht*Theta0) + I(Ht*Ra) + I(Ht*Rc) +\n",
    "    I(Ht**2) + I(Theta0** 2) + I(Ra**2) + I(Rc**2)\n",
    "'''\n",
    "model_d = smf.ols(f, df_ccfrd)\n",
    "res_d = model_d.fit()\n",
    "\n",
    "mqr.anova.coeffs(res_d)"
   ]
  },
  {
   "cell_type": "code",
   "execution_count": null,
   "id": "7bc48dec",
   "metadata": {},
   "outputs": [],
   "source": [
    "f = '''\n",
    "    dbar ~\n",
    "    Ht + Theta0 + Ra + Rc +\n",
    "    I(Ht*Rc) +\n",
    "    I(Ht**2) + I(Theta0** 2) \n",
    "'''\n",
    "model_d = smf.ols(f, df_ccfrd)\n",
    "res_d = model_d.fit()\n",
    "\n",
    "mqr.anova.coeffs(res_d)"
   ]
  },
  {
   "cell_type": "code",
   "execution_count": null,
   "id": "b24c864d-340e-466a-88f7-c2c28bde0c4d",
   "metadata": {},
   "outputs": [],
   "source": [
    "with Figure(5, 4, 2, 2) as (fig, axs):\n",
    "    mqr.plot.regression.residuals(res_d.resid, res_d.fittedvalues, axs=axs)\n",
    "    plot = grab_figure(fig)\n",
    "\n",
    "hstack(\n",
    "    plot,\n",
    "    vstack(\n",
    "        mqr.anova.adequacy(res_d),\n",
    "        mqr.inference.dist.test_1sample(res_d.resid, 'ad-norm')\n",
    "    )\n",
    ")"
   ]
  },
  {
   "cell_type": "markdown",
   "id": "1362edd3",
   "metadata": {},
   "source": [
    "These residual look good enough, they look normal enough, and the residual vs fit look the same at every value of prediction. \n",
    "\n",
    "-------------------------------------------------------------------------------\n",
    "\n",
    "# 3.0 Variance Minimization\n",
    "\n",
    "Now copy the equations for $s$ and $d_{bar}$ into a solver.  Minimize the standard deviation $s$ subject to a constraint $d_{bar}$ greater than 1.5m.\n",
    "\n",
    "Here we use Scipy's `minimize` functionality to do a constrained optimization.  We first define the objective and constraint formulas, and set them to the equation for $s$ and $\\bar{d}$ respectively.  We set the target for $\\bar{d}$ to 1.5.  We place bounds on the 4 variables between -1 and +1.  We initialize the inputs to zeros, and then solve.  "
   ]
  },
  {
   "cell_type": "code",
   "execution_count": null,
   "id": "a47e313a-8cc2-4e3f-a0c3-54d101efe53a",
   "metadata": {},
   "outputs": [],
   "source": [
    "def make_objective(res, names):\n",
    "    df = pd.DataFrame({n: [np.nan] for n in names})\n",
    "    def objective(x):\n",
    "        df.iloc[0, :] = x\n",
    "        return res.get_prediction(df).predicted[0]\n",
    "    return objective\n",
    "\n",
    "def make_constraint(res, names, value, sense=None):\n",
    "    df = pd.DataFrame({n: [np.nan] for n in names})\n",
    "    def constraint(x):\n",
    "        df.iloc[0, :] = x\n",
    "        output = res.get_prediction(df).predicted[0] - value\n",
    "        if sense == 'less':\n",
    "            return -output\n",
    "        elif sense == 'greater' or sense == 'equal':\n",
    "            return output\n",
    "        else:\n",
    "            raise AttributeError(f'Invalid sense {sense}. Use \"equal\", \"less\" or \"greater\"')\n",
    "    return constraint"
   ]
  },
  {
   "cell_type": "code",
   "execution_count": null,
   "id": "f83ee07e-2a32-4c96-b7d7-972eed4f548c",
   "metadata": {},
   "outputs": [],
   "source": [
    "names = ['Ht', 'Theta0', 'Ra', 'Rc']\n",
    "f = make_objective(res_s, names)\n",
    "g = make_constraint(res_d, names, 1.5, 'greater')\n",
    "\n",
    "cons = ({'type': 'ineq', 'fun': g})\n",
    "bnds = [(-1, 1), (-1, 1), (-1, 1), (-1, 1)]\n",
    "x0 = np.array([0, 0, 0, 0])\n",
    "\n",
    "result = scipy.optimize.minimize(f, x0, constraints=cons, bounds=bnds)\n",
    "\n",
    "print(result.message)\n",
    "print(f'Solution point: {result.x}')\n",
    "print(f'Average: {g(result.x)+1.5}')\n",
    "print(f'StdDev: {f(result.x)}')"
   ]
  },
  {
   "cell_type": "markdown",
   "id": "c36f1c31-568d-4602-9053-71bccf4f6b6c",
   "metadata": {},
   "source": [
    "Within the bounds [(-1, 1), (-1, 1), (-1, 1), (-1, 1)] and with $d_{bar} \\ge 1.5$, the optimizer determined a value of $s = 0.01$ can be found at  [1.0, 0.8, 1.0, -0.5].  Of course, the residual error of the objective function for $s$ was $\\pm 0.08$. But that is the design with minimal variability while still being able to to toss 1.5m.   "
   ]
  }
 ],
 "metadata": {
  "kernelspec": {
   "display_name": "Python 3 (ipykernel)",
   "language": "python",
   "name": "python3"
  },
  "language_info": {
   "codemirror_mode": {
    "name": "ipython",
    "version": 3
   },
   "file_extension": ".py",
   "mimetype": "text/x-python",
   "name": "python",
   "nbconvert_exporter": "python",
   "pygments_lexer": "ipython3",
   "version": "3.12.4"
  }
 },
 "nbformat": 4,
 "nbformat_minor": 5
}
