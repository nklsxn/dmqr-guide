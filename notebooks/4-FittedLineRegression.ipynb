{
 "cells": [
  {
   "attachments": {
    "index.png": {
     "image/png": "[encoded data removed]"
    }
   },
   "cell_type": "markdown",
   "id": "db362c43",
   "metadata": {},
   "source": [
    "<center>\n",
    "<div style=\"max-width:400px;\">\n",
    "\n",
    "![index.png](attachment:index.png)\n",
    "\n",
    "</div>\n",
    "</center>\n",
    "\n",
    "# Fitted Line Polynomial Regression\n",
    "\n",
    "**Prof. Kevin Otto and Nikolas Crossan**  \n",
    "The University of Melbourne  \n",
    "Department of Mechanical Engineering\n",
    "\n",
    "----------------------------------------------------------------------------\n",
    "\n",
    "This notebook demonstrates ordinary least squares regression of one variable.  \n",
    "1. Linear regression\n",
    "2. Quadratic regression\n",
    "3. Cubic regression\n",
    "\n",
    "This notebook relies on the `mqr-quality` code library, found at https://pypi.org/project/mqr-quality/\n"
   ]
  },
  {
   "cell_type": "code",
   "execution_count": null,
   "id": "02842f1a-ee1e-47ee-9efc-6b0f588f14f0",
   "metadata": {},
   "outputs": [],
   "source": [
    "import mqr\n",
    "from mqr.plot import Figure\n",
    "from mqr.nbtools import hstack, vstack, grab_figure, Line\n",
    "\n",
    "import numpy as np\n",
    "import pandas as pd\n",
    "import seaborn as sns\n",
    "import statsmodels.api as sm\n",
    "from statsmodels.formula.api import ols\n",
    "from statsmodels.stats.outliers_influence import summary_table\n",
    "\n",
    "from importlib.metadata import version\n",
    "print('MQR version', version('mqr-quality'))\n",
    "print('Numpy version', version('numpy'))\n",
    "print('Scipy version', version('scipy'))\n",
    "print('Pandas version', version('pandas'))"
   ]
  },
  {
   "cell_type": "markdown",
   "id": "fa42111d",
   "metadata": {},
   "source": [
    "--------------------------------------------------------------------------------------------------\n",
    "# 1. Simple Linear Regression\n",
    "\n",
    "First define a Pandas dataframe with the data to fit.  Here pressure drop and airflow."
   ]
  },
  {
   "cell_type": "code",
   "execution_count": null,
   "id": "504a729c",
   "metadata": {},
   "outputs": [],
   "source": [
    "data = {'ESP':[0.1, 0.2, 0.3, 0.4, 0.5, 0.6, 0.7, 0.8, 0.9, 1.0],\n",
    "        'SCFM':[2165.0, 2071.0, 2047.1, 1961.1, 1903.7,\n",
    "                1835.3, 1750.9, 1655.6, 1599.7, 1507.0]}\n",
    "df = pd.DataFrame(data)\n",
    "df"
   ]
  },
  {
   "cell_type": "markdown",
   "id": "7c7e1bb2",
   "metadata": {},
   "source": [
    "Now do a simple Linear Regression using ols from Statsmodels.  \n",
    "\n",
    "Do a linear fit of SCFM vs ESP.  The syntax is `'SCFM ~ ESP'` to signify there is 1 term in the model, ESP.  \n",
    "\n",
    "StatsModels saves the result as a Pandas dataframe.  \n",
    "\n",
    "Also save slope and intercept."
   ]
  },
  {
   "cell_type": "code",
   "execution_count": null,
   "id": "c4cff973",
   "metadata": {},
   "outputs": [],
   "source": [
    "lfit = df.copy()\n",
    "\n",
    "lreg = ols('SCFM ~ ESP', data=lfit).fit()\n",
    "intercept = lreg.params['Intercept']\n",
    "slope = lreg.params['ESP']"
   ]
  },
  {
   "cell_type": "markdown",
   "id": "62ebc266",
   "metadata": {},
   "source": [
    "Create a simple linear trendline graph and print the equation as a legend, using seaborn."
   ]
  },
  {
   "cell_type": "code",
   "execution_count": null,
   "id": "46c4e296",
   "metadata": {},
   "outputs": [],
   "source": [
    "with Figure(4, 3) as (fig, ax):\n",
    "    sns.regplot(x='ESP', y='SCFM', data=df, ci=0, ax=ax)\n",
    "    ax.legend([f'$y = {slope:.2f} * x + {intercept:.2f}$'])\n",
    "    plot = grab_figure(fig)\n",
    "\n",
    "vstack(\n",
    "    mqr.anova.adequacy(lreg),\n",
    "    plot)"
   ]
  },
  {
   "cell_type": "markdown",
   "id": "3054fc53",
   "metadata": {},
   "source": [
    "The Summary Statistics Table shows a residual error of $\\pm$18.6 SCFM, with an $r^2_{adj}$ of 0.993.  That is good.  The regression has a F-stat of 1239, very large and far from zero, and an associated p-value of 0.000, indicating we can reject the null hypothesis that the result is no different from random variability (the regression equation is zero).  \n",
    "\n",
    "Now create the full regression tables."
   ]
  },
  {
   "cell_type": "code",
   "execution_count": null,
   "id": "b1908e8e-3da0-445a-8982-8667162a6cfe",
   "metadata": {},
   "outputs": [],
   "source": [
    "vstack(\n",
    "   '### Summary Statistics',\n",
    "    mqr.anova.adequacy(lreg),\n",
    "   '### ANOVA of the Regression',\n",
    "    mqr.anova.summary(lreg),\n",
    "   '### Regression Table',\n",
    "    mqr.anova.coeffs(lreg)\n",
    ")"
   ]
  },
  {
   "cell_type": "markdown",
   "id": "744e2d9e",
   "metadata": {},
   "source": [
    "The ANOVA of the Regression again shows the F-stat and p-value of the regression, and indicates the model is significant.  \n",
    "\n",
    "The Regression Table then shows the model equation coefficients, their t-stat and p-value of each term.  Both p-values are low, and so we can reject the null hypothesis that the coefficient is zero. Each coefficient is significant.  The VIF values are under 10 and so collinearity is not a problem.\n",
    "\n",
    "## 1.2 Residual Analysis\n",
    "\n",
    "Create the 4 in 1 plot of the residuals using `mqr.plot.regression.residuals`"
   ]
  },
  {
   "cell_type": "code",
   "execution_count": null,
   "id": "39a24b6a-6f77-4801-be6d-db666dacd42a",
   "metadata": {},
   "outputs": [],
   "source": [
    "with Figure(6, 4, 2, 2) as (fig, ax):\n",
    "    mqr.plot.regression.residuals(lreg.resid, lreg.fittedvalues, ax)"
   ]
  },
  {
   "cell_type": "markdown",
   "id": "1f841185",
   "metadata": {},
   "source": [
    "Do the residuals look independent, identically normally distributed?  \n",
    "\n",
    "The upper left plot doesn't show any large offsets from the fit line.  The upper right has few data points so it is hard to say the histogram is not normal.  The lower left shows the residual vs run order, but the runs were not randomized so this can be ignored. The lower right shows the residuals vs fitted value, and that graph looks suspicious, a quadratic look to it.  \n",
    "\n",
    "-------------------------------------------------------------------------------------------------------\n",
    "\n",
    "## 1.3 Summary Fitted Line Plot\n",
    "\n",
    "Now create a fitted line plot with confidence intervals for the line, and prediction intervals for values. "
   ]
  },
  {
   "cell_type": "code",
   "execution_count": null,
   "id": "85f7584d",
   "metadata": {},
   "outputs": [],
   "source": [
    "from statsmodels.stats.outliers_influence import summary_table\n",
    "\n",
    "st, data, ss2 = summary_table(lreg, alpha=0.05)\n",
    "\n",
    "fittedvalues = data[:, 2]\n",
    "predict_mean_se  = data[:, 3]\n",
    "predict_mean_ci_low, predict_mean_ci_upp = data[:, 4:6].T\n",
    "predict_ci_low, predict_ci_upp = data[:, 6:8].T\n",
    "\n",
    "x = df['ESP']\n",
    "y = df['SCFM']\n",
    "\n",
    "with Figure(6, 4) as (fig, ax):\n",
    "    ax.plot(x, y, 'o')\n",
    "    ax.plot(x, fittedvalues, 'b-', lw=2)\n",
    "    ax.fill_between(x, predict_ci_upp, predict_ci_low, color = 'lightcyan')\n",
    "    ax.fill_between(x, predict_mean_ci_upp, predict_mean_ci_low, color = 'skyblue')\n",
    "\n",
    "    ax.set_xlabel(\"ESP\")\n",
    "    ax.set_ylabel(\"SCFM\")\n",
    "    ax.legend([\n",
    "        'Data',\n",
    "        f'$y = {slope:.2f}x + {intercept:.2f}$',\n",
    "        '95% prediction interval',\n",
    "        '95% confidence interval'\n",
    "    ])"
   ]
  },
  {
   "cell_type": "markdown",
   "id": "2d91ca51",
   "metadata": {},
   "source": [
    "We expect the true regression line to be within the confidence interval, we expect all data to be within the prediction interval. \n",
    "\n",
    "---------------------------------------------------------------------------\n",
    "\n",
    "## 2. Quadratic Polynominal Regression\n",
    "\n",
    "Now redo the previous example but instead fit a quadratic model.\n",
    "\n",
    "First define a Pandas dataframe with the data to fit.  Here pressure drop, pressure drop squared and airflow."
   ]
  },
  {
   "cell_type": "code",
   "execution_count": null,
   "id": "1c0f01ab",
   "metadata": {},
   "outputs": [],
   "source": [
    "qfit = df[['ESP', 'SCFM']].copy()\n",
    "qfit['ESP2'] = df['ESP']*df['ESP']\n",
    "qfit = qfit[['ESP', 'ESP2', 'SCFM']]\n",
    "qfit"
   ]
  },
  {
   "cell_type": "markdown",
   "id": "0950a5eb",
   "metadata": {},
   "source": [
    "Now do a quadratic polynomial regression using ols from Statsmodels.  \n",
    "\n",
    "Do a fit of SCFM vs EPS as a quadratic equation.    "
   ]
  },
  {
   "cell_type": "code",
   "execution_count": null,
   "id": "0dd91ff0-b726-4dbf-afaf-971dfc727c0d",
   "metadata": {},
   "outputs": [],
   "source": [
    "qreg = ols('SCFM ~ ESP + ESP2', data=qfit).fit()\n",
    "intercept, slope, quadratic = qreg.params\n",
    "\n",
    "with Figure(4, 3) as (fig, ax):\n",
    "    sns.regplot(x='ESP', y='SCFM', data=df, ci=0, order=2, ax=ax)\n",
    "    ax.legend([f'$y={quadratic:.2f}x^2 + {slope:.2f}x + {intercept:.2f}$'])\n",
    "    plot = grab_figure(fig)\n",
    "\n",
    "vstack(\n",
    "    mqr.anova.adequacy(qreg),\n",
    "    plot)"
   ]
  },
  {
   "cell_type": "markdown",
   "id": "1ef0b277-e65f-44d2-a1c7-68ff30d9d637",
   "metadata": {},
   "source": [
    "Now do the whole thing of the regression tables, residual analysis and the 4 in 1 plots"
   ]
  },
  {
   "cell_type": "code",
   "execution_count": null,
   "id": "302c372d-811a-436c-b2d0-8c3c64520da6",
   "metadata": {},
   "outputs": [],
   "source": [
    "with Figure(5, 4, 2, 2) as (fig, ax):\n",
    "    mqr.plot.regression.residuals(qreg.resid, qreg.fittedvalues, axs=ax)\n",
    "    plot = grab_figure(fig)\n",
    "\n",
    "vstack(\n",
    "    Line.HORIZONTAL,\n",
    "    '### Regression Summary',\n",
    "    vstack(\n",
    "        '#### Summary Statistics',\n",
    "        mqr.anova.adequacy(qreg),\n",
    "        '#### ANOVA of the Regression',\n",
    "        mqr.anova.summary(qreg),\n",
    "       '#### Regression Table',\n",
    "        mqr.anova.coeffs(qreg),\n",
    "    ),\n",
    "    Line.HORIZONTAL,\n",
    "    '### Residual Analysis',\n",
    "    hstack(\n",
    "        plot,\n",
    "        mqr.inference.dist.test_1sample(qreg.resid),\n",
    "    ),\n",
    ")"
   ]
  },
  {
   "cell_type": "markdown",
   "id": "0654b20e",
   "metadata": {},
   "source": [
    "Considering the outcomes, similar to the linear fit. The Summary Statistics Table shows a residual error of $\\pm$14.2 SCFM, with an $r^2_{adj}$ of 0.996.  That is good.  The regression has a F-stat of 1060, very large and far from zero, and an associated p-value of 0.000, indicating we can reject the null hypothesis that the result is no different from random variability (the regression equation is zero). \n",
    "\n",
    "The ANOVA of the Regression again shows the F-stat and p-value of the regression, and indicates the model is significant.  \n",
    "\n",
    "The Regression Table then shows the model equation coefficients, their t-stat and p-value of each term.  Both p-values are low, and so we can reject the null hypothesis that the coefficient is zero. Each coefficient is significant.  The VIF values are not under 10 and so collinearity is becoming a concern, the ESP and ESP^2 are starting to look alike. Normalizing the variable ESP would help this.  \n",
    "\n",
    "### Summary Fitted Line Plot\n",
    "\n",
    "Now create a fitted line plot with confidence intervals for the line and prediction intervals for values.  "
   ]
  },
  {
   "cell_type": "code",
   "execution_count": null,
   "id": "eec875ff",
   "metadata": {},
   "outputs": [],
   "source": [
    "st, data, ss2 = summary_table(qreg, alpha=0.05)\n",
    "\n",
    "fittedvalues = data[:, 2]\n",
    "predict_mean_se  = data[:, 3]\n",
    "predict_mean_ci_low, predict_mean_ci_upp = data[:, 4:6].T\n",
    "predict_ci_low, predict_ci_upp = data[:, 6:8].T\n",
    "\n",
    "x = df['ESP']\n",
    "y = df['SCFM']\n",
    "\n",
    "with Figure(5, 4) as (fig, ax):\n",
    "    ax.plot(x, y, 'o')\n",
    "    ax.plot(x, fittedvalues, 'b-', lw=2)\n",
    "    ax.fill_between(x, predict_ci_upp, predict_ci_low, color = 'lightcyan')\n",
    "    ax.fill_between(x, predict_mean_ci_upp, predict_mean_ci_low, color = 'skyblue')\n",
    "\n",
    "    ax.set_ylabel(\"SCFM\")\n",
    "    ax.set_xlabel(\"ESP\")\n",
    "    ax.legend([\n",
    "        'Data',\n",
    "        f'$y={quadratic:.2f}x^2 + {slope:.2f}x + {intercept:.2f}$',\n",
    "        '95% prediction interval',\n",
    "        '95% confidence interval',\n",
    "    ])"
   ]
  },
  {
   "cell_type": "markdown",
   "id": "43aa1278",
   "metadata": {},
   "source": [
    "---------------------------------------------------------------------------\n",
    "## 3. Cubic Polynominal Regression\n",
    "\n",
    "Now redo the previous example but instead fit a cubic equation.\n",
    "\n",
    "First define a Pandas dataframe with the data to fit.  Here pressure drop through cubed, and airflow."
   ]
  },
  {
   "cell_type": "code",
   "execution_count": null,
   "id": "518c72c0",
   "metadata": {},
   "outputs": [],
   "source": [
    "cfit = df[['ESP', 'SCFM']].copy()\n",
    "cfit['ESP2'] = df['ESP']*df['ESP']\n",
    "cfit['ESP3'] = df['ESP']*df['ESP']*df['ESP']\n",
    "cfit = cfit[['ESP', 'ESP2', 'ESP3', 'SCFM']]\n",
    "cfit"
   ]
  },
  {
   "cell_type": "code",
   "execution_count": null,
   "id": "979f9a59-1274-4fbe-992a-01120822c1cf",
   "metadata": {},
   "outputs": [],
   "source": [
    "creg = ols('SCFM ~ ESP + ESP2 + ESP3', data=cfit).fit()\n",
    "intercept, slope, quadratic, cubic = creg.params\n",
    "\n",
    "with Figure(5, 4) as (fig, ax):\n",
    "    sns.regplot(x='ESP', y='SCFM', data=df, ci=0, order=3, ax=ax)\n",
    "    ax.legend([f'$y = {cubic:.2f}x^3 + {quadratic:.2f}x^2 + {slope:.2f}x + {intercept:.2f}$'])\n",
    "    plot = grab_figure(fig)\n",
    "\n",
    "vstack(\n",
    "     mqr.anova.adequacy(creg),\n",
    "     plot)"
   ]
  },
  {
   "cell_type": "code",
   "execution_count": null,
   "id": "fe45196a-0105-48e4-947f-4669c6d165cf",
   "metadata": {},
   "outputs": [],
   "source": [
    "with Figure(5, 4, 2, 2) as (fig, ax):\n",
    "    mqr.plot.regression.residuals(creg.resid, creg.fittedvalues, axs=ax)\n",
    "    plot = grab_figure(fig)\n",
    "\n",
    "vstack(\n",
    "    Line.HORIZONTAL,\n",
    "    '### Regression Summary',\n",
    "    vstack(\n",
    "        '#### Summary Statistics',\n",
    "        mqr.anova.adequacy(creg),\n",
    "        '#### ANOVA of the Regression',\n",
    "        mqr.anova.summary(creg),\n",
    "        '#### Regression Table',\n",
    "       mqr.anova.coeffs(creg)\n",
    "    ),\n",
    "    Line.HORIZONTAL,\n",
    "    '### Residual Analysis',\n",
    "    hstack(\n",
    "        plot,\n",
    "        mqr.inference.dist.test_1sample(creg.resid),\n",
    "    )\n",
    ")"
   ]
  },
  {
   "cell_type": "markdown",
   "id": "65b00c08",
   "metadata": {},
   "source": [
    "Considering the outcomes, similar to the previous fits. The Summary Statistics Table shows a residual error of $\\pm$15.3 SCFM, with an $r^2_{adj}$ of 0.995.  That is good.  The regression has a F-stat of 606, very large and far from zero, and an associated p-value of 0.000, indicating we can reject the null hypothesis that the result is no different from random variability (the regression equation is zero). \n",
    "\n",
    "The ANOVA of the Regression again shows the F-stat and p-value of the regression, and indicates the model is significant.  \n",
    "\n",
    "The Regression Table then shows the model equation coefficients, their t-stat and p-value of each term.  Now the p-values are not all low, the ESP^2 and ESP^3 terms are insignificant. The VIF values are also not under 10 and so collinearity is a concern.  \n",
    "\n",
    "\n",
    "### Summary Fitted Line Plot\n",
    "\n",
    "Now create a fitted line plot with confidence intervals for the line and prediction intervals for values.  "
   ]
  },
  {
   "cell_type": "code",
   "execution_count": null,
   "id": "15e873e5",
   "metadata": {},
   "outputs": [],
   "source": [
    "st, data, ss2 = summary_table(creg, alpha=0.05)\n",
    "\n",
    "fittedvalues = data[:, 2]\n",
    "predict_mean_se  = data[:, 3]\n",
    "predict_mean_ci_low, predict_mean_ci_upp = data[:, 4:6].T\n",
    "predict_ci_low, predict_ci_upp = data[:, 6:8].T\n",
    "\n",
    "x = df['ESP']\n",
    "y = df['SCFM']\n",
    "\n",
    "with Figure(6, 4) as (fig, ax):\n",
    "    ax.plot(x, y, 'o')\n",
    "    ax.plot(x, fittedvalues, 'b-', lw=2)\n",
    "    ax.fill_between(x, predict_ci_upp, predict_ci_low, color = 'lightcyan')\n",
    "    ax.fill_between(x, predict_mean_ci_upp, predict_mean_ci_low, color = 'skyblue')\n",
    "    \n",
    "    ax.set_xlabel(\"ESP\")\n",
    "    ax.set_ylabel(\"SCFM\")\n",
    "    ax.legend([\n",
    "        'Data',\n",
    "        f'$y = {cubic:.2f}x^3 + {quadratic:.2f}x^2 + {slope:.2f}x + {intercept:.2f}$',\n",
    "        '95% prediction interval',\n",
    "        '95% confidence interval'\n",
    "    ])"
   ]
  },
  {
   "cell_type": "markdown",
   "id": "6917f5d6",
   "metadata": {},
   "source": [
    "# 4.0 Comparison of Models\n",
    "\n",
    "We can compare the linear, quadratic and cubic models on their adjusted r2 and the standard error of the residuals.  Notice the cubic model is not the best.  "
   ]
  },
  {
   "cell_type": "code",
   "execution_count": null,
   "id": "6b33cd08-4640-4386-b909-893d71489418",
   "metadata": {},
   "outputs": [],
   "source": [
    "vstack(\n",
    "    '#### Linear Regression',\n",
    "    mqr.anova.adequacy(lreg),\n",
    "    '#### Quadratic Regression',\n",
    "    mqr.anova.adequacy(qreg),\n",
    "    '#### Cubic Regression',\n",
    "    mqr.anova.adequacy(creg),\n",
    ")"
   ]
  },
  {
   "cell_type": "markdown",
   "id": "af6455c7-7973-4965-8e85-ea1a10b25e5b",
   "metadata": {},
   "source": [
    "As can be seen, the quadratic model has smallest residual error, and largest rsquared-adjusted, and is the most parsimonious model.  Even with more terms, the cubic model has larger residual error (fit worse).  Notice $r^2$ always got better with more terms, it is misleading. The $r^2_{adj}$ got worse with the cubic model.  "
   ]
  }
 ],
 "metadata": {
  "kernelspec": {
   "display_name": "Python 3 (ipykernel)",
   "language": "python",
   "name": "python3"
  },
  "language_info": {
   "codemirror_mode": {
    "name": "ipython",
    "version": 3
   },
   "file_extension": ".py",
   "mimetype": "text/x-python",
   "name": "python",
   "nbconvert_exporter": "python",
   "pygments_lexer": "ipython3",
   "version": "3.12.4"
  }
 },
 "nbformat": 4,
 "nbformat_minor": 5
}
