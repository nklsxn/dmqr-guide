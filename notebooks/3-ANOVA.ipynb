{
 "cells": [
  {
   "attachments": {
    "index.png": {
     "image/png": "[encoded data removed]"
    }
   },
   "cell_type": "markdown",
   "id": "db362c43",
   "metadata": {},
   "source": [
    "<center>\n",
    "<div style=\"max-width:400px;\">\n",
    "\n",
    "![index.png](attachment:index.png)\n",
    "\n",
    "</div>\n",
    "</center>\n",
    "\n",
    "# Analysis of Variance (ANOVA)\n",
    "\n",
    "**Prof. Kevin Otto and Nikolas Crossan**  \n",
    "The University of Melbourne  \n",
    "Department of Mechanical Engineering\n",
    "\n",
    "----------------------------------------------------------------------------\n",
    "\n",
    "This notebook demonstrates one-way and two-way ANOVA analysis.  \n",
    "\n",
    "This notebook relies on the `mqr-quality` code library, found at https://pypi.org/project/mqr-quality/\n"
   ]
  },
  {
   "cell_type": "markdown",
   "id": "7763a83a",
   "metadata": {},
   "source": [
    "---------------------------------------------------------------------------------------------------------\n",
    "\n",
    "# 1.0 One-Way ANOVA\n"
   ]
  },
  {
   "cell_type": "markdown",
   "id": "0d413cd7",
   "metadata": {},
   "source": [
    "Load code libraries needed for ANOVA.\n",
    "We will use Pandas dateframes for ease of viewing and use."
   ]
  },
  {
   "cell_type": "code",
   "execution_count": null,
   "id": "e0976c90",
   "metadata": {},
   "outputs": [],
   "source": [
    "import mqr\n",
    "from mqr.plot import Figure\n",
    "from mqr.nbtools import hstack, vstack\n",
    "\n",
    "import numpy as np\n",
    "import pandas as pd\n",
    "import statsmodels.api as sm\n",
    "from statsmodels.formula.api import ols\n",
    "import matplotlib.pyplot as plt"
   ]
  },
  {
   "cell_type": "code",
   "execution_count": null,
   "id": "d4a96c29-0e72-41a9-a45b-2697882df58a",
   "metadata": {},
   "outputs": [],
   "source": [
    "from importlib.metadata import version\n",
    "print('MQR version', version('mqr-quality'))\n",
    "print('Numpy version', version('numpy'))\n",
    "print('Scipy version', version('scipy'))\n",
    "print('Pandas version', version('pandas'))\n",
    "print('Statsmodels version', version('statsmodels'))\n",
    "print('Seaborn version', version('seaborn'))"
   ]
  },
  {
   "cell_type": "markdown",
   "id": "4b7c381e",
   "metadata": {},
   "source": [
    "Define a one-way dataframe.\n",
    "Print out the first 5 rows."
   ]
  },
  {
   "cell_type": "code",
   "execution_count": null,
   "id": "d704ba4f",
   "metadata": {},
   "outputs": [],
   "source": [
    "data = {'Capacity':[8248, 7884, 7876, 7876, 7867, \n",
    "                    8395, 7983, 7996, 8047, 7955,\n",
    "                    8434, 7999, 7972, 8036, 8012,\n",
    "                    8363, 8014, 7954, 7956, 8038],\n",
    "       'Location': np.repeat([1, 2, 3, 4], 5)}\n",
    "df = pd.DataFrame(data)\n",
    "df.head()"
   ]
  },
  {
   "cell_type": "markdown",
   "id": "2f901f78",
   "metadata": {},
   "source": [
    "Run a one-way ANOVA analysis using StatsModel's `ols`.  Use a type II sum of squares. Ensure the Location is treated as a character variables with the 'C' syntax.  \n",
    "\n",
    "Print out the one-way ANOVA table as a Pandas dataframe."
   ]
  },
  {
   "cell_type": "code",
   "execution_count": null,
   "id": "414337e5",
   "metadata": {},
   "outputs": [],
   "source": [
    "model = ols('Capacity ~ C(Location)', data=df).fit()\n",
    "\n",
    "vstack(\n",
    "    '### Capacity ANOVA',\n",
    "    mqr.anova.summary(model)\n",
    ")"
   ]
  },
  {
   "cell_type": "markdown",
   "id": "8922131a",
   "metadata": {},
   "source": [
    "The result above is the p-value is not low at p = 0.60. We fail to reject the null hypothesis that all capacities are the same.  As far as we can tell, we get the same capacity at each location.\n",
    "\n",
    "Now compute the summary statistics."
   ]
  },
  {
   "cell_type": "code",
   "execution_count": null,
   "id": "b8e562d9-235b-44ef-9266-bbb646d59a41",
   "metadata": {},
   "outputs": [],
   "source": [
    "vstack('### Adequacy stats', mqr.anova.adequacy(model))"
   ]
  },
  {
   "cell_type": "markdown",
   "id": "37287790",
   "metadata": {},
   "source": [
    "The result is the RMS error is $\\pm$178, so the 2 sigma error is about $\\pm$356 units.  This can be judged for engineering practicality.\n",
    "\n",
    "The $r^2$ is very low at 10%.  The $r^2_{adjusted}$ is terrible as a negative value.\n"
   ]
  },
  {
   "cell_type": "markdown",
   "id": "5442c527",
   "metadata": {},
   "source": [
    "We can graph more with the residuals.  Calculate these and append to the df Dataframe.  "
   ]
  },
  {
   "cell_type": "code",
   "execution_count": null,
   "id": "c50fdb99-51c1-41a9-a833-38a613892e34",
   "metadata": {},
   "outputs": [],
   "source": [
    "with Figure(8, 4, m=2, n=3) as (fig, axs):\n",
    "    mqr.plot.regression.residuals(model.resid, model.fittedvalues, axs=axs[:, :2])\n",
    "\n",
    "    # Add per-factor residuals\n",
    "    mqr.plot.regression.res_v_factor(model.resid, df['Location'], axs[1, 2], factor_name='Location')\n",
    "\n",
    "    # Remove unused axes\n",
    "    axs[0, 2].axis('off')"
   ]
  },
  {
   "cell_type": "markdown",
   "id": "ab7443a5",
   "metadata": {},
   "source": [
    "The **bottom right** graph is a scatter plot of residuals vs location.\n",
    "Each location scatter should look the same and normally distributed.\n",
    "They are the same at each Location value, but they are not normally distributed at each Location value.\n",
    "The residuals are not acceptable.\n",
    "\n",
    "The **bottom centre** graph is a scatter plot of residuals vs fitted value.\n",
    "There should be no trend like a quadratic etc. with the X-axis. There is not, so good.\n",
    "There should be no increase/decrease in variance with the x-axis, there is not, so good.\n",
    "Each x-axis value should have residuals that look normally distributed.\n",
    "They do not, so we have a problem and the residuals are again not acceptable.\n",
    "\n",
    "The **top right** graph is a histogram of the residuals.\n",
    "The histogram should look normal (the density has mean and stddev from the sample).\n",
    "They do not, and so again the residuals are not acceptable. \n",
    "\n",
    "The **bottom left** graph are the residuals vs run order.\n",
    "The order was not randomized, so this graph is not informative and should be ignored.\n",
    "\n",
    "The **top left** is quantile-quantile plot.\n",
    "The straight line is the CDF (transformed to be linear) of a gaussian with zero mean and standard deviation from the residuals.\n",
    "If the residuals are close to normally distributed, they will be close to the red line.\n",
    "They are not, so the residuals are not acceptable here, either.\n",
    "\n",
    "Based on these residual results, the ANOVA results cannot be accepted.\n",
    "Right now the one-way ANOVA result of no-difference we cannot accept.\n",
    "We need better residuals.\n",
    "Some other effect is going on to make them not normal.  "
   ]
  },
  {
   "cell_type": "markdown",
   "id": "d6a53fa0-b7b1-46da-a3b7-4415f4e664b0",
   "metadata": {},
   "source": [
    "Next we graph the mean result at each value (location) complete with a 95% confidence interval."
   ]
  },
  {
   "cell_type": "code",
   "execution_count": null,
   "id": "4cd57ab2-78bb-48ad-a61a-50fe4ee95d67",
   "metadata": {},
   "outputs": [],
   "source": [
    "groups_df = mqr.anova.groups(model, value='Capacity', factor='Location', conf=0.95, formatted=False)\n",
    "\n",
    "with Figure(4, 3) as (fig, ax):\n",
    "    gs = mqr.plot.anova.groups(groups_df, ax=ax)\n",
    "    ax.set_ylabel('Capacity')\n",
    "    ax.set_xlabel('Location')\n",
    "    plot = mqr.nbtools.grab_figure(fig)\n",
    "\n",
    "vstack(\n",
    "   '### Capacity Main Effects Plot',\n",
    "   hstack(plot, groups_df)\n",
    ")"
   ]
  },
  {
   "cell_type": "markdown",
   "id": "cb321fd1-0dd9-410e-a9a9-cec64b736627",
   "metadata": {},
   "source": [
    "We see the ANOVA results graphically as the mean result at each value (each location) complete with a 95% confidence interval about the mean.  This shows that the mean of each column is within the confidence interval of all other columns.  The averages would seem not significantly different.  "
   ]
  },
  {
   "cell_type": "markdown",
   "id": "56530bb7",
   "metadata": {},
   "source": [
    "--------------------------------------------------------------------------------------------------------------------\n",
    "\n",
    "# 2.0 Two Way ANOVA\n",
    "\n",
    "Define a Dataframe with the data including two columns of inputs, here location and day.  "
   ]
  },
  {
   "cell_type": "code",
   "execution_count": null,
   "id": "3814ec7d",
   "metadata": {},
   "outputs": [],
   "source": [
    "data = {'Capacity':[8248, 7884, 7876, 7876, 7867, \n",
    "                    8395, 7983, 7996, 8047, 7955,\n",
    "                    8434, 7999, 7972, 8036, 8012,\n",
    "                    8363, 8014, 7954, 7956, 8038],\n",
    "       'Location': np.repeat([1, 2, 3, 4], 5),\n",
    "       'Day': np.tile(['Mon', 'Tue', 'Wed', 'Thu', 'Fri'], 4)}\n",
    "\n",
    "df = pd.DataFrame(data)\n",
    "df.head()"
   ]
  },
  {
   "cell_type": "markdown",
   "id": "ed0c890b",
   "metadata": {},
   "source": [
    "Now perform a two way ANOVA using statmodels `ols`.  Display both the summary statistics and the ANOVA table."
   ]
  },
  {
   "cell_type": "code",
   "execution_count": null,
   "id": "63667506",
   "metadata": {},
   "outputs": [],
   "source": [
    "model = ols('Capacity ~ C(Location) + C(Day)', data=df).fit()\n",
    "\n",
    "vstack(\n",
    "    '### Capacity ANOVA',\n",
    "    mqr.anova.adequacy(model),\n",
    "    mqr.anova.summary(model)   \n",
    ")"
   ]
  },
  {
   "cell_type": "markdown",
   "id": "b944757b",
   "metadata": {},
   "source": [
    "We can graph the residuals.  Calculate these and append to the df Dataframe. "
   ]
  },
  {
   "cell_type": "code",
   "execution_count": null,
   "id": "acfd848d",
   "metadata": {},
   "outputs": [],
   "source": [
    "df['resid'] = model.resid\n",
    "df['pred'] = df['Capacity']-df['resid']\n",
    "df.head()"
   ]
  },
  {
   "cell_type": "markdown",
   "id": "c0b64162",
   "metadata": {},
   "source": [
    "Now create graphs of the residuals.  \n",
    "\n",
    "Display as the residuals stacked side by side with the statistics and tables."
   ]
  },
  {
   "cell_type": "code",
   "execution_count": null,
   "id": "70370283",
   "metadata": {},
   "outputs": [],
   "source": [
    "with Figure(6, 6, m=3, n=2) as (fig, axs):\n",
    "    mqr.plot.regression.residuals(model.resid, model.fittedvalues, axs=axs[:2, :])\n",
    "\n",
    "    # Add per-factor residuals\n",
    "    mqr.plot.regression.res_v_factor(model.resid, df['Location'], axs[2, 0], factor_name='Location')\n",
    "    mqr.plot.regression.res_v_factor(model.resid, df['Day'], axs[2, 1], factor_name='Day')\n",
    "    plot = mqr.nbtools.grab_figure(fig)\n",
    "\n",
    "vstack(\n",
    "'### Capacity ANOVA Results',\n",
    "hstack(\n",
    "    vstack(\n",
    "        mqr.anova.adequacy(model),\n",
    "        mqr.anova.summary(model),\n",
    "        mqr.inference.dist.test_1sample(model.resid)\n",
    "    ),\n",
    "    plot\n",
    "))"
   ]
  },
  {
   "cell_type": "markdown",
   "id": "746c3923-9a6e-4f18-87df-6b076d650472",
   "metadata": {},
   "source": [
    "The **bottom two** scatter plots of residuals vs location and day.\n",
    "Each location and day scatter should look the same and normally distributed.\n",
    "\n",
    "The **middle left** should be ignored again, since the runs were not randomised.\n",
    "\n",
    "The next **middle right** is a scatter plot of residuals vs fitted value.\n",
    "There should be no trend like a quadratic etc., and no increase/decrease in variance, and each should look normally distributed.  \n",
    "\n",
    "The **top right** is a histogram of the residuals.\n",
    "The histogram should look normal.\n",
    "\n",
    "The **top left** shows the quantile-quantile plot, and values should be close to the CDF line.\n",
    "\n",
    "Finally, an Anderson-Darling test cannot produce evidence against normality."
   ]
  },
  {
   "cell_type": "markdown",
   "id": "7f905ffa-b42e-426e-aacc-1ce281f7133d",
   "metadata": {},
   "source": [
    "--------------------------------------------------------------------------------------\n",
    "Next, to see which site and day are different from others, we can graph these."
   ]
  },
  {
   "cell_type": "code",
   "execution_count": null,
   "id": "da11050d-eccf-478e-9250-35fa8d06bd4a",
   "metadata": {},
   "outputs": [],
   "source": [
    "groups_loc = mqr.anova.groups(model, value='Capacity', factor='Location', conf=0.95, formatted=False)\n",
    "groups_day = mqr.anova.groups(model, value='Capacity', factor='Day', conf=0.95, formatted=False)\n",
    "\n",
    "with Figure(4, 3) as (fig, ax):\n",
    "    gs = mqr.plot.anova.groups(groups_loc, ax=ax)\n",
    "    ax.set_ylabel('Capacity')\n",
    "    ax.set_xlabel('Location')\n",
    "    plot_loc = mqr.nbtools.grab_figure(fig)\n",
    "\n",
    "with Figure(4, 3) as (fig, ax):\n",
    "    gs = mqr.plot.anova.groups(groups_day, ax=ax)\n",
    "    ax.set_ylabel('Capacity')\n",
    "    ax.set_xlabel('Day of Week')\n",
    "    plot_day = mqr.nbtools.grab_figure(fig)\n",
    "\n",
    "vstack(\n",
    "    '### Capacity Treatment Plots',\n",
    "    hstack(plot_loc, groups_loc),\n",
    "    hstack(plot_day, groups_day)\n",
    ")"
   ]
  },
  {
   "cell_type": "markdown",
   "id": "eec409fa-01bc-417c-8868-31fbd4a913b4",
   "metadata": {},
   "source": [
    "We see this graphically by graphing the mean result at each value (each location) complete with a 95% confidence interval about the mean.  Previously the one-way ANOVA of location alone showed that the mean of each column was within the confidence interval of all other columns, no difference in sites.  Now with a two-way ANOVA we see there is a difference, Monday and Test Stand 1 means are outside the confidence intervals of at least one other columns and are different. "
   ]
  }
 ],
 "metadata": {
  "kernelspec": {
   "display_name": "Python 3 (ipykernel)",
   "language": "python",
   "name": "python3"
  },
  "language_info": {
   "codemirror_mode": {
    "name": "ipython",
    "version": 3
   },
   "file_extension": ".py",
   "mimetype": "text/x-python",
   "name": "python",
   "nbconvert_exporter": "python",
   "pygments_lexer": "ipython3",
   "version": "3.12.4"
  }
 },
 "nbformat": 4,
 "nbformat_minor": 5
}
